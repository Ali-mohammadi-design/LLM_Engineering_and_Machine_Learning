{
  "nbformat": 4,
  "nbformat_minor": 0,
  "metadata": {
    "colab": {
      "provenance": [],
      "authorship_tag": "ABX9TyNNDIfzmhwF44CskUTQ/UoV",
      "include_colab_link": true
    },
    "kernelspec": {
      "name": "python3",
      "display_name": "Python 3"
    },
    "language_info": {
      "name": "python"
    }
  },
  "cells": [
    {
      "cell_type": "markdown",
      "metadata": {
        "id": "view-in-github",
        "colab_type": "text"
      },
      "source": [
        "<a href=\"https://colab.research.google.com/github/Ali-mohammadi-design/LLM_Engineering_and_Machine_Learning/blob/main/LLM_Engineering_Designing_Agents.ipynb\" target=\"_parent\"><img src=\"https://colab.research.google.com/assets/colab-badge.svg\" alt=\"Open In Colab\"/></a>"
      ]
    },
    {
      "cell_type": "markdown",
      "source": [
        "Agents have ReAct logic. Which is based on Reasoning and Acting. They would first think about it and then would start an act then observe the act and modify it if it is required."
      ],
      "metadata": {
        "id": "b4mOfusnhAmK"
      }
    },
    {
      "cell_type": "code",
      "source": [
        "!pip install openai"
      ],
      "metadata": {
        "colab": {
          "base_uri": "https://localhost:8080/"
        },
        "id": "FL3W3JxvbsLq",
        "outputId": "44eaea9e-394d-4760-9bc4-013d5a1c3290"
      },
      "execution_count": 1,
      "outputs": [
        {
          "output_type": "stream",
          "name": "stdout",
          "text": [
            "Requirement already satisfied: openai in /usr/local/lib/python3.10/dist-packages (1.34.0)\n",
            "Requirement already satisfied: anyio<5,>=3.5.0 in /usr/local/lib/python3.10/dist-packages (from openai) (3.7.1)\n",
            "Requirement already satisfied: distro<2,>=1.7.0 in /usr/lib/python3/dist-packages (from openai) (1.7.0)\n",
            "Requirement already satisfied: httpx<1,>=0.23.0 in /usr/local/lib/python3.10/dist-packages (from openai) (0.27.0)\n",
            "Requirement already satisfied: pydantic<3,>=1.9.0 in /usr/local/lib/python3.10/dist-packages (from openai) (2.7.3)\n",
            "Requirement already satisfied: sniffio in /usr/local/lib/python3.10/dist-packages (from openai) (1.3.1)\n",
            "Requirement already satisfied: tqdm>4 in /usr/local/lib/python3.10/dist-packages (from openai) (4.66.4)\n",
            "Requirement already satisfied: typing-extensions<5,>=4.7 in /usr/local/lib/python3.10/dist-packages (from openai) (4.12.2)\n",
            "Requirement already satisfied: idna>=2.8 in /usr/local/lib/python3.10/dist-packages (from anyio<5,>=3.5.0->openai) (3.7)\n",
            "Requirement already satisfied: exceptiongroup in /usr/local/lib/python3.10/dist-packages (from anyio<5,>=3.5.0->openai) (1.2.1)\n",
            "Requirement already satisfied: certifi in /usr/local/lib/python3.10/dist-packages (from httpx<1,>=0.23.0->openai) (2024.6.2)\n",
            "Requirement already satisfied: httpcore==1.* in /usr/local/lib/python3.10/dist-packages (from httpx<1,>=0.23.0->openai) (1.0.5)\n",
            "Requirement already satisfied: h11<0.15,>=0.13 in /usr/local/lib/python3.10/dist-packages (from httpcore==1.*->httpx<1,>=0.23.0->openai) (0.14.0)\n",
            "Requirement already satisfied: annotated-types>=0.4.0 in /usr/local/lib/python3.10/dist-packages (from pydantic<3,>=1.9.0->openai) (0.7.0)\n",
            "Requirement already satisfied: pydantic-core==2.18.4 in /usr/local/lib/python3.10/dist-packages (from pydantic<3,>=1.9.0->openai) (2.18.4)\n"
          ]
        }
      ]
    },
    {
      "cell_type": "code",
      "source": [
        "!pip install python-dotenv"
      ],
      "metadata": {
        "colab": {
          "base_uri": "https://localhost:8080/"
        },
        "id": "aR6jfw62e---",
        "outputId": "85a84b63-4609-461f-d162-ae88d586a0fe"
      },
      "execution_count": 2,
      "outputs": [
        {
          "output_type": "stream",
          "name": "stdout",
          "text": [
            "Requirement already satisfied: python-dotenv in /usr/local/lib/python3.10/dist-packages (1.0.1)\n"
          ]
        }
      ]
    },
    {
      "cell_type": "code",
      "execution_count": 3,
      "metadata": {
        "id": "X_xxes15biyh"
      },
      "outputs": [],
      "source": [
        "import openai\n",
        "import re\n",
        "import httpx\n",
        "import os\n",
        "from dotenv import load_dotenv\n",
        "\n",
        "_ = load_dotenv()\n",
        "from openai import OpenAI"
      ]
    },
    {
      "cell_type": "markdown",
      "source": [
        "Note: why did we use _ in _ = load_dotenv()? When you don't care about the value being returned or assigned, you can use _ to ignore it.Thus it means that just load the envs and do not return anything."
      ],
      "metadata": {
        "id": "14gqG7gyhFQ2"
      }
    },
    {
      "cell_type": "code",
      "source": [
        "from openai import OpenAI"
      ],
      "metadata": {
        "id": "DdEwDTIQbjOR"
      },
      "execution_count": 4,
      "outputs": []
    },
    {
      "cell_type": "code",
      "source": [
        "import os\n",
        "openAI_API_Key=os.environ['openAI_API_Key']"
      ],
      "metadata": {
        "id": "PagefTKjd4zx"
      },
      "execution_count": 6,
      "outputs": []
    },
    {
      "cell_type": "code",
      "source": [
        "client=OpenAI(api_key=openAI_API_Key)"
      ],
      "metadata": {
        "id": "Fr4fXyb4fUAi"
      },
      "execution_count": 7,
      "outputs": []
    },
    {
      "cell_type": "code",
      "source": [
        "chat_completion = client.chat.completions.create(\n",
        "    model=\"gpt-3.5-turbo\",\n",
        "    messages=[{\"role\": \"user\", \"content\": \"Hello world\"}]\n",
        ")"
      ],
      "metadata": {
        "id": "2OwEsdtHfo-P"
      },
      "execution_count": 8,
      "outputs": []
    },
    {
      "cell_type": "code",
      "source": [
        "chat_completion.choices[0].message.content"
      ],
      "metadata": {
        "colab": {
          "base_uri": "https://localhost:8080/",
          "height": 35
        },
        "id": "vjFOE3Bjf9Hg",
        "outputId": "16a9665e-3be0-4fef-e858-274937333ff2"
      },
      "execution_count": 9,
      "outputs": [
        {
          "output_type": "execute_result",
          "data": {
            "text/plain": [
              "'Hello! How can I assist you today?'"
            ],
            "application/vnd.google.colaboratory.intrinsic+json": {
              "type": "string"
            }
          },
          "metadata": {},
          "execution_count": 9
        }
      ]
    },
    {
      "cell_type": "code",
      "source": [
        "class Agent:\n",
        "  def __init__(self,system=\"\"):\n",
        "    self.system=system\n",
        "    self.messages=[]\n",
        "    if self.system:\n",
        "      self.messages.append({\"role\":\"system\",\"content\":system})\n",
        "\n",
        "  def __call__(self, message):\n",
        "        self.messages.append({\"role\": \"user\", \"content\": message})\n",
        "        result = self.execute()\n",
        "        self.messages.append({\"role\": \"assistant\", \"content\": result})\n",
        "        return result\n",
        "  def execute(self):\n",
        "        completion = client.chat.completions.create(\n",
        "                        model=\"gpt-3.5-turbo\",\n",
        "                        temperature=0,\n",
        "                        messages=self.messages)\n",
        "        return completion.choices[0].message.content\n",
        "\n",
        "\n"
      ],
      "metadata": {
        "id": "1ryXX9JLgCWW"
      },
      "execution_count": 10,
      "outputs": []
    },
    {
      "cell_type": "markdown",
      "source": [
        "Note: The __init__ method provides a default value for the system parameter (\"\", an empty string). This means you can create an instance of Agent without explicitly providing a system argument, in which case system will default to an empty string."
      ],
      "metadata": {
        "id": "VPrd8FIeg8Qf"
      }
    },
    {
      "cell_type": "markdown",
      "source": [
        "Note:In Python, the presence of double underscores before and after a method name (e.g., __init__, __call__) signifies that the method is a special or \"magic\" method. These special methods are part of Python's data model and provide a way to define the behavior of objects for specific operations. the special methods would be automatically called however, the regular method should be manually called to be used."
      ],
      "metadata": {
        "id": "UHDfcH7Pik1X"
      }
    },
    {
      "cell_type": "code",
      "source": [],
      "metadata": {
        "id": "Uo4oFAfsg9U5"
      },
      "execution_count": 10,
      "outputs": []
    },
    {
      "cell_type": "markdown",
      "source": [
        "The strip() method is used to remove any leading and trailing whitespace (including newlines) from the multi-line string. This is helpful to ensure that the prompt variable does not start or end with unintended blank lines or spaces."
      ],
      "metadata": {
        "id": "fdY5XflwkE3E"
      }
    },
    {
      "cell_type": "code",
      "source": [
        "prompt = \"\"\"\n",
        "You run in a loop of Thought, Action, PAUSE, Observation.\n",
        "At the end of the loop you output an Answer\n",
        "Use Thought to describe your thoughts about the question you have been asked.\n",
        "Use Action to run one of the actions available to you - then return PAUSE.\n",
        "Observation will be the result of running those actions.\n",
        "\n",
        "Your available actions are:\n",
        "\n",
        "calculate:\n",
        "e.g. calculate: 4 * 7 / 3\n",
        "Runs a calculation and returns the number - uses Python so be sure to use floating point syntax if necessary\n",
        "\n",
        "average_dog_weight:\n",
        "e.g. average_dog_weight: Collie\n",
        "returns average weight of a dog when given the breed\n",
        "\n",
        "Example session:\n",
        "\n",
        "Question: How much does a Bulldog weigh?\n",
        "Thought: I should look the dogs weight using average_dog_weight\n",
        "Action: average_dog_weight: Bulldog\n",
        "PAUSE\n",
        "\n",
        "You will be called again with this:\n",
        "\n",
        "Observation: A Bulldog weights 51 lbs\n",
        "\n",
        "You then output:\n",
        "\n",
        "Answer: A bulldog weights 51 lbs\n",
        "\"\"\".strip()"
      ],
      "metadata": {
        "id": "e4Af-vQdkFl7"
      },
      "execution_count": 11,
      "outputs": []
    },
    {
      "cell_type": "code",
      "source": [
        "def calculate(what):\n",
        "    return eval(what)\n",
        "\n",
        "def average_dog_weight(name):\n",
        "    if name in \"Scottish Terrier\":\n",
        "        return(\"Scottish Terriers average 20 lbs\")\n",
        "    elif name in \"Border Collie\":\n",
        "        return(\"a Border Collies average weight is 37 lbs\")\n",
        "    elif name in \"Toy Poodle\":\n",
        "        return(\"a toy poodles average weight is 7 lbs\")\n",
        "    else:\n",
        "        return(\"An average dog weights 50 lbs\")\n",
        "\n",
        "known_actions = {\n",
        "    \"calculate\": calculate,\n",
        "    \"average_dog_weight\": average_dog_weight\n",
        "}"
      ],
      "metadata": {
        "id": "ybL8xMCOkXbq"
      },
      "execution_count": 12,
      "outputs": []
    },
    {
      "cell_type": "markdown",
      "source": [
        "result = eval(\"4 + 5 * 2\")\n",
        "print(result)  # Output: 14\n",
        "\n",
        "x = 10\n",
        "result = eval(\"x + 5\")\n",
        "print(result)  # Output: 15"
      ],
      "metadata": {
        "id": "gukhlxgrmJUw"
      }
    },
    {
      "cell_type": "code",
      "source": [
        "abot=Agent(prompt)"
      ],
      "metadata": {
        "id": "Ze1QYfpgmAuX"
      },
      "execution_count": 13,
      "outputs": []
    },
    {
      "cell_type": "code",
      "source": [
        "result=abot(\"how does a Toy Poodle weight?\")\n",
        "print(result)"
      ],
      "metadata": {
        "colab": {
          "base_uri": "https://localhost:8080/"
        },
        "id": "vA3cemKBmYz_",
        "outputId": "fa3f6195-ffa9-432e-85b5-2f0f4892a977"
      },
      "execution_count": 14,
      "outputs": [
        {
          "output_type": "stream",
          "name": "stdout",
          "text": [
            "Thought: I should look up the average weight of a Toy Poodle using the function average_dog_weight.\n",
            "\n",
            "Action: average_dog_weight: Toy Poodle\n",
            "PAUSE\n"
          ]
        }
      ]
    },
    {
      "cell_type": "code",
      "source": [
        "result=average_dog_weight('Toy Poodle')\n",
        "print(result)"
      ],
      "metadata": {
        "colab": {
          "base_uri": "https://localhost:8080/"
        },
        "id": "d5Kh2OHtmkQU",
        "outputId": "e339b2d0-95c6-4ec5-aadb-7463c03e492d"
      },
      "execution_count": 15,
      "outputs": [
        {
          "output_type": "stream",
          "name": "stdout",
          "text": [
            "a toy poodles average weight is 7 lbs\n"
          ]
        }
      ]
    },
    {
      "cell_type": "code",
      "source": [
        "\"observation {}:\".format(result)"
      ],
      "metadata": {
        "colab": {
          "base_uri": "https://localhost:8080/",
          "height": 35
        },
        "id": "yww6PRGqnRhh",
        "outputId": "26fc0886-c28b-450e-8c81-fb1bcb310335"
      },
      "execution_count": 16,
      "outputs": [
        {
          "output_type": "execute_result",
          "data": {
            "text/plain": [
              "'observation a toy poodles average weight is 7 lbs:'"
            ],
            "application/vnd.google.colaboratory.intrinsic+json": {
              "type": "string"
            }
          },
          "metadata": {},
          "execution_count": 16
        }
      ]
    },
    {
      "cell_type": "code",
      "source": [
        "next_prompt=\"observation {}:\".format(result)"
      ],
      "metadata": {
        "id": "7NCA48jcnbOU"
      },
      "execution_count": 17,
      "outputs": []
    },
    {
      "cell_type": "code",
      "source": [
        "abot(next_prompt)"
      ],
      "metadata": {
        "colab": {
          "base_uri": "https://localhost:8080/",
          "height": 35
        },
        "id": "XR0HxlhYni-N",
        "outputId": "5ec6134f-c9fc-45e9-e0b9-bbb87e6c2c16"
      },
      "execution_count": 18,
      "outputs": [
        {
          "output_type": "execute_result",
          "data": {
            "text/plain": [
              "'Answer: A Toy Poodle weighs 7 lbs'"
            ],
            "application/vnd.google.colaboratory.intrinsic+json": {
              "type": "string"
            }
          },
          "metadata": {},
          "execution_count": 18
        }
      ]
    },
    {
      "cell_type": "code",
      "source": [
        "abot.messages"
      ],
      "metadata": {
        "colab": {
          "base_uri": "https://localhost:8080/"
        },
        "id": "KlN4coRXn2Q8",
        "outputId": "56139e03-c9a5-4c8f-f7e1-46072b63cd69"
      },
      "execution_count": 19,
      "outputs": [
        {
          "output_type": "execute_result",
          "data": {
            "text/plain": [
              "[{'role': 'system',\n",
              "  'content': 'You run in a loop of Thought, Action, PAUSE, Observation.\\nAt the end of the loop you output an Answer\\nUse Thought to describe your thoughts about the question you have been asked.\\nUse Action to run one of the actions available to you - then return PAUSE.\\nObservation will be the result of running those actions.\\n\\nYour available actions are:\\n\\ncalculate:\\ne.g. calculate: 4 * 7 / 3\\nRuns a calculation and returns the number - uses Python so be sure to use floating point syntax if necessary\\n\\naverage_dog_weight:\\ne.g. average_dog_weight: Collie\\nreturns average weight of a dog when given the breed\\n\\nExample session:\\n\\nQuestion: How much does a Bulldog weigh?\\nThought: I should look the dogs weight using average_dog_weight\\nAction: average_dog_weight: Bulldog\\nPAUSE\\n\\nYou will be called again with this:\\n\\nObservation: A Bulldog weights 51 lbs\\n\\nYou then output:\\n\\nAnswer: A bulldog weights 51 lbs'},\n",
              " {'role': 'user', 'content': 'how does a Toy Poodle weight?'},\n",
              " {'role': 'assistant',\n",
              "  'content': 'Thought: I should look up the average weight of a Toy Poodle using the function average_dog_weight.\\n\\nAction: average_dog_weight: Toy Poodle\\nPAUSE'},\n",
              " {'role': 'user',\n",
              "  'content': 'observation a toy poodles average weight is 7 lbs:'},\n",
              " {'role': 'assistant', 'content': 'Answer: A Toy Poodle weighs 7 lbs'}]"
            ]
          },
          "metadata": {},
          "execution_count": 19
        }
      ]
    },
    {
      "cell_type": "code",
      "source": [
        "abot = Agent(prompt)"
      ],
      "metadata": {
        "id": "hd2K7665oBV4"
      },
      "execution_count": 20,
      "outputs": []
    },
    {
      "cell_type": "code",
      "source": [
        "question = \"\"\"I have 2 dogs, a border collie and a scottish terrier. \\\n",
        "What is their combined weight\"\"\"\n",
        "abot(question)"
      ],
      "metadata": {
        "colab": {
          "base_uri": "https://localhost:8080/",
          "height": 52
        },
        "id": "EwSZZqGpqgNj",
        "outputId": "2b945545-0b04-4660-bf04-a5deec71aca1"
      },
      "execution_count": 21,
      "outputs": [
        {
          "output_type": "execute_result",
          "data": {
            "text/plain": [
              "'Thought: I can find the average weight of a Border Collie and a Scottish Terrier using the average_dog_weight action, then calculate their combined weight.\\n\\nAction: average_dog_weight: Border Collie\\nPAUSE'"
            ],
            "application/vnd.google.colaboratory.intrinsic+json": {
              "type": "string"
            }
          },
          "metadata": {},
          "execution_count": 21
        }
      ]
    },
    {
      "cell_type": "code",
      "source": [
        "next_prompt = \"Observation: {}\".format(average_dog_weight(\"Border Collie\"))\n",
        "print(next_prompt)"
      ],
      "metadata": {
        "colab": {
          "base_uri": "https://localhost:8080/"
        },
        "id": "1fBKznx8qijM",
        "outputId": "63c1ce77-d275-402a-ff12-483f8bf3311e"
      },
      "execution_count": 22,
      "outputs": [
        {
          "output_type": "stream",
          "name": "stdout",
          "text": [
            "Observation: a Border Collies average weight is 37 lbs\n"
          ]
        }
      ]
    },
    {
      "cell_type": "code",
      "source": [
        "abot(next_prompt)"
      ],
      "metadata": {
        "colab": {
          "base_uri": "https://localhost:8080/",
          "height": 35
        },
        "id": "8X8gligBqrmd",
        "outputId": "f2633a8d-b98c-4d56-a00c-1cd6343f8fb1"
      },
      "execution_count": 23,
      "outputs": [
        {
          "output_type": "execute_result",
          "data": {
            "text/plain": [
              "'Action: average_dog_weight: Scottish Terrier\\nPAUSE'"
            ],
            "application/vnd.google.colaboratory.intrinsic+json": {
              "type": "string"
            }
          },
          "metadata": {},
          "execution_count": 23
        }
      ]
    },
    {
      "cell_type": "code",
      "source": [
        "next_prompt = \"Observation: {}\".format(average_dog_weight(\"Scottish Terrier\"))\n",
        "print(next_prompt)"
      ],
      "metadata": {
        "colab": {
          "base_uri": "https://localhost:8080/"
        },
        "id": "gWJZVMdorEqq",
        "outputId": "712a7278-35e7-4820-c3d2-8335516af0f1"
      },
      "execution_count": 24,
      "outputs": [
        {
          "output_type": "stream",
          "name": "stdout",
          "text": [
            "Observation: Scottish Terriers average 20 lbs\n"
          ]
        }
      ]
    },
    {
      "cell_type": "code",
      "source": [
        "abot(next_prompt)"
      ],
      "metadata": {
        "colab": {
          "base_uri": "https://localhost:8080/",
          "height": 35
        },
        "id": "4OrIofPrrIKI",
        "outputId": "2864180a-10bd-48ba-9f3e-457a56a04f15"
      },
      "execution_count": 25,
      "outputs": [
        {
          "output_type": "execute_result",
          "data": {
            "text/plain": [
              "'Action: calculate: 37 + 20\\nPAUSE'"
            ],
            "application/vnd.google.colaboratory.intrinsic+json": {
              "type": "string"
            }
          },
          "metadata": {},
          "execution_count": 25
        }
      ]
    },
    {
      "cell_type": "code",
      "source": [
        "next_prompt = \"Observation: {}\".format(eval(\"37 + 20\"))\n",
        "print(next_prompt)"
      ],
      "metadata": {
        "colab": {
          "base_uri": "https://localhost:8080/"
        },
        "id": "OepUs5tiquQ6",
        "outputId": "98caa841-973d-4f3b-fa30-5fdc853bc2af"
      },
      "execution_count": 26,
      "outputs": [
        {
          "output_type": "stream",
          "name": "stdout",
          "text": [
            "Observation: 57\n"
          ]
        }
      ]
    },
    {
      "cell_type": "code",
      "source": [
        "abot(next_prompt)"
      ],
      "metadata": {
        "colab": {
          "base_uri": "https://localhost:8080/",
          "height": 35
        },
        "id": "qVEeiLG6rLsZ",
        "outputId": "a26d2ea6-bbec-4d86-a60f-119b094a3669"
      },
      "execution_count": 27,
      "outputs": [
        {
          "output_type": "execute_result",
          "data": {
            "text/plain": [
              "'Answer: The combined weight of a Border Collie and a Scottish Terrier is 57 lbs'"
            ],
            "application/vnd.google.colaboratory.intrinsic+json": {
              "type": "string"
            }
          },
          "metadata": {},
          "execution_count": 27
        }
      ]
    },
    {
      "cell_type": "code",
      "source": [
        "abot.messages"
      ],
      "metadata": {
        "colab": {
          "base_uri": "https://localhost:8080/"
        },
        "id": "Ky7WjHKerg4M",
        "outputId": "145172cd-b2bc-4d0a-97c9-79c889d11ec7"
      },
      "execution_count": 28,
      "outputs": [
        {
          "output_type": "execute_result",
          "data": {
            "text/plain": [
              "[{'role': 'system',\n",
              "  'content': 'You run in a loop of Thought, Action, PAUSE, Observation.\\nAt the end of the loop you output an Answer\\nUse Thought to describe your thoughts about the question you have been asked.\\nUse Action to run one of the actions available to you - then return PAUSE.\\nObservation will be the result of running those actions.\\n\\nYour available actions are:\\n\\ncalculate:\\ne.g. calculate: 4 * 7 / 3\\nRuns a calculation and returns the number - uses Python so be sure to use floating point syntax if necessary\\n\\naverage_dog_weight:\\ne.g. average_dog_weight: Collie\\nreturns average weight of a dog when given the breed\\n\\nExample session:\\n\\nQuestion: How much does a Bulldog weigh?\\nThought: I should look the dogs weight using average_dog_weight\\nAction: average_dog_weight: Bulldog\\nPAUSE\\n\\nYou will be called again with this:\\n\\nObservation: A Bulldog weights 51 lbs\\n\\nYou then output:\\n\\nAnswer: A bulldog weights 51 lbs'},\n",
              " {'role': 'user',\n",
              "  'content': 'I have 2 dogs, a border collie and a scottish terrier. What is their combined weight'},\n",
              " {'role': 'assistant',\n",
              "  'content': 'Thought: I can find the average weight of a Border Collie and a Scottish Terrier using the average_dog_weight action, then calculate their combined weight.\\n\\nAction: average_dog_weight: Border Collie\\nPAUSE'},\n",
              " {'role': 'user',\n",
              "  'content': 'Observation: a Border Collies average weight is 37 lbs'},\n",
              " {'role': 'assistant',\n",
              "  'content': 'Action: average_dog_weight: Scottish Terrier\\nPAUSE'},\n",
              " {'role': 'user', 'content': 'Observation: Scottish Terriers average 20 lbs'},\n",
              " {'role': 'assistant', 'content': 'Action: calculate: 37 + 20\\nPAUSE'},\n",
              " {'role': 'user', 'content': 'Observation: 57'},\n",
              " {'role': 'assistant',\n",
              "  'content': 'Answer: The combined weight of a Border Collie and a Scottish Terrier is 57 lbs'}]"
            ]
          },
          "metadata": {},
          "execution_count": 28
        }
      ]
    },
    {
      "cell_type": "markdown",
      "source": [
        "Note: We can do all these in a loop!!\n"
      ],
      "metadata": {
        "id": "9nNMx1qOt8cB"
      }
    },
    {
      "cell_type": "code",
      "source": [
        "action_re = re.compile('^Action: (\\w+): (.*)$')   # python regular expression to selection action"
      ],
      "metadata": {
        "id": "gBUzU-lErlCw"
      },
      "execution_count": 62,
      "outputs": []
    },
    {
      "cell_type": "markdown",
      "source": [
        "The line action_re = re.compile('^Action: (\\w+): (.*)$') defines a regular expression pattern that matches strings formatted as \"Action: action_name: arguments\" where action_name can be any sequence of word characters (\\w+) and arguments can be any characters after the colon and space. This pattern is compiled into a regular expression object (action_re), which can be used to match and extract specific components from strings that follow this format"
      ],
      "metadata": {
        "id": "_5t2_6JdttGS"
      }
    },
    {
      "cell_type": "markdown",
      "source": [
        " let's break down the regular expression ^Action: (\\w+): (.*)$ step by step in simpler terms, and provide examples to illustrate how it works.\n",
        "\n",
        "Regular Expression Explanation\n",
        "Pattern Breakdown:\n",
        "\n",
        "^: Asserts the start of a line.\n",
        "Action:: Matches the literal characters \"Action:\" exactly.\n",
        "(\\w+): Matches and captures one or more word characters (\\w+). Word characters include letters, digits, and underscores.\n",
        ":: Matches the literal colon : character.\n",
        "(.*): Matches and captures any sequence of characters (.*) after the colon and space.\n",
        "$: Asserts the end of a line.\n",
        "What It Matches:\n",
        "\n",
        "This pattern is designed to match lines of text that start with \"Action:\", followed by an action name (which can include letters, digits, or underscores), then a colon :, and then any sequence of characters that follow.\n",
        "Example Usage\n",
        "Let's use Python's re module to demonstrate how this regular expression works with some example strings:\n",
        "\n",
        "python\n",
        "Copy code\n",
        "import re\n",
        "\n",
        "# Define the regular expression pattern\n",
        "action_re = re.compile('^Action: (\\w+): (.*)$')\n",
        "\n",
        "# Example strings to match\n",
        "example_strings = [\n",
        "    \"Action: calculate: 4 * 7 / 2\",\n",
        "    \"Action: average_dog_weight: Bulldog\",\n",
        "    \"Action: search: 'Python regular expressions'\",\n",
        "    \"Action: open_file: 'document.txt'\",\n",
        "    \"Question: How much does a Bulldog weigh?\"\n",
        "]\n",
        "\n",
        "# Iterate over example strings and try to match the pattern\n",
        "for example_string in example_strings:\n",
        "    match = action_re.match(example_string)\n",
        "    if match:\n",
        "        action_name = match.group(1)  # Retrieve the action name\n",
        "        arguments = match.group(2)    # Retrieve the arguments\n",
        "        print(f\"Action name: {action_name}\")\n",
        "        print(f\"Arguments: {arguments}\")\n",
        "    else:\n",
        "        print(f\"No match found for: {example_string}\")\n",
        "    print()  # Print a blank line for separation"
      ],
      "metadata": {
        "id": "RINd-Uk7wQkY"
      }
    },
    {
      "cell_type": "markdown",
      "source": [
        "Note:\n",
        "In Python, the if match: statement is used to check whether a variable match contains a truthy value. Specifically, when match is the result of matching a regular expression pattern using re.match() or similar methods, if match: checks if the pattern matched successfully.\n"
      ],
      "metadata": {
        "id": "Fas4dcZQ2lEv"
      }
    },
    {
      "cell_type": "code",
      "source": [
        "import re\n",
        "\n",
        "# Define the regular expression pattern\n",
        "action_re = re.compile('^Action: (\\w+): (.*)$')\n",
        "\n",
        "# Example strings to match\n",
        "example_strings = [\n",
        "    \"Action: calculate: 4 * 7 / 2\",\n",
        "    \"Action: average_dog_weight: Bulldog\",\n",
        "    \"Action: search: 'Python regular expressions'\",\n",
        "    \"Action: open_file: 'document.txt'\",\n",
        "    \"Question: How much does a Bulldog weigh?\"\n",
        "]\n",
        "\n",
        "# Iterate over example strings and try to match the pattern\n",
        "for example_string in example_strings:\n",
        "    match = action_re.match(example_string)\n",
        "    if match:\n",
        "        action_name = match.group(1)  # Retrieve the action name\n",
        "        arguments = match.group(2)    # Retrieve the arguments\n",
        "        print(f\"Action name: {action_name}\")\n",
        "        print(f\"Arguments: {arguments}\")\n",
        "    else:\n",
        "        print(f\"No match found for: {example_string}\")\n",
        "    print()  # Print a blank line for separation\n"
      ],
      "metadata": {
        "colab": {
          "base_uri": "https://localhost:8080/"
        },
        "id": "OE5zEf_uvd0w",
        "outputId": "82d6567f-c69b-4d30-c0c9-32eddea7c58f"
      },
      "execution_count": 29,
      "outputs": [
        {
          "output_type": "stream",
          "name": "stdout",
          "text": [
            "Action name: calculate\n",
            "Arguments: 4 * 7 / 2\n",
            "\n",
            "Action name: average_dog_weight\n",
            "Arguments: Bulldog\n",
            "\n",
            "Action name: search\n",
            "Arguments: 'Python regular expressions'\n",
            "\n",
            "Action name: open_file\n",
            "Arguments: 'document.txt'\n",
            "\n",
            "No match found for: Question: How much does a Bulldog weigh?\n",
            "\n"
          ]
        }
      ]
    },
    {
      "cell_type": "markdown",
      "source": [
        "Now let's see the main code:"
      ],
      "metadata": {
        "id": "FAxDDjbHwinN"
      }
    },
    {
      "cell_type": "code",
      "source": [
        "action_re = re.compile('^Action: (\\w+): (.*)$')   # python regular expression to selection action"
      ],
      "metadata": {
        "id": "cc7U9aQHAXOs"
      },
      "execution_count": 63,
      "outputs": []
    },
    {
      "cell_type": "code",
      "source": [
        "known_actions = {\n",
        "    \"calculate\": calculate,\n",
        "    \"average_dog_weight\": average_dog_weight\n",
        "}"
      ],
      "metadata": {
        "id": "PTqnrYKB-ZAK"
      },
      "execution_count": 53,
      "outputs": []
    },
    {
      "cell_type": "code",
      "source": [
        "def query(question, max_turns=5):\n",
        "    i = 0\n",
        "    bot = Agent(prompt)\n",
        "    next_prompt = question\n",
        "    while i < max_turns:\n",
        "        i += 1\n",
        "        result = bot(next_prompt)\n",
        "        print(result)\n",
        "        actions = []\n",
        "        for a in result.split('\\n'):\n",
        "          match = action_re.match(a)\n",
        "          if match:\n",
        "            actions.append(match)\n",
        "        if actions:\n",
        "            # There is an action to run\n",
        "            action, action_input = actions[0].groups()\n",
        "            if action not in known_actions:\n",
        "                raise Exception(\"Unknown action: {}: {}\".format(action, action_input))\n",
        "            print(\" -- running {} {}\".format(action, action_input))\n",
        "            observation = known_actions[action](action_input)\n",
        "            print(\"Observation:\", observation)\n",
        "            next_prompt = \"Observation: {}\".format(observation)\n",
        "        else:\n",
        "            return"
      ],
      "metadata": {
        "id": "n-ltIoQhttpZ"
      },
      "execution_count": 66,
      "outputs": []
    },
    {
      "cell_type": "markdown",
      "source": [
        "Note: This part of the code:\n",
        "\n",
        "\n",
        "   actions = [\n",
        "\n",
        "            action_re.match(a)\n",
        "\n",
        "            for a in result.split('\\n')\n",
        "\n",
        "            if action_re.match(a)\n",
        "\n",
        "        ]\n",
        "\n",
        "\n",
        "  Can be rewrite in this form:\n",
        "\n",
        "\n",
        "    actions = []\n",
        "\n",
        "\n",
        "    for a in result.split('\\n'):\n",
        "\n",
        "\n",
        "    match = action_re.match(a)\n",
        "\n",
        "    if match:\n",
        "\n",
        "        actions.append(match)"
      ],
      "metadata": {
        "id": "aRstUCUfyLAd"
      }
    },
    {
      "cell_type": "code",
      "source": [
        "query(\"how does a Toy Poodle weight?\")"
      ],
      "metadata": {
        "colab": {
          "base_uri": "https://localhost:8080/"
        },
        "id": "vHMFSDMo8NSE",
        "outputId": "831a86b6-603d-4a15-a9fa-e63e1f24e8f7"
      },
      "execution_count": 67,
      "outputs": [
        {
          "output_type": "stream",
          "name": "stdout",
          "text": [
            "Thought: I should look up the average weight of a Toy Poodle using the average_dog_weight action.\n",
            "\n",
            "Action: average_dog_weight: Toy Poodle\n",
            "PAUSE\n",
            " -- running average_dog_weight Toy Poodle\n",
            "Observation: a toy poodles average weight is 7 lbs\n",
            "Answer: A Toy Poodle weighs 7 lbs\n"
          ]
        }
      ]
    },
    {
      "cell_type": "code",
      "source": [
        "question = \"\"\"I have 2 dogs, a border collie and a scottish terrier. \\\n",
        "What is their combined weight\"\"\""
      ],
      "metadata": {
        "id": "yTiFALO98Ydv"
      },
      "execution_count": 68,
      "outputs": []
    },
    {
      "cell_type": "code",
      "source": [
        "query(\"\"\"I have 2 dogs, a border collie and a scottish terrier. \\\n",
        "What is their combined weight\"\"\")"
      ],
      "metadata": {
        "colab": {
          "base_uri": "https://localhost:8080/"
        },
        "id": "JChMBI7Q-89r",
        "outputId": "4aeca94f-eacd-4d98-edb6-0705237bdcf1"
      },
      "execution_count": 69,
      "outputs": [
        {
          "output_type": "stream",
          "name": "stdout",
          "text": [
            "Thought: I can find the average weight of a Border Collie and a Scottish Terrier using the average_dog_weight action, and then calculate their combined weight.\n",
            "\n",
            "Action: average_dog_weight: Border Collie\n",
            "PAUSE\n",
            " -- running average_dog_weight Border Collie\n",
            "Observation: a Border Collies average weight is 37 lbs\n",
            "Action: average_dog_weight: Scottish Terrier\n",
            "PAUSE\n",
            " -- running average_dog_weight Scottish Terrier\n",
            "Observation: Scottish Terriers average 20 lbs\n",
            "Action: calculate: 37 + 20\n",
            "PAUSE\n",
            " -- running calculate 37 + 20\n",
            "Observation: 57\n",
            "Answer: The combined weight of a Border Collie and a Scottish Terrier is 57 lbs\n"
          ]
        }
      ]
    },
    {
      "cell_type": "code",
      "source": [],
      "metadata": {
        "id": "hh776mft-_Qd"
      },
      "execution_count": null,
      "outputs": []
    }
  ]
}
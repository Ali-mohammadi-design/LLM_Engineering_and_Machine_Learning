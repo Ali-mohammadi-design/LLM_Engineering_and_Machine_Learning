{
  "nbformat": 4,
  "nbformat_minor": 0,
  "metadata": {
    "colab": {
      "provenance": [],
      "authorship_tag": "ABX9TyMlojuhyJD3Ev0+ZWD1ah45",
      "include_colab_link": true
    },
    "kernelspec": {
      "name": "python3",
      "display_name": "Python 3"
    },
    "language_info": {
      "name": "python"
    }
  },
  "cells": [
    {
      "cell_type": "markdown",
      "metadata": {
        "id": "view-in-github",
        "colab_type": "text"
      },
      "source": [
        "<a href=\"https://colab.research.google.com/github/Ali-mohammadi-design/Prompt_Engineering_and_Machine_Learning/blob/main/Prompt_Engineering_LangChain_Chat()_Document_loaders_Integration()_Hacker_news_reading.ipynb\" target=\"_parent\"><img src=\"https://colab.research.google.com/assets/colab-badge.svg\" alt=\"Open In Colab\"/></a>"
      ]
    },
    {
      "cell_type": "code",
      "execution_count": 1,
      "metadata": {
        "colab": {
          "base_uri": "https://localhost:8080/"
        },
        "id": "3M_SjpIPAaOW",
        "outputId": "a34a1dda-812d-4d53-9e06-f1c43515a9c7"
      },
      "outputs": [
        {
          "output_type": "stream",
          "name": "stdout",
          "text": [
            "Collecting langchain\n",
            "  Downloading langchain-0.1.1-py3-none-any.whl (802 kB)\n",
            "\u001b[2K     \u001b[90m━━━━━━━━━━━━━━━━━━━━━━━━━━━━━━━━━━━━━━━━\u001b[0m \u001b[32m802.4/802.4 kB\u001b[0m \u001b[31m3.3 MB/s\u001b[0m eta \u001b[36m0:00:00\u001b[0m\n",
            "\u001b[?25hRequirement already satisfied: PyYAML>=5.3 in /usr/local/lib/python3.10/dist-packages (from langchain) (6.0.1)\n",
            "Requirement already satisfied: SQLAlchemy<3,>=1.4 in /usr/local/lib/python3.10/dist-packages (from langchain) (2.0.24)\n",
            "Requirement already satisfied: aiohttp<4.0.0,>=3.8.3 in /usr/local/lib/python3.10/dist-packages (from langchain) (3.9.1)\n",
            "Requirement already satisfied: async-timeout<5.0.0,>=4.0.0 in /usr/local/lib/python3.10/dist-packages (from langchain) (4.0.3)\n",
            "Collecting dataclasses-json<0.7,>=0.5.7 (from langchain)\n",
            "  Downloading dataclasses_json-0.6.3-py3-none-any.whl (28 kB)\n",
            "Collecting jsonpatch<2.0,>=1.33 (from langchain)\n",
            "  Downloading jsonpatch-1.33-py2.py3-none-any.whl (12 kB)\n",
            "Collecting langchain-community<0.1,>=0.0.13 (from langchain)\n",
            "  Downloading langchain_community-0.0.13-py3-none-any.whl (1.6 MB)\n",
            "\u001b[2K     \u001b[90m━━━━━━━━━━━━━━━━━━━━━━━━━━━━━━━━━━━━━━━━\u001b[0m \u001b[32m1.6/1.6 MB\u001b[0m \u001b[31m19.0 MB/s\u001b[0m eta \u001b[36m0:00:00\u001b[0m\n",
            "\u001b[?25hCollecting langchain-core<0.2,>=0.1.9 (from langchain)\n",
            "  Downloading langchain_core-0.1.12-py3-none-any.whl (218 kB)\n",
            "\u001b[2K     \u001b[90m━━━━━━━━━━━━━━━━━━━━━━━━━━━━━━━━━━━━━━━━\u001b[0m \u001b[32m218.9/218.9 kB\u001b[0m \u001b[31m17.4 MB/s\u001b[0m eta \u001b[36m0:00:00\u001b[0m\n",
            "\u001b[?25hCollecting langsmith<0.1.0,>=0.0.77 (from langchain)\n",
            "  Downloading langsmith-0.0.81-py3-none-any.whl (48 kB)\n",
            "\u001b[2K     \u001b[90m━━━━━━━━━━━━━━━━━━━━━━━━━━━━━━━━━━━━━━━━\u001b[0m \u001b[32m48.4/48.4 kB\u001b[0m \u001b[31m3.6 MB/s\u001b[0m eta \u001b[36m0:00:00\u001b[0m\n",
            "\u001b[?25hRequirement already satisfied: numpy<2,>=1 in /usr/local/lib/python3.10/dist-packages (from langchain) (1.23.5)\n",
            "Requirement already satisfied: pydantic<3,>=1 in /usr/local/lib/python3.10/dist-packages (from langchain) (1.10.13)\n",
            "Requirement already satisfied: requests<3,>=2 in /usr/local/lib/python3.10/dist-packages (from langchain) (2.31.0)\n",
            "Requirement already satisfied: tenacity<9.0.0,>=8.1.0 in /usr/local/lib/python3.10/dist-packages (from langchain) (8.2.3)\n",
            "Requirement already satisfied: attrs>=17.3.0 in /usr/local/lib/python3.10/dist-packages (from aiohttp<4.0.0,>=3.8.3->langchain) (23.2.0)\n",
            "Requirement already satisfied: multidict<7.0,>=4.5 in /usr/local/lib/python3.10/dist-packages (from aiohttp<4.0.0,>=3.8.3->langchain) (6.0.4)\n",
            "Requirement already satisfied: yarl<2.0,>=1.0 in /usr/local/lib/python3.10/dist-packages (from aiohttp<4.0.0,>=3.8.3->langchain) (1.9.4)\n",
            "Requirement already satisfied: frozenlist>=1.1.1 in /usr/local/lib/python3.10/dist-packages (from aiohttp<4.0.0,>=3.8.3->langchain) (1.4.1)\n",
            "Requirement already satisfied: aiosignal>=1.1.2 in /usr/local/lib/python3.10/dist-packages (from aiohttp<4.0.0,>=3.8.3->langchain) (1.3.1)\n",
            "Collecting marshmallow<4.0.0,>=3.18.0 (from dataclasses-json<0.7,>=0.5.7->langchain)\n",
            "  Downloading marshmallow-3.20.2-py3-none-any.whl (49 kB)\n",
            "\u001b[2K     \u001b[90m━━━━━━━━━━━━━━━━━━━━━━━━━━━━━━━━━━━━━━━━\u001b[0m \u001b[32m49.4/49.4 kB\u001b[0m \u001b[31m2.9 MB/s\u001b[0m eta \u001b[36m0:00:00\u001b[0m\n",
            "\u001b[?25hCollecting typing-inspect<1,>=0.4.0 (from dataclasses-json<0.7,>=0.5.7->langchain)\n",
            "  Downloading typing_inspect-0.9.0-py3-none-any.whl (8.8 kB)\n",
            "Collecting jsonpointer>=1.9 (from jsonpatch<2.0,>=1.33->langchain)\n",
            "  Downloading jsonpointer-2.4-py2.py3-none-any.whl (7.8 kB)\n",
            "Requirement already satisfied: anyio<5,>=3 in /usr/local/lib/python3.10/dist-packages (from langchain-core<0.2,>=0.1.9->langchain) (3.7.1)\n",
            "Requirement already satisfied: packaging<24.0,>=23.2 in /usr/local/lib/python3.10/dist-packages (from langchain-core<0.2,>=0.1.9->langchain) (23.2)\n",
            "Requirement already satisfied: typing-extensions>=4.2.0 in /usr/local/lib/python3.10/dist-packages (from pydantic<3,>=1->langchain) (4.5.0)\n",
            "Requirement already satisfied: charset-normalizer<4,>=2 in /usr/local/lib/python3.10/dist-packages (from requests<3,>=2->langchain) (3.3.2)\n",
            "Requirement already satisfied: idna<4,>=2.5 in /usr/local/lib/python3.10/dist-packages (from requests<3,>=2->langchain) (3.6)\n",
            "Requirement already satisfied: urllib3<3,>=1.21.1 in /usr/local/lib/python3.10/dist-packages (from requests<3,>=2->langchain) (2.0.7)\n",
            "Requirement already satisfied: certifi>=2017.4.17 in /usr/local/lib/python3.10/dist-packages (from requests<3,>=2->langchain) (2023.11.17)\n",
            "Requirement already satisfied: greenlet!=0.4.17 in /usr/local/lib/python3.10/dist-packages (from SQLAlchemy<3,>=1.4->langchain) (3.0.3)\n",
            "Requirement already satisfied: sniffio>=1.1 in /usr/local/lib/python3.10/dist-packages (from anyio<5,>=3->langchain-core<0.2,>=0.1.9->langchain) (1.3.0)\n",
            "Requirement already satisfied: exceptiongroup in /usr/local/lib/python3.10/dist-packages (from anyio<5,>=3->langchain-core<0.2,>=0.1.9->langchain) (1.2.0)\n",
            "Collecting mypy-extensions>=0.3.0 (from typing-inspect<1,>=0.4.0->dataclasses-json<0.7,>=0.5.7->langchain)\n",
            "  Downloading mypy_extensions-1.0.0-py3-none-any.whl (4.7 kB)\n",
            "Installing collected packages: mypy-extensions, marshmallow, jsonpointer, typing-inspect, langsmith, jsonpatch, langchain-core, dataclasses-json, langchain-community, langchain\n",
            "Successfully installed dataclasses-json-0.6.3 jsonpatch-1.33 jsonpointer-2.4 langchain-0.1.1 langchain-community-0.0.13 langchain-core-0.1.12 langsmith-0.0.81 marshmallow-3.20.2 mypy-extensions-1.0.0 typing-inspect-0.9.0\n",
            "Collecting openai\n",
            "  Downloading openai-1.8.0-py3-none-any.whl (222 kB)\n",
            "\u001b[2K     \u001b[90m━━━━━━━━━━━━━━━━━━━━━━━━━━━━━━━━━━━━━━━━\u001b[0m \u001b[32m222.3/222.3 kB\u001b[0m \u001b[31m1.9 MB/s\u001b[0m eta \u001b[36m0:00:00\u001b[0m\n",
            "\u001b[?25hRequirement already satisfied: anyio<5,>=3.5.0 in /usr/local/lib/python3.10/dist-packages (from openai) (3.7.1)\n",
            "Requirement already satisfied: distro<2,>=1.7.0 in /usr/lib/python3/dist-packages (from openai) (1.7.0)\n",
            "Collecting httpx<1,>=0.23.0 (from openai)\n",
            "  Downloading httpx-0.26.0-py3-none-any.whl (75 kB)\n",
            "\u001b[2K     \u001b[90m━━━━━━━━━━━━━━━━━━━━━━━━━━━━━━━━━━━━━━━━\u001b[0m \u001b[32m75.9/75.9 kB\u001b[0m \u001b[31m5.9 MB/s\u001b[0m eta \u001b[36m0:00:00\u001b[0m\n",
            "\u001b[?25hRequirement already satisfied: pydantic<3,>=1.9.0 in /usr/local/lib/python3.10/dist-packages (from openai) (1.10.13)\n",
            "Requirement already satisfied: sniffio in /usr/local/lib/python3.10/dist-packages (from openai) (1.3.0)\n",
            "Requirement already satisfied: tqdm>4 in /usr/local/lib/python3.10/dist-packages (from openai) (4.66.1)\n",
            "Collecting typing-extensions<5,>=4.7 (from openai)\n",
            "  Downloading typing_extensions-4.9.0-py3-none-any.whl (32 kB)\n",
            "Requirement already satisfied: idna>=2.8 in /usr/local/lib/python3.10/dist-packages (from anyio<5,>=3.5.0->openai) (3.6)\n",
            "Requirement already satisfied: exceptiongroup in /usr/local/lib/python3.10/dist-packages (from anyio<5,>=3.5.0->openai) (1.2.0)\n",
            "Requirement already satisfied: certifi in /usr/local/lib/python3.10/dist-packages (from httpx<1,>=0.23.0->openai) (2023.11.17)\n",
            "Collecting httpcore==1.* (from httpx<1,>=0.23.0->openai)\n",
            "  Downloading httpcore-1.0.2-py3-none-any.whl (76 kB)\n",
            "\u001b[2K     \u001b[90m━━━━━━━━━━━━━━━━━━━━━━━━━━━━━━━━━━━━━━━━\u001b[0m \u001b[32m76.9/76.9 kB\u001b[0m \u001b[31m6.2 MB/s\u001b[0m eta \u001b[36m0:00:00\u001b[0m\n",
            "\u001b[?25hCollecting h11<0.15,>=0.13 (from httpcore==1.*->httpx<1,>=0.23.0->openai)\n",
            "  Downloading h11-0.14.0-py3-none-any.whl (58 kB)\n",
            "\u001b[2K     \u001b[90m━━━━━━━━━━━━━━━━━━━━━━━━━━━━━━━━━━━━━━━━\u001b[0m \u001b[32m58.3/58.3 kB\u001b[0m \u001b[31m4.8 MB/s\u001b[0m eta \u001b[36m0:00:00\u001b[0m\n",
            "\u001b[?25hInstalling collected packages: typing-extensions, h11, httpcore, httpx, openai\n",
            "  Attempting uninstall: typing-extensions\n",
            "    Found existing installation: typing_extensions 4.5.0\n",
            "    Uninstalling typing_extensions-4.5.0:\n",
            "      Successfully uninstalled typing_extensions-4.5.0\n",
            "\u001b[31mERROR: pip's dependency resolver does not currently take into account all the packages that are installed. This behaviour is the source of the following dependency conflicts.\n",
            "llmx 0.0.15a0 requires cohere, which is not installed.\n",
            "llmx 0.0.15a0 requires tiktoken, which is not installed.\n",
            "tensorflow-probability 0.22.0 requires typing-extensions<4.6.0, but you have typing-extensions 4.9.0 which is incompatible.\u001b[0m\u001b[31m\n",
            "\u001b[0mSuccessfully installed h11-0.14.0 httpcore-1.0.2 httpx-0.26.0 openai-1.8.0 typing-extensions-4.9.0\n"
          ]
        }
      ],
      "source": [
        "!pip install langchain\n",
        "!pip install openai\n",
        "from langchain.llms import OpenAI\n",
        "from langchain.chat_models import ChatOpenAI"
      ]
    },
    {
      "cell_type": "markdown",
      "source": [
        "You can find integration documents on lang chain website"
      ],
      "metadata": {
        "id": "NCNJV9CQJjaW"
      }
    },
    {
      "cell_type": "markdown",
      "source": [
        "We will use Hachernews integration. Grab its data and use them here"
      ],
      "metadata": {
        "id": "JuMTe0_7Jq3Z"
      }
    },
    {
      "cell_type": "code",
      "source": [
        "from langchain.document_loaders import HNLoader"
      ],
      "metadata": {
        "id": "ksnSHB0RCjh0"
      },
      "execution_count": 2,
      "outputs": []
    },
    {
      "cell_type": "markdown",
      "source": [
        "We would use hackernews URL to load the page"
      ],
      "metadata": {
        "id": "-82xCLLGKY4-"
      }
    },
    {
      "cell_type": "code",
      "source": [
        "loader=HNLoader(\"https://news.ycombinator.com/item?id=39033811\")"
      ],
      "metadata": {
        "id": "4NFKbm4tCxjj"
      },
      "execution_count": 14,
      "outputs": []
    },
    {
      "cell_type": "code",
      "source": [
        "type(loader)"
      ],
      "metadata": {
        "colab": {
          "base_uri": "https://localhost:8080/"
        },
        "id": "a-h5_xahDnGl",
        "outputId": "75ec4d06-e329-49df-cb02-3189aa7ded32"
      },
      "execution_count": 15,
      "outputs": [
        {
          "output_type": "execute_result",
          "data": {
            "text/plain": [
              "langchain_community.document_loaders.hn.HNLoader"
            ]
          },
          "metadata": {},
          "execution_count": 15
        }
      ]
    },
    {
      "cell_type": "markdown",
      "source": [
        "CSVLoader is a class. Thus we would make a class as loader. Then witht the load() method we would load the the data as a list"
      ],
      "metadata": {
        "id": "l65GeW4QDyQs"
      }
    },
    {
      "cell_type": "code",
      "source": [
        "data= loader.load()"
      ],
      "metadata": {
        "id": "P991DGODDV2J"
      },
      "execution_count": 16,
      "outputs": []
    },
    {
      "cell_type": "code",
      "source": [
        "type(data)"
      ],
      "metadata": {
        "colab": {
          "base_uri": "https://localhost:8080/"
        },
        "id": "XBsMAB3kDrW_",
        "outputId": "318e74ab-c4f0-47be-f6c0-5d5bad55169c"
      },
      "execution_count": 17,
      "outputs": [
        {
          "output_type": "execute_result",
          "data": {
            "text/plain": [
              "list"
            ]
          },
          "metadata": {},
          "execution_count": 17
        }
      ]
    },
    {
      "cell_type": "code",
      "source": [
        "data"
      ],
      "metadata": {
        "colab": {
          "base_uri": "https://localhost:8080/"
        },
        "id": "uSs9un5CKrMk",
        "outputId": "204a45bc-f6d0-426f-9835-d0ccc9a6a7b3"
      },
      "execution_count": 18,
      "outputs": [
        {
          "output_type": "execute_result",
          "data": {
            "text/plain": [
              "[Document(page_content='sanderjd 3 hours ago  \\n             | next [–] \\n\\nBoth my 5 year old and my 2 year old have a copy of this, and both of them love it for different reasons.But presumably this was actually posted because the sequel, Computer Engineering for Big Babies[0] will be available imminently?[0]: https://computerengineeringforbabies.com/products/computer-e...\\n \\nreply', metadata={'source': 'https://news.ycombinator.com/item?id=39033811', 'title': 'Computer Engineering for Babies (2021)'}),\n",
              " Document(page_content='hiroprot 1 hour ago  \\n             | parent | next [–] \\n\\nFun fact about the sequel, it comes with a sticker that says \"kids\" that can optionally be used to cover up the Babies label, for those children who\\'d refuse to pick up anything that is targeted at babies :)\\n \\nreply', metadata={'source': 'https://news.ycombinator.com/item?id=39033811', 'title': 'Computer Engineering for Babies (2021)'}),\n",
              " Document(page_content=\"geerlingguy 3 hours ago  \\n             | parent | prev | next [–] \\n\\nI backed both books, and both times there were some production issues—this time around, with two _switches_ instead of two buttons (so four possible states, more complex hardware, etc.), the production timeline has extended a few extra times.It's all much harder once you target child-proof design, especially since things like page lamination get tricky! It's been fun to watch and learn from (though I'm certain less fun on the production side) as someone who tracks a lot of hardware projects.\\n \\nreply\", metadata={'source': 'https://news.ycombinator.com/item?id=39033811', 'title': 'Computer Engineering for Babies (2021)'}),\n",
              " Document(page_content='swader999 52 minutes ago  \\n             | root | parent | next [–] \\n\\nProbably on purpose to show kids a bit what the real world is like.\\n \\nreply', metadata={'source': 'https://news.ycombinator.com/item?id=39033811', 'title': 'Computer Engineering for Babies (2021)'}),\n",
              " Document(page_content='achileas 2 hours ago  \\n             | parent | prev | next [–] \\n\\nWe got our copy of the sequel in time for Christmas. It was my 2 year old’s second favorite gift (after her gigantic stuffed cat of course)\\n \\nreply', metadata={'source': 'https://news.ycombinator.com/item?id=39033811', 'title': 'Computer Engineering for Babies (2021)'}),\n",
              " Document(page_content=\"kaetemi 2 hours ago  \\n             | parent | prev | next [–] \\n\\nWe got the new book here already. The switches feel a bit confusing as input on some of the pages, but it's fun for the kids to make the colorful less blink regardless.\\n \\nreply\", metadata={'source': 'https://news.ycombinator.com/item?id=39033811', 'title': 'Computer Engineering for Babies (2021)'}),\n",
              " Document(page_content='peterleiser 2 hours ago  \\n             | prev | next [–] \\n\\nMy wife bought this for our 6 year old when he was 3 and he loved it.  She also bought a bunch of the other science books for babies. He insisted that I read \"general relativity for babies\" multiple times every night for months. He loved that I used a bendable surface to demonstrate warping space with mass. I was actually blown away that he was understanding the concepts, which I credit the books for.  Adults love these books, too. Hell, for what it\\'s worth I have a science degree and I love these books. YouTube has videos of the author reading each book if you want to preview them. I thought they were going to be a gimmick and useless, but I recommend checking them out.\\n \\nreply', metadata={'source': 'https://news.ycombinator.com/item?id=39033811', 'title': 'Computer Engineering for Babies (2021)'}),\n",
              " Document(page_content=\"NickNameNick 1 hour ago  \\n             | parent | next [–] \\n\\nI was particularly impressed by the clear explanations in 'statistical physics for babies'.\\n \\nreply\", metadata={'source': 'https://news.ycombinator.com/item?id=39033811', 'title': 'Computer Engineering for Babies (2021)'}),\n",
              " Document(page_content=\"eggfriedrice 2 hours ago  \\n             | prev | next [–] \\n\\nIt's a great book, my daughter loves it. I was pretty chuffed when she figured out the AND gate needs both buttons pressed at once. I'm not entirely sure she's sussed XOR yet though.\\n \\nreply\", metadata={'source': 'https://news.ycombinator.com/item?id=39033811', 'title': 'Computer Engineering for Babies (2021)'}),\n",
              " Document(page_content=\"modeless 1 hour ago  \\n             | prev | next [–] \\n\\nI'm surprised by the praise here. I got a few books with similar titles from the library like physics for babies, rocket science for babies, etc and I thought they were all pretty lame. This one does look neat and I see the author is different. I'll have to check it out.\\n \\nreply\", metadata={'source': 'https://news.ycombinator.com/item?id=39033811', 'title': 'Computer Engineering for Babies (2021)'}),\n",
              " Document(page_content=\"ram_rar 52 minutes ago  \\n             | prev | next [–] \\n\\nI'd be thrilled to see a blog post catering to DIY enthusiasts eager to delve into this and explore building this from the ground up.\\n \\nreply\", metadata={'source': 'https://news.ycombinator.com/item?id=39033811', 'title': 'Computer Engineering for Babies (2021)'}),\n",
              " Document(page_content='dang 3 hours ago  \\n             | prev | next [–] \\n\\nRelated:Computer Engineering for Babies - https://news.ycombinator.com/item?id=32507243 - Aug 2022 (1 comment)Computer Engineering for Babies Book - https://news.ycombinator.com/item?id=28660967 - Sept 2021 (18 comments)Computer Engineering for Babies Book - https://news.ycombinator.com/item?id=28391626 - Sept 2021 (5 comments)\\n \\nreply', metadata={'source': 'https://news.ycombinator.com/item?id=39033811', 'title': 'Computer Engineering for Babies (2021)'}),\n",
              " Document(page_content='gibb0n 49 minutes ago  \\n             | prev | next [–] \\n\\nDo babies actually get anything out of this or its just fun pressing the buttons?\\n \\nreply', metadata={'source': 'https://news.ycombinator.com/item?id=39033811', 'title': 'Computer Engineering for Babies (2021)'}),\n",
              " Document(page_content='dmwilcox 3 hours ago  \\n             | prev | next [–] \\n\\nThis book taught me that a flip-flop is sometimes called a latch ;). Not just for babies apparently\\n \\nreply', metadata={'source': 'https://news.ycombinator.com/item?id=39033811', 'title': 'Computer Engineering for Babies (2021)'}),\n",
              " Document(page_content=\"Deprecate9151 1 hour ago  \\n             | parent | next [–] \\n\\nAnd reading up after this comment led to me learning some people make a distinction that latches are level triggered and flip-flops are edge triggered.I think I remember my digital logic professor using both. I don't recall there ever being a clear cut distinction like edge vs level set being made though. I wish I still had my notes.\\n \\nreply\", metadata={'source': 'https://news.ycombinator.com/item?id=39033811', 'title': 'Computer Engineering for Babies (2021)'}),\n",
              " Document(page_content='fwip 2 hours ago  \\n             | parent | prev | next [–] \\n\\nPedantic: A flipflop and a latch are different, but similar.Latches are set high or low whenever the corresponding input is pressed.Flipflops are edge-triggered, and in most setups only change at a clock cycle. One way to construct a flipflop is by wiring several latches together - see figure 11 of this pdf: https://www.cs.ucr.edu/~ehwang/courses/cs120b/flipflops.pdf\\n \\nreply', metadata={'source': 'https://news.ycombinator.com/item?id=39033811', 'title': 'Computer Engineering for Babies (2021)'}),\n",
              " Document(page_content=\"dmoy 1 hour ago  \\n             | parent | prev | next [–] \\n\\nthey're not the same though?I've been out of EE for like 15 years so I forget exactly how, but I don't think they're the same.edit: yup sibling comment has it, that was what I was forgetting\\n \\nreply\", metadata={'source': 'https://news.ycombinator.com/item?id=39033811', 'title': 'Computer Engineering for Babies (2021)'}),\n",
              " Document(page_content=\"jasondc 3 hours ago  \\n             | prev | next [–] \\n\\nI have this book, my son loves it. Also nice for adults, since you'll re-read it 100 times.\\n \\nreply\", metadata={'source': 'https://news.ycombinator.com/item?id=39033811', 'title': 'Computer Engineering for Babies (2021)'}),\n",
              " Document(page_content='socialentp 3 hours ago  \\n             | prev | next [–] \\n\\nMy 2 yr old button-obsessed daughter loves this book so much. One of my all time favorite children books. It’s such a creative concept! I believe the guy that put it together is currently crowdfunding for an advanced engineering for babies edition.\\n \\nreply', metadata={'source': 'https://news.ycombinator.com/item?id=39033811', 'title': 'Computer Engineering for Babies (2021)'}),\n",
              " Document(page_content='worldsayshi 2 hours ago  \\n             | parent | next [–] \\n\\nGizmos with buttons, lights and moving parts that does complicated mysterious stuff seems an under explored source of interesting toy variants.\\n \\nreply', metadata={'source': 'https://news.ycombinator.com/item?id=39033811', 'title': 'Computer Engineering for Babies (2021)'}),\n",
              " Document(page_content=\"cadr 2 hours ago  \\n             | prev | next [–] \\n\\nI got this - I loved the idea of it.  But my younger kid was on the edge of the age for it and outgrew it quickly.  So now a friend's kid is enjoying it.\\n \\nreply\", metadata={'source': 'https://news.ycombinator.com/item?id=39033811', 'title': 'Computer Engineering for Babies (2021)'}),\n",
              " Document(page_content='29athrowaway 20 minutes ago  \\n             | prev | next [–] \\n\\n1. Babies cannot read2. Babies are in a sensorimotor stage of development and are not capable of symbolic reasoning3. If you extend the term \"baby\" to toddlers, they are in the preoperational stage of development and are also uncapable of symbolic reasoningTherefore, the book is not for babies.\\n \\nreply', metadata={'source': 'https://news.ycombinator.com/item?id=39033811', 'title': 'Computer Engineering for Babies (2021)'}),\n",
              " Document(page_content=\"reverius42 9 minutes ago  \\n             | parent | next [–] \\n\\nAs a parent of a toddler, I can assure you anything with lights and buttons is for babies -- but perhaps for a different reason than you're imagining.\\n \\nreply\", metadata={'source': 'https://news.ycombinator.com/item?id=39033811', 'title': 'Computer Engineering for Babies (2021)'}),\n",
              " Document(page_content='krackers 13 minutes ago  \\n             | parent | prev | next [–] \\n\\nI don\\'t follow, surely a toddler can experiment and \"understand\" that if the page has this funny-looking symbol then the light turns on only if both the buttons are pressed?\\n \\nreply', metadata={'source': 'https://news.ycombinator.com/item?id=39033811', 'title': 'Computer Engineering for Babies (2021)'}),\n",
              " Document(page_content='_fw 2 hours ago  \\n             | prev | next [–] \\n\\nMy 2 year old absolutely loves this book. A great thing to keep in the toilet for bathroom training!She loves the lights and how the buttons change their function. An expensive book but a great gift!\\n \\nreply', metadata={'source': 'https://news.ycombinator.com/item?id=39033811', 'title': 'Computer Engineering for Babies (2021)'}),\n",
              " Document(page_content='butler14 2 hours ago  \\n             | prev | next [–] \\n\\nOur copy kind of broke for no apparent reason. Light randomly flickers blue. Bit disappointed given the price and intended audience.\\n \\nreply', metadata={'source': 'https://news.ycombinator.com/item?id=39033811', 'title': 'Computer Engineering for Babies (2021)'}),\n",
              " Document(page_content=\"Tyrannosaur 26 minutes ago  \\n             | parent | next [–] \\n\\nI can attest my copy has the same error- the blue light page is the NOT gate, which doesn't require a button press. Perhaps a dying battery or decalibrating light sensor thinks it's on the NOT page?\\n \\nreply\", metadata={'source': 'https://news.ycombinator.com/item?id=39033811', 'title': 'Computer Engineering for Babies (2021)'}),\n",
              " Document(page_content=\"ddv 1 hour ago  \\n             | parent | prev | next [–] \\n\\nSame here. Both copies I ordered were not working on arrival. I tried to switch the batteries but they were really stuck in there (can’t easily remove them without bending/breaking), eventually got them out and replaced them but one of the copies still didn't work. Reached out to the creator but he just said try swapping the batteries. I still think the idea of the book is great, just wish the execution and support were better.\\n \\nreply\", metadata={'source': 'https://news.ycombinator.com/item?id=39033811', 'title': 'Computer Engineering for Babies (2021)'}),\n",
              " Document(page_content=\"Deprecate9151 2 hours ago  \\n             | parent | prev | next [–] \\n\\nI'm not sure if this will help since it sounds a bit different than what I experienced, but try changing the battery. Our copy had some odd behavior when it started dying, but hadn't completely failed yet.\\n \\nreply\", metadata={'source': 'https://news.ycombinator.com/item?id=39033811', 'title': 'Computer Engineering for Babies (2021)'}),\n",
              " Document(page_content='surteen 2 hours ago  \\n             | parent | prev | next [–] \\n\\nHave your baby fix it.\\n \\nreply', metadata={'source': 'https://news.ycombinator.com/item?id=39033811', 'title': 'Computer Engineering for Babies (2021)'}),\n",
              " Document(page_content='LynxInLA 1 hour ago  \\n             | parent | prev | next [–] \\n\\nDid you reach out to the creator? They know there are some QA issues and claim to be good at sending replacements or fixes.\\n \\nreply', metadata={'source': 'https://news.ycombinator.com/item?id=39033811', 'title': 'Computer Engineering for Babies (2021)'}),\n",
              " Document(page_content='throwaway14356 2 hours ago  \\n             | prev | next [–] \\n\\ni was planning to make this like forever. I think it will turn out fantastic when they age. Good work, high praise!\\n \\nreply', metadata={'source': 'https://news.ycombinator.com/item?id=39033811', 'title': 'Computer Engineering for Babies (2021)'}),\n",
              " Document(page_content='drnex 3 hours ago  \\n             | prev [–] \\n\\nI love it!\\n \\nreply', metadata={'source': 'https://news.ycombinator.com/item?id=39033811', 'title': 'Computer Engineering for Babies (2021)'})]"
            ]
          },
          "metadata": {},
          "execution_count": 18
        }
      ]
    },
    {
      "cell_type": "code",
      "source": [
        "data[0].page_content"
      ],
      "metadata": {
        "colab": {
          "base_uri": "https://localhost:8080/",
          "height": 70
        },
        "id": "p6KtQjSxEFWI",
        "outputId": "bfcf1fb7-b951-4c43-a660-ff9c3cd95b25"
      },
      "execution_count": 35,
      "outputs": [
        {
          "output_type": "execute_result",
          "data": {
            "text/plain": [
              "'sanderjd 3 hours ago  \\n             | next [–] \\n\\nBoth my 5 year old and my 2 year old have a copy of this, and both of them love it for different reasons.But presumably this was actually posted because the sequel, Computer Engineering for Big Babies[0] will be available imminently?[0]: https://computerengineeringforbabies.com/products/computer-e...\\n \\nreply'"
            ],
            "application/vnd.google.colaboratory.intrinsic+json": {
              "type": "string"
            }
          },
          "metadata": {},
          "execution_count": 35
        }
      ]
    },
    {
      "cell_type": "code",
      "source": [
        "from langchain.prompts import HumanMessagePromptTemplate, SystemMessagePromptTemplate, ChatPromptTemplate"
      ],
      "metadata": {
        "id": "O2mb6Sn7JLvQ"
      },
      "execution_count": 24,
      "outputs": []
    },
    {
      "cell_type": "code",
      "source": [
        "from langchain.chat_models import ChatOpenAI"
      ],
      "metadata": {
        "id": "Pn4tx6HGMNsl"
      },
      "execution_count": 25,
      "outputs": []
    },
    {
      "cell_type": "code",
      "source": [
        "from langchain.chat_models import ChatOpenAI\n",
        "chat= ChatOpenAI(openai_api_key=openAI_API_Key)"
      ],
      "metadata": {
        "id": "o2fJsuiMT_fJ"
      },
      "execution_count": 72,
      "outputs": []
    },
    {
      "cell_type": "code",
      "source": [
        "import os\n",
        "openAI_API_Key=os.environ['openAI_API_Key']"
      ],
      "metadata": {
        "id": "0dGr-KN6MVJ-"
      },
      "execution_count": 64,
      "outputs": []
    },
    {
      "cell_type": "code",
      "source": [
        "human_prompt= HumanMessagePromptTemplate.from_template('please summerise the following comment on Hackernews website: {comment}')"
      ],
      "metadata": {
        "id": "sUiJYq_VMgS8"
      },
      "execution_count": 65,
      "outputs": []
    },
    {
      "cell_type": "code",
      "source": [
        "chat_prompt=ChatPromptTemplate.from_messages([human_prompt])"
      ],
      "metadata": {
        "id": "qt2dDLdsM8Df"
      },
      "execution_count": 66,
      "outputs": []
    },
    {
      "cell_type": "code",
      "source": [
        "prompt=chat_prompt.format_prompt(comment=data[0].page_content).to_messages()"
      ],
      "metadata": {
        "id": "Nyc7Me1TNds2"
      },
      "execution_count": 76,
      "outputs": []
    },
    {
      "cell_type": "code",
      "source": [
        "prompt"
      ],
      "metadata": {
        "colab": {
          "base_uri": "https://localhost:8080/"
        },
        "id": "hR5PPt8RRm3h",
        "outputId": "5dd954dd-7d92-4973-a4f9-8e083d1755f1"
      },
      "execution_count": 77,
      "outputs": [
        {
          "output_type": "execute_result",
          "data": {
            "text/plain": [
              "[HumanMessage(content='please summerise the following comment on Hackernews website: sanderjd 3 hours ago  \\n             | next [–] \\n\\nBoth my 5 year old and my 2 year old have a copy of this, and both of them love it for different reasons.But presumably this was actually posted because the sequel, Computer Engineering for Big Babies[0] will be available imminently?[0]: https://computerengineeringforbabies.com/products/computer-e...\\n \\nreply')]"
            ]
          },
          "metadata": {},
          "execution_count": 77
        }
      ]
    },
    {
      "cell_type": "code",
      "source": [
        "model(prompt)"
      ],
      "metadata": {
        "colab": {
          "base_uri": "https://localhost:8080/"
        },
        "id": "bxiXE6EHRMYz",
        "outputId": "97b7ebc4-2168-4d7b-e321-8c459283f1f9"
      },
      "execution_count": 78,
      "outputs": [
        {
          "output_type": "execute_result",
          "data": {
            "text/plain": [
              "AIMessage(content='The commenter mentions that both their 5-year-old and 2-year-old children enjoy a certain product for different reasons. They also speculate that the comment was made to inform others about an upcoming sequel called \"Computer Engineering for Big Babies,\" and provide a link to where it can be found.')"
            ]
          },
          "metadata": {},
          "execution_count": 78
        }
      ]
    },
    {
      "cell_type": "code",
      "source": [],
      "metadata": {
        "id": "Ipln8yM8RZHX"
      },
      "execution_count": null,
      "outputs": []
    }
  ]
}
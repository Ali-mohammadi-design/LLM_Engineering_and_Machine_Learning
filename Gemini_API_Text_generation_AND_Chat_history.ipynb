{
  "nbformat": 4,
  "nbformat_minor": 0,
  "metadata": {
    "colab": {
      "provenance": [],
      "authorship_tag": "ABX9TyOGWzlQSXviazuqU1+F7Pb4",
      "include_colab_link": true
    },
    "kernelspec": {
      "name": "python3",
      "display_name": "Python 3"
    },
    "language_info": {
      "name": "python"
    }
  },
  "cells": [
    {
      "cell_type": "markdown",
      "metadata": {
        "id": "view-in-github",
        "colab_type": "text"
      },
      "source": [
        "<a href=\"https://colab.research.google.com/github/Ali-mohammadi-design/LLM_Engineering_and_Machine_Learning/blob/main/Gemini_API_Text_generation_AND_Chat_history.ipynb\" target=\"_parent\"><img src=\"https://colab.research.google.com/assets/colab-badge.svg\" alt=\"Open In Colab\"/></a>"
      ]
    },
    {
      "cell_type": "code",
      "source": [
        "!pip install google-generativeai"
      ],
      "metadata": {
        "colab": {
          "base_uri": "https://localhost:8080/"
        },
        "id": "jDxrrrYFW3S3",
        "outputId": "29ea3f31-9ed9-4343-9441-3eafe9b88e5b"
      },
      "execution_count": 1,
      "outputs": [
        {
          "output_type": "stream",
          "name": "stdout",
          "text": [
            "Requirement already satisfied: google-generativeai in /usr/local/lib/python3.10/dist-packages (0.5.4)\n",
            "Requirement already satisfied: google-ai-generativelanguage==0.6.4 in /usr/local/lib/python3.10/dist-packages (from google-generativeai) (0.6.4)\n",
            "Requirement already satisfied: google-api-core in /usr/local/lib/python3.10/dist-packages (from google-generativeai) (2.11.1)\n",
            "Requirement already satisfied: google-api-python-client in /usr/local/lib/python3.10/dist-packages (from google-generativeai) (2.84.0)\n",
            "Requirement already satisfied: google-auth>=2.15.0 in /usr/local/lib/python3.10/dist-packages (from google-generativeai) (2.27.0)\n",
            "Requirement already satisfied: protobuf in /usr/local/lib/python3.10/dist-packages (from google-generativeai) (3.20.3)\n",
            "Requirement already satisfied: pydantic in /usr/local/lib/python3.10/dist-packages (from google-generativeai) (2.7.1)\n",
            "Requirement already satisfied: tqdm in /usr/local/lib/python3.10/dist-packages (from google-generativeai) (4.66.4)\n",
            "Requirement already satisfied: typing-extensions in /usr/local/lib/python3.10/dist-packages (from google-generativeai) (4.11.0)\n",
            "Requirement already satisfied: proto-plus<2.0.0dev,>=1.22.3 in /usr/local/lib/python3.10/dist-packages (from google-ai-generativelanguage==0.6.4->google-generativeai) (1.23.0)\n",
            "Requirement already satisfied: cachetools<6.0,>=2.0.0 in /usr/local/lib/python3.10/dist-packages (from google-auth>=2.15.0->google-generativeai) (5.3.3)\n",
            "Requirement already satisfied: pyasn1-modules>=0.2.1 in /usr/local/lib/python3.10/dist-packages (from google-auth>=2.15.0->google-generativeai) (0.4.0)\n",
            "Requirement already satisfied: rsa<5,>=3.1.4 in /usr/local/lib/python3.10/dist-packages (from google-auth>=2.15.0->google-generativeai) (4.9)\n",
            "Requirement already satisfied: googleapis-common-protos<2.0.dev0,>=1.56.2 in /usr/local/lib/python3.10/dist-packages (from google-api-core->google-generativeai) (1.63.0)\n",
            "Requirement already satisfied: requests<3.0.0.dev0,>=2.18.0 in /usr/local/lib/python3.10/dist-packages (from google-api-core->google-generativeai) (2.31.0)\n",
            "Requirement already satisfied: httplib2<1dev,>=0.15.0 in /usr/local/lib/python3.10/dist-packages (from google-api-python-client->google-generativeai) (0.22.0)\n",
            "Requirement already satisfied: google-auth-httplib2>=0.1.0 in /usr/local/lib/python3.10/dist-packages (from google-api-python-client->google-generativeai) (0.1.1)\n",
            "Requirement already satisfied: uritemplate<5,>=3.0.1 in /usr/local/lib/python3.10/dist-packages (from google-api-python-client->google-generativeai) (4.1.1)\n",
            "Requirement already satisfied: annotated-types>=0.4.0 in /usr/local/lib/python3.10/dist-packages (from pydantic->google-generativeai) (0.7.0)\n",
            "Requirement already satisfied: pydantic-core==2.18.2 in /usr/local/lib/python3.10/dist-packages (from pydantic->google-generativeai) (2.18.2)\n",
            "Requirement already satisfied: grpcio<2.0dev,>=1.33.2 in /usr/local/lib/python3.10/dist-packages (from google-api-core->google-generativeai) (1.64.0)\n",
            "Requirement already satisfied: grpcio-status<2.0.dev0,>=1.33.2 in /usr/local/lib/python3.10/dist-packages (from google-api-core->google-generativeai) (1.48.2)\n",
            "Requirement already satisfied: pyparsing!=3.0.0,!=3.0.1,!=3.0.2,!=3.0.3,<4,>=2.4.2 in /usr/local/lib/python3.10/dist-packages (from httplib2<1dev,>=0.15.0->google-api-python-client->google-generativeai) (3.1.2)\n",
            "Requirement already satisfied: pyasn1<0.7.0,>=0.4.6 in /usr/local/lib/python3.10/dist-packages (from pyasn1-modules>=0.2.1->google-auth>=2.15.0->google-generativeai) (0.6.0)\n",
            "Requirement already satisfied: charset-normalizer<4,>=2 in /usr/local/lib/python3.10/dist-packages (from requests<3.0.0.dev0,>=2.18.0->google-api-core->google-generativeai) (3.3.2)\n",
            "Requirement already satisfied: idna<4,>=2.5 in /usr/local/lib/python3.10/dist-packages (from requests<3.0.0.dev0,>=2.18.0->google-api-core->google-generativeai) (3.7)\n",
            "Requirement already satisfied: urllib3<3,>=1.21.1 in /usr/local/lib/python3.10/dist-packages (from requests<3.0.0.dev0,>=2.18.0->google-api-core->google-generativeai) (2.0.7)\n",
            "Requirement already satisfied: certifi>=2017.4.17 in /usr/local/lib/python3.10/dist-packages (from requests<3.0.0.dev0,>=2.18.0->google-api-core->google-generativeai) (2024.2.2)\n"
          ]
        }
      ]
    },
    {
      "cell_type": "code",
      "source": [
        "import google.generativeai as genai"
      ],
      "metadata": {
        "id": "Kz_QDsYkW8sH"
      },
      "execution_count": 2,
      "outputs": []
    },
    {
      "cell_type": "code",
      "source": [
        "import os\n",
        "GenAI_API_Key=os.environ['GenAI_API_Key']"
      ],
      "metadata": {
        "id": "0qgnP7SxXKhv"
      },
      "execution_count": 4,
      "outputs": []
    },
    {
      "cell_type": "code",
      "source": [
        "genai.configure(api_key=GenAI_API_Key)"
      ],
      "metadata": {
        "id": "EgMzRiG3XlR-"
      },
      "execution_count": 5,
      "outputs": []
    },
    {
      "cell_type": "markdown",
      "source": [
        "these are the model that it has:"
      ],
      "metadata": {
        "id": "8SrPiNnfX0QU"
      }
    },
    {
      "cell_type": "code",
      "source": [
        "for model in genai.list_models():\n",
        "  print(model.name)\n"
      ],
      "metadata": {
        "colab": {
          "base_uri": "https://localhost:8080/",
          "height": 329
        },
        "id": "zbMa7tSKXu_S",
        "outputId": "6fbc4977-2e06-4670-cea9-2a33fb117c09"
      },
      "execution_count": 6,
      "outputs": [
        {
          "output_type": "stream",
          "name": "stdout",
          "text": [
            "models/chat-bison-001\n",
            "models/text-bison-001\n",
            "models/embedding-gecko-001\n",
            "models/gemini-1.0-pro\n",
            "models/gemini-1.0-pro-001\n",
            "models/gemini-1.0-pro-latest\n",
            "models/gemini-1.0-pro-vision-latest\n",
            "models/gemini-1.5-flash\n",
            "models/gemini-1.5-flash-001\n",
            "models/gemini-1.5-flash-latest\n",
            "models/gemini-1.5-pro\n",
            "models/gemini-1.5-pro-001\n",
            "models/gemini-1.5-pro-latest\n",
            "models/gemini-pro\n",
            "models/gemini-pro-vision\n",
            "models/embedding-001\n",
            "models/text-embedding-004\n",
            "models/aqa\n"
          ]
        }
      ]
    },
    {
      "cell_type": "code",
      "source": [
        "model= genai.GenerativeModel('gemini-pro')"
      ],
      "metadata": {
        "id": "gbw3FoEyYDIv"
      },
      "execution_count": 8,
      "outputs": []
    },
    {
      "cell_type": "code",
      "source": [
        "prompt='what is the capital of iran and what does it mean?'"
      ],
      "metadata": {
        "id": "g0aHGwmjZXFe"
      },
      "execution_count": 9,
      "outputs": []
    },
    {
      "cell_type": "code",
      "source": [
        "response=model.generate_content(prompt)"
      ],
      "metadata": {
        "id": "CNJugkDvZf_x"
      },
      "execution_count": 10,
      "outputs": []
    },
    {
      "cell_type": "code",
      "source": [
        "response.text"
      ],
      "metadata": {
        "colab": {
          "base_uri": "https://localhost:8080/",
          "height": 35
        },
        "id": "YSV10MdDZphq",
        "outputId": "95498e23-c287-4ffa-b41d-2dd7d8176057"
      },
      "execution_count": 12,
      "outputs": [
        {
          "output_type": "execute_result",
          "data": {
            "text/plain": [
              "'Tehran (تِهران)\\nMeaning: \"warmth\" or \"place of heat\" in Persian'"
            ],
            "application/vnd.google.colaboratory.intrinsic+json": {
              "type": "string"
            }
          },
          "metadata": {},
          "execution_count": 12
        }
      ]
    },
    {
      "cell_type": "markdown",
      "source": [
        "Note: the response is an object and includes many attributes like text which is the textual output of the LLM."
      ],
      "metadata": {
        "id": "aOc6VzzOZz8H"
      }
    },
    {
      "cell_type": "code",
      "source": [
        "response.prompt_feedback"
      ],
      "metadata": {
        "colab": {
          "base_uri": "https://localhost:8080/"
        },
        "id": "-VwblII2ZrbO",
        "outputId": "52de915c-4e05-4b02-ec2d-f314fb5a9174"
      },
      "execution_count": 15,
      "outputs": [
        {
          "output_type": "execute_result",
          "data": {
            "text/plain": []
          },
          "metadata": {},
          "execution_count": 15
        }
      ]
    },
    {
      "cell_type": "code",
      "source": [
        "response.candidates"
      ],
      "metadata": {
        "colab": {
          "base_uri": "https://localhost:8080/"
        },
        "id": "HPguom5ZaADJ",
        "outputId": "6c7f5fc1-63e9-46eb-9f8c-52c64edfe79b"
      },
      "execution_count": 17,
      "outputs": [
        {
          "output_type": "execute_result",
          "data": {
            "text/plain": [
              "[content {\n",
              "  parts {\n",
              "    text: \"Tehran (\\330\\252\\331\\220\\331\\207\\330\\261\\330\\247\\331\\206)\\nMeaning: \\\"warmth\\\" or \\\"place of heat\\\" in Persian\"\n",
              "  }\n",
              "  role: \"model\"\n",
              "}\n",
              "finish_reason: STOP\n",
              "index: 0\n",
              "safety_ratings {\n",
              "  category: HARM_CATEGORY_SEXUALLY_EXPLICIT\n",
              "  probability: NEGLIGIBLE\n",
              "}\n",
              "safety_ratings {\n",
              "  category: HARM_CATEGORY_HATE_SPEECH\n",
              "  probability: NEGLIGIBLE\n",
              "}\n",
              "safety_ratings {\n",
              "  category: HARM_CATEGORY_HARASSMENT\n",
              "  probability: NEGLIGIBLE\n",
              "}\n",
              "safety_ratings {\n",
              "  category: HARM_CATEGORY_DANGEROUS_CONTENT\n",
              "  probability: NEGLIGIBLE\n",
              "}\n",
              "]"
            ]
          },
          "metadata": {},
          "execution_count": 17
        }
      ]
    },
    {
      "cell_type": "code",
      "source": [
        "chat=model.start_chat()"
      ],
      "metadata": {
        "id": "Gsug-yXma-uf"
      },
      "execution_count": 25,
      "outputs": []
    },
    {
      "cell_type": "markdown",
      "source": [
        "Chat is an object"
      ],
      "metadata": {
        "id": "UeQhqrpdeXSD"
      }
    },
    {
      "cell_type": "code",
      "source": [
        "response=chat.send_message('who is donald trump?')"
      ],
      "metadata": {
        "id": "-YZU8FsheG88"
      },
      "execution_count": 26,
      "outputs": []
    },
    {
      "cell_type": "code",
      "source": [
        "print(response.text)"
      ],
      "metadata": {
        "colab": {
          "base_uri": "https://localhost:8080/"
        },
        "id": "85snA8VXehad",
        "outputId": "d511ffa3-500c-473d-cff3-5aafa14074a5"
      },
      "execution_count": 28,
      "outputs": [
        {
          "output_type": "stream",
          "name": "stdout",
          "text": [
            "**Donald John Trump** (born June 14, 1946) is an American politician, businessman, and media personality who served as the 45th President of the United States from 2017 to 2021.\n",
            "\n",
            "**Early Life and Education:**\n",
            "\n",
            "* Born in Queens, New York City, to Fred Trump, a real estate developer, and Mary Anne MacLeod Trump.\n",
            "* Graduated from the Wharton School of the University of Pennsylvania with a Bachelor of Science degree in economics in 1968.\n",
            "\n",
            "**Business Career:**\n",
            "\n",
            "* Joined his father's real estate company, The Trump Organization, in 1971.\n",
            "* Diversified the company's operations into casinos, hotels, and other businesses.\n",
            "* Became a prominent figure in the New York City real estate market, known for his luxurious and high-profile projects.\n",
            "\n",
            "**Media Presence:**\n",
            "\n",
            "* Hosted the reality television show \"The Apprentice\" from 2004 to 2015.\n",
            "* Appeared in numerous other television shows, films, and commercials.\n",
            "* Gained a large following on social media, particularly Twitter.\n",
            "\n",
            "**Political Career:**\n",
            "\n",
            "* No prior experience in elected office before running for president.\n",
            "* Announced his candidacy for the Republican presidential nomination in 2015.\n",
            "* Ran a populist campaign, appealing to working-class voters with promises to \"Make America Great Again.\"\n",
            "* Won the nomination in 2016 and defeated Democratic candidate Hillary Clinton in the general election.\n",
            "\n",
            "**Presidency (2017-2021):**\n",
            "\n",
            "* Implementated significant tax cuts and reduced regulations on businesses.\n",
            "* Withdrew the United States from the Trans-Pacific Partnership and the Paris Agreement on climate change.\n",
            "* Imposed tariffs on goods imported from China, leading to a trade war.\n",
            "* Appointed conservative judges to the Supreme Court and lower federal courts.\n",
            "* Ordered the construction of a wall on the US-Mexico border.\n",
            "* Imposed travel restrictions on citizens from several Muslim-majority countries.\n",
            "\n",
            "**Post-Presidency:**\n",
            "\n",
            "* Lost the 2020 presidential election to Joe Biden.\n",
            "* Continued to make public appearances and maintain a presence on social media.\n",
            "* Faced legal challenges and investigations related to his business dealings and actions as president.\n",
            "\n",
            "**Personal Life:**\n",
            "\n",
            "* Married three times: Ivana Zelníčková (1977-1992), Marla Maples (1993-1999), and Melania Knauss (2005-present).\n",
            "* Has five children: Donald Jr., Ivanka, Eric, Tiffany, and Barron.\n",
            "* Known for his flamboyant lifestyle, brash personality, and controversial statements.\n"
          ]
        }
      ]
    },
    {
      "cell_type": "markdown",
      "source": [
        "Note: In chat every thung is being recorded so you can ask about the previous answers and prompts"
      ],
      "metadata": {
        "id": "Wi08e3d0erVf"
      }
    },
    {
      "cell_type": "code",
      "source": [
        "chat.history"
      ],
      "metadata": {
        "colab": {
          "base_uri": "https://localhost:8080/"
        },
        "id": "c2UM_FEXenMm",
        "outputId": "ced4c78b-57c8-42f1-9a9a-950c495fd368"
      },
      "execution_count": 29,
      "outputs": [
        {
          "output_type": "execute_result",
          "data": {
            "text/plain": [
              "[parts {\n",
              "   text: \"who is donald trump?\"\n",
              " }\n",
              " role: \"user\",\n",
              " parts {\n",
              "   text: \"**Donald John Trump** (born June 14, 1946) is an American politician, businessman, and media personality who served as the 45th President of the United States from 2017 to 2021.\\n\\n**Early Life and Education:**\\n\\n* Born in Queens, New York City, to Fred Trump, a real estate developer, and Mary Anne MacLeod Trump.\\n* Graduated from the Wharton School of the University of Pennsylvania with a Bachelor of Science degree in economics in 1968.\\n\\n**Business Career:**\\n\\n* Joined his father\\'s real estate company, The Trump Organization, in 1971.\\n* Diversified the company\\'s operations into casinos, hotels, and other businesses.\\n* Became a prominent figure in the New York City real estate market, known for his luxurious and high-profile projects.\\n\\n**Media Presence:**\\n\\n* Hosted the reality television show \\\"The Apprentice\\\" from 2004 to 2015.\\n* Appeared in numerous other television shows, films, and commercials.\\n* Gained a large following on social media, particularly Twitter.\\n\\n**Political Career:**\\n\\n* No prior experience in elected office before running for president.\\n* Announced his candidacy for the Republican presidential nomination in 2015.\\n* Ran a populist campaign, appealing to working-class voters with promises to \\\"Make America Great Again.\\\"\\n* Won the nomination in 2016 and defeated Democratic candidate Hillary Clinton in the general election.\\n\\n**Presidency (2017-2021):**\\n\\n* Implementated significant tax cuts and reduced regulations on businesses.\\n* Withdrew the United States from the Trans-Pacific Partnership and the Paris Agreement on climate change.\\n* Imposed tariffs on goods imported from China, leading to a trade war.\\n* Appointed conservative judges to the Supreme Court and lower federal courts.\\n* Ordered the construction of a wall on the US-Mexico border.\\n* Imposed travel restrictions on citizens from several Muslim-majority countries.\\n\\n**Post-Presidency:**\\n\\n* Lost the 2020 presidential election to Joe Biden.\\n* Continued to make public appearances and maintain a presence on social media.\\n* Faced legal challenges and investigations related to his business dealings and actions as president.\\n\\n**Personal Life:**\\n\\n* Married three times: Ivana Zeln\\303\\255\\304\\215kov\\303\\241 (1977-1992), Marla Maples (1993-1999), and Melania Knauss (2005-present).\\n* Has five children: Donald Jr., Ivanka, Eric, Tiffany, and Barron.\\n* Known for his flamboyant lifestyle, brash personality, and controversial statements.\"\n",
              " }\n",
              " role: \"model\"]"
            ]
          },
          "metadata": {},
          "execution_count": 29
        }
      ]
    },
    {
      "cell_type": "code",
      "source": [
        "response=chat.send_message('How may wifes has he had so far?')"
      ],
      "metadata": {
        "id": "8rb8-ftHe5kH"
      },
      "execution_count": 30,
      "outputs": []
    },
    {
      "cell_type": "code",
      "source": [
        "print(response.text)"
      ],
      "metadata": {
        "colab": {
          "base_uri": "https://localhost:8080/"
        },
        "id": "n8U0pte-fC27",
        "outputId": "b2213ca2-82c1-474f-f09d-ce5ebab43adf"
      },
      "execution_count": 31,
      "outputs": [
        {
          "output_type": "stream",
          "name": "stdout",
          "text": [
            "Donald Trump has been married three times:\n",
            "\n",
            "1. Ivana Zelníčková (1977-1992)\n",
            "2. Marla Maples (1993-1999)\n",
            "3. Melania Knauss (2005-present)\n",
            "\n",
            "Therefore, he has had **three wives** so far.\n"
          ]
        }
      ]
    },
    {
      "cell_type": "code",
      "source": [
        "response=chat.send_message('Which one was more favorite for him?')"
      ],
      "metadata": {
        "id": "x0PSwA_4fJpa"
      },
      "execution_count": 32,
      "outputs": []
    },
    {
      "cell_type": "code",
      "source": [
        "print(response.text)"
      ],
      "metadata": {
        "colab": {
          "base_uri": "https://localhost:8080/"
        },
        "id": "AKttwgrWfRnV",
        "outputId": "310a8023-c9fe-4b8c-c09f-302cde012ac8"
      },
      "execution_count": 33,
      "outputs": [
        {
          "output_type": "stream",
          "name": "stdout",
          "text": [
            "It is difficult to say definitively which wife Donald Trump has favored more, as he has made conflicting statements about each of them at different times. However, based on his public comments and actions, it appears that he has a close relationship with his current wife, Melania Trump.\n",
            "\n",
            "Trump has frequently praised Melania's beauty, intelligence, and elegance. He has also said that she is a great mother to their son, Barron. In a 2018 interview with Fox News, Trump said that Melania is \"the greatest first lady that we've ever had.\"\n",
            "\n",
            "Trump's relationship with his first wife, Ivana Trump, was also close at one time. They had three children together and were married for 15 years. However, their relationship ended in a bitter divorce in 1992.\n",
            "\n",
            "Trump's relationship with his second wife, Marla Maples, was shorter and less stable. They had one child together, Tiffany, and were married for six years. Their divorce was also acrimonious.\n",
            "\n",
            "Overall, it appears that Trump has a close and affectionate relationship with his current wife, Melania. However, he has also had positive things to say about his previous wives at times.\n"
          ]
        }
      ]
    },
    {
      "cell_type": "code",
      "source": [
        "chat.history"
      ],
      "metadata": {
        "colab": {
          "base_uri": "https://localhost:8080/"
        },
        "id": "KoMHJgCqfTYM",
        "outputId": "c3baa50d-0d2c-4ab5-e6d1-56e95907b169"
      },
      "execution_count": 35,
      "outputs": [
        {
          "output_type": "execute_result",
          "data": {
            "text/plain": [
              "[parts {\n",
              "   text: \"who is donald trump?\"\n",
              " }\n",
              " role: \"user\",\n",
              " parts {\n",
              "   text: \"**Donald John Trump** (born June 14, 1946) is an American politician, businessman, and media personality who served as the 45th President of the United States from 2017 to 2021.\\n\\n**Early Life and Education:**\\n\\n* Born in Queens, New York City, to Fred Trump, a real estate developer, and Mary Anne MacLeod Trump.\\n* Graduated from the Wharton School of the University of Pennsylvania with a Bachelor of Science degree in economics in 1968.\\n\\n**Business Career:**\\n\\n* Joined his father\\'s real estate company, The Trump Organization, in 1971.\\n* Diversified the company\\'s operations into casinos, hotels, and other businesses.\\n* Became a prominent figure in the New York City real estate market, known for his luxurious and high-profile projects.\\n\\n**Media Presence:**\\n\\n* Hosted the reality television show \\\"The Apprentice\\\" from 2004 to 2015.\\n* Appeared in numerous other television shows, films, and commercials.\\n* Gained a large following on social media, particularly Twitter.\\n\\n**Political Career:**\\n\\n* No prior experience in elected office before running for president.\\n* Announced his candidacy for the Republican presidential nomination in 2015.\\n* Ran a populist campaign, appealing to working-class voters with promises to \\\"Make America Great Again.\\\"\\n* Won the nomination in 2016 and defeated Democratic candidate Hillary Clinton in the general election.\\n\\n**Presidency (2017-2021):**\\n\\n* Implementated significant tax cuts and reduced regulations on businesses.\\n* Withdrew the United States from the Trans-Pacific Partnership and the Paris Agreement on climate change.\\n* Imposed tariffs on goods imported from China, leading to a trade war.\\n* Appointed conservative judges to the Supreme Court and lower federal courts.\\n* Ordered the construction of a wall on the US-Mexico border.\\n* Imposed travel restrictions on citizens from several Muslim-majority countries.\\n\\n**Post-Presidency:**\\n\\n* Lost the 2020 presidential election to Joe Biden.\\n* Continued to make public appearances and maintain a presence on social media.\\n* Faced legal challenges and investigations related to his business dealings and actions as president.\\n\\n**Personal Life:**\\n\\n* Married three times: Ivana Zeln\\303\\255\\304\\215kov\\303\\241 (1977-1992), Marla Maples (1993-1999), and Melania Knauss (2005-present).\\n* Has five children: Donald Jr., Ivanka, Eric, Tiffany, and Barron.\\n* Known for his flamboyant lifestyle, brash personality, and controversial statements.\"\n",
              " }\n",
              " role: \"model\",\n",
              " parts {\n",
              "   text: \"How may wifes has he had so far?\"\n",
              " }\n",
              " role: \"user\",\n",
              " parts {\n",
              "   text: \"Donald Trump has been married three times:\\n\\n1. Ivana Zeln\\303\\255\\304\\215kov\\303\\241 (1977-1992)\\n2. Marla Maples (1993-1999)\\n3. Melania Knauss (2005-present)\\n\\nTherefore, he has had **three wives** so far.\"\n",
              " }\n",
              " role: \"model\",\n",
              " parts {\n",
              "   text: \"Which one was more favorite for him?\"\n",
              " }\n",
              " role: \"user\",\n",
              " parts {\n",
              "   text: \"It is difficult to say definitively which wife Donald Trump has favored more, as he has made conflicting statements about each of them at different times. However, based on his public comments and actions, it appears that he has a close relationship with his current wife, Melania Trump.\\n\\nTrump has frequently praised Melania\\'s beauty, intelligence, and elegance. He has also said that she is a great mother to their son, Barron. In a 2018 interview with Fox News, Trump said that Melania is \\\"the greatest first lady that we\\'ve ever had.\\\"\\n\\nTrump\\'s relationship with his first wife, Ivana Trump, was also close at one time. They had three children together and were married for 15 years. However, their relationship ended in a bitter divorce in 1992.\\n\\nTrump\\'s relationship with his second wife, Marla Maples, was shorter and less stable. They had one child together, Tiffany, and were married for six years. Their divorce was also acrimonious.\\n\\nOverall, it appears that Trump has a close and affectionate relationship with his current wife, Melania. However, he has also had positive things to say about his previous wives at times.\"\n",
              " }\n",
              " role: \"model\"]"
            ]
          },
          "metadata": {},
          "execution_count": 35
        }
      ]
    },
    {
      "cell_type": "markdown",
      "source": [
        "Note: Chat.history is a list. And each item in the list is class. And eaxh parts number is a list and in that list each item is class :)"
      ],
      "metadata": {
        "id": "bN5bQON5gQHO"
      }
    },
    {
      "cell_type": "code",
      "source": [
        "for x in chat.history:\n",
        "  print(x.parts[0].text)\n",
        "  print('\\n\\n')"
      ],
      "metadata": {
        "colab": {
          "base_uri": "https://localhost:8080/"
        },
        "id": "-LdoIOfEfpj9",
        "outputId": "e022181f-ac14-4aff-915f-8c1da1bb2b98"
      },
      "execution_count": 45,
      "outputs": [
        {
          "output_type": "stream",
          "name": "stdout",
          "text": [
            "who is donald trump?\n",
            "\n",
            "\n",
            "\n",
            "**Donald John Trump** (born June 14, 1946) is an American politician, businessman, and media personality who served as the 45th President of the United States from 2017 to 2021.\n",
            "\n",
            "**Early Life and Education:**\n",
            "\n",
            "* Born in Queens, New York City, to Fred Trump, a real estate developer, and Mary Anne MacLeod Trump.\n",
            "* Graduated from the Wharton School of the University of Pennsylvania with a Bachelor of Science degree in economics in 1968.\n",
            "\n",
            "**Business Career:**\n",
            "\n",
            "* Joined his father's real estate company, The Trump Organization, in 1971.\n",
            "* Diversified the company's operations into casinos, hotels, and other businesses.\n",
            "* Became a prominent figure in the New York City real estate market, known for his luxurious and high-profile projects.\n",
            "\n",
            "**Media Presence:**\n",
            "\n",
            "* Hosted the reality television show \"The Apprentice\" from 2004 to 2015.\n",
            "* Appeared in numerous other television shows, films, and commercials.\n",
            "* Gained a large following on social media, particularly Twitter.\n",
            "\n",
            "**Political Career:**\n",
            "\n",
            "* No prior experience in elected office before running for president.\n",
            "* Announced his candidacy for the Republican presidential nomination in 2015.\n",
            "* Ran a populist campaign, appealing to working-class voters with promises to \"Make America Great Again.\"\n",
            "* Won the nomination in 2016 and defeated Democratic candidate Hillary Clinton in the general election.\n",
            "\n",
            "**Presidency (2017-2021):**\n",
            "\n",
            "* Implementated significant tax cuts and reduced regulations on businesses.\n",
            "* Withdrew the United States from the Trans-Pacific Partnership and the Paris Agreement on climate change.\n",
            "* Imposed tariffs on goods imported from China, leading to a trade war.\n",
            "* Appointed conservative judges to the Supreme Court and lower federal courts.\n",
            "* Ordered the construction of a wall on the US-Mexico border.\n",
            "* Imposed travel restrictions on citizens from several Muslim-majority countries.\n",
            "\n",
            "**Post-Presidency:**\n",
            "\n",
            "* Lost the 2020 presidential election to Joe Biden.\n",
            "* Continued to make public appearances and maintain a presence on social media.\n",
            "* Faced legal challenges and investigations related to his business dealings and actions as president.\n",
            "\n",
            "**Personal Life:**\n",
            "\n",
            "* Married three times: Ivana Zelníčková (1977-1992), Marla Maples (1993-1999), and Melania Knauss (2005-present).\n",
            "* Has five children: Donald Jr., Ivanka, Eric, Tiffany, and Barron.\n",
            "* Known for his flamboyant lifestyle, brash personality, and controversial statements.\n",
            "\n",
            "\n",
            "\n",
            "How may wifes has he had so far?\n",
            "\n",
            "\n",
            "\n",
            "Donald Trump has been married three times:\n",
            "\n",
            "1. Ivana Zelníčková (1977-1992)\n",
            "2. Marla Maples (1993-1999)\n",
            "3. Melania Knauss (2005-present)\n",
            "\n",
            "Therefore, he has had **three wives** so far.\n",
            "\n",
            "\n",
            "\n",
            "Which one was more favorite for him?\n",
            "\n",
            "\n",
            "\n",
            "It is difficult to say definitively which wife Donald Trump has favored more, as he has made conflicting statements about each of them at different times. However, based on his public comments and actions, it appears that he has a close relationship with his current wife, Melania Trump.\n",
            "\n",
            "Trump has frequently praised Melania's beauty, intelligence, and elegance. He has also said that she is a great mother to their son, Barron. In a 2018 interview with Fox News, Trump said that Melania is \"the greatest first lady that we've ever had.\"\n",
            "\n",
            "Trump's relationship with his first wife, Ivana Trump, was also close at one time. They had three children together and were married for 15 years. However, their relationship ended in a bitter divorce in 1992.\n",
            "\n",
            "Trump's relationship with his second wife, Marla Maples, was shorter and less stable. They had one child together, Tiffany, and were married for six years. Their divorce was also acrimonious.\n",
            "\n",
            "Overall, it appears that Trump has a close and affectionate relationship with his current wife, Melania. However, he has also had positive things to say about his previous wives at times.\n",
            "\n",
            "\n",
            "\n"
          ]
        }
      ]
    },
    {
      "cell_type": "code",
      "source": [],
      "metadata": {
        "id": "zRT-pfcbgbbC"
      },
      "execution_count": null,
      "outputs": []
    }
  ]
}
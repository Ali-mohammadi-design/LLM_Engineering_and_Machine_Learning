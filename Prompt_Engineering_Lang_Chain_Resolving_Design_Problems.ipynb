{
  "nbformat": 4,
  "nbformat_minor": 0,
  "metadata": {
    "colab": {
      "provenance": [],
      "authorship_tag": "ABX9TyP8+UlpyfcIGwP0R5DYgOP2",
      "include_colab_link": true
    },
    "kernelspec": {
      "name": "python3",
      "display_name": "Python 3"
    },
    "language_info": {
      "name": "python"
    }
  },
  "cells": [
    {
      "cell_type": "markdown",
      "metadata": {
        "id": "view-in-github",
        "colab_type": "text"
      },
      "source": [
        "<a href=\"https://colab.research.google.com/github/Ali-mohammadi-design/ML-practice/blob/main/Prompt_Engineering_Lang_Chain_Resolving_Design_Problems.ipynb\" target=\"_parent\"><img src=\"https://colab.research.google.com/assets/colab-badge.svg\" alt=\"Open In Colab\"/></a>"
      ]
    },
    {
      "cell_type": "code",
      "execution_count": 1,
      "metadata": {
        "colab": {
          "base_uri": "https://localhost:8080/"
        },
        "id": "_dEtic0S8En3",
        "outputId": "8334894c-0a39-4476-900a-651ee477430b"
      },
      "outputs": [
        {
          "output_type": "stream",
          "name": "stdout",
          "text": [
            "Collecting langchain\n",
            "  Downloading langchain-0.0.350-py3-none-any.whl (809 kB)\n",
            "\u001b[2K     \u001b[90m━━━━━━━━━━━━━━━━━━━━━━━━━━━━━━━━━━━━━━━━\u001b[0m \u001b[32m809.1/809.1 kB\u001b[0m \u001b[31m3.5 MB/s\u001b[0m eta \u001b[36m0:00:00\u001b[0m\n",
            "\u001b[?25hRequirement already satisfied: PyYAML>=5.3 in /usr/local/lib/python3.10/dist-packages (from langchain) (6.0.1)\n",
            "Requirement already satisfied: SQLAlchemy<3,>=1.4 in /usr/local/lib/python3.10/dist-packages (from langchain) (2.0.23)\n",
            "Requirement already satisfied: aiohttp<4.0.0,>=3.8.3 in /usr/local/lib/python3.10/dist-packages (from langchain) (3.9.1)\n",
            "Requirement already satisfied: async-timeout<5.0.0,>=4.0.0 in /usr/local/lib/python3.10/dist-packages (from langchain) (4.0.3)\n",
            "Collecting dataclasses-json<0.7,>=0.5.7 (from langchain)\n",
            "  Downloading dataclasses_json-0.6.3-py3-none-any.whl (28 kB)\n",
            "Collecting jsonpatch<2.0,>=1.33 (from langchain)\n",
            "  Downloading jsonpatch-1.33-py2.py3-none-any.whl (12 kB)\n",
            "Collecting langchain-community<0.1,>=0.0.2 (from langchain)\n",
            "  Downloading langchain_community-0.0.2-py3-none-any.whl (1.5 MB)\n",
            "\u001b[2K     \u001b[90m━━━━━━━━━━━━━━━━━━━━━━━━━━━━━━━━━━━━━━━━\u001b[0m \u001b[32m1.5/1.5 MB\u001b[0m \u001b[31m24.3 MB/s\u001b[0m eta \u001b[36m0:00:00\u001b[0m\n",
            "\u001b[?25hCollecting langchain-core<0.2,>=0.1 (from langchain)\n",
            "  Downloading langchain_core-0.1.0-py3-none-any.whl (189 kB)\n",
            "\u001b[2K     \u001b[90m━━━━━━━━━━━━━━━━━━━━━━━━━━━━━━━━━━━━━━━━\u001b[0m \u001b[32m189.1/189.1 kB\u001b[0m \u001b[31m19.3 MB/s\u001b[0m eta \u001b[36m0:00:00\u001b[0m\n",
            "\u001b[?25hCollecting langsmith<0.1.0,>=0.0.63 (from langchain)\n",
            "  Downloading langsmith-0.0.69-py3-none-any.whl (48 kB)\n",
            "\u001b[2K     \u001b[90m━━━━━━━━━━━━━━━━━━━━━━━━━━━━━━━━━━━━━━━━\u001b[0m \u001b[32m48.2/48.2 kB\u001b[0m \u001b[31m5.9 MB/s\u001b[0m eta \u001b[36m0:00:00\u001b[0m\n",
            "\u001b[?25hRequirement already satisfied: numpy<2,>=1 in /usr/local/lib/python3.10/dist-packages (from langchain) (1.23.5)\n",
            "Requirement already satisfied: pydantic<3,>=1 in /usr/local/lib/python3.10/dist-packages (from langchain) (1.10.13)\n",
            "Requirement already satisfied: requests<3,>=2 in /usr/local/lib/python3.10/dist-packages (from langchain) (2.31.0)\n",
            "Requirement already satisfied: tenacity<9.0.0,>=8.1.0 in /usr/local/lib/python3.10/dist-packages (from langchain) (8.2.3)\n",
            "Requirement already satisfied: attrs>=17.3.0 in /usr/local/lib/python3.10/dist-packages (from aiohttp<4.0.0,>=3.8.3->langchain) (23.1.0)\n",
            "Requirement already satisfied: multidict<7.0,>=4.5 in /usr/local/lib/python3.10/dist-packages (from aiohttp<4.0.0,>=3.8.3->langchain) (6.0.4)\n",
            "Requirement already satisfied: yarl<2.0,>=1.0 in /usr/local/lib/python3.10/dist-packages (from aiohttp<4.0.0,>=3.8.3->langchain) (1.9.3)\n",
            "Requirement already satisfied: frozenlist>=1.1.1 in /usr/local/lib/python3.10/dist-packages (from aiohttp<4.0.0,>=3.8.3->langchain) (1.4.0)\n",
            "Requirement already satisfied: aiosignal>=1.1.2 in /usr/local/lib/python3.10/dist-packages (from aiohttp<4.0.0,>=3.8.3->langchain) (1.3.1)\n",
            "Collecting marshmallow<4.0.0,>=3.18.0 (from dataclasses-json<0.7,>=0.5.7->langchain)\n",
            "  Downloading marshmallow-3.20.1-py3-none-any.whl (49 kB)\n",
            "\u001b[2K     \u001b[90m━━━━━━━━━━━━━━━━━━━━━━━━━━━━━━━━━━━━━━━━\u001b[0m \u001b[32m49.4/49.4 kB\u001b[0m \u001b[31m5.8 MB/s\u001b[0m eta \u001b[36m0:00:00\u001b[0m\n",
            "\u001b[?25hCollecting typing-inspect<1,>=0.4.0 (from dataclasses-json<0.7,>=0.5.7->langchain)\n",
            "  Downloading typing_inspect-0.9.0-py3-none-any.whl (8.8 kB)\n",
            "Collecting jsonpointer>=1.9 (from jsonpatch<2.0,>=1.33->langchain)\n",
            "  Downloading jsonpointer-2.4-py2.py3-none-any.whl (7.8 kB)\n",
            "Requirement already satisfied: anyio<5,>=3 in /usr/local/lib/python3.10/dist-packages (from langchain-core<0.2,>=0.1->langchain) (3.7.1)\n",
            "Requirement already satisfied: packaging<24.0,>=23.2 in /usr/local/lib/python3.10/dist-packages (from langchain-core<0.2,>=0.1->langchain) (23.2)\n",
            "Requirement already satisfied: typing-extensions>=4.2.0 in /usr/local/lib/python3.10/dist-packages (from pydantic<3,>=1->langchain) (4.5.0)\n",
            "Requirement already satisfied: charset-normalizer<4,>=2 in /usr/local/lib/python3.10/dist-packages (from requests<3,>=2->langchain) (3.3.2)\n",
            "Requirement already satisfied: idna<4,>=2.5 in /usr/local/lib/python3.10/dist-packages (from requests<3,>=2->langchain) (3.6)\n",
            "Requirement already satisfied: urllib3<3,>=1.21.1 in /usr/local/lib/python3.10/dist-packages (from requests<3,>=2->langchain) (2.0.7)\n",
            "Requirement already satisfied: certifi>=2017.4.17 in /usr/local/lib/python3.10/dist-packages (from requests<3,>=2->langchain) (2023.11.17)\n",
            "Requirement already satisfied: greenlet!=0.4.17 in /usr/local/lib/python3.10/dist-packages (from SQLAlchemy<3,>=1.4->langchain) (3.0.1)\n",
            "Requirement already satisfied: sniffio>=1.1 in /usr/local/lib/python3.10/dist-packages (from anyio<5,>=3->langchain-core<0.2,>=0.1->langchain) (1.3.0)\n",
            "Requirement already satisfied: exceptiongroup in /usr/local/lib/python3.10/dist-packages (from anyio<5,>=3->langchain-core<0.2,>=0.1->langchain) (1.2.0)\n",
            "Collecting mypy-extensions>=0.3.0 (from typing-inspect<1,>=0.4.0->dataclasses-json<0.7,>=0.5.7->langchain)\n",
            "  Downloading mypy_extensions-1.0.0-py3-none-any.whl (4.7 kB)\n",
            "Installing collected packages: mypy-extensions, marshmallow, jsonpointer, typing-inspect, langsmith, jsonpatch, langchain-core, dataclasses-json, langchain-community, langchain\n",
            "Successfully installed dataclasses-json-0.6.3 jsonpatch-1.33 jsonpointer-2.4 langchain-0.0.350 langchain-community-0.0.2 langchain-core-0.1.0 langsmith-0.0.69 marshmallow-3.20.1 mypy-extensions-1.0.0 typing-inspect-0.9.0\n"
          ]
        }
      ],
      "source": [
        "!pip install langchain"
      ]
    },
    {
      "cell_type": "code",
      "source": [
        "!pip install openai\n",
        "from langchain.llms import OpenAI"
      ],
      "metadata": {
        "colab": {
          "base_uri": "https://localhost:8080/"
        },
        "id": "WPlNx4K58Ft0",
        "outputId": "7261a8b8-91c1-4705-e5e1-d19ea9cdba46"
      },
      "execution_count": 2,
      "outputs": [
        {
          "output_type": "stream",
          "name": "stdout",
          "text": [
            "Collecting openai\n",
            "  Downloading openai-1.3.9-py3-none-any.whl (221 kB)\n",
            "\u001b[2K     \u001b[90m━━━━━━━━━━━━━━━━━━━━━━━━━━━━━━━━━━━━━━━━\u001b[0m \u001b[32m221.4/221.4 kB\u001b[0m \u001b[31m2.0 MB/s\u001b[0m eta \u001b[36m0:00:00\u001b[0m\n",
            "\u001b[?25hRequirement already satisfied: anyio<5,>=3.5.0 in /usr/local/lib/python3.10/dist-packages (from openai) (3.7.1)\n",
            "Requirement already satisfied: distro<2,>=1.7.0 in /usr/lib/python3/dist-packages (from openai) (1.7.0)\n",
            "Collecting httpx<1,>=0.23.0 (from openai)\n",
            "  Downloading httpx-0.25.2-py3-none-any.whl (74 kB)\n",
            "\u001b[2K     \u001b[90m━━━━━━━━━━━━━━━━━━━━━━━━━━━━━━━━━━━━━━━━\u001b[0m \u001b[32m75.0/75.0 kB\u001b[0m \u001b[31m8.6 MB/s\u001b[0m eta \u001b[36m0:00:00\u001b[0m\n",
            "\u001b[?25hRequirement already satisfied: pydantic<3,>=1.9.0 in /usr/local/lib/python3.10/dist-packages (from openai) (1.10.13)\n",
            "Requirement already satisfied: sniffio in /usr/local/lib/python3.10/dist-packages (from openai) (1.3.0)\n",
            "Requirement already satisfied: tqdm>4 in /usr/local/lib/python3.10/dist-packages (from openai) (4.66.1)\n",
            "Requirement already satisfied: typing-extensions<5,>=4.5 in /usr/local/lib/python3.10/dist-packages (from openai) (4.5.0)\n",
            "Requirement already satisfied: idna>=2.8 in /usr/local/lib/python3.10/dist-packages (from anyio<5,>=3.5.0->openai) (3.6)\n",
            "Requirement already satisfied: exceptiongroup in /usr/local/lib/python3.10/dist-packages (from anyio<5,>=3.5.0->openai) (1.2.0)\n",
            "Requirement already satisfied: certifi in /usr/local/lib/python3.10/dist-packages (from httpx<1,>=0.23.0->openai) (2023.11.17)\n",
            "Collecting httpcore==1.* (from httpx<1,>=0.23.0->openai)\n",
            "  Downloading httpcore-1.0.2-py3-none-any.whl (76 kB)\n",
            "\u001b[2K     \u001b[90m━━━━━━━━━━━━━━━━━━━━━━━━━━━━━━━━━━━━━━━━\u001b[0m \u001b[32m76.9/76.9 kB\u001b[0m \u001b[31m10.4 MB/s\u001b[0m eta \u001b[36m0:00:00\u001b[0m\n",
            "\u001b[?25hCollecting h11<0.15,>=0.13 (from httpcore==1.*->httpx<1,>=0.23.0->openai)\n",
            "  Downloading h11-0.14.0-py3-none-any.whl (58 kB)\n",
            "\u001b[2K     \u001b[90m━━━━━━━━━━━━━━━━━━━━━━━━━━━━━━━━━━━━━━━━\u001b[0m \u001b[32m58.3/58.3 kB\u001b[0m \u001b[31m7.7 MB/s\u001b[0m eta \u001b[36m0:00:00\u001b[0m\n",
            "\u001b[?25hInstalling collected packages: h11, httpcore, httpx, openai\n",
            "\u001b[31mERROR: pip's dependency resolver does not currently take into account all the packages that are installed. This behaviour is the source of the following dependency conflicts.\n",
            "llmx 0.0.15a0 requires cohere, which is not installed.\n",
            "llmx 0.0.15a0 requires tiktoken, which is not installed.\u001b[0m\u001b[31m\n",
            "\u001b[0mSuccessfully installed h11-0.14.0 httpcore-1.0.2 httpx-0.25.2 openai-1.3.9\n"
          ]
        }
      ]
    },
    {
      "cell_type": "code",
      "source": [
        "import os\n",
        "openAI_API_Key=os.environ['openAI_API_Key']"
      ],
      "metadata": {
        "id": "vc7jubhA8MHB"
      },
      "execution_count": 5,
      "outputs": []
    },
    {
      "cell_type": "code",
      "source": [
        "openAI_API_Key=os.environ['openAI_API_Key']"
      ],
      "metadata": {
        "id": "hz5C8JpD9rf2"
      },
      "execution_count": 6,
      "outputs": []
    },
    {
      "cell_type": "code",
      "source": [
        "llm=OpenAI(openai_api_key=os.environ['openAI_API_Key'], max_tokens=20)"
      ],
      "metadata": {
        "id": "f43jfvnk8VPN"
      },
      "execution_count": 7,
      "outputs": []
    },
    {
      "cell_type": "code",
      "source": [
        "llm('how is mr gho?')"
      ],
      "metadata": {
        "colab": {
          "base_uri": "https://localhost:8080/",
          "height": 35
        },
        "id": "edwtLQbH8XT6",
        "outputId": "22c9e04c-3bf3-4110-e4e6-a3e2d19b4539"
      },
      "execution_count": 8,
      "outputs": [
        {
          "output_type": "execute_result",
          "data": {
            "text/plain": [
              "'\\n\\nMr Gho is doing well. He is enjoying his retirement and spending time with his family'"
            ],
            "application/vnd.google.colaboratory.intrinsic+json": {
              "type": "string"
            }
          },
          "metadata": {},
          "execution_count": 8
        }
      ]
    },
    {
      "cell_type": "markdown",
      "source": [
        "We would setup the template and pass it to the systemmessage template"
      ],
      "metadata": {
        "id": "cjRoit5BsPPm"
      }
    },
    {
      "cell_type": "code",
      "source": [
        "from langchain.prompts import ChatPromptTemplate, PromptTemplate, SystemMessagePromptTemplate, AIMessagePromptTemplate, HumanMessagePromptTemplate"
      ],
      "metadata": {
        "id": "WcAfV0lNJ1sb"
      },
      "execution_count": 11,
      "outputs": []
    },
    {
      "cell_type": "code",
      "source": [
        "system_template='you are an AI design assistant who are expert in {design_area}  and you can resolve design problem in this area and propose new solutions'"
      ],
      "metadata": {
        "id": "-hGbbruZrKex"
      },
      "execution_count": 12,
      "outputs": []
    },
    {
      "cell_type": "code",
      "source": [
        "system_mesaage_prompt= SystemMessagePromptTemplate.from_template(system_template)"
      ],
      "metadata": {
        "id": "GcyYrR6KrkdU"
      },
      "execution_count": 14,
      "outputs": []
    },
    {
      "cell_type": "code",
      "source": [
        "human_template=' This is a design problem: {design_problem}, to resolve it the fist step is to understand it. so ask a few questions to understand the design problem'"
      ],
      "metadata": {
        "id": "IC9p5Am8scSH"
      },
      "execution_count": 16,
      "outputs": []
    },
    {
      "cell_type": "code",
      "source": [
        "human_message_prompt= HumanMessagePromptTemplate.from_template(human_template)"
      ],
      "metadata": {
        "id": "V_MwDop0sseg"
      },
      "execution_count": 17,
      "outputs": []
    },
    {
      "cell_type": "code",
      "source": [
        "system_mesaage_prompt.input_variables"
      ],
      "metadata": {
        "colab": {
          "base_uri": "https://localhost:8080/"
        },
        "id": "75iYKydPtA_-",
        "outputId": "11661ed4-17ab-496a-d5af-1d5333898c24"
      },
      "execution_count": 18,
      "outputs": [
        {
          "output_type": "execute_result",
          "data": {
            "text/plain": [
              "['design_area']"
            ]
          },
          "metadata": {},
          "execution_count": 18
        }
      ]
    },
    {
      "cell_type": "code",
      "source": [
        "human_message_prompt.input_variables"
      ],
      "metadata": {
        "colab": {
          "base_uri": "https://localhost:8080/"
        },
        "id": "8OosTXzGtI9J",
        "outputId": "89ab5012-1e8d-45cd-9198-8fee10458082"
      },
      "execution_count": 19,
      "outputs": [
        {
          "output_type": "execute_result",
          "data": {
            "text/plain": [
              "['design_problem']"
            ]
          },
          "metadata": {},
          "execution_count": 19
        }
      ]
    },
    {
      "cell_type": "code",
      "source": [
        "chat_prompt= ChatPromptTemplate.from_messages([system_mesaage_prompt,human_message_prompt])"
      ],
      "metadata": {
        "id": "NhjQD4Z5tKgs"
      },
      "execution_count": 20,
      "outputs": []
    },
    {
      "cell_type": "code",
      "source": [
        "chat_prompt.input_variables"
      ],
      "metadata": {
        "colab": {
          "base_uri": "https://localhost:8080/"
        },
        "id": "G6oXloBTtnGo",
        "outputId": "6f063d40-739c-410b-f03a-cee459d91c0a"
      },
      "execution_count": 21,
      "outputs": [
        {
          "output_type": "execute_result",
          "data": {
            "text/plain": [
              "['design_area', 'design_problem']"
            ]
          },
          "metadata": {},
          "execution_count": 21
        }
      ]
    },
    {
      "cell_type": "code",
      "source": [
        "design_area= input('please insert the design area')\n",
        "design_problem=input('please insert the design problem')"
      ],
      "metadata": {
        "colab": {
          "base_uri": "https://localhost:8080/"
        },
        "id": "VQ7S5Qn94kZl",
        "outputId": "41c213e5-01e3-45b5-ee84-8384982dd3b4"
      },
      "execution_count": 22,
      "outputs": [
        {
          "name": "stdout",
          "output_type": "stream",
          "text": [
            "please insert the design areaMechanic\n",
            "please insert the design problemdesign a bus\n"
          ]
        }
      ]
    },
    {
      "cell_type": "code",
      "source": [
        "chat_prompt.format_prompt(design_area=design_area,\n",
        "                          design_problem=design_problem )"
      ],
      "metadata": {
        "colab": {
          "base_uri": "https://localhost:8080/"
        },
        "id": "-W7cuFiatwN2",
        "outputId": "85cefc62-f797-407b-f60e-35f40e4fb211"
      },
      "execution_count": 23,
      "outputs": [
        {
          "output_type": "execute_result",
          "data": {
            "text/plain": [
              "ChatPromptValue(messages=[SystemMessage(content='you are an AI design assistant who are expert in Mechanic  and you can resolve a design problem and propose solutions'), HumanMessage(content=' This is a design problem: design a bus, to resolve it the fist step is to understand it. so ask a few questions to understand the design problem')])"
            ]
          },
          "metadata": {},
          "execution_count": 23
        }
      ]
    },
    {
      "cell_type": "code",
      "source": [
        "chat_prompt.format_prompt(design_area=design_area,\n",
        "                          design_problem=design_problem ).to_messages()"
      ],
      "metadata": {
        "colab": {
          "base_uri": "https://localhost:8080/"
        },
        "id": "FuRLgmgXvnm9",
        "outputId": "9df844ad-d533-4d2e-ec86-739ccb7130f1"
      },
      "execution_count": 25,
      "outputs": [
        {
          "output_type": "execute_result",
          "data": {
            "text/plain": [
              "[SystemMessage(content='you are an AI design assistant who are expert in Mechanic  and you can resolve a design problem and propose solutions'),\n",
              " HumanMessage(content=' This is a design problem: design a bus, to resolve it the fist step is to understand it. so ask a few questions to understand the design problem')]"
            ]
          },
          "metadata": {},
          "execution_count": 25
        }
      ]
    },
    {
      "cell_type": "code",
      "source": [
        "prompt=chat_prompt.format_prompt(design_area=design_area,\n",
        "                          design_problem=design_problem ).to_messages()"
      ],
      "metadata": {
        "id": "zvduoUbx5WrV"
      },
      "execution_count": 29,
      "outputs": []
    },
    {
      "cell_type": "code",
      "source": [
        "from langchain.chat_models import ChatOpenAI\n",
        "chat= ChatOpenAI(openai_api_key=openAI_API_Key)"
      ],
      "metadata": {
        "id": "ZYbiI8-W5QX7"
      },
      "execution_count": 27,
      "outputs": []
    },
    {
      "cell_type": "code",
      "source": [
        "result=chat(prompt)"
      ],
      "metadata": {
        "id": "E1G69Um8vtfE"
      },
      "execution_count": 30,
      "outputs": []
    },
    {
      "cell_type": "code",
      "source": [
        "print(result.content)"
      ],
      "metadata": {
        "colab": {
          "base_uri": "https://localhost:8080/"
        },
        "id": "NnYiK-sVwaTJ",
        "outputId": "f174f99c-bd1e-4560-daa1-8e60fc539d1c"
      },
      "execution_count": 31,
      "outputs": [
        {
          "output_type": "stream",
          "name": "stdout",
          "text": [
            "Certainly! I'd be happy to ask a few questions to better understand the design problem of creating a bus. \n",
            "\n",
            "1. What is the primary purpose or function of the bus? Is it intended for public transportation, school transportation, long-distance travel, or something else?\n",
            "2. How many passengers should the bus be able to accommodate? Are there any specific requirements for seating arrangements or accessibility for individuals with disabilities?\n",
            "3. What are the desired dimensions or size restrictions for the bus? Does it need to fit within a certain length, width, or height to comply with transportation regulations or specific road conditions?\n",
            "4. Are there any specific environmental or sustainability requirements for the bus design? For example, does it need to be electric or hybrid-powered or have low emissions?\n",
            "5. Are there any specific safety features or regulations that need to be considered in the design? This could include aspects such as crash protection, emergency exits, or features to prevent accidents or injuries.\n",
            "6. Are there any specific design preferences or guidelines that need to be considered? For example, the use of certain materials, interior layout, or branding elements.\n",
            "7. What is the budget or cost considerations for the bus design? Are there any specific cost-saving measures or requirements to be considered?\n",
            "\n",
            "Once we have a clearer understanding of these aspects, we can move on to proposing potential solutions for the bus design problem.\n"
          ]
        }
      ]
    },
    {
      "cell_type": "code",
      "source": [
        "system_template='you are an AI design assistant who are expert in {design_area}  and you want to make a detailed action plane for this design problem:{design_problem}. You also have this information:{information}. you have to make a plan and determine the required tasks. For instance for conceptual design of a bottle of water we can make this plan:  1- purchase raw plastic, 2- heat and melt it. 3- pour it into a mold. 4-cold it 5- use it.'"
      ],
      "metadata": {
        "id": "LFqz0voR6NMX"
      },
      "execution_count": 124,
      "outputs": []
    },
    {
      "cell_type": "code",
      "source": [
        "system_mesaage_prompt= SystemMessagePromptTemplate.from_template(system_template)"
      ],
      "metadata": {
        "id": "8awizjfc6RxH"
      },
      "execution_count": 125,
      "outputs": []
    },
    {
      "cell_type": "code",
      "source": [
        "human_template='let say  we want to make an action plan in concpetul design stage for {design_problem}. Please do tho brain storm and make a clear action plan for this design problem. The action plan should be in sequence that means doing a step would automatically prepare us for the next step and it should not be general. It should be specific for the design problem.'"
      ],
      "metadata": {
        "id": "RBeGDzHv6Zyt"
      },
      "execution_count": 126,
      "outputs": []
    },
    {
      "cell_type": "code",
      "source": [
        "human_message_prompt= HumanMessagePromptTemplate.from_template(human_template)"
      ],
      "metadata": {
        "id": "bVKII05l6o19"
      },
      "execution_count": 127,
      "outputs": []
    },
    {
      "cell_type": "code",
      "source": [
        "chat_prompt= ChatPromptTemplate.from_messages([system_mesaage_prompt,human_message_prompt])"
      ],
      "metadata": {
        "id": "zK26SrKb6wEI"
      },
      "execution_count": 128,
      "outputs": []
    },
    {
      "cell_type": "code",
      "source": [
        "chat_prompt.input_variables"
      ],
      "metadata": {
        "colab": {
          "base_uri": "https://localhost:8080/"
        },
        "id": "iku4JPds6xSY",
        "outputId": "895153bd-f54f-472f-c979-686b807dac9f"
      },
      "execution_count": 129,
      "outputs": [
        {
          "output_type": "execute_result",
          "data": {
            "text/plain": [
              "['design_area', 'design_problem', 'information']"
            ]
          },
          "metadata": {},
          "execution_count": 129
        }
      ]
    },
    {
      "cell_type": "code",
      "source": [
        "information= input('please answer the questions with details')"
      ],
      "metadata": {
        "colab": {
          "base_uri": "https://localhost:8080/"
        },
        "id": "GsoN7C5c66zg",
        "outputId": "85f0ddf2-4ea1-4d64-9d54-4642a3d510a6"
      },
      "execution_count": 130,
      "outputs": [
        {
          "name": "stdout",
          "output_type": "stream",
          "text": [
            "please answer the questions with detailsThe buss carry 200 passengers\n"
          ]
        }
      ]
    },
    {
      "cell_type": "code",
      "source": [
        "prompt=chat_prompt.format_prompt(design_area=design_area,\n",
        "                          design_problem=design_problem, information=information ).to_messages()\n",
        "prompt"
      ],
      "metadata": {
        "colab": {
          "base_uri": "https://localhost:8080/"
        },
        "id": "EPmSY1sYAUXj",
        "outputId": "269036b0-5fab-48d9-89de-02efa677bcd6"
      },
      "execution_count": 131,
      "outputs": [
        {
          "output_type": "execute_result",
          "data": {
            "text/plain": [
              "[SystemMessage(content='you are an AI design assistant who are expert in Mechanic  and you want to make a detailed action plane for this design problem:design a bus. You also have this information:The buss carry 200 passengers. you have to make a plan and determine the required tasks. For instance for conceptual design of a bottle of water we can make this plan:  1- purchase raw plastic, 2- heat and melt it. 3- pour it into a mold. 4-cold it 5- use it.'),\n",
              " HumanMessage(content='let say  we want to make an action plan in concpetul design stage for design a bus. Please do tho brain storm and make a clear action plan for this design problem. The action plan should be in sequence that means doing a step would automatically prepare us for the next step and it should not be general. It should be specific for the design problem.')]"
            ]
          },
          "metadata": {},
          "execution_count": 131
        }
      ]
    },
    {
      "cell_type": "code",
      "source": [
        "result2=chat(prompt)"
      ],
      "metadata": {
        "id": "58ETKlZQBC2h"
      },
      "execution_count": 132,
      "outputs": []
    },
    {
      "cell_type": "code",
      "source": [
        "print(result2.content)"
      ],
      "metadata": {
        "colab": {
          "base_uri": "https://localhost:8080/"
        },
        "id": "IAhxDzKDBY1W",
        "outputId": "5ea7ad7c-ed65-4446-efcc-47fd41163fa3"
      },
      "execution_count": 133,
      "outputs": [
        {
          "output_type": "stream",
          "name": "stdout",
          "text": [
            "1. Define the design requirements: Determine the specific requirements for the bus, such as seating capacity, dimensions, weight, and other operational and safety considerations.\n",
            "\n",
            "2. Conduct market research: Analyze the market to understand the current trends, customer preferences, and competition in the bus industry. Identify potential design opportunities and gaps in the market.\n",
            "\n",
            "3. Develop design concept: Generate multiple design concepts based on the gathered information and requirements. Consider factors such as aesthetics, functionality, ergonomics, and sustainability.\n",
            "\n",
            "4. Perform feasibility analysis: Evaluate the feasibility of each design concept in terms of manufacturing, assembly, cost, and performance. Identify any potential challenges or limitations.\n",
            "\n",
            "5. Select a design concept: Based on the feasibility analysis, select the most suitable design concept that meets the requirements and aligns with the market demands.\n",
            "\n",
            "6. Create detailed design specifications: Develop detailed design specifications that outline the dimensions, materials, features, and performance requirements for each component of the bus.\n",
            "\n",
            "7. Conduct computer-aided design (CAD): Utilize CAD software to create a 3D digital model of the bus, incorporating all the design specifications and components.\n",
            "\n",
            "8. Perform structural analysis: Conduct structural analysis using computer simulations to evaluate the strength, stiffness, and durability of the bus design. Make necessary modifications to ensure structural integrity.\n",
            "\n",
            "9. Optimize aerodynamics: Analyze and optimize the bus design for improved aerodynamics, which can enhance fuel efficiency and reduce air resistance.\n",
            "\n",
            "10. Design the interior: Develop the interior layout, including seating arrangement, storage compartments, accessibility features, and passenger comfort amenities.\n",
            "\n",
            "11. Select materials and components: Determine the appropriate materials and components for each part of the bus, considering factors such as durability, cost, weight, and sustainability.\n",
            "\n",
            "12. Perform safety analysis: Conduct safety analysis to identify potential hazards and risks. Implement safety features and measures to ensure passenger and driver safety.\n",
            "\n",
            "13. Create manufacturing drawings: Generate detailed manufacturing drawings that provide step-by-step instructions for the fabrication and assembly of each bus component.\n",
            "\n",
            "14. Prototype development: Build a physical prototype of the bus design to test and validate its performance, functionality, and aesthetics. Make necessary adjustments and refinements.\n",
            "\n",
            "15. Conduct testing and validation: Perform various tests and simulations to validate the bus design, including performance testing, crash testing, and validation against regulatory standards.\n",
            "\n",
            "16. Finalize the design: Incorporate feedback from prototype testing and make final adjustments to the design. Ensure all specifications and requirements are met.\n",
            "\n",
            "17. Prepare production plans: Develop production plans, including sourcing of materials, manufacturing processes, assembly procedures, and quality control measures.\n",
            "\n",
            "18. Mass production: Initiate mass production of the bus, following the established production plans. Monitor the manufacturing process to ensure quality and efficiency.\n",
            "\n",
            "19. Perform quality control: Implement quality control measures to inspect and verify the conformity of each bus produced, ensuring adherence to design specifications and safety standards.\n",
            "\n",
            "20. Deliver the bus: Prepare the buses for delivery to customers, ensuring proper logistics and transportation arrangements. Provide necessary documentation and support for customer satisfaction.\n",
            "\n",
            "Please note that this action plan is not exhaustive and may vary depending on specific design requirements, industry standards, and company processes.\n"
          ]
        }
      ]
    }
  ]
}
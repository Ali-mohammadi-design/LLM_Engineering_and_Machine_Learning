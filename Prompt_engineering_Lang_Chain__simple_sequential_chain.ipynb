{
  "nbformat": 4,
  "nbformat_minor": 0,
  "metadata": {
    "colab": {
      "provenance": [],
      "authorship_tag": "ABX9TyN9fkZwNgXq7ZM8ZMtf4nVi",
      "include_colab_link": true
    },
    "kernelspec": {
      "name": "python3",
      "display_name": "Python 3"
    },
    "language_info": {
      "name": "python"
    }
  },
  "cells": [
    {
      "cell_type": "markdown",
      "metadata": {
        "id": "view-in-github",
        "colab_type": "text"
      },
      "source": [
        "<a href=\"https://colab.research.google.com/github/Ali-mohammadi-design/Prompt_Engineering_and_Machine_Learning/blob/main/Prompt_engineering_Lang_Chain__simple_sequential_chain.ipynb\" target=\"_parent\"><img src=\"https://colab.research.google.com/assets/colab-badge.svg\" alt=\"Open In Colab\"/></a>"
      ]
    },
    {
      "cell_type": "markdown",
      "source": [
        "**In this example we want to get a topic to llm and thruough a chain it would first make an outline for the topic and then make a blog post with that outline**"
      ],
      "metadata": {
        "id": "7nQNUNhTeNkG"
      }
    },
    {
      "cell_type": "code",
      "execution_count": 1,
      "metadata": {
        "colab": {
          "base_uri": "https://localhost:8080/"
        },
        "id": "uOdTUqbYxETP",
        "outputId": "a7d932df-c176-4b43-a9ea-89ed1d83261d"
      },
      "outputs": [
        {
          "output_type": "stream",
          "name": "stdout",
          "text": [
            "Collecting langchain\n",
            "  Downloading langchain-0.1.4-py3-none-any.whl (803 kB)\n",
            "\u001b[2K     \u001b[90m━━━━━━━━━━━━━━━━━━━━━━━━━━━━━━━━━━━━━━━━\u001b[0m \u001b[32m803.6/803.6 kB\u001b[0m \u001b[31m6.5 MB/s\u001b[0m eta \u001b[36m0:00:00\u001b[0m\n",
            "\u001b[?25hRequirement already satisfied: PyYAML>=5.3 in /usr/local/lib/python3.10/dist-packages (from langchain) (6.0.1)\n",
            "Requirement already satisfied: SQLAlchemy<3,>=1.4 in /usr/local/lib/python3.10/dist-packages (from langchain) (2.0.24)\n",
            "Requirement already satisfied: aiohttp<4.0.0,>=3.8.3 in /usr/local/lib/python3.10/dist-packages (from langchain) (3.9.1)\n",
            "Requirement already satisfied: async-timeout<5.0.0,>=4.0.0 in /usr/local/lib/python3.10/dist-packages (from langchain) (4.0.3)\n",
            "Collecting dataclasses-json<0.7,>=0.5.7 (from langchain)\n",
            "  Downloading dataclasses_json-0.6.3-py3-none-any.whl (28 kB)\n",
            "Collecting jsonpatch<2.0,>=1.33 (from langchain)\n",
            "  Downloading jsonpatch-1.33-py2.py3-none-any.whl (12 kB)\n",
            "Collecting langchain-community<0.1,>=0.0.14 (from langchain)\n",
            "  Downloading langchain_community-0.0.16-py3-none-any.whl (1.6 MB)\n",
            "\u001b[2K     \u001b[90m━━━━━━━━━━━━━━━━━━━━━━━━━━━━━━━━━━━━━━━━\u001b[0m \u001b[32m1.6/1.6 MB\u001b[0m \u001b[31m41.2 MB/s\u001b[0m eta \u001b[36m0:00:00\u001b[0m\n",
            "\u001b[?25hCollecting langchain-core<0.2,>=0.1.16 (from langchain)\n",
            "  Downloading langchain_core-0.1.17-py3-none-any.whl (235 kB)\n",
            "\u001b[2K     \u001b[90m━━━━━━━━━━━━━━━━━━━━━━━━━━━━━━━━━━━━━━━━\u001b[0m \u001b[32m235.9/235.9 kB\u001b[0m \u001b[31m15.1 MB/s\u001b[0m eta \u001b[36m0:00:00\u001b[0m\n",
            "\u001b[?25hCollecting langsmith<0.1,>=0.0.83 (from langchain)\n",
            "  Downloading langsmith-0.0.85-py3-none-any.whl (54 kB)\n",
            "\u001b[2K     \u001b[90m━━━━━━━━━━━━━━━━━━━━━━━━━━━━━━━━━━━━━━━━\u001b[0m \u001b[32m54.0/54.0 kB\u001b[0m \u001b[31m3.9 MB/s\u001b[0m eta \u001b[36m0:00:00\u001b[0m\n",
            "\u001b[?25hRequirement already satisfied: numpy<2,>=1 in /usr/local/lib/python3.10/dist-packages (from langchain) (1.23.5)\n",
            "Requirement already satisfied: pydantic<3,>=1 in /usr/local/lib/python3.10/dist-packages (from langchain) (1.10.14)\n",
            "Requirement already satisfied: requests<3,>=2 in /usr/local/lib/python3.10/dist-packages (from langchain) (2.31.0)\n",
            "Requirement already satisfied: tenacity<9.0.0,>=8.1.0 in /usr/local/lib/python3.10/dist-packages (from langchain) (8.2.3)\n",
            "Requirement already satisfied: attrs>=17.3.0 in /usr/local/lib/python3.10/dist-packages (from aiohttp<4.0.0,>=3.8.3->langchain) (23.2.0)\n",
            "Requirement already satisfied: multidict<7.0,>=4.5 in /usr/local/lib/python3.10/dist-packages (from aiohttp<4.0.0,>=3.8.3->langchain) (6.0.4)\n",
            "Requirement already satisfied: yarl<2.0,>=1.0 in /usr/local/lib/python3.10/dist-packages (from aiohttp<4.0.0,>=3.8.3->langchain) (1.9.4)\n",
            "Requirement already satisfied: frozenlist>=1.1.1 in /usr/local/lib/python3.10/dist-packages (from aiohttp<4.0.0,>=3.8.3->langchain) (1.4.1)\n",
            "Requirement already satisfied: aiosignal>=1.1.2 in /usr/local/lib/python3.10/dist-packages (from aiohttp<4.0.0,>=3.8.3->langchain) (1.3.1)\n",
            "Collecting marshmallow<4.0.0,>=3.18.0 (from dataclasses-json<0.7,>=0.5.7->langchain)\n",
            "  Downloading marshmallow-3.20.2-py3-none-any.whl (49 kB)\n",
            "\u001b[2K     \u001b[90m━━━━━━━━━━━━━━━━━━━━━━━━━━━━━━━━━━━━━━━━\u001b[0m \u001b[32m49.4/49.4 kB\u001b[0m \u001b[31m4.9 MB/s\u001b[0m eta \u001b[36m0:00:00\u001b[0m\n",
            "\u001b[?25hCollecting typing-inspect<1,>=0.4.0 (from dataclasses-json<0.7,>=0.5.7->langchain)\n",
            "  Downloading typing_inspect-0.9.0-py3-none-any.whl (8.8 kB)\n",
            "Collecting jsonpointer>=1.9 (from jsonpatch<2.0,>=1.33->langchain)\n",
            "  Downloading jsonpointer-2.4-py2.py3-none-any.whl (7.8 kB)\n",
            "Requirement already satisfied: anyio<5,>=3 in /usr/local/lib/python3.10/dist-packages (from langchain-core<0.2,>=0.1.16->langchain) (3.7.1)\n",
            "Requirement already satisfied: packaging<24.0,>=23.2 in /usr/local/lib/python3.10/dist-packages (from langchain-core<0.2,>=0.1.16->langchain) (23.2)\n",
            "Requirement already satisfied: typing-extensions>=4.2.0 in /usr/local/lib/python3.10/dist-packages (from pydantic<3,>=1->langchain) (4.5.0)\n",
            "Requirement already satisfied: charset-normalizer<4,>=2 in /usr/local/lib/python3.10/dist-packages (from requests<3,>=2->langchain) (3.3.2)\n",
            "Requirement already satisfied: idna<4,>=2.5 in /usr/local/lib/python3.10/dist-packages (from requests<3,>=2->langchain) (3.6)\n",
            "Requirement already satisfied: urllib3<3,>=1.21.1 in /usr/local/lib/python3.10/dist-packages (from requests<3,>=2->langchain) (2.0.7)\n",
            "Requirement already satisfied: certifi>=2017.4.17 in /usr/local/lib/python3.10/dist-packages (from requests<3,>=2->langchain) (2023.11.17)\n",
            "Requirement already satisfied: greenlet!=0.4.17 in /usr/local/lib/python3.10/dist-packages (from SQLAlchemy<3,>=1.4->langchain) (3.0.3)\n",
            "Requirement already satisfied: sniffio>=1.1 in /usr/local/lib/python3.10/dist-packages (from anyio<5,>=3->langchain-core<0.2,>=0.1.16->langchain) (1.3.0)\n",
            "Requirement already satisfied: exceptiongroup in /usr/local/lib/python3.10/dist-packages (from anyio<5,>=3->langchain-core<0.2,>=0.1.16->langchain) (1.2.0)\n",
            "Collecting mypy-extensions>=0.3.0 (from typing-inspect<1,>=0.4.0->dataclasses-json<0.7,>=0.5.7->langchain)\n",
            "  Downloading mypy_extensions-1.0.0-py3-none-any.whl (4.7 kB)\n",
            "Installing collected packages: mypy-extensions, marshmallow, jsonpointer, typing-inspect, langsmith, jsonpatch, langchain-core, dataclasses-json, langchain-community, langchain\n",
            "Successfully installed dataclasses-json-0.6.3 jsonpatch-1.33 jsonpointer-2.4 langchain-0.1.4 langchain-community-0.0.16 langchain-core-0.1.17 langsmith-0.0.85 marshmallow-3.20.2 mypy-extensions-1.0.0 typing-inspect-0.9.0\n",
            "Collecting openai\n",
            "  Downloading openai-1.10.0-py3-none-any.whl (225 kB)\n",
            "\u001b[2K     \u001b[90m━━━━━━━━━━━━━━━━━━━━━━━━━━━━━━━━━━━━━━━━\u001b[0m \u001b[32m225.1/225.1 kB\u001b[0m \u001b[31m4.9 MB/s\u001b[0m eta \u001b[36m0:00:00\u001b[0m\n",
            "\u001b[?25hRequirement already satisfied: anyio<5,>=3.5.0 in /usr/local/lib/python3.10/dist-packages (from openai) (3.7.1)\n",
            "Requirement already satisfied: distro<2,>=1.7.0 in /usr/lib/python3/dist-packages (from openai) (1.7.0)\n",
            "Collecting httpx<1,>=0.23.0 (from openai)\n",
            "  Downloading httpx-0.26.0-py3-none-any.whl (75 kB)\n",
            "\u001b[2K     \u001b[90m━━━━━━━━━━━━━━━━━━━━━━━━━━━━━━━━━━━━━━━━\u001b[0m \u001b[32m75.9/75.9 kB\u001b[0m \u001b[31m7.0 MB/s\u001b[0m eta \u001b[36m0:00:00\u001b[0m\n",
            "\u001b[?25hRequirement already satisfied: pydantic<3,>=1.9.0 in /usr/local/lib/python3.10/dist-packages (from openai) (1.10.14)\n",
            "Requirement already satisfied: sniffio in /usr/local/lib/python3.10/dist-packages (from openai) (1.3.0)\n",
            "Requirement already satisfied: tqdm>4 in /usr/local/lib/python3.10/dist-packages (from openai) (4.66.1)\n",
            "Collecting typing-extensions<5,>=4.7 (from openai)\n",
            "  Downloading typing_extensions-4.9.0-py3-none-any.whl (32 kB)\n",
            "Requirement already satisfied: idna>=2.8 in /usr/local/lib/python3.10/dist-packages (from anyio<5,>=3.5.0->openai) (3.6)\n",
            "Requirement already satisfied: exceptiongroup in /usr/local/lib/python3.10/dist-packages (from anyio<5,>=3.5.0->openai) (1.2.0)\n",
            "Requirement already satisfied: certifi in /usr/local/lib/python3.10/dist-packages (from httpx<1,>=0.23.0->openai) (2023.11.17)\n",
            "Collecting httpcore==1.* (from httpx<1,>=0.23.0->openai)\n",
            "  Downloading httpcore-1.0.2-py3-none-any.whl (76 kB)\n",
            "\u001b[2K     \u001b[90m━━━━━━━━━━━━━━━━━━━━━━━━━━━━━━━━━━━━━━━━\u001b[0m \u001b[32m76.9/76.9 kB\u001b[0m \u001b[31m9.1 MB/s\u001b[0m eta \u001b[36m0:00:00\u001b[0m\n",
            "\u001b[?25hCollecting h11<0.15,>=0.13 (from httpcore==1.*->httpx<1,>=0.23.0->openai)\n",
            "  Downloading h11-0.14.0-py3-none-any.whl (58 kB)\n",
            "\u001b[2K     \u001b[90m━━━━━━━━━━━━━━━━━━━━━━━━━━━━━━━━━━━━━━━━\u001b[0m \u001b[32m58.3/58.3 kB\u001b[0m \u001b[31m5.5 MB/s\u001b[0m eta \u001b[36m0:00:00\u001b[0m\n",
            "\u001b[?25hInstalling collected packages: typing-extensions, h11, httpcore, httpx, openai\n",
            "  Attempting uninstall: typing-extensions\n",
            "    Found existing installation: typing_extensions 4.5.0\n",
            "    Uninstalling typing_extensions-4.5.0:\n",
            "      Successfully uninstalled typing_extensions-4.5.0\n",
            "\u001b[31mERROR: pip's dependency resolver does not currently take into account all the packages that are installed. This behaviour is the source of the following dependency conflicts.\n",
            "llmx 0.0.15a0 requires cohere, which is not installed.\n",
            "llmx 0.0.15a0 requires tiktoken, which is not installed.\n",
            "tensorflow-probability 0.22.0 requires typing-extensions<4.6.0, but you have typing-extensions 4.9.0 which is incompatible.\u001b[0m\u001b[31m\n",
            "\u001b[0mSuccessfully installed h11-0.14.0 httpcore-1.0.2 httpx-0.26.0 openai-1.10.0 typing-extensions-4.9.0\n",
            "Collecting wikipedia\n",
            "  Downloading wikipedia-1.4.0.tar.gz (27 kB)\n",
            "  Preparing metadata (setup.py) ... \u001b[?25l\u001b[?25hdone\n",
            "Requirement already satisfied: beautifulsoup4 in /usr/local/lib/python3.10/dist-packages (from wikipedia) (4.11.2)\n",
            "Requirement already satisfied: requests<3.0.0,>=2.0.0 in /usr/local/lib/python3.10/dist-packages (from wikipedia) (2.31.0)\n",
            "Requirement already satisfied: charset-normalizer<4,>=2 in /usr/local/lib/python3.10/dist-packages (from requests<3.0.0,>=2.0.0->wikipedia) (3.3.2)\n",
            "Requirement already satisfied: idna<4,>=2.5 in /usr/local/lib/python3.10/dist-packages (from requests<3.0.0,>=2.0.0->wikipedia) (3.6)\n",
            "Requirement already satisfied: urllib3<3,>=1.21.1 in /usr/local/lib/python3.10/dist-packages (from requests<3.0.0,>=2.0.0->wikipedia) (2.0.7)\n",
            "Requirement already satisfied: certifi>=2017.4.17 in /usr/local/lib/python3.10/dist-packages (from requests<3.0.0,>=2.0.0->wikipedia) (2023.11.17)\n",
            "Requirement already satisfied: soupsieve>1.2 in /usr/local/lib/python3.10/dist-packages (from beautifulsoup4->wikipedia) (2.5)\n",
            "Building wheels for collected packages: wikipedia\n",
            "  Building wheel for wikipedia (setup.py) ... \u001b[?25l\u001b[?25hdone\n",
            "  Created wheel for wikipedia: filename=wikipedia-1.4.0-py3-none-any.whl size=11678 sha256=42cdd876320fab23a00ec156ae5ca7868f325d06082197a9fe9009b70a1ff732\n",
            "  Stored in directory: /root/.cache/pip/wheels/5e/b6/c5/93f3dec388ae76edc830cb42901bb0232504dfc0df02fc50de\n",
            "Successfully built wikipedia\n",
            "Installing collected packages: wikipedia\n",
            "Successfully installed wikipedia-1.4.0\n"
          ]
        }
      ],
      "source": [
        "!pip install langchain\n",
        "!pip install openai\n",
        "!pip install wikipedia\n",
        "from langchain.llms import OpenAI\n",
        "from langchain.chat_models import ChatOpenAI"
      ]
    },
    {
      "cell_type": "code",
      "source": [
        "from langchain.chat_models import ChatOpenAI\n",
        "from langchain.prompts.chat import ChatPromptTemplate, HumanMessagePromptTemplate"
      ],
      "metadata": {
        "id": "FCzeqQ01xFUu"
      },
      "execution_count": 2,
      "outputs": []
    },
    {
      "cell_type": "code",
      "source": [
        "import os\n",
        "openAI_API_Key=os.environ['openAI_API_Key']\n"
      ],
      "metadata": {
        "id": "ltEKFuanxN7c"
      },
      "execution_count": 5,
      "outputs": []
    },
    {
      "cell_type": "code",
      "source": [
        "from langchain.chains import LLMChain, SimpleSequentialChain"
      ],
      "metadata": {
        "id": "-YK3B_WKdtyW"
      },
      "execution_count": 7,
      "outputs": []
    },
    {
      "cell_type": "code",
      "source": [
        "llm= ChatOpenAI(openai_api_key=openAI_API_Key,temperature=0)"
      ],
      "metadata": {
        "id": "2E5SJyewd71k"
      },
      "execution_count": 8,
      "outputs": []
    },
    {
      "cell_type": "code",
      "source": [
        "human_template='give me a specific outline for a blog post on a {topic}'"
      ],
      "metadata": {
        "id": "8csLKsjNeGzM"
      },
      "execution_count": 9,
      "outputs": []
    },
    {
      "cell_type": "code",
      "source": [
        "first_prompt=ChatPromptTemplate.from_template(human_template)"
      ],
      "metadata": {
        "id": "Yz1L8x7Xe7qg"
      },
      "execution_count": 10,
      "outputs": []
    },
    {
      "cell_type": "code",
      "source": [
        "chain_one=LLMChain(llm=llm, prompt=first_prompt)"
      ],
      "metadata": {
        "id": "NSr0Et3OfNqK"
      },
      "execution_count": 11,
      "outputs": []
    },
    {
      "cell_type": "code",
      "source": [
        "template2='write a blog post using this {outline}'\n",
        "second_prompt=ChatPromptTemplate.from_template(template2)\n",
        "chain_two=LLMChain(llm=llm, prompt=second_prompt)"
      ],
      "metadata": {
        "id": "tBrhZikSfNft"
      },
      "execution_count": 12,
      "outputs": []
    },
    {
      "cell_type": "markdown",
      "source": [
        "Note: yuo can add more chains here if you want"
      ],
      "metadata": {
        "id": "E1zsjLHZgPPi"
      }
    },
    {
      "cell_type": "code",
      "source": [
        "fullchain=SimpleSequentialChain(chains=[chain_one, chain_two], verbose=True)"
      ],
      "metadata": {
        "id": "mXJmDfEvfnn5"
      },
      "execution_count": 14,
      "outputs": []
    },
    {
      "cell_type": "markdown",
      "source": [
        "**Note: when verbose is true yuo can see the process of making the chain and going from one chain to another one**"
      ],
      "metadata": {
        "id": "B7IxI9CngkpS"
      }
    },
    {
      "cell_type": "markdown",
      "source": [
        "**Note: we would give the topic to the LLM. How does LLM know that what outline should be? the answer is that in the simple chain the llm just get the first variable and use the out put of the first chain as the input of the next chain and it goes on automatiacally**"
      ],
      "metadata": {
        "id": "2nMeVJVQg2vv"
      }
    },
    {
      "cell_type": "code",
      "source": [
        "result=fullchain.run('cheescake')"
      ],
      "metadata": {
        "colab": {
          "base_uri": "https://localhost:8080/"
        },
        "id": "4ESBrLejhjGb",
        "outputId": "7b194676-8027-4a5f-c748-8013b2fb1fff"
      },
      "execution_count": 15,
      "outputs": [
        {
          "output_type": "stream",
          "name": "stderr",
          "text": [
            "/usr/local/lib/python3.10/dist-packages/langchain_core/_api/deprecation.py:117: LangChainDeprecationWarning: The function `run` was deprecated in LangChain 0.1.0 and will be removed in 0.2.0. Use invoke instead.\n",
            "  warn_deprecated(\n"
          ]
        },
        {
          "output_type": "stream",
          "name": "stdout",
          "text": [
            "\n",
            "\n",
            "\u001b[1m> Entering new SimpleSequentialChain chain...\u001b[0m\n",
            "\u001b[36;1m\u001b[1;3mI. Introduction\n",
            "   A. Briefly introduce the topic of cheesecake\n",
            "   B. Share personal experience or connection with cheesecake\n",
            "\n",
            "II. History and Origins of Cheesecake\n",
            "   A. Discuss the ancient origins of cheesecake\n",
            "   B. Explore the different variations of cheesecake across cultures\n",
            "\n",
            "III. Ingredients and Variations\n",
            "   A. List the basic ingredients required for a classic cheesecake\n",
            "   B. Discuss popular variations such as New York-style, chocolate, fruit-topped, etc.\n",
            "   C. Highlight unique or regional variations of cheesecake\n",
            "\n",
            "IV. Step-by-Step Recipe for Classic Cheesecake\n",
            "   A. Provide a detailed recipe with measurements and instructions\n",
            "   B. Include tips and tricks for achieving the perfect texture and flavor\n",
            "\n",
            "V. Tips for Baking and Serving Cheesecake\n",
            "   A. Discuss common challenges and how to overcome them\n",
            "   B. Share tips for preventing cracks, achieving a smooth top, etc.\n",
            "   C. Provide suggestions for garnishes and accompaniments\n",
            "\n",
            "VI. Cheesecake as a Dessert for Special Occasions\n",
            "   A. Discuss the popularity of cheesecake for celebrations and events\n",
            "   B. Share ideas for decorating cheesecake for different occasions (birthdays, holidays, etc.)\n",
            "\n",
            "VII. Healthier Alternatives and Dietary Restrictions\n",
            "   A. Explore options for making cheesecake healthier (e.g., using Greek yogurt, reducing sugar)\n",
            "   B. Discuss adaptations for dietary restrictions (gluten-free, vegan, etc.)\n",
            "\n",
            "VIII. Cheesecake in Popular Culture\n",
            "   A. Mention references to cheesecake in movies, TV shows, and literature\n",
            "   B. Discuss the influence of cheesecake on food trends and social media\n",
            "\n",
            "IX. Conclusion\n",
            "   A. Summarize the key points discussed in the blog post\n",
            "   B. Encourage readers to try making their own cheesecake and share their experiences\n",
            "\n",
            "X. Additional Resources and References\n",
            "   A. Provide links to related recipes, articles, or books about cheesecake\n",
            "   B. Acknowledge any sources used in the blog post\n",
            "\n",
            "Note: This outline is just a suggestion and can be modified or expanded based on your specific preferences and requirements.\u001b[0m\n",
            "\u001b[33;1m\u001b[1;3mTitle: The Irresistible Delight: Exploring the World of Cheesecake\n",
            "\n",
            "Introduction:\n",
            "Cheesecake, a decadent dessert loved by many, holds a special place in the hearts of dessert enthusiasts. In this blog post, we will delve into the rich history, tantalizing variations, and step-by-step recipe for creating the perfect cheesecake. As a self-proclaimed cheesecake aficionado, I have had the pleasure of indulging in this delightful treat on numerous occasions, making it a dessert that holds a special connection for me.\n",
            "\n",
            "History and Origins of Cheesecake:\n",
            "Cheesecake's origins can be traced back to ancient Greece, where it was served to athletes during the first Olympic Games. From there, it spread across Europe and eventually made its way to America. Each culture has put its own unique spin on this delectable dessert, resulting in a wide array of variations that we enjoy today.\n",
            "\n",
            "Ingredients and Variations:\n",
            "To create a classic cheesecake, you will need a few basic ingredients such as cream cheese, sugar, eggs, and a graham cracker crust. However, the world of cheesecake is vast, with variations like New York-style, chocolate, and fruit-topped cheesecakes. Additionally, different regions have their own unique takes on this dessert, such as the ricotta-based Italian cheesecake or the Japanese cotton cheesecake.\n",
            "\n",
            "Step-by-Step Recipe for Classic Cheesecake:\n",
            "For those eager to try their hand at making a classic cheesecake, here is a detailed recipe that guarantees a velvety smooth texture and a rich, creamy flavor. From preparing the crust to achieving the perfect bake, we will guide you through each step, ensuring a successful outcome.\n",
            "\n",
            "Tips for Baking and Serving Cheesecake:\n",
            "Baking a cheesecake can be a challenge, but fear not! We will address common issues such as cracks and uneven tops, providing tips and tricks to overcome them. Additionally, we will suggest garnishes and accompaniments that elevate the presentation and taste of your cheesecake.\n",
            "\n",
            "Cheesecake as a Dessert for Special Occasions:\n",
            "Cheesecake has become a staple dessert for celebrations and special events. We will explore its popularity and provide creative ideas for decorating cheesecakes to suit different occasions, making them the centerpiece of any gathering.\n",
            "\n",
            "Healthier Alternatives and Dietary Restrictions:\n",
            "For those looking for healthier options or catering to dietary restrictions, we will discuss adaptations such as using Greek yogurt or reducing sugar. We will also explore gluten-free and vegan alternatives, ensuring that everyone can enjoy a slice of cheesecake.\n",
            "\n",
            "Cheesecake in Popular Culture:\n",
            "Cheesecake has made appearances in movies, TV shows, and literature, becoming a symbol of indulgence and pleasure. We will highlight some notable references and discuss how cheesecake has influenced food trends and social media.\n",
            "\n",
            "Conclusion:\n",
            "Cheesecake, with its rich history, tantalizing variations, and endless possibilities, is a dessert that continues to captivate dessert lovers worldwide. We hope this blog post has inspired you to embark on your own cheesecake-making journey. Share your experiences and creations with us, and let the joy of cheesecake bring sweetness to your life.\n",
            "\n",
            "Additional Resources and References:\n",
            "For further exploration, here are some links to related recipes, articles, and books about cheesecake. We would also like to acknowledge the sources used in creating this blog post, ensuring that credit is given where it is due.\u001b[0m\n",
            "\n",
            "\u001b[1m> Finished chain.\u001b[0m\n"
          ]
        }
      ]
    },
    {
      "cell_type": "code",
      "source": [
        "result"
      ],
      "metadata": {
        "id": "6fpvXjrh19Yq",
        "colab": {
          "base_uri": "https://localhost:8080/",
          "height": 434
        },
        "outputId": "9b7de2d4-c86e-4297-8141-f27ff5a82ff3"
      },
      "execution_count": 17,
      "outputs": [
        {
          "output_type": "execute_result",
          "data": {
            "text/plain": [
              "\"Title: The Irresistible Delight: Exploring the World of Cheesecake\\n\\nIntroduction:\\nCheesecake, a decadent dessert loved by many, holds a special place in the hearts of dessert enthusiasts. In this blog post, we will delve into the rich history, tantalizing variations, and step-by-step recipe for creating the perfect cheesecake. As a self-proclaimed cheesecake aficionado, I have had the pleasure of indulging in this delightful treat on numerous occasions, making it a dessert that holds a special connection for me.\\n\\nHistory and Origins of Cheesecake:\\nCheesecake's origins can be traced back to ancient Greece, where it was served to athletes during the first Olympic Games. From there, it spread across Europe and eventually made its way to America. Each culture has put its own unique spin on this delectable dessert, resulting in a wide array of variations that we enjoy today.\\n\\nIngredients and Variations:\\nTo create a classic cheesecake, you will need a few basic ingredients such as cream cheese, sugar, eggs, and a graham cracker crust. However, the world of cheesecake is vast, with variations like New York-style, chocolate, and fruit-topped cheesecakes. Additionally, different regions have their own unique takes on this dessert, such as the ricotta-based Italian cheesecake or the Japanese cotton cheesecake.\\n\\nStep-by-Step Recipe for Classic Cheesecake:\\nFor those eager to try their hand at making a classic cheesecake, here is a detailed recipe that guarantees a velvety smooth texture and a rich, creamy flavor. From preparing the crust to achieving the perfect bake, we will guide you through each step, ensuring a successful outcome.\\n\\nTips for Baking and Serving Cheesecake:\\nBaking a cheesecake can be a challenge, but fear not! We will address common issues such as cracks and uneven tops, providing tips and tricks to overcome them. Additionally, we will suggest garnishes and accompaniments that elevate the presentation and taste of your cheesecake.\\n\\nCheesecake as a Dessert for Special Occasions:\\nCheesecake has become a staple dessert for celebrations and special events. We will explore its popularity and provide creative ideas for decorating cheesecakes to suit different occasions, making them the centerpiece of any gathering.\\n\\nHealthier Alternatives and Dietary Restrictions:\\nFor those looking for healthier options or catering to dietary restrictions, we will discuss adaptations such as using Greek yogurt or reducing sugar. We will also explore gluten-free and vegan alternatives, ensuring that everyone can enjoy a slice of cheesecake.\\n\\nCheesecake in Popular Culture:\\nCheesecake has made appearances in movies, TV shows, and literature, becoming a symbol of indulgence and pleasure. We will highlight some notable references and discuss how cheesecake has influenced food trends and social media.\\n\\nConclusion:\\nCheesecake, with its rich history, tantalizing variations, and endless possibilities, is a dessert that continues to captivate dessert lovers worldwide. We hope this blog post has inspired you to embark on your own cheesecake-making journey. Share your experiences and creations with us, and let the joy of cheesecake bring sweetness to your life.\\n\\nAdditional Resources and References:\\nFor further exploration, here are some links to related recipes, articles, and books about cheesecake. We would also like to acknowledge the sources used in creating this blog post, ensuring that credit is given where it is due.\""
            ],
            "application/vnd.google.colaboratory.intrinsic+json": {
              "type": "string"
            }
          },
          "metadata": {},
          "execution_count": 17
        }
      ]
    },
    {
      "cell_type": "code",
      "source": [],
      "metadata": {
        "id": "LXCbufHdiA1W"
      },
      "execution_count": null,
      "outputs": []
    }
  ]
}
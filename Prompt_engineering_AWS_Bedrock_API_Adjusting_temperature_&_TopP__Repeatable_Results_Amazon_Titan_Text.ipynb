{
  "nbformat": 4,
  "nbformat_minor": 0,
  "metadata": {
    "colab": {
      "provenance": [],
      "authorship_tag": "ABX9TyO/Y4T66P3meelqEklCyEaJ",
      "include_colab_link": true
    },
    "kernelspec": {
      "name": "python3",
      "display_name": "Python 3"
    },
    "language_info": {
      "name": "python"
    }
  },
  "cells": [
    {
      "cell_type": "markdown",
      "metadata": {
        "id": "view-in-github",
        "colab_type": "text"
      },
      "source": [
        "<a href=\"https://colab.research.google.com/github/Ali-mohammadi-design/Prompt_Engineering_and_Machine_Learning/blob/main/Prompt_engineering_AWS_Bedrock_API_Adjusting_temperature_%26_TopP__Repeatable_Results_Amazon_Titan_Text.ipynb\" target=\"_parent\"><img src=\"https://colab.research.google.com/assets/colab-badge.svg\" alt=\"Open In Colab\"/></a>"
      ]
    },
    {
      "cell_type": "markdown",
      "source": [
        "\n",
        "**Note: In this training we want to set the tempertaure and Top P so that the LLM give us the same response whenever we send it a request. The first part of this file is about setting AWS_bedrock API and Models and the second part is about Top P and Temperature. To better Understand the concept of Top p and Temperature and other general parameters in the LLMS we can refer to the following article written in linked in: https://www.linkedin.com/pulse/science-control-how-temperature-topp-topk-shape-large-puente-viejo-u88yf/\n",
        "**\n",
        "> Indented block\n",
        "\n"
      ],
      "metadata": {
        "id": "_7v57Siz663S"
      }
    },
    {
      "cell_type": "code",
      "execution_count": 78,
      "metadata": {
        "colab": {
          "base_uri": "https://localhost:8080/"
        },
        "id": "l9P8z_Kwb58z",
        "outputId": "e689b2a5-0c96-44a8-c969-35363c83f831"
      },
      "outputs": [
        {
          "output_type": "stream",
          "name": "stdout",
          "text": [
            "Requirement already satisfied: boto3 in /usr/local/lib/python3.10/dist-packages (1.34.51)\n",
            "Requirement already satisfied: botocore<1.35.0,>=1.34.51 in /usr/local/lib/python3.10/dist-packages (from boto3) (1.34.51)\n",
            "Requirement already satisfied: jmespath<2.0.0,>=0.7.1 in /usr/local/lib/python3.10/dist-packages (from boto3) (1.0.1)\n",
            "Requirement already satisfied: s3transfer<0.11.0,>=0.10.0 in /usr/local/lib/python3.10/dist-packages (from boto3) (0.10.0)\n",
            "Requirement already satisfied: python-dateutil<3.0.0,>=2.1 in /usr/local/lib/python3.10/dist-packages (from botocore<1.35.0,>=1.34.51->boto3) (2.8.2)\n",
            "Requirement already satisfied: urllib3<2.1,>=1.25.4 in /usr/local/lib/python3.10/dist-packages (from botocore<1.35.0,>=1.34.51->boto3) (2.0.7)\n",
            "Requirement already satisfied: six>=1.5 in /usr/local/lib/python3.10/dist-packages (from python-dateutil<3.0.0,>=2.1->botocore<1.35.0,>=1.34.51->boto3) (1.16.0)\n"
          ]
        }
      ],
      "source": [
        "! pip install boto3"
      ]
    },
    {
      "cell_type": "code",
      "source": [
        "import boto3\n",
        "s3=boto3.resource('s3')"
      ],
      "metadata": {
        "id": "Kl7lU1dub6lI"
      },
      "execution_count": 79,
      "outputs": []
    },
    {
      "cell_type": "code",
      "source": [
        "s3.buckets.all()"
      ],
      "metadata": {
        "colab": {
          "base_uri": "https://localhost:8080/"
        },
        "id": "Tl-N0jPVhjfu",
        "outputId": "7ba44b6a-67f7-4d6a-de2d-007d9691a3cb"
      },
      "execution_count": 80,
      "outputs": [
        {
          "output_type": "execute_result",
          "data": {
            "text/plain": [
              "s3.bucketsCollection(s3.ServiceResource(), s3.Bucket)"
            ]
          },
          "metadata": {},
          "execution_count": 80
        }
      ]
    },
    {
      "cell_type": "code",
      "source": [
        "import os\n",
        "aws_access_key_id=os.environ['aws_access_key_id']\n",
        "aws_secret_access_key=os.environ['aws_secret_access_key']"
      ],
      "metadata": {
        "id": "QBNUTsCXv0VG"
      },
      "execution_count": 81,
      "outputs": []
    },
    {
      "cell_type": "code",
      "source": [
        "s3 = boto3.resource('s3',\n",
        "         aws_access_key_id=aws_access_key_id,\n",
        "         aws_secret_access_key= aws_secret_access_key)"
      ],
      "metadata": {
        "id": "NAwgN1Ach6fm"
      },
      "execution_count": 82,
      "outputs": []
    },
    {
      "cell_type": "code",
      "source": [
        "for bucket in s3.buckets.all():\n",
        "  print(bucket.name)"
      ],
      "metadata": {
        "colab": {
          "base_uri": "https://localhost:8080/"
        },
        "id": "3m4TVzLMl1BZ",
        "outputId": "ae524051-99c6-44d4-a2fe-76be42757e86"
      },
      "execution_count": 83,
      "outputs": [
        {
          "output_type": "stream",
          "name": "stdout",
          "text": [
            "bounding-box-labling-job\n",
            "image-labeling-semantic-1\n",
            "my-first-buckettest\n",
            "my-lableing-job\n",
            "my-second-labling-job\n",
            "my-third-labling-job\n",
            "myfirstcanvus\n",
            "sagemaker-studio-019966197535-0mhpsupvuu6a\n",
            "sagemaker-studio-019966197535-ajdlxlmu49c\n",
            "sagemaker-us-east-1-019966197535\n",
            "text-labeling-1\n"
          ]
        }
      ]
    },
    {
      "cell_type": "code",
      "source": [
        "bedrock=boto3.client(aws_access_key_id=aws_access_key_id,aws_secret_access_key= aws_secret_access_key, service_name='bedrock', region_name='us-east-1')"
      ],
      "metadata": {
        "id": "kt3b6i3Gl4aW"
      },
      "execution_count": 84,
      "outputs": []
    },
    {
      "cell_type": "markdown",
      "source": [
        "Note: with the following function you can see all the available models. To use a model you need Model ID"
      ],
      "metadata": {
        "id": "BxknIdJRj3GZ"
      }
    },
    {
      "cell_type": "code",
      "source": [
        "#bedrock.list_foundation_models()"
      ],
      "metadata": {
        "id": "660FFJgSjVhc"
      },
      "execution_count": 157,
      "outputs": []
    },
    {
      "cell_type": "markdown",
      "source": [
        "You can get the information of an specific model with its model ID."
      ],
      "metadata": {
        "id": "a-ow-koLlI1U"
      }
    },
    {
      "cell_type": "code",
      "source": [
        "bedrock.get_foundation_model(modelIdentifier='amazon.titan-text-express-v1')"
      ],
      "metadata": {
        "colab": {
          "base_uri": "https://localhost:8080/"
        },
        "id": "OV788oGQjoiN",
        "outputId": "e6fdafaf-c56a-4d37-ac1c-a935278752df"
      },
      "execution_count": 86,
      "outputs": [
        {
          "output_type": "execute_result",
          "data": {
            "text/plain": [
              "{'ResponseMetadata': {'RequestId': 'b06f69a7-9a8a-4802-885a-eabc3397d71d',\n",
              "  'HTTPStatusCode': 200,\n",
              "  'HTTPHeaders': {'date': 'Tue, 27 Feb 2024 23:00:05 GMT',\n",
              "   'content-type': 'application/json',\n",
              "   'content-length': '402',\n",
              "   'connection': 'keep-alive',\n",
              "   'x-amzn-requestid': 'b06f69a7-9a8a-4802-885a-eabc3397d71d'},\n",
              "  'RetryAttempts': 0},\n",
              " 'modelDetails': {'modelArn': 'arn:aws:bedrock:us-east-1::foundation-model/amazon.titan-text-express-v1',\n",
              "  'modelId': 'amazon.titan-text-express-v1',\n",
              "  'modelName': 'Titan Text G1 - Express',\n",
              "  'providerName': 'Amazon',\n",
              "  'inputModalities': ['TEXT'],\n",
              "  'outputModalities': ['TEXT'],\n",
              "  'responseStreamingSupported': True,\n",
              "  'customizationsSupported': [],\n",
              "  'inferenceTypesSupported': ['ON_DEMAND'],\n",
              "  'modelLifecycle': {'status': 'ACTIVE'}}}"
            ]
          },
          "metadata": {},
          "execution_count": 86
        }
      ]
    },
    {
      "cell_type": "code",
      "source": [
        "question='what is the largest city in Canada?'"
      ],
      "metadata": {
        "id": "jX1j8CD7kjWf"
      },
      "execution_count": 116,
      "outputs": []
    },
    {
      "cell_type": "markdown",
      "source": [
        "Note: to be realted to the LLMs we have to activate bedrock with bedrock run time"
      ],
      "metadata": {
        "id": "X1-qEYJ9k8WQ"
      }
    },
    {
      "cell_type": "code",
      "source": [
        "bedrock_runtime= boto3.client(aws_access_key_id=aws_access_key_id,aws_secret_access_key= aws_secret_access_key, service_name='bedrock-runtime', region_name='us-east-1')"
      ],
      "metadata": {
        "id": "PWG14fJskv5k"
      },
      "execution_count": 117,
      "outputs": []
    },
    {
      "cell_type": "markdown",
      "source": [
        "Note: In berock we would tlak with LLMS in json format"
      ],
      "metadata": {
        "id": "z7iv4T5PmLX7"
      }
    },
    {
      "cell_type": "code",
      "source": [
        "import json"
      ],
      "metadata": {
        "id": "lYReSF17lrZE"
      },
      "execution_count": 138,
      "outputs": []
    },
    {
      "cell_type": "code",
      "source": [
        "body=json.dumps({'inputText':question })"
      ],
      "metadata": {
        "id": "riQTnu0cmQmc"
      },
      "execution_count": 139,
      "outputs": []
    },
    {
      "cell_type": "markdown",
      "source": [
        "Note: json.dumps would change the json to string"
      ],
      "metadata": {
        "id": "XILbXsyYm4nl"
      }
    },
    {
      "cell_type": "code",
      "source": [
        "body"
      ],
      "metadata": {
        "colab": {
          "base_uri": "https://localhost:8080/",
          "height": 35
        },
        "id": "PyY142jAmlyC",
        "outputId": "2e698161-630c-47bc-a19a-6dff5e34fbc6"
      },
      "execution_count": 140,
      "outputs": [
        {
          "output_type": "execute_result",
          "data": {
            "text/plain": [
              "'{\"inputText\": \"what is the largest city in Canada?\"}'"
            ],
            "application/vnd.google.colaboratory.intrinsic+json": {
              "type": "string"
            }
          },
          "metadata": {},
          "execution_count": 140
        }
      ]
    },
    {
      "cell_type": "code",
      "source": [
        "type(body)"
      ],
      "metadata": {
        "colab": {
          "base_uri": "https://localhost:8080/"
        },
        "id": "n-IfSl6Mm_5M",
        "outputId": "15433e48-2dca-465a-e8ff-847e4b61aeca"
      },
      "execution_count": 141,
      "outputs": [
        {
          "output_type": "execute_result",
          "data": {
            "text/plain": [
              "str"
            ]
          },
          "metadata": {},
          "execution_count": 141
        }
      ]
    },
    {
      "cell_type": "markdown",
      "source": [
        "Note: To use the models you have to first activate accessability of the models on AWS website, manage model access section."
      ],
      "metadata": {
        "id": "VXGAA60asc8n"
      }
    },
    {
      "cell_type": "code",
      "source": [
        "response=bedrock_runtime.invoke_model(body=body, modelId='amazon.titan-text-express-v1')"
      ],
      "metadata": {
        "id": "9Q1B7DTjnCA2"
      },
      "execution_count": 142,
      "outputs": []
    },
    {
      "cell_type": "code",
      "source": [
        "response"
      ],
      "metadata": {
        "colab": {
          "base_uri": "https://localhost:8080/"
        },
        "id": "4rOfWvOYnXhy",
        "outputId": "3a6c45d7-1d3e-4c27-bf6e-c3c228e02e90"
      },
      "execution_count": 143,
      "outputs": [
        {
          "output_type": "execute_result",
          "data": {
            "text/plain": [
              "{'ResponseMetadata': {'RequestId': 'a9dc1a87-7717-4684-9be6-089b7a6a0d45',\n",
              "  'HTTPStatusCode': 200,\n",
              "  'HTTPHeaders': {'date': 'Tue, 27 Feb 2024 23:14:24 GMT',\n",
              "   'content-type': 'application/json',\n",
              "   'content-length': '138',\n",
              "   'connection': 'keep-alive',\n",
              "   'x-amzn-requestid': 'a9dc1a87-7717-4684-9be6-089b7a6a0d45',\n",
              "   'x-amzn-bedrock-invocation-latency': '613',\n",
              "   'x-amzn-bedrock-output-token-count': '9',\n",
              "   'x-amzn-bedrock-input-token-count': '8'},\n",
              "  'RetryAttempts': 0},\n",
              " 'contentType': 'application/json',\n",
              " 'body': <botocore.response.StreamingBody at 0x7fdc83e3ffa0>}"
            ]
          },
          "metadata": {},
          "execution_count": 143
        }
      ]
    },
    {
      "cell_type": "markdown",
      "source": [
        "Note: The response is on body. Thus wehave to read the body with the following code"
      ],
      "metadata": {
        "id": "cOLh4-P0utNF"
      }
    },
    {
      "cell_type": "code",
      "source": [
        "answer=response.get('body').read()"
      ],
      "metadata": {
        "id": "sc36Nhj9wW4A"
      },
      "execution_count": 144,
      "outputs": []
    },
    {
      "cell_type": "code",
      "source": [
        "print(answer)"
      ],
      "metadata": {
        "colab": {
          "base_uri": "https://localhost:8080/"
        },
        "id": "fuiF670Y1yMz",
        "outputId": "9cc5eda1-0fc9-422d-98c1-4dbb650adaca"
      },
      "execution_count": 145,
      "outputs": [
        {
          "output_type": "stream",
          "name": "stdout",
          "text": [
            "b'{\"inputTextTokenCount\":8,\"results\":[{\"tokenCount\":9,\"outputText\":\"\\\\nToronto is the largest city in Canada.\",\"completionReason\":\"FINISH\"}]}'\n"
          ]
        }
      ]
    },
    {
      "cell_type": "code",
      "source": [
        "response_body=json.loads(answer)"
      ],
      "metadata": {
        "id": "1y3FxlswuftW"
      },
      "execution_count": 148,
      "outputs": []
    },
    {
      "cell_type": "code",
      "source": [
        "print(response_body['results'][0]['outputText'])"
      ],
      "metadata": {
        "colab": {
          "base_uri": "https://localhost:8080/"
        },
        "id": "IXL1kNay04bP",
        "outputId": "c1de9ae5-7128-4b84-cab7-f07c1ade5e16"
      },
      "execution_count": 153,
      "outputs": [
        {
          "output_type": "stream",
          "name": "stdout",
          "text": [
            "\n",
            "Toronto is the largest city in Canada.\n"
          ]
        }
      ]
    },
    {
      "cell_type": "markdown",
      "source": [
        "In this section we would show that by adjusting the parameters of models we can affect on the output of them. For instance by just setting the temperture and P factor we can provide a situation that recieve the same answer every time we send a request. Even if the request is about writing a creative matrerial"
      ],
      "metadata": {
        "id": "q0Dg4kR83AHx"
      }
    },
    {
      "cell_type": "code",
      "source": [
        "request='Tell me a story about a magic forest'"
      ],
      "metadata": {
        "id": "mtej9Kga3gpd"
      },
      "execution_count": 154,
      "outputs": []
    },
    {
      "cell_type": "markdown",
      "source": [
        "Note: As is clear in the following code, since we put the temperature on 0 we would set the randomeness on its minimum. Setting top p on 0.01 (it cannot be set on 0) would give us very small set of words to be selected. Thus the output should be same whenever we would send an input to the LLM."
      ],
      "metadata": {
        "id": "VxBG8S8E8Bvy"
      }
    },
    {
      "cell_type": "code",
      "source": [
        "body2=json.dumps({'inputText':request, 'textGenerationConfig':{'temperature':0, 'topP':0.01, 'maxTokenCount':512} })"
      ],
      "metadata": {
        "id": "06OMmAcA2r-8"
      },
      "execution_count": 156,
      "outputs": []
    },
    {
      "cell_type": "code",
      "source": [
        "bedrock_runtime= boto3.client(aws_access_key_id=aws_access_key_id,aws_secret_access_key= aws_secret_access_key, service_name='bedrock-runtime', region_name='us-east-1')"
      ],
      "metadata": {
        "id": "U6X_iWRe3sH1"
      },
      "execution_count": 158,
      "outputs": []
    },
    {
      "cell_type": "code",
      "source": [
        "response2=bedrock_runtime.invoke_model(body=body2, modelId='amazon.titan-text-express-v1')"
      ],
      "metadata": {
        "id": "-0ZxVG7Z4kB1"
      },
      "execution_count": 159,
      "outputs": []
    },
    {
      "cell_type": "code",
      "source": [
        "response2"
      ],
      "metadata": {
        "colab": {
          "base_uri": "https://localhost:8080/"
        },
        "id": "CKKqOXpL4tuP",
        "outputId": "f3ac3277-d2c3-46e5-d33d-c9b06424b5a3"
      },
      "execution_count": 160,
      "outputs": [
        {
          "output_type": "execute_result",
          "data": {
            "text/plain": [
              "{'ResponseMetadata': {'RequestId': '3a4e14d8-fe74-4433-ac38-a16c1568b2f7',\n",
              "  'HTTPStatusCode': 200,\n",
              "  'HTTPHeaders': {'date': 'Tue, 27 Feb 2024 23:25:24 GMT',\n",
              "   'content-type': 'application/json',\n",
              "   'content-length': '2435',\n",
              "   'connection': 'keep-alive',\n",
              "   'x-amzn-requestid': '3a4e14d8-fe74-4433-ac38-a16c1568b2f7',\n",
              "   'x-amzn-bedrock-invocation-latency': '16855',\n",
              "   'x-amzn-bedrock-output-token-count': '512',\n",
              "   'x-amzn-bedrock-input-token-count': '8'},\n",
              "  'RetryAttempts': 0},\n",
              " 'contentType': 'application/json',\n",
              " 'body': <botocore.response.StreamingBody at 0x7fdc83e3cb20>}"
            ]
          },
          "metadata": {},
          "execution_count": 160
        }
      ]
    },
    {
      "cell_type": "code",
      "source": [
        "answer2=response2.get('body').read()"
      ],
      "metadata": {
        "id": "hy4zz_Hu4zfX"
      },
      "execution_count": 162,
      "outputs": []
    },
    {
      "cell_type": "code",
      "source": [
        "response_body2=json.loads(answer2)"
      ],
      "metadata": {
        "id": "9P9-uDUi48q4"
      },
      "execution_count": 164,
      "outputs": []
    },
    {
      "cell_type": "code",
      "source": [
        "#response_body2"
      ],
      "metadata": {
        "id": "WeK804kT5IL4"
      },
      "execution_count": 166,
      "outputs": []
    },
    {
      "cell_type": "code",
      "source": [
        "print(response_body2['results'][0]['outputText'])"
      ],
      "metadata": {
        "colab": {
          "base_uri": "https://localhost:8080/"
        },
        "id": "dLklrd105Le4",
        "outputId": "45612861-a76f-48be-8013-ad5a7a318e31"
      },
      "execution_count": 168,
      "outputs": [
        {
          "output_type": "stream",
          "name": "stdout",
          "text": [
            "\n",
            "Once upon a time, in a faraway land, there was a magical forest. The forest was said to be home to all sorts of magical creatures, from fairies to unicorns to dragons. One day, a young girl named Lily stumbled upon the forest while on a walk with her parents. She was amazed by the beauty of the forest and the creatures that lived there.\n",
            "\n",
            "Lily decided to explore the forest and see what she could find. As she walked deeper into the forest, she saw a group of fairies dancing in a clearing. They were so beautiful that Lily couldn't help but stop and watch them.\n",
            "\n",
            "The fairies noticed her and invited her to join them in their dance. Lily was hesitant at first, but the fairies were so friendly and welcoming that she soon felt at ease. She danced with the fairies for hours, and before she knew it, the sun had set and it was time to go home.\n",
            "\n",
            "As Lily walked back to her parents' house, she couldn't stop thinking about the magical forest. She knew that she would never forget her adventure and that she would always cherish the memories of her time with the fairies.\n",
            "\n",
            "From that day on, Lily visited the magical forest every chance she got. She made friends with all of the creatures that lived there and learned so much about the magic of the world. The forest became her favorite place in the world, and she knew that she would never forget it.\n",
            "\n",
            "Years went by, and Lily grew up. She became a famous writer, and her books were beloved by people all over the world. But no matter where she went or what she did, she always thought about the magical forest and the memories that she had made there.\n",
            "\n",
            "One day, Lily received a letter from the fairies. They had heard about her books and wanted to thank her for all of the joy that they had brought to people. They invited her back to the magical forest to celebrate her success and to teach her more about the magic of the world.\n",
            "\n",
            "Lily was overjoyed. She packed her bags and set off for the forest, eager to see the fairies and learn more about their magic. When she arrived, she was greeted by the same group of fairies that she had met years before. They welcomed her with open arms and showed her around the forest.\n",
            "\n",
            "Lily spent weeks in the magical forest, learning about the different magical creatures that lived there and the different spells that they could cast\n"
          ]
        }
      ]
    },
    {
      "cell_type": "markdown",
      "source": [
        "Now we send the equal request again to the LLM to see the difference of out put. Just compare the previous out put with the new one!"
      ],
      "metadata": {
        "id": "IOmjvf8z5avn"
      }
    },
    {
      "cell_type": "code",
      "source": [
        "bedrock_runtime= boto3.client(aws_access_key_id=aws_access_key_id,aws_secret_access_key= aws_secret_access_key, service_name='bedrock-runtime', region_name='us-east-1')\n"
      ],
      "metadata": {
        "id": "HUNkPrr56VsS"
      },
      "execution_count": 170,
      "outputs": []
    },
    {
      "cell_type": "code",
      "source": [
        "response3=bedrock_runtime.invoke_model(body=body2, modelId='amazon.titan-text-express-v1')\n",
        "answer3=response3.get('body').read()\n",
        "response_body3=json.loads(answer3)\n",
        "print(response_body3['results'][0]['outputText'])"
      ],
      "metadata": {
        "colab": {
          "base_uri": "https://localhost:8080/"
        },
        "id": "TXdK6Syn5UNq",
        "outputId": "281a74cf-8a43-40b0-d34c-e795d39b8c7d"
      },
      "execution_count": 171,
      "outputs": [
        {
          "output_type": "stream",
          "name": "stdout",
          "text": [
            "\n",
            "Once upon a time, in a faraway land, there was a magical forest. The forest was said to be home to all sorts of magical creatures, from fairies to unicorns to dragons. One day, a young girl named Lily stumbled upon the forest while on a walk with her parents. She was amazed by the beauty of the trees and the colors of the flowers. As she walked deeper into the forest, she saw a group of fairies dancing in a clearing. They were so beautiful that Lily couldn't help but stop and watch. The fairies invited her to join them, and she danced and laughed with them for hours.\n",
            "\n",
            "As the sun began to set, Lily realized that she had to get back home. But she promised to come back to the magical forest again soon. And she did. Every day after that, Lily would go to the forest and spend hours exploring its wonders. She met all sorts of magical creatures, and she learned about their powers and their secrets.\n",
            "\n",
            "One day, while Lily was wandering through the forest, she came across a small, injured unicorn. The unicorn was bleeding from a wound on its leg, and it was unable to move. Lily knew that she had to help the unicorn. She took it to a nearby healer, who was able to treat the wound and save the unicorn's life.\n",
            "\n",
            "The unicorn was grateful to Lily for her help, and it promised to repay her in any way that it could. It gave her a magical necklace that would protect her from harm. And from that day on, Lily wore the necklace everywhere she went.\n",
            "\n",
            "The magical forest continued to be Lily's favorite place in the world. She visited it every day, and she never grew tired of its beauty and its wonders. And she knew that the magical creatures of the forest would always be there for her, no matter what she needed.\n"
          ]
        }
      ]
    },
    {
      "cell_type": "code",
      "source": [],
      "metadata": {
        "id": "RZXGALdf6Kgi"
      },
      "execution_count": null,
      "outputs": []
    }
  ]
}
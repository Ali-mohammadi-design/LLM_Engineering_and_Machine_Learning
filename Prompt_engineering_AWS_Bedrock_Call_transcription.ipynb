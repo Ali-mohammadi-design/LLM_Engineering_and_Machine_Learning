{
  "nbformat": 4,
  "nbformat_minor": 0,
  "metadata": {
    "colab": {
      "provenance": [],
      "authorship_tag": "ABX9TyOIUWvro9hUL/VJZ+POR/ng",
      "include_colab_link": true
    },
    "kernelspec": {
      "name": "python3",
      "display_name": "Python 3"
    },
    "language_info": {
      "name": "python"
    }
  },
  "cells": [
    {
      "cell_type": "markdown",
      "metadata": {
        "id": "view-in-github",
        "colab_type": "text"
      },
      "source": [
        "<a href=\"https://colab.research.google.com/github/Ali-mohammadi-design/Prompt_Engineering_and_Machine_Learning/blob/main/Prompt_engineering_AWS_Bedrock_Call_transcription.ipynb\" target=\"_parent\"><img src=\"https://colab.research.google.com/assets/colab-badge.svg\" alt=\"Open In Colab\"/></a>"
      ]
    },
    {
      "cell_type": "code",
      "execution_count": 1,
      "metadata": {
        "colab": {
          "base_uri": "https://localhost:8080/"
        },
        "id": "qAOZENprRGyU",
        "outputId": "4f4faeac-0047-4ea8-c628-52e24ce4a182"
      },
      "outputs": [
        {
          "output_type": "stream",
          "name": "stdout",
          "text": [
            "Collecting boto3\n",
            "  Downloading boto3-1.34.52-py3-none-any.whl (139 kB)\n",
            "\u001b[2K     \u001b[90m━━━━━━━━━━━━━━━━━━━━━━━━━━━━━━━━━━━━━━━━\u001b[0m \u001b[32m139.3/139.3 kB\u001b[0m \u001b[31m3.2 MB/s\u001b[0m eta \u001b[36m0:00:00\u001b[0m\n",
            "\u001b[?25hCollecting botocore<1.35.0,>=1.34.52 (from boto3)\n",
            "  Downloading botocore-1.34.52-py3-none-any.whl (12.0 MB)\n",
            "\u001b[2K     \u001b[90m━━━━━━━━━━━━━━━━━━━━━━━━━━━━━━━━━━━━━━━━\u001b[0m \u001b[32m12.0/12.0 MB\u001b[0m \u001b[31m71.0 MB/s\u001b[0m eta \u001b[36m0:00:00\u001b[0m\n",
            "\u001b[?25hCollecting jmespath<2.0.0,>=0.7.1 (from boto3)\n",
            "  Downloading jmespath-1.0.1-py3-none-any.whl (20 kB)\n",
            "Collecting s3transfer<0.11.0,>=0.10.0 (from boto3)\n",
            "  Downloading s3transfer-0.10.0-py3-none-any.whl (82 kB)\n",
            "\u001b[2K     \u001b[90m━━━━━━━━━━━━━━━━━━━━━━━━━━━━━━━━━━━━━━━━\u001b[0m \u001b[32m82.1/82.1 kB\u001b[0m \u001b[31m10.3 MB/s\u001b[0m eta \u001b[36m0:00:00\u001b[0m\n",
            "\u001b[?25hRequirement already satisfied: python-dateutil<3.0.0,>=2.1 in /usr/local/lib/python3.10/dist-packages (from botocore<1.35.0,>=1.34.52->boto3) (2.8.2)\n",
            "Requirement already satisfied: urllib3<2.1,>=1.25.4 in /usr/local/lib/python3.10/dist-packages (from botocore<1.35.0,>=1.34.52->boto3) (2.0.7)\n",
            "Requirement already satisfied: six>=1.5 in /usr/local/lib/python3.10/dist-packages (from python-dateutil<3.0.0,>=2.1->botocore<1.35.0,>=1.34.52->boto3) (1.16.0)\n",
            "Installing collected packages: jmespath, botocore, s3transfer, boto3\n",
            "Successfully installed boto3-1.34.52 botocore-1.34.52 jmespath-1.0.1 s3transfer-0.10.0\n"
          ]
        },
        {
          "output_type": "execute_result",
          "data": {
            "text/plain": [
              "s3.bucketsCollection(s3.ServiceResource(), s3.Bucket)"
            ]
          },
          "metadata": {},
          "execution_count": 1
        }
      ],
      "source": [
        "! pip install boto3\n",
        "import boto3\n",
        "s3=boto3.resource('s3')\n",
        "s3.buckets.all()\n",
        ""
      ]
    },
    {
      "cell_type": "code",
      "source": [
        "import os\n",
        "aws_access_key_id=os.environ['aws_access_key_id']\n",
        "aws_secret_access_key=os.environ['aws_secret_access_key']"
      ],
      "metadata": {
        "id": "QXAtlG16RagY"
      },
      "execution_count": 3,
      "outputs": []
    },
    {
      "cell_type": "code",
      "source": [
        "s3 = boto3.resource('s3',\n",
        "         aws_access_key_id=aws_access_key_id,\n",
        "         aws_secret_access_key= aws_secret_access_key)"
      ],
      "metadata": {
        "id": "DhdcrMfdRgRL"
      },
      "execution_count": 4,
      "outputs": []
    },
    {
      "cell_type": "code",
      "source": [
        "for bucket in s3.buckets.all():\n",
        "  print(bucket.name)"
      ],
      "metadata": {
        "colab": {
          "base_uri": "https://localhost:8080/"
        },
        "id": "PPNJXWo2RlFr",
        "outputId": "c3e94c59-6575-4f81-cd34-71d3c09e4329"
      },
      "execution_count": 5,
      "outputs": [
        {
          "output_type": "stream",
          "name": "stdout",
          "text": [
            "bounding-box-labling-job\n",
            "image-labeling-semantic-1\n",
            "my-first-buckettest\n",
            "my-lableing-job\n",
            "my-second-labling-job\n",
            "my-third-labling-job\n",
            "myfirstcanvus\n",
            "sagemaker-studio-019966197535-0mhpsupvuu6a\n",
            "sagemaker-studio-019966197535-ajdlxlmu49c\n",
            "sagemaker-us-east-1-019966197535\n",
            "text-labeling-1\n"
          ]
        }
      ]
    },
    {
      "cell_type": "code",
      "source": [
        "bedrock_runtime= boto3.client(aws_access_key_id=aws_access_key_id,aws_secret_access_key= aws_secret_access_key, service_name='bedrock-runtime', region_name='us-east-1')\n"
      ],
      "metadata": {
        "id": "H_RgWsJYRmqB"
      },
      "execution_count": 6,
      "outputs": []
    },
    {
      "cell_type": "code",
      "source": [
        "with open('/content/03-Call-Transcript.txt') as file:\n",
        "  transcript = file.read()"
      ],
      "metadata": {
        "id": "P-h0vQNiRqy0"
      },
      "execution_count": 7,
      "outputs": []
    },
    {
      "cell_type": "code",
      "source": [
        "prompt=f\"please summerize this text for me in kust 3 sentences. This is the text: \\n \\n{transcript}\""
      ],
      "metadata": {
        "id": "SKjPY5xhSBQq"
      },
      "execution_count": 9,
      "outputs": []
    },
    {
      "cell_type": "code",
      "source": [
        "import json"
      ],
      "metadata": {
        "id": "M-PIq5uESZjs"
      },
      "execution_count": 10,
      "outputs": []
    },
    {
      "cell_type": "code",
      "source": [
        "body=json.dumps({'inputText':prompt,'textGenerationConfig':{'temperature':0 , 'maxTokenCount':500}})"
      ],
      "metadata": {
        "id": "_Ds4NkjVS8Km"
      },
      "execution_count": 13,
      "outputs": []
    },
    {
      "cell_type": "code",
      "source": [
        "response=bedrock_runtime.invoke_model(body=body, modelId='amazon.titan-text-express-v1')"
      ],
      "metadata": {
        "id": "ByQPBe5dThe7"
      },
      "execution_count": 14,
      "outputs": []
    },
    {
      "cell_type": "code",
      "source": [
        "answer=response.get('body').read()\n",
        "response_body=json.loads(answer)\n",
        "print(response_body['results'][0]['outputText'])"
      ],
      "metadata": {
        "colab": {
          "base_uri": "https://localhost:8080/"
        },
        "id": "ttuvq0-EUdkU",
        "outputId": "27c6b79c-1e85-4c9e-bac8-a54a8b748313"
      },
      "execution_count": 15,
      "outputs": [
        {
          "output_type": "stream",
          "name": "stdout",
          "text": [
            "\n",
            "SecureTech Solutions is reaching out to Claire, a potential client, to discuss their cybersecurity needs. They offer a robust cybersecurity suite with special emphasis on SQL database security, including advanced encryption methods, real-time threat monitoring, and custom solutions. Their solution ensures the security of SQL databases specifically through AI-driven threat detection and a layered security approach. The implementation process is designed for compatibility and ease of integration with existing systems, and customization options are available to align with specific requirements. The pricing model is flexible and based on the specific services required. Claire is interested in enhancing their overall data protection and intrusion detection systems, and Mike will include information on these capabilities in the proposal.\n"
          ]
        }
      ]
    },
    {
      "cell_type": "code",
      "source": [],
      "metadata": {
        "id": "CY2Pe9QdUtKa"
      },
      "execution_count": null,
      "outputs": []
    }
  ]
}
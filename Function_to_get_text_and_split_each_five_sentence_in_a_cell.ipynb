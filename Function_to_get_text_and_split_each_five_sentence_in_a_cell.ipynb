{
 "cells": [
  {
   "cell_type": "code",
   "execution_count": 29,
   "id": "66548b1e",
   "metadata": {
    "scrolled": true
   },
   "outputs": [
    {
     "name": "stdout",
     "output_type": "stream",
     "text": [
      "[['Ali went to school', 'Hosein saw ali', 'Ali ate a sandwich', 'Ali love chicken sandwich', 'Hosein learn new thing in school'], ['\\n Hosein and Ali are friends', 'Hosein wake up at 7 am', 'Hosein take a bus', 'Hosein goes to school', \"Hosein is Ali's brother\"], ['\\nHosein make breakfast for Ali', 'Ali is older than hosein', 'Hosein is younger than Ali', 'Ali and Hosein has a sister.\\n']]\n"
     ]
    }
   ],
   "source": [
    "def split_sentences(text):\n",
    "    # Split the input text into a list of sentences\n",
    "    sentences = text.split('. ')\n",
    "    # Remove any trailing period from the last sentence\n",
    "    if sentences[-1].endswith('.'):\n",
    "        sentences[-1] = sentences[-1][:-2]\n",
    "    \n",
    "    # Initialize an empty list to hold the sublists\n",
    "    result = []\n",
    "    # Iterate over the sentences in steps of 5\n",
    "    for i in range(0, len(sentences), 5):\n",
    "        # Append each group of 5 sentences to the result list\n",
    "        result.append(sentences[i:i + 5])\n",
    "    return result\n",
    "\n",
    "# Example usage\n",
    "text = '''Ali went to school. Hosein saw ali. Ali ate a sandwich. Ali love chicken sandwich. Hosein learn new thing in school. \n",
    " Hosein and Ali are friends. Hosein wake up at 7 am. Hosein take a bus. Hosein goes to school. Hosein is Ali's brother. \n",
    "Hosein make breakfast for Ali. Ali is older than hosein. Hosein is younger than Ali. Ali and Hosein has a sister.\n",
    "'''\n",
    "\n",
    "print(split_sentences(text))"
   ]
  },
  {
   "cell_type": "markdown",
   "id": "eb5df0d7",
   "metadata": {},
   "source": [
    "Check if the string ends with a punctuation sign (.):\n",
    "\n"
   ]
  },
  {
   "cell_type": "code",
   "execution_count": 5,
   "id": "1feb7d2b",
   "metadata": {},
   "outputs": [
    {
     "name": "stdout",
     "output_type": "stream",
     "text": [
      "True\n"
     ]
    }
   ],
   "source": [
    "txt = \"Hello, welcome to my world.\"\n",
    "\n",
    "x = txt.endswith(\".\")\n",
    "\n",
    "print(x)"
   ]
  },
  {
   "cell_type": "code",
   "execution_count": 6,
   "id": "5b7373c6",
   "metadata": {},
   "outputs": [],
   "source": [
    "sentences = text.split('. ')"
   ]
  },
  {
   "cell_type": "code",
   "execution_count": 7,
   "id": "1a1a17b9",
   "metadata": {},
   "outputs": [
    {
     "data": {
      "text/plain": [
       "['Ali went to school',\n",
       " 'Hosein saw ali',\n",
       " 'Ali ate a sandwich',\n",
       " 'Ali love chicken sandwich',\n",
       " 'Hosein learn new thing in school.\\nHosein and Ali are friends',\n",
       " 'Hosein wake up at 7 am',\n",
       " 'Hosein take a bus',\n",
       " \"Hosein goes to school.Hosein is Ali's brother\",\n",
       " '\\nHosein make breakfast for Ali',\n",
       " 'Ali is older than hosein.Hosein is younger than Ali',\n",
       " 'Ali and Hosein has a sister.\\n']"
      ]
     },
     "execution_count": 7,
     "metadata": {},
     "output_type": "execute_result"
    }
   ],
   "source": [
    "sentences"
   ]
  },
  {
   "cell_type": "code",
   "execution_count": 13,
   "id": "1ad728a4",
   "metadata": {},
   "outputs": [
    {
     "data": {
      "text/plain": [
       "'Ali and Hosein has a sister'"
      ]
     },
     "execution_count": 13,
     "metadata": {},
     "output_type": "execute_result"
    }
   ],
   "source": [
    "sentences[-1][:-2]"
   ]
  },
  {
   "cell_type": "code",
   "execution_count": 10,
   "id": "415826fa",
   "metadata": {},
   "outputs": [
    {
     "data": {
      "text/plain": [
       "'Ali and Hosein has a sister.\\n'"
      ]
     },
     "execution_count": 10,
     "metadata": {},
     "output_type": "execute_result"
    }
   ],
   "source": [
    "sentences[-1]"
   ]
  }
 ],
 "metadata": {
  "kernelspec": {
   "display_name": "Python 3 (ipykernel)",
   "language": "python",
   "name": "python3"
  },
  "language_info": {
   "codemirror_mode": {
    "name": "ipython",
    "version": 3
   },
   "file_extension": ".py",
   "mimetype": "text/x-python",
   "name": "python",
   "nbconvert_exporter": "python",
   "pygments_lexer": "ipython3",
   "version": "3.9.13"
  }
 },
 "nbformat": 4,
 "nbformat_minor": 5
}

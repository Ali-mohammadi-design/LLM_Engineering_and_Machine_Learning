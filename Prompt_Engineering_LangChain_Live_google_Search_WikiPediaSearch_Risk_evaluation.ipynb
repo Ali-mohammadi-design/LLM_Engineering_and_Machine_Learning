{
  "nbformat": 4,
  "nbformat_minor": 0,
  "metadata": {
    "colab": {
      "provenance": [],
      "authorship_tag": "ABX9TyN5PdF88P7b7yRmR9kUm0gh",
      "include_colab_link": true
    },
    "kernelspec": {
      "name": "python3",
      "display_name": "Python 3"
    },
    "language_info": {
      "name": "python"
    }
  },
  "cells": [
    {
      "cell_type": "markdown",
      "metadata": {
        "id": "view-in-github",
        "colab_type": "text"
      },
      "source": [
        "<a href=\"https://colab.research.google.com/github/Ali-mohammadi-design/Prompt_Engineering_and_Machine_Learning/blob/main/Prompt_Engineering_LangChain_Live_google_Search_WikiPediaSearch_Risk_evaluation.ipynb\" target=\"_parent\"><img src=\"https://colab.research.google.com/assets/colab-badge.svg\" alt=\"Open In Colab\"/></a>"
      ]
    },
    {
      "cell_type": "code",
      "execution_count": 1,
      "metadata": {
        "colab": {
          "base_uri": "https://localhost:8080/"
        },
        "id": "YxbAa59gdZUf",
        "outputId": "eb2b8fe0-8ae6-44fd-c842-afd759db1eb8"
      },
      "outputs": [
        {
          "output_type": "stream",
          "name": "stdout",
          "text": [
            "Collecting langchain\n",
            "  Downloading langchain-0.1.10-py3-none-any.whl (806 kB)\n",
            "\u001b[2K     \u001b[90m━━━━━━━━━━━━━━━━━━━━━━━━━━━━━━━━━━━━━━━━\u001b[0m \u001b[32m806.2/806.2 kB\u001b[0m \u001b[31m7.1 MB/s\u001b[0m eta \u001b[36m0:00:00\u001b[0m\n",
            "\u001b[?25hRequirement already satisfied: PyYAML>=5.3 in /usr/local/lib/python3.10/dist-packages (from langchain) (6.0.1)\n",
            "Requirement already satisfied: SQLAlchemy<3,>=1.4 in /usr/local/lib/python3.10/dist-packages (from langchain) (2.0.27)\n",
            "Requirement already satisfied: aiohttp<4.0.0,>=3.8.3 in /usr/local/lib/python3.10/dist-packages (from langchain) (3.9.3)\n",
            "Requirement already satisfied: async-timeout<5.0.0,>=4.0.0 in /usr/local/lib/python3.10/dist-packages (from langchain) (4.0.3)\n",
            "Collecting dataclasses-json<0.7,>=0.5.7 (from langchain)\n",
            "  Downloading dataclasses_json-0.6.4-py3-none-any.whl (28 kB)\n",
            "Collecting jsonpatch<2.0,>=1.33 (from langchain)\n",
            "  Downloading jsonpatch-1.33-py2.py3-none-any.whl (12 kB)\n",
            "Collecting langchain-community<0.1,>=0.0.25 (from langchain)\n",
            "  Downloading langchain_community-0.0.25-py3-none-any.whl (1.8 MB)\n",
            "\u001b[2K     \u001b[90m━━━━━━━━━━━━━━━━━━━━━━━━━━━━━━━━━━━━━━━━\u001b[0m \u001b[32m1.8/1.8 MB\u001b[0m \u001b[31m11.5 MB/s\u001b[0m eta \u001b[36m0:00:00\u001b[0m\n",
            "\u001b[?25hCollecting langchain-core<0.2,>=0.1.28 (from langchain)\n",
            "  Downloading langchain_core-0.1.28-py3-none-any.whl (252 kB)\n",
            "\u001b[2K     \u001b[90m━━━━━━━━━━━━━━━━━━━━━━━━━━━━━━━━━━━━━━━━\u001b[0m \u001b[32m252.4/252.4 kB\u001b[0m \u001b[31m16.7 MB/s\u001b[0m eta \u001b[36m0:00:00\u001b[0m\n",
            "\u001b[?25hCollecting langchain-text-splitters<0.1,>=0.0.1 (from langchain)\n",
            "  Downloading langchain_text_splitters-0.0.1-py3-none-any.whl (21 kB)\n",
            "Collecting langsmith<0.2.0,>=0.1.0 (from langchain)\n",
            "  Downloading langsmith-0.1.13-py3-none-any.whl (64 kB)\n",
            "\u001b[2K     \u001b[90m━━━━━━━━━━━━━━━━━━━━━━━━━━━━━━━━━━━━━━━━\u001b[0m \u001b[32m64.2/64.2 kB\u001b[0m \u001b[31m4.3 MB/s\u001b[0m eta \u001b[36m0:00:00\u001b[0m\n",
            "\u001b[?25hRequirement already satisfied: numpy<2,>=1 in /usr/local/lib/python3.10/dist-packages (from langchain) (1.25.2)\n",
            "Requirement already satisfied: pydantic<3,>=1 in /usr/local/lib/python3.10/dist-packages (from langchain) (2.6.3)\n",
            "Requirement already satisfied: requests<3,>=2 in /usr/local/lib/python3.10/dist-packages (from langchain) (2.31.0)\n",
            "Requirement already satisfied: tenacity<9.0.0,>=8.1.0 in /usr/local/lib/python3.10/dist-packages (from langchain) (8.2.3)\n",
            "Requirement already satisfied: aiosignal>=1.1.2 in /usr/local/lib/python3.10/dist-packages (from aiohttp<4.0.0,>=3.8.3->langchain) (1.3.1)\n",
            "Requirement already satisfied: attrs>=17.3.0 in /usr/local/lib/python3.10/dist-packages (from aiohttp<4.0.0,>=3.8.3->langchain) (23.2.0)\n",
            "Requirement already satisfied: frozenlist>=1.1.1 in /usr/local/lib/python3.10/dist-packages (from aiohttp<4.0.0,>=3.8.3->langchain) (1.4.1)\n",
            "Requirement already satisfied: multidict<7.0,>=4.5 in /usr/local/lib/python3.10/dist-packages (from aiohttp<4.0.0,>=3.8.3->langchain) (6.0.5)\n",
            "Requirement already satisfied: yarl<2.0,>=1.0 in /usr/local/lib/python3.10/dist-packages (from aiohttp<4.0.0,>=3.8.3->langchain) (1.9.4)\n",
            "Collecting marshmallow<4.0.0,>=3.18.0 (from dataclasses-json<0.7,>=0.5.7->langchain)\n",
            "  Downloading marshmallow-3.21.0-py3-none-any.whl (49 kB)\n",
            "\u001b[2K     \u001b[90m━━━━━━━━━━━━━━━━━━━━━━━━━━━━━━━━━━━━━━━━\u001b[0m \u001b[32m49.4/49.4 kB\u001b[0m \u001b[31m5.7 MB/s\u001b[0m eta \u001b[36m0:00:00\u001b[0m\n",
            "\u001b[?25hCollecting typing-inspect<1,>=0.4.0 (from dataclasses-json<0.7,>=0.5.7->langchain)\n",
            "  Downloading typing_inspect-0.9.0-py3-none-any.whl (8.8 kB)\n",
            "Collecting jsonpointer>=1.9 (from jsonpatch<2.0,>=1.33->langchain)\n",
            "  Downloading jsonpointer-2.4-py2.py3-none-any.whl (7.8 kB)\n",
            "Requirement already satisfied: anyio<5,>=3 in /usr/local/lib/python3.10/dist-packages (from langchain-core<0.2,>=0.1.28->langchain) (3.7.1)\n",
            "Requirement already satisfied: packaging<24.0,>=23.2 in /usr/local/lib/python3.10/dist-packages (from langchain-core<0.2,>=0.1.28->langchain) (23.2)\n",
            "Collecting orjson<4.0.0,>=3.9.14 (from langsmith<0.2.0,>=0.1.0->langchain)\n",
            "  Downloading orjson-3.9.15-cp310-cp310-manylinux_2_17_x86_64.manylinux2014_x86_64.whl (138 kB)\n",
            "\u001b[2K     \u001b[90m━━━━━━━━━━━━━━━━━━━━━━━━━━━━━━━━━━━━━━━━\u001b[0m \u001b[32m138.5/138.5 kB\u001b[0m \u001b[31m15.1 MB/s\u001b[0m eta \u001b[36m0:00:00\u001b[0m\n",
            "\u001b[?25hRequirement already satisfied: annotated-types>=0.4.0 in /usr/local/lib/python3.10/dist-packages (from pydantic<3,>=1->langchain) (0.6.0)\n",
            "Requirement already satisfied: pydantic-core==2.16.3 in /usr/local/lib/python3.10/dist-packages (from pydantic<3,>=1->langchain) (2.16.3)\n",
            "Requirement already satisfied: typing-extensions>=4.6.1 in /usr/local/lib/python3.10/dist-packages (from pydantic<3,>=1->langchain) (4.10.0)\n",
            "Requirement already satisfied: charset-normalizer<4,>=2 in /usr/local/lib/python3.10/dist-packages (from requests<3,>=2->langchain) (3.3.2)\n",
            "Requirement already satisfied: idna<4,>=2.5 in /usr/local/lib/python3.10/dist-packages (from requests<3,>=2->langchain) (3.6)\n",
            "Requirement already satisfied: urllib3<3,>=1.21.1 in /usr/local/lib/python3.10/dist-packages (from requests<3,>=2->langchain) (2.0.7)\n",
            "Requirement already satisfied: certifi>=2017.4.17 in /usr/local/lib/python3.10/dist-packages (from requests<3,>=2->langchain) (2024.2.2)\n",
            "Requirement already satisfied: greenlet!=0.4.17 in /usr/local/lib/python3.10/dist-packages (from SQLAlchemy<3,>=1.4->langchain) (3.0.3)\n",
            "Requirement already satisfied: sniffio>=1.1 in /usr/local/lib/python3.10/dist-packages (from anyio<5,>=3->langchain-core<0.2,>=0.1.28->langchain) (1.3.1)\n",
            "Requirement already satisfied: exceptiongroup in /usr/local/lib/python3.10/dist-packages (from anyio<5,>=3->langchain-core<0.2,>=0.1.28->langchain) (1.2.0)\n",
            "Collecting mypy-extensions>=0.3.0 (from typing-inspect<1,>=0.4.0->dataclasses-json<0.7,>=0.5.7->langchain)\n",
            "  Downloading mypy_extensions-1.0.0-py3-none-any.whl (4.7 kB)\n",
            "Installing collected packages: orjson, mypy-extensions, marshmallow, jsonpointer, typing-inspect, jsonpatch, langsmith, dataclasses-json, langchain-core, langchain-text-splitters, langchain-community, langchain\n",
            "Successfully installed dataclasses-json-0.6.4 jsonpatch-1.33 jsonpointer-2.4 langchain-0.1.10 langchain-community-0.0.25 langchain-core-0.1.28 langchain-text-splitters-0.0.1 langsmith-0.1.13 marshmallow-3.21.0 mypy-extensions-1.0.0 orjson-3.9.15 typing-inspect-0.9.0\n",
            "Collecting openai\n",
            "  Downloading openai-1.13.3-py3-none-any.whl (227 kB)\n",
            "\u001b[2K     \u001b[90m━━━━━━━━━━━━━━━━━━━━━━━━━━━━━━━━━━━━━━━━\u001b[0m \u001b[32m227.4/227.4 kB\u001b[0m \u001b[31m4.2 MB/s\u001b[0m eta \u001b[36m0:00:00\u001b[0m\n",
            "\u001b[?25hRequirement already satisfied: anyio<5,>=3.5.0 in /usr/local/lib/python3.10/dist-packages (from openai) (3.7.1)\n",
            "Requirement already satisfied: distro<2,>=1.7.0 in /usr/lib/python3/dist-packages (from openai) (1.7.0)\n",
            "Collecting httpx<1,>=0.23.0 (from openai)\n",
            "  Downloading httpx-0.27.0-py3-none-any.whl (75 kB)\n",
            "\u001b[2K     \u001b[90m━━━━━━━━━━━━━━━━━━━━━━━━━━━━━━━━━━━━━━━━\u001b[0m \u001b[32m75.6/75.6 kB\u001b[0m \u001b[31m8.4 MB/s\u001b[0m eta \u001b[36m0:00:00\u001b[0m\n",
            "\u001b[?25hRequirement already satisfied: pydantic<3,>=1.9.0 in /usr/local/lib/python3.10/dist-packages (from openai) (2.6.3)\n",
            "Requirement already satisfied: sniffio in /usr/local/lib/python3.10/dist-packages (from openai) (1.3.1)\n",
            "Requirement already satisfied: tqdm>4 in /usr/local/lib/python3.10/dist-packages (from openai) (4.66.2)\n",
            "Requirement already satisfied: typing-extensions<5,>=4.7 in /usr/local/lib/python3.10/dist-packages (from openai) (4.10.0)\n",
            "Requirement already satisfied: idna>=2.8 in /usr/local/lib/python3.10/dist-packages (from anyio<5,>=3.5.0->openai) (3.6)\n",
            "Requirement already satisfied: exceptiongroup in /usr/local/lib/python3.10/dist-packages (from anyio<5,>=3.5.0->openai) (1.2.0)\n",
            "Requirement already satisfied: certifi in /usr/local/lib/python3.10/dist-packages (from httpx<1,>=0.23.0->openai) (2024.2.2)\n",
            "Collecting httpcore==1.* (from httpx<1,>=0.23.0->openai)\n",
            "  Downloading httpcore-1.0.4-py3-none-any.whl (77 kB)\n",
            "\u001b[2K     \u001b[90m━━━━━━━━━━━━━━━━━━━━━━━━━━━━━━━━━━━━━━━━\u001b[0m \u001b[32m77.8/77.8 kB\u001b[0m \u001b[31m8.0 MB/s\u001b[0m eta \u001b[36m0:00:00\u001b[0m\n",
            "\u001b[?25hCollecting h11<0.15,>=0.13 (from httpcore==1.*->httpx<1,>=0.23.0->openai)\n",
            "  Downloading h11-0.14.0-py3-none-any.whl (58 kB)\n",
            "\u001b[2K     \u001b[90m━━━━━━━━━━━━━━━━━━━━━━━━━━━━━━━━━━━━━━━━\u001b[0m \u001b[32m58.3/58.3 kB\u001b[0m \u001b[31m6.8 MB/s\u001b[0m eta \u001b[36m0:00:00\u001b[0m\n",
            "\u001b[?25hRequirement already satisfied: annotated-types>=0.4.0 in /usr/local/lib/python3.10/dist-packages (from pydantic<3,>=1.9.0->openai) (0.6.0)\n",
            "Requirement already satisfied: pydantic-core==2.16.3 in /usr/local/lib/python3.10/dist-packages (from pydantic<3,>=1.9.0->openai) (2.16.3)\n",
            "Installing collected packages: h11, httpcore, httpx, openai\n",
            "Successfully installed h11-0.14.0 httpcore-1.0.4 httpx-0.27.0 openai-1.13.3\n",
            "Collecting wikipedia\n",
            "  Downloading wikipedia-1.4.0.tar.gz (27 kB)\n",
            "  Preparing metadata (setup.py) ... \u001b[?25l\u001b[?25hdone\n",
            "Requirement already satisfied: beautifulsoup4 in /usr/local/lib/python3.10/dist-packages (from wikipedia) (4.12.3)\n",
            "Requirement already satisfied: requests<3.0.0,>=2.0.0 in /usr/local/lib/python3.10/dist-packages (from wikipedia) (2.31.0)\n",
            "Requirement already satisfied: charset-normalizer<4,>=2 in /usr/local/lib/python3.10/dist-packages (from requests<3.0.0,>=2.0.0->wikipedia) (3.3.2)\n",
            "Requirement already satisfied: idna<4,>=2.5 in /usr/local/lib/python3.10/dist-packages (from requests<3.0.0,>=2.0.0->wikipedia) (3.6)\n",
            "Requirement already satisfied: urllib3<3,>=1.21.1 in /usr/local/lib/python3.10/dist-packages (from requests<3.0.0,>=2.0.0->wikipedia) (2.0.7)\n",
            "Requirement already satisfied: certifi>=2017.4.17 in /usr/local/lib/python3.10/dist-packages (from requests<3.0.0,>=2.0.0->wikipedia) (2024.2.2)\n",
            "Requirement already satisfied: soupsieve>1.2 in /usr/local/lib/python3.10/dist-packages (from beautifulsoup4->wikipedia) (2.5)\n",
            "Building wheels for collected packages: wikipedia\n",
            "  Building wheel for wikipedia (setup.py) ... \u001b[?25l\u001b[?25hdone\n",
            "  Created wheel for wikipedia: filename=wikipedia-1.4.0-py3-none-any.whl size=11678 sha256=c8dcca9dadb1fa48d3d98080b33caf644ebbf4953d48abe1ee3846f2b6ded99c\n",
            "  Stored in directory: /root/.cache/pip/wheels/5e/b6/c5/93f3dec388ae76edc830cb42901bb0232504dfc0df02fc50de\n",
            "Successfully built wikipedia\n",
            "Installing collected packages: wikipedia\n",
            "Successfully installed wikipedia-1.4.0\n"
          ]
        }
      ],
      "source": [
        "!pip install langchain\n",
        "!pip install openai\n",
        "!pip install wikipedia\n",
        "from langchain.llms import OpenAI\n",
        "from langchain.chat_models import ChatOpenAI"
      ]
    },
    {
      "cell_type": "code",
      "source": [
        "import os\n",
        "openAI_API_Key=os.environ['openAI_API_Key']"
      ],
      "metadata": {
        "id": "mcnXA1rsdcHb"
      },
      "execution_count": 3,
      "outputs": []
    },
    {
      "cell_type": "code",
      "source": [
        "! pip install google-search-results"
      ],
      "metadata": {
        "colab": {
          "base_uri": "https://localhost:8080/"
        },
        "id": "4RSwOo6QdtdP",
        "outputId": "c4e7a764-833c-48c7-b2f1-c83a7cc7f571"
      },
      "execution_count": 4,
      "outputs": [
        {
          "output_type": "stream",
          "name": "stdout",
          "text": [
            "Collecting google-search-results\n",
            "  Downloading google_search_results-2.4.2.tar.gz (18 kB)\n",
            "  Preparing metadata (setup.py) ... \u001b[?25l\u001b[?25hdone\n",
            "Requirement already satisfied: requests in /usr/local/lib/python3.10/dist-packages (from google-search-results) (2.31.0)\n",
            "Requirement already satisfied: charset-normalizer<4,>=2 in /usr/local/lib/python3.10/dist-packages (from requests->google-search-results) (3.3.2)\n",
            "Requirement already satisfied: idna<4,>=2.5 in /usr/local/lib/python3.10/dist-packages (from requests->google-search-results) (3.6)\n",
            "Requirement already satisfied: urllib3<3,>=1.21.1 in /usr/local/lib/python3.10/dist-packages (from requests->google-search-results) (2.0.7)\n",
            "Requirement already satisfied: certifi>=2017.4.17 in /usr/local/lib/python3.10/dist-packages (from requests->google-search-results) (2024.2.2)\n",
            "Building wheels for collected packages: google-search-results\n",
            "  Building wheel for google-search-results (setup.py) ... \u001b[?25l\u001b[?25hdone\n",
            "  Created wheel for google-search-results: filename=google_search_results-2.4.2-py3-none-any.whl size=32003 sha256=17809b9e685061377ee1a7bb6a72c4eb8591e88f9020ee111142220e8dd819aa\n",
            "  Stored in directory: /root/.cache/pip/wheels/d3/b2/c3/03302d12bb44a2cdff3c9371f31b72c0c4e84b8d2285eeac53\n",
            "Successfully built google-search-results\n",
            "Installing collected packages: google-search-results\n",
            "Successfully installed google-search-results-2.4.2\n"
          ]
        }
      ]
    },
    {
      "cell_type": "code",
      "source": [
        "import os\n",
        "serpapi_api_key=os.environ['SERPAPI_API_KEY']"
      ],
      "metadata": {
        "id": "anIy2yENdw45"
      },
      "execution_count": 6,
      "outputs": []
    },
    {
      "cell_type": "code",
      "source": [
        "llm =ChatOpenAI(openai_api_key=openAI_API_Key, temperature=0)"
      ],
      "metadata": {
        "id": "S60uXmPQeKsD"
      },
      "execution_count": 19,
      "outputs": []
    },
    {
      "cell_type": "code",
      "source": [
        "from langchain.agents import load_tools, initialize_agent, AgentType\n",
        "from langchain.chat_models import ChatOpenAI\n",
        "from langchain.llms import openai"
      ],
      "metadata": {
        "id": "UV1FQGsWelZO"
      },
      "execution_count": 9,
      "outputs": []
    },
    {
      "cell_type": "code",
      "source": [
        "tool1=load_tools(['serpapi'],llm=llm)\n",
        "tool2=load_tools(['wikipedia'],llm=llm)"
      ],
      "metadata": {
        "id": "emyDbaUueaBX"
      },
      "execution_count": 14,
      "outputs": []
    },
    {
      "cell_type": "code",
      "source": [
        "agent1=initialize_agent(tool1,llm, agent=AgentType.ZERO_SHOT_REACT_DESCRIPTION,verbose=True)"
      ],
      "metadata": {
        "id": "lRoFmMy7eezu"
      },
      "execution_count": 15,
      "outputs": []
    },
    {
      "cell_type": "code",
      "source": [
        "agent2=initialize_agent(tool2,llm, agent=AgentType.ZERO_SHOT_REACT_DESCRIPTION,verbose=True)"
      ],
      "metadata": {
        "id": "oOpuT_xRfIfK"
      },
      "execution_count": 16,
      "outputs": []
    },
    {
      "cell_type": "code",
      "source": [
        "agent1.run('what is the possible risks of going to university')"
      ],
      "metadata": {
        "colab": {
          "base_uri": "https://localhost:8080/",
          "height": 367
        },
        "id": "lnI-HesderFR",
        "outputId": "4af46dc6-c409-4fce-8387-190f9474b2e9"
      },
      "execution_count": 12,
      "outputs": [
        {
          "output_type": "stream",
          "name": "stderr",
          "text": [
            "/usr/local/lib/python3.10/dist-packages/langchain_core/_api/deprecation.py:117: LangChainDeprecationWarning: The function `run` was deprecated in LangChain 0.1.0 and will be removed in 0.2.0. Use invoke instead.\n",
            "  warn_deprecated(\n"
          ]
        },
        {
          "output_type": "stream",
          "name": "stdout",
          "text": [
            "\n",
            "\n",
            "\u001b[1m> Entering new AgentExecutor chain...\u001b[0m\n",
            "\u001b[32;1m\u001b[1;3mI should search for information on the possible risks of going to university\n",
            "Action: Search\n",
            "Action Input: \"risks of going to university\"\u001b[0m\n",
            "Observation: \u001b[36;1m\u001b[1;3m5 RISKS to getting a College Education\u001b[0m\n",
            "Thought:\u001b[32;1m\u001b[1;3mI should read the article to understand the risks associated with going to university\n",
            "Action: Search\n",
            "Action Input: \"risks of getting a college education article\"\u001b[0m\n",
            "Observation: \u001b[36;1m\u001b[1;3m['5 RISKS to getting a College Education · Risk #1: Financial Cost · Risk #2: Debt Hangover · Risk #3: Time Invested · Risk #4: Lack of Entrepreneurial Training · Risk ...', 'Plenty of evidence, however, shows that going to college is a worthwhile investment. With careful planning, getting a degree can be the first step toward a ...', 'Second, borrowers run greater risk of missing payments when they find themselves earning low incomes, dropping out of college, or enrolling in ...', 'This makes the educational decision more difficult and more risky, especially with more of the cost of higher education being transferred to the individual.', \"We've determined that college is expensive (and only getting costlier), student debt is on the rise and financial aid awards are dwindling. So ...\", 'Possibly even worse than the risk of not graduating is the risk of actually graduating with a degree and then finding it difficult or impossible ...', 'David Wessel discusses new research that looks at whether earning a four-year college degree now runs the risk of not returning on its', 'Overall, higher education can lead to improved health and well-being, as well as reduced risk for premature death. College graduates have better self-reported ...', 'For most people, the new economics of higher ed make going to college a risky bet.', 'Many people have bought products – from defective electronics to lemon automobiles to insipid cereals – and then realized that they did not get their ...']\u001b[0m\n",
            "Thought:\u001b[32;1m\u001b[1;3mI now know the possible risks of going to university\n",
            "Final Answer: The possible risks of going to university include financial cost, debt hangover, time invested, lack of entrepreneurial training, and difficulty finding a job after graduation.\u001b[0m\n",
            "\n",
            "\u001b[1m> Finished chain.\u001b[0m\n"
          ]
        },
        {
          "output_type": "execute_result",
          "data": {
            "text/plain": [
              "'The possible risks of going to university include financial cost, debt hangover, time invested, lack of entrepreneurial training, and difficulty finding a job after graduation.'"
            ],
            "application/vnd.google.colaboratory.intrinsic+json": {
              "type": "string"
            }
          },
          "metadata": {},
          "execution_count": 12
        }
      ]
    },
    {
      "cell_type": "code",
      "source": [
        "agent2.run('what is the possible risks of going to university')"
      ],
      "metadata": {
        "colab": {
          "base_uri": "https://localhost:8080/",
          "height": 697
        },
        "id": "JkIbvGlie0dE",
        "outputId": "5aa9c049-7ce8-49b4-a8b7-047029bdcad3"
      },
      "execution_count": 17,
      "outputs": [
        {
          "output_type": "stream",
          "name": "stdout",
          "text": [
            "\n",
            "\n",
            "\u001b[1m> Entering new AgentExecutor chain...\u001b[0m\n",
            "\u001b[32;1m\u001b[1;3myou should consider the potential drawbacks of attending university\n",
            "Action: wikipedia\n",
            "Action Input: Risks of going to university\u001b[0m\n",
            "Observation: \u001b[36;1m\u001b[1;3mPage: Global catastrophic risk\n",
            "Summary: A global catastrophic risk or a doomsday scenario is a hypothetical event that could damage human well-being on a global scale, even endangering or destroying modern civilization. An event that could cause human extinction or permanently and drastically curtail humanity's existence or potential is known as an \"existential risk.\"Over the last two decades, a number of academic and non-profit organizations have been established to research global catastrophic and existential risks, formulate potential mitigation measures and either advocate for or implement these measures.\n",
            "\n",
            "Page: Risk management\n",
            "Summary: Risk management is the identification, evaluation, and prioritization of risks (defined in ISO 31000 as the effect of uncertainty on objectives) followed by coordinated and economical application of resources to minimize, monitor, and control the probability or impact of unfortunate events or to maximize the realization of opportunities.\n",
            "Risks can come from various sources including uncertainty in international markets, political instability, threats from project failures (at any phase in design, development, production, or sustaining of life-cycles), legal liabilities, credit risk, accidents, natural causes and disasters, deliberate attack from an adversary, or events of uncertain or unpredictable root-cause. \n",
            "There are two types of events i.e. negative events can be classified as risks while positive events are classified as opportunities.  Risk management standards have been developed by various institutions, including the Project Management Institute, the National Institute of Standards and Technology, actuarial societies, and ISO standards (quality management standards to help work more efficiently and reduce product failures). Methods, definitions and goals vary widely according to whether the risk management method is in the context of project management, security, engineering, industrial processes, financial portfolios, actuarial assessments, or public health and safety. Certain risk management standards have been criticized for having no measurable improvement on risk, whereas the confidence in estimates and decisions seems to increase.Strategies to manage threats (uncertainties with negative consequences) typically include avoiding the threat, reducing the negative effect or probability of the threat, transferring all or part of the threat to another party, and even retaining some or all of the potential or actual consequences of a particular threat. The opposite of these strategies can be used to respond to opportunities (uncertain future states with benefits).\n",
            "As a professional role, a risk manager will \"oversee the organization's comprehensive insurance and risk management program, assessing and identifying risks that could impede the reputation, safety, security, or financial success of the organization\", and then develop plans to minimize and / or mitigate any negative (financial) outcomes. Risk Analysts   support the technical side of the organization's risk management approach: once risk data has been compiled and evaluated, analysts share their findings with their managers, who use those insights to decide among possible solutions. \n",
            "See also Chief Risk Officer, internal audit, and Financial risk management § Corporate finance.\n",
            "\n",
            "Page: Existential risk from artificial general intelligence\n",
            "Summary: Existential risk from artificial general intelligence is the idea that substantial progress in artificial general intelligence (AGI) could result in human extinction or an irreversible global catastrophe.One argument goes as follows: human beings dominate other species because the human brain possesses distinctive capabilities other animals lack. If AI were to surpass humanity in general intelligence and become superintelligent, then it could become difficult or impossible to control. Just as the fate of the mountain gorilla depends on human goodwill, so might the fate of humanity \u001b[0m\n",
            "Thought:\u001b[32;1m\u001b[1;3mThe risks of going to university are not specifically addressed in the search results\n",
            "Action: wikipedia\n",
            "Action Input: Risks of going to university\u001b[0m\n",
            "Observation: \u001b[36;1m\u001b[1;3mPage: Global catastrophic risk\n",
            "Summary: A global catastrophic risk or a doomsday scenario is a hypothetical event that could damage human well-being on a global scale, even endangering or destroying modern civilization. An event that could cause human extinction or permanently and drastically curtail humanity's existence or potential is known as an \"existential risk.\"Over the last two decades, a number of academic and non-profit organizations have been established to research global catastrophic and existential risks, formulate potential mitigation measures and either advocate for or implement these measures.\n",
            "\n",
            "Page: Risk management\n",
            "Summary: Risk management is the identification, evaluation, and prioritization of risks (defined in ISO 31000 as the effect of uncertainty on objectives) followed by coordinated and economical application of resources to minimize, monitor, and control the probability or impact of unfortunate events or to maximize the realization of opportunities.\n",
            "Risks can come from various sources including uncertainty in international markets, political instability, threats from project failures (at any phase in design, development, production, or sustaining of life-cycles), legal liabilities, credit risk, accidents, natural causes and disasters, deliberate attack from an adversary, or events of uncertain or unpredictable root-cause. \n",
            "There are two types of events i.e. negative events can be classified as risks while positive events are classified as opportunities.  Risk management standards have been developed by various institutions, including the Project Management Institute, the National Institute of Standards and Technology, actuarial societies, and ISO standards (quality management standards to help work more efficiently and reduce product failures). Methods, definitions and goals vary widely according to whether the risk management method is in the context of project management, security, engineering, industrial processes, financial portfolios, actuarial assessments, or public health and safety. Certain risk management standards have been criticized for having no measurable improvement on risk, whereas the confidence in estimates and decisions seems to increase.Strategies to manage threats (uncertainties with negative consequences) typically include avoiding the threat, reducing the negative effect or probability of the threat, transferring all or part of the threat to another party, and even retaining some or all of the potential or actual consequences of a particular threat. The opposite of these strategies can be used to respond to opportunities (uncertain future states with benefits).\n",
            "As a professional role, a risk manager will \"oversee the organization's comprehensive insurance and risk management program, assessing and identifying risks that could impede the reputation, safety, security, or financial success of the organization\", and then develop plans to minimize and / or mitigate any negative (financial) outcomes. Risk Analysts   support the technical side of the organization's risk management approach: once risk data has been compiled and evaluated, analysts share their findings with their managers, who use those insights to decide among possible solutions. \n",
            "See also Chief Risk Officer, internal audit, and Financial risk management § Corporate finance.\n",
            "\n",
            "Page: Existential risk from artificial general intelligence\n",
            "Summary: Existential risk from artificial general intelligence is the idea that substantial progress in artificial general intelligence (AGI) could result in human extinction or an irreversible global catastrophe.One argument goes as follows: human beings dominate other species because the human brain possesses distinctive capabilities other animals lack. If AI were to surpass humanity in general intelligence and become superintelligent, then it could become difficult or impossible to control. Just as the fate of the mountain gorilla depends on human goodwill, so might the fate of humanity \u001b[0m\n",
            "Thought:\u001b[32;1m\u001b[1;3mThe search results do not directly address the risks of going to university\n",
            "Final Answer: The possible risks of going to university were not specifically addressed in the search results.\u001b[0m\n",
            "\n",
            "\u001b[1m> Finished chain.\u001b[0m\n"
          ]
        },
        {
          "output_type": "execute_result",
          "data": {
            "text/plain": [
              "'The possible risks of going to university were not specifically addressed in the search results.'"
            ],
            "application/vnd.google.colaboratory.intrinsic+json": {
              "type": "string"
            }
          },
          "metadata": {},
          "execution_count": 17
        }
      ]
    },
    {
      "cell_type": "code",
      "source": [
        "from langchain.prompts import PromptTemplate, ChatPromptTemplate, SystemMessagePromptTemplate, HumanMessagePromptTemplate, AIMessagePromptTemplate\n",
        "from langchain.llms import OpenAI\n",
        "from langchain.chat_models import ChatOpenAI"
      ],
      "metadata": {
        "id": "0XjY37_VgA2w"
      },
      "execution_count": 23,
      "outputs": []
    },
    {
      "cell_type": "code",
      "source": [
        "system_template= 'You are an AI assistance who is an expert in recognizing the risks of {task} '\n",
        "system_prompt= SystemMessagePromptTemplate.from_template(system_template)\n",
        "human_template='This is the task that I want to do: {task}. Please list all the possible risks of doing it.'\n",
        "human_prompt= HumanMessagePromptTemplate.from_template(human_template)\n",
        "chat_prompt=ChatPromptTemplate.from_messages([human_prompt,system_prompt])\n",
        "model_request= chat_prompt.format_prompt(task='going to school').to_messages()\n",
        "result=llm(model_request)\n",
        "print(result.content)"
      ],
      "metadata": {
        "colab": {
          "base_uri": "https://localhost:8080/"
        },
        "id": "BxUpxR19gQgt",
        "outputId": "39f379a1-4cd1-45f1-97d5-10c8370ec6eb"
      },
      "execution_count": 27,
      "outputs": [
        {
          "output_type": "stream",
          "name": "stdout",
          "text": [
            "1. Financial burden: Pursuing a university education can be expensive, with tuition fees, accommodation costs, and other expenses adding up quickly. This could lead to significant student debt that may take years to pay off.\n",
            "\n",
            "2. Academic challenges: University coursework can be demanding and rigorous, requiring a high level of dedication and time management skills. There is a risk of struggling academically and potentially failing courses or not meeting academic expectations.\n",
            "\n",
            "3. Mental health concerns: The pressure of university life, including academic stress, social pressures, and adjusting to a new environment, can take a toll on mental health. Students may experience anxiety, depression, or other mental health issues.\n",
            "\n",
            "4. Career uncertainty: While a university degree can open up opportunities for career advancement, there is no guarantee of securing a job after graduation. The job market may be competitive, and graduates may face challenges in finding employment in their desired field.\n",
            "\n",
            "5. Social challenges: University can be a time of significant social change, with students navigating new relationships, peer pressure, and social expectations. There is a risk of feeling isolated, overwhelmed, or struggling to fit in.\n",
            "\n",
            "6. Time commitment: University studies require a significant time commitment, with lectures, assignments, exams, and extracurricular activities taking up a large portion of a student's time. Balancing academic responsibilities with personal life can be challenging.\n",
            "\n",
            "7. Health risks: University life can be physically demanding, with students often experiencing irregular sleep patterns, poor diet choices, and high levels of stress. This can lead to health issues such as fatigue, weight gain, and weakened immune system.\n",
            "\n",
            "8. Personal development challenges: University is a time of personal growth and self-discovery, but it can also be a period of uncertainty and self-doubt. Students may face challenges in defining their identity, values, and goals.\n",
            "\n",
            "9. Cultural adjustment: For international students or those moving to a new city for university, there may be challenges in adjusting to a new culture, language, and social norms. This can lead to feelings of homesickness, loneliness, and cultural shock.\n",
            "\n",
            "10. Safety concerns: University campuses are not immune to safety risks, including crime, accidents, and emergencies. Students may face risks related to personal safety, security, and well-being while on campus or in the surrounding community.\n"
          ]
        }
      ]
    },
    {
      "cell_type": "code",
      "source": [
        "system_template= '''You are an AI assistance who can help reisk manager to ask questions about a decision so that they grab information '''\n",
        "system_prompt= SystemMessagePromptTemplate.from_template(system_template)\n",
        "human_template='please consider the following descision and list all the questions should be asked to grab information about the decision. \\n decision:{decision}'\n",
        "human_prompt= HumanMessagePromptTemplate.from_template(human_template)\n",
        "chat_prompt=ChatPromptTemplate.from_messages([human_prompt,system_prompt])\n",
        "model_request= chat_prompt.format_prompt(decision='going to university').to_messages()\n",
        "result=llm(model_request)\n",
        "questions=result.content.split('?')\n",
        "list=[]\n",
        "for I in questions:\n",
        "  I=f\"{I}?\"\n",
        "  Q=I\n",
        "  answer=input(Q)\n",
        "  list.append(f\"the question is :\\n {Q}.\\n Its answer provided by the user is {answer}.\\n \\n\")\n",
        "\n"
      ],
      "metadata": {
        "colab": {
          "base_uri": "https://localhost:8080/"
        },
        "id": "AG5twwQSfc6L",
        "outputId": "ce0d269a-b5db-4b8e-d139-bb0609027d04"
      },
      "execution_count": 38,
      "outputs": [
        {
          "name": "stdout",
          "output_type": "stream",
          "text": [
            "1. What is the reason for considering going to university?Earning Money\n",
            "\n",
            "2. Have you researched different universities and their programs?Not yet\n",
            "\n",
            "3. What are the potential benefits of going to university?Earning More money having better life and having social credit\n",
            "\n",
            "4. What are the potential drawbacks of going to university?I do not know\n",
            "\n",
            "5. Have you considered the financial implications of attending university?Not yet\n",
            "\n",
            "6. Have you thought about the potential career opportunities that a university degree could provide?Not yet\n",
            "\n",
            "7. What are your long-term goals and how does going to university align with them?Grabbing money and having better future\n",
            "\n",
            "8. Have you spoken to current university students or alumni to get their perspective on the experience?not yet\n",
            "\n",
            "9. How will attending university impact your current commitments and responsibilities?I do not know\n",
            "\n",
            "10. Have you considered alternative options to achieve your goals besides going to university?not yet\n",
            "?c\n"
          ]
        }
      ]
    },
    {
      "cell_type": "code",
      "source": [
        "list"
      ],
      "metadata": {
        "colab": {
          "base_uri": "https://localhost:8080/"
        },
        "id": "52eweuZZjMQM",
        "outputId": "1e64a669-024c-4532-e2a6-321b93b88e35"
      },
      "execution_count": 41,
      "outputs": [
        {
          "output_type": "execute_result",
          "data": {
            "text/plain": [
              "['the question is :\\n 1. What is the reason for considering going to university?.\\n Its answer provided by the user is Earning Money.',\n",
              " 'the question is :\\n \\n2. Have you researched different universities and their programs?.\\n Its answer provided by the user is Not yet.',\n",
              " 'the question is :\\n \\n3. What are the potential benefits of going to university?.\\n Its answer provided by the user is Earning More money having better life and having social credit.',\n",
              " 'the question is :\\n \\n4. What are the potential drawbacks of going to university?.\\n Its answer provided by the user is I do not know.',\n",
              " 'the question is :\\n \\n5. Have you considered the financial implications of attending university?.\\n Its answer provided by the user is Not yet.',\n",
              " 'the question is :\\n \\n6. Have you thought about the potential career opportunities that a university degree could provide?.\\n Its answer provided by the user is Not yet.',\n",
              " 'the question is :\\n \\n7. What are your long-term goals and how does going to university align with them?.\\n Its answer provided by the user is Grabbing money and having better future.',\n",
              " 'the question is :\\n \\n8. Have you spoken to current university students or alumni to get their perspective on the experience?.\\n Its answer provided by the user is not yet.',\n",
              " 'the question is :\\n \\n9. How will attending university impact your current commitments and responsibilities?.\\n Its answer provided by the user is I do not know.',\n",
              " 'the question is :\\n \\n10. Have you considered alternative options to achieve your goals besides going to university?.\\n Its answer provided by the user is not yet.',\n",
              " 'the question is :\\n ?.\\n Its answer provided by the user is c.']"
            ]
          },
          "metadata": {},
          "execution_count": 41
        }
      ]
    },
    {
      "cell_type": "code",
      "source": [
        "system_template= '''You are an AI assistance who is an expert in recognizing the risks of {task}.\n",
        "The user has been answered some question regarding {task}.\n",
        "Regarding this answers and your  knowledge you should predict all possible risks in {task} '''\n",
        "system_prompt= SystemMessagePromptTemplate.from_template(system_template)\n",
        "human_template='''This is the task that should be done:\\n {task}.\n",
        "\\n this the answered questions regarding {task}: {information}\n",
        "\\n T Please list all the possible risks of doing it.'''\n",
        "human_prompt= HumanMessagePromptTemplate.from_template(human_template)\n",
        "chat_prompt=ChatPromptTemplate.from_messages([human_prompt,system_prompt])\n",
        "model_request= chat_prompt.format_prompt(task='going to school', information=list).to_messages()\n",
        "result=llm(model_request)\n",
        "print(result.content)"
      ],
      "metadata": {
        "colab": {
          "base_uri": "https://localhost:8080/"
        },
        "id": "nHUhXw4DmZ3R",
        "outputId": "08485924-8187-4065-daac-c8120f261394"
      },
      "execution_count": 42,
      "outputs": [
        {
          "output_type": "stream",
          "name": "stdout",
          "text": [
            "Based on the user's answers and general knowledge, some possible risks of going to school could include:\n",
            "\n",
            "1. Accumulating student loan debt: Attending university can be expensive, and taking out loans to cover tuition, fees, and living expenses can lead to significant debt that may take years to pay off.\n",
            "\n",
            "2. Academic pressure and stress: The demands of coursework, exams, and assignments can be overwhelming, leading to stress, anxiety, and burnout.\n",
            "\n",
            "3. Uncertain job market: Despite obtaining a degree, there is no guarantee of finding a job in one's field of study or securing stable employment after graduation.\n",
            "\n",
            "4. Limited job prospects: Some degrees may not lead to high-paying or fulfilling career opportunities, leaving graduates with limited options for employment.\n",
            "\n",
            "5. Social and emotional challenges: Adjusting to a new environment, making friends, and dealing with homesickness can be difficult for some students, impacting their mental health and well-being.\n",
            "\n",
            "6. Time commitment: Balancing academic responsibilities with work, extracurricular activities, and personal life can be challenging, leading to feelings of overwhelm and exhaustion.\n",
            "\n",
            "7. Potential for academic underperformance: Not all students may excel in a traditional classroom setting, leading to lower grades, academic probation, or even dismissal from the university.\n",
            "\n",
            "8. Lack of practical skills: Some degrees may focus more on theoretical knowledge rather than practical skills, leaving graduates unprepared for the workforce.\n",
            "\n",
            "9. Negative impact on personal relationships: The demands of school can strain relationships with family, friends, and romantic partners, leading to conflicts and misunderstandings.\n",
            "\n",
            "10. Health concerns: Long hours of studying, irregular sleep patterns, and poor diet choices can negatively impact physical health, leading to issues such as weight gain, fatigue, and weakened immune system.\n"
          ]
        }
      ]
    },
    {
      "cell_type": "code",
      "source": [
        "system_template= '''You are an AI assistance who is expert in extracting keywords from information to be searched on a search engine. '''\n",
        "system_prompt= SystemMessagePromptTemplate.from_template(system_template)\n",
        "human_template='''This is the task that should be done:\\n {task}.\n",
        "what should I search on the internet to get the possible risks of {task}'''\n",
        "human_prompt= HumanMessagePromptTemplate.from_template(human_template)\n",
        "chat_prompt=ChatPromptTemplate.from_messages([human_prompt,system_prompt])\n",
        "model_request= chat_prompt.format_prompt(task='going to school').to_messages()\n",
        "result=llm(model_request)\n",
        "print(result.content)"
      ],
      "metadata": {
        "colab": {
          "base_uri": "https://localhost:8080/"
        },
        "id": "1C-YClt-nuy1",
        "outputId": "6cde4899-f20b-4670-975c-107410d6c707"
      },
      "execution_count": 43,
      "outputs": [
        {
          "output_type": "stream",
          "name": "stdout",
          "text": [
            "To find information on the possible risks of going to school, you can search for keywords such as:\n",
            "\n",
            "- \"risks of attending school\"\n",
            "- \"safety concerns in schools\"\n",
            "- \"dangers of going to school\"\n",
            "- \"school safety issues\"\n",
            "- \"health risks in schools\"\n",
            "- \"school security measures\"\n",
            "- \"student safety in schools\"\n",
            "- \"school violence statistics\"\n",
            "- \"school bullying incidents\"\n",
            "- \"school emergency preparedness\"\n"
          ]
        }
      ]
    },
    {
      "cell_type": "code",
      "source": [],
      "metadata": {
        "id": "njhjJAgwqPpr"
      },
      "execution_count": null,
      "outputs": []
    }
  ]
}
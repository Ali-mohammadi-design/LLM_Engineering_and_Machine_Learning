{
 "cells": [
  {
   "cell_type": "code",
   "execution_count": 1,
   "id": "47a75f2d",
   "metadata": {
    "scrolled": true
   },
   "outputs": [
    {
     "name": "stdout",
     "output_type": "stream",
     "text": [
      "Requirement already satisfied: PyPDF2 in c:\\users\\moham\\anaconda3\\lib\\site-packages (3.0.1)\n",
      "Requirement already satisfied: typing_extensions>=3.10.0.0 in c:\\users\\moham\\anaconda3\\lib\\site-packages (from PyPDF2) (4.8.0)\n",
      "Requirement already satisfied: langchain in c:\\users\\moham\\anaconda3\\lib\\site-packages (0.0.348)\n",
      "Requirement already satisfied: PyYAML>=5.3 in c:\\users\\moham\\anaconda3\\lib\\site-packages (from langchain) (6.0)\n",
      "Requirement already satisfied: SQLAlchemy<3,>=1.4 in c:\\users\\moham\\anaconda3\\lib\\site-packages (from langchain) (1.4.39)\n",
      "Requirement already satisfied: aiohttp<4.0.0,>=3.8.3 in c:\\users\\moham\\anaconda3\\lib\\site-packages (from langchain) (3.8.4)\n",
      "Requirement already satisfied: async-timeout<5.0.0,>=4.0.0 in c:\\users\\moham\\anaconda3\\lib\\site-packages (from langchain) (4.0.2)\n",
      "Requirement already satisfied: dataclasses-json<0.7,>=0.5.7 in c:\\users\\moham\\anaconda3\\lib\\site-packages (from langchain) (0.6.3)\n",
      "Requirement already satisfied: jsonpatch<2.0,>=1.33 in c:\\users\\moham\\anaconda3\\lib\\site-packages (from langchain) (1.33)\n",
      "Requirement already satisfied: langchain-core<0.1,>=0.0.12 in c:\\users\\moham\\anaconda3\\lib\\site-packages (from langchain) (0.0.12)\n",
      "Requirement already satisfied: langsmith<0.1.0,>=0.0.63 in c:\\users\\moham\\anaconda3\\lib\\site-packages (from langchain) (0.0.69)\n",
      "Requirement already satisfied: numpy<2,>=1 in c:\\users\\moham\\anaconda3\\lib\\site-packages (from langchain) (1.26.4)\n",
      "Requirement already satisfied: pydantic<3,>=1 in c:\\users\\moham\\anaconda3\\lib\\site-packages (from langchain) (2.5.2)\n",
      "Requirement already satisfied: requests<3,>=2 in c:\\users\\moham\\anaconda3\\lib\\site-packages (from langchain) (2.28.1)\n",
      "Requirement already satisfied: tenacity<9.0.0,>=8.1.0 in c:\\users\\moham\\anaconda3\\lib\\site-packages (from langchain) (8.2.3)\n",
      "Requirement already satisfied: attrs>=17.3.0 in c:\\users\\moham\\anaconda3\\lib\\site-packages (from aiohttp<4.0.0,>=3.8.3->langchain) (21.4.0)\n",
      "Requirement already satisfied: charset-normalizer<4.0,>=2.0 in c:\\users\\moham\\anaconda3\\lib\\site-packages (from aiohttp<4.0.0,>=3.8.3->langchain) (2.0.4)\n",
      "Requirement already satisfied: multidict<7.0,>=4.5 in c:\\users\\moham\\anaconda3\\lib\\site-packages (from aiohttp<4.0.0,>=3.8.3->langchain) (6.0.4)\n",
      "Requirement already satisfied: yarl<2.0,>=1.0 in c:\\users\\moham\\anaconda3\\lib\\site-packages (from aiohttp<4.0.0,>=3.8.3->langchain) (1.9.2)\n",
      "Requirement already satisfied: frozenlist>=1.1.1 in c:\\users\\moham\\anaconda3\\lib\\site-packages (from aiohttp<4.0.0,>=3.8.3->langchain) (1.3.3)\n",
      "Requirement already satisfied: aiosignal>=1.1.2 in c:\\users\\moham\\anaconda3\\lib\\site-packages (from aiohttp<4.0.0,>=3.8.3->langchain) (1.3.1)\n",
      "Requirement already satisfied: marshmallow<4.0.0,>=3.18.0 in c:\\users\\moham\\anaconda3\\lib\\site-packages (from dataclasses-json<0.7,>=0.5.7->langchain) (3.20.1)\n",
      "Requirement already satisfied: typing-inspect<1,>=0.4.0 in c:\\users\\moham\\anaconda3\\lib\\site-packages (from dataclasses-json<0.7,>=0.5.7->langchain) (0.9.0)\n",
      "Requirement already satisfied: jsonpointer>=1.9 in c:\\users\\moham\\anaconda3\\lib\\site-packages (from jsonpatch<2.0,>=1.33->langchain) (2.4)\n",
      "Requirement already satisfied: anyio<5,>=3 in c:\\users\\moham\\anaconda3\\lib\\site-packages (from langchain-core<0.1,>=0.0.12->langchain) (3.5.0)\n",
      "Requirement already satisfied: packaging<24.0,>=23.2 in c:\\users\\moham\\anaconda3\\lib\\site-packages (from langchain-core<0.1,>=0.0.12->langchain) (23.2)\n",
      "Requirement already satisfied: annotated-types>=0.4.0 in c:\\users\\moham\\anaconda3\\lib\\site-packages (from pydantic<3,>=1->langchain) (0.6.0)\n",
      "Requirement already satisfied: pydantic-core==2.14.5 in c:\\users\\moham\\anaconda3\\lib\\site-packages (from pydantic<3,>=1->langchain) (2.14.5)\n",
      "Requirement already satisfied: typing-extensions>=4.6.1 in c:\\users\\moham\\anaconda3\\lib\\site-packages (from pydantic<3,>=1->langchain) (4.8.0)\n",
      "Requirement already satisfied: idna<4,>=2.5 in c:\\users\\moham\\anaconda3\\lib\\site-packages (from requests<3,>=2->langchain) (3.3)\n",
      "Requirement already satisfied: urllib3<1.27,>=1.21.1 in c:\\users\\moham\\anaconda3\\lib\\site-packages (from requests<3,>=2->langchain) (1.26.11)\n",
      "Requirement already satisfied: certifi>=2017.4.17 in c:\\users\\moham\\anaconda3\\lib\\site-packages (from requests<3,>=2->langchain) (2022.9.14)\n",
      "Requirement already satisfied: greenlet!=0.4.17 in c:\\users\\moham\\anaconda3\\lib\\site-packages (from SQLAlchemy<3,>=1.4->langchain) (1.1.1)\n",
      "Requirement already satisfied: sniffio>=1.1 in c:\\users\\moham\\anaconda3\\lib\\site-packages (from anyio<5,>=3->langchain-core<0.1,>=0.0.12->langchain) (1.2.0)\n",
      "Requirement already satisfied: mypy-extensions>=0.3.0 in c:\\users\\moham\\anaconda3\\lib\\site-packages (from typing-inspect<1,>=0.4.0->dataclasses-json<0.7,>=0.5.7->langchain) (0.4.3)\n",
      "Requirement already satisfied: openai in c:\\users\\moham\\anaconda3\\lib\\site-packages (0.27.7)\n",
      "Requirement already satisfied: requests>=2.20 in c:\\users\\moham\\anaconda3\\lib\\site-packages (from openai) (2.28.1)\n",
      "Requirement already satisfied: tqdm in c:\\users\\moham\\anaconda3\\lib\\site-packages (from openai) (4.64.1)\n",
      "Requirement already satisfied: aiohttp in c:\\users\\moham\\anaconda3\\lib\\site-packages (from openai) (3.8.4)\n",
      "Requirement already satisfied: charset-normalizer<3,>=2 in c:\\users\\moham\\anaconda3\\lib\\site-packages (from requests>=2.20->openai) (2.0.4)\n",
      "Requirement already satisfied: idna<4,>=2.5 in c:\\users\\moham\\anaconda3\\lib\\site-packages (from requests>=2.20->openai) (3.3)\n",
      "Requirement already satisfied: urllib3<1.27,>=1.21.1 in c:\\users\\moham\\anaconda3\\lib\\site-packages (from requests>=2.20->openai) (1.26.11)\n",
      "Requirement already satisfied: certifi>=2017.4.17 in c:\\users\\moham\\anaconda3\\lib\\site-packages (from requests>=2.20->openai) (2022.9.14)\n",
      "Requirement already satisfied: attrs>=17.3.0 in c:\\users\\moham\\anaconda3\\lib\\site-packages (from aiohttp->openai) (21.4.0)\n",
      "Requirement already satisfied: multidict<7.0,>=4.5 in c:\\users\\moham\\anaconda3\\lib\\site-packages (from aiohttp->openai) (6.0.4)\n",
      "Requirement already satisfied: async-timeout<5.0,>=4.0.0a3 in c:\\users\\moham\\anaconda3\\lib\\site-packages (from aiohttp->openai) (4.0.2)\n",
      "Requirement already satisfied: yarl<2.0,>=1.0 in c:\\users\\moham\\anaconda3\\lib\\site-packages (from aiohttp->openai) (1.9.2)\n",
      "Requirement already satisfied: frozenlist>=1.1.1 in c:\\users\\moham\\anaconda3\\lib\\site-packages (from aiohttp->openai) (1.3.3)\n",
      "Requirement already satisfied: aiosignal>=1.1.2 in c:\\users\\moham\\anaconda3\\lib\\site-packages (from aiohttp->openai) (1.3.1)\n",
      "Requirement already satisfied: colorama in c:\\users\\moham\\anaconda3\\lib\\site-packages (from tqdm->openai) (0.4.5)\n"
     ]
    }
   ],
   "source": [
    "! pip install PyPDF2\n",
    "!pip install langchain\n",
    "!pip install openai\n",
    "from langchain.llms import OpenAI\n",
    "from langchain.chat_models import ChatOpenAI"
   ]
  },
  {
   "cell_type": "code",
   "execution_count": 2,
   "id": "5dd8a073",
   "metadata": {},
   "outputs": [],
   "source": [
    "import PyPDF2\n",
    "sample_pdf = open(r'D:\\University\\Test\\6.pdf', mode='rb')\n",
    "pdfdoc = PyPDF2.PdfReader(sample_pdf)"
   ]
  },
  {
   "cell_type": "code",
   "execution_count": 3,
   "id": "d44723c9",
   "metadata": {
    "scrolled": true
   },
   "outputs": [],
   "source": [
    "#print(pdfdoc.metadata)"
   ]
  },
  {
   "cell_type": "code",
   "execution_count": 4,
   "id": "203ba39a",
   "metadata": {},
   "outputs": [],
   "source": [
    "#len(pdfdoc.pages)"
   ]
  },
  {
   "cell_type": "code",
   "execution_count": 5,
   "id": "11d778f7",
   "metadata": {
    "scrolled": false
   },
   "outputs": [],
   "source": [
    "#pdfdoc.pages[15].extract_text().replace(\"\\n\", \" \")"
   ]
  },
  {
   "cell_type": "code",
   "execution_count": 6,
   "id": "96aa045d",
   "metadata": {},
   "outputs": [],
   "source": [
    "doc=[]\n",
    "for x in range(len(pdfdoc.pages)):\n",
    "  page_one=pdfdoc.pages[x]\n",
    "  text=page_one.extract_text().replace(\"\\n\", \" \")\n",
    "  doc.append(text)"
   ]
  },
  {
   "cell_type": "code",
   "execution_count": 7,
   "id": "c94c098f",
   "metadata": {},
   "outputs": [],
   "source": [
    "import re\n",
    "\n",
    "def split_text_on_concept(text, max_length):\n",
    "    \"\"\"\n",
    "    Splits the input text into parts with each part having less than max_length characters,\n",
    "    ensuring each part ends at a complete concept (sentence).\n",
    "\n",
    "    Parameters:\n",
    "    text (str): The input text to split.\n",
    "    max_length (int): The maximum length of each part before splitting at the nearest sentence end.\n",
    "\n",
    "    Returns:\n",
    "    list: A list containing the split parts of the text.\n",
    "    \"\"\"\n",
    "    parts = []\n",
    "    start = 0\n",
    "\n",
    "    while start < len(text):\n",
    "        # Determine the end index for the next part\n",
    "        end = start + max_length\n",
    "        \n",
    "        # Adjust the end index to find the nearest sentence boundary (e.g., period, exclamation mark, question mark)\n",
    "        if end < len(text):\n",
    "            match = re.search(r'[.!?]', text[end:])\n",
    "            if match:\n",
    "                end += match.end()\n",
    "            else:\n",
    "                end = len(text)  # If no sentence boundary is found, take the rest of the text\n",
    "        \n",
    "        # Append the part to the list\n",
    "        parts.append(text[start:end].strip())\n",
    "        \n",
    "        # Move the start index for the next part\n",
    "        start = end\n",
    "\n",
    "    return parts\n"
   ]
  },
  {
   "cell_type": "code",
   "execution_count": 8,
   "id": "cd57d19b",
   "metadata": {},
   "outputs": [],
   "source": [
    "splitted_docs=[]\n",
    "for x in doc:\n",
    "    splitted_doc = split_text_on_concept(x, max_length=500)\n",
    "    splitted_docs.append(splitted_doc)"
   ]
  },
  {
   "cell_type": "code",
   "execution_count": 9,
   "id": "ec9c3c8e",
   "metadata": {},
   "outputs": [
    {
     "data": {
      "text/plain": [
       "'6 D. Cavallucci and N. Khomenko                                             “There is a need for a new approach to  address inventive challenges in design  that on one side fundamentally differs  from widely established optimisation  approaches and on the other side is complimentary to those approaches.”   The next two paragraphs will be dedicated to  introducing two of the major difficulties for  this approach in inventive design: artefact representation and knowledge codification.'"
      ]
     },
     "execution_count": 9,
     "metadata": {},
     "output_type": "execute_result"
    }
   ],
   "source": [
    "splitted_docs[2][0]"
   ]
  },
  {
   "cell_type": "code",
   "execution_count": 10,
   "id": "51bb1d49",
   "metadata": {
    "scrolled": true
   },
   "outputs": [
    {
     "data": {
      "text/plain": [
       "18"
      ]
     },
     "execution_count": 10,
     "metadata": {},
     "output_type": "execute_result"
    }
   ],
   "source": [
    "len(splitted_docs)"
   ]
  },
  {
   "cell_type": "code",
   "execution_count": 11,
   "id": "8f29bbd0",
   "metadata": {},
   "outputs": [],
   "source": [
    "import os\n",
    "openAI_API_Key=os.environ['openAI_API_Key']"
   ]
  },
  {
   "cell_type": "code",
   "execution_count": 12,
   "id": "fea5ec95",
   "metadata": {},
   "outputs": [],
   "source": [
    "from langchain.prompts.chat import ChatPromptTemplate, SystemMessagePromptTemplate, HumanMessagePromptTemplate, AIMessagePromptTemplate"
   ]
  },
  {
   "cell_type": "code",
   "execution_count": 13,
   "id": "170a59d5",
   "metadata": {},
   "outputs": [],
   "source": [
    "Human_prompt= '''\n",
    "Design methodologies are systematic approaches to resolving design problems. \n",
    "They have various tools and concept to assist designers through the design process.\n",
    "Each tool or concept in every design methodology must have one of the following functions:\n",
    "1-Some tools help designers better understand design problems.\n",
    "2-some assist designers in gathering information and improving their knowledge.\n",
    "3-Some tools can help redefine design problems, making them clearer.\n",
    "4-Some tools are effective in generating solutions and ideation.\n",
    "\n",
    "I would like to provide you a name of a design methodology as well as a text about this design methodology.\n",
    "If you recognize specific tool or concept related to this design methodlogy in the text you should mention the tool and its function.\n",
    "If you didnot find any tool of the design methodology you must just mention \" there is no tool in the text\"\n",
    "In your output please only explain the tools and functions if any tool and function exists in the text and do not mention extra explanation.\n",
    "Your output should be brief and clear. \n",
    "The design Methodology is {design_methodology}.\n",
    "The Text that you should analyze is: {text}.\n",
    "In the text you might have some tools, concepts and features related to TRIZ. Please ignore them and only focus on {design_methodology}.\n",
    "\n",
    "'''\n",
    "prompt= HumanMessagePromptTemplate.from_template(Human_prompt)\n",
    "chat_prompt=ChatPromptTemplate.from_messages([prompt])"
   ]
  },
  {
   "cell_type": "code",
   "execution_count": 18,
   "id": "62628098",
   "metadata": {},
   "outputs": [],
   "source": [
    "Human_prompt2= '''\n",
    "I would like to provide you an analysis about {design_methodology}. \n",
    "Within this analysis, you will encounter several sentences akin to the following: \"There are no tools available for {design_methodology}.\"\n",
    "Please eliminate such sentences and return the original text exactly as it is.\n",
    "This is the analysis=\\n{analysis}\n",
    "'''\n",
    "prompt2= HumanMessagePromptTemplate.from_template(Human_prompt2)\n",
    "chat_prompt2=ChatPromptTemplate.from_messages([prompt2])"
   ]
  },
  {
   "cell_type": "code",
   "execution_count": 22,
   "id": "3490134e",
   "metadata": {},
   "outputs": [
    {
     "name": "stdout",
     "output_type": "stream",
     "text": [
      "There is no tools in the text.\n",
      "There is no tools in the text.\n",
      "The text does not mention any tools related to the OTSM-TRIZ design methodology.\n",
      "There is no tools in the text.\n",
      "There is no tools in the text.\n",
      "There is no tools in the text.\n",
      "There is no tools in the text.\n",
      "There is no tools in the text.\n",
      "There is no tools in the text.\n",
      "There is no tools in the text.\n",
      "There is no tools in the text\n",
      "There is no tools in the text.\n",
      "There is no tools in the text.\n",
      "There is no tools in the text.\n",
      "There is no tools in the text.\n",
      "There is no tools in the text.\n",
      "There is no tools in the text.\n",
      "There is no tools in the text.\n",
      "The text does not mention any tools related to OTSM-TRIZ.\n",
      "There is no tools in the text.\n",
      "There is no tools in the text.\n",
      "There is no tools in the text.\n",
      "There is no tools in the text.\n",
      "There is no tools in the text.\n",
      "There is no tools in the text.\n",
      "There is no tools in the text.\n",
      "There is no tools in the text.\n",
      "There is no tools in the text.\n",
      "The text mentions the following tools of the OTSM-TRIZ design methodology:\n",
      "1. New Problem Technology - dedicated to settling a new problem.\n",
      "2. Typical Solution Technology - dedicated to testing an opportunity to solve a problem or get a partial solution to the problem by using TRIZ and OTSM typical solutions and techniques.\n",
      "3. Contradiction Technology - based on Altshuller’s ARIZ and helpful for getting solutions or at least a set of partial solutions as well as understanding more deeply the root of a specific sub-problem of a problematic situation.\n",
      "The design methodology mentioned in the text is OTSM-TRIZ.\n",
      "\n",
      "There is no tools in the text.\n",
      "There is no tools in the text.\n",
      "There is no tools in the text.\n",
      "There is no tools in the text.\n",
      "There is no tools in the text.\n",
      "There is no tools in the text.\n",
      "There is no tools in the text.\n",
      "There is no tools in the text.\n",
      "There is no tools in the text.\n",
      "There is no tools in the text.\n",
      "There is no tools in the text.\n",
      "There is no tools in the text\n",
      "The text mentions the use of elements from OTSM-TRIZ theory for representing expert knowledge. \n",
      "There is no tools in the text.\n",
      "The text mentions the ENV model from OTSM-TRIZ theory. This tool helps in better understanding design problems by organizing data into a diagram of Elements-Name of the feature-Value.\n",
      "There is no tools in the text\n",
      "The text mentions the tool of harmonizing OTSM with tools from classical TRIZ, which helps in combining the strengths of both methodologies for problem-solving.\n",
      "The text mentions the OAV model, which is a tool in the OTSM-TRIZ methodology. The function of the OAV model is to represent and operate specific knowledge relevant to the initial problem situation, as well as to fit the needs of the problem-solving process.\n",
      "The text does not mention any tools related to the OTSM-TRIZ design methodology.\n",
      "The text does not mention any specific tools or concepts related to the OTSM-TRIZ design methodology.\n",
      "The text mentions the ENV model, which has a fractal structure that plays a main role in transforming the initial problem description into a conceptual solution description in the OTSM-TRIZ problem-solving process. The ENV model helps redefine design problems, making them clearer.\n",
      "There is no tools in the text.\n",
      "There is no tools in the text.\n",
      "The text mentions the tool of a \"graph\" which is used as a practical structure in the OTSM-TRIZ methodology. This graph helps in managing information and can be computerized. It also mentions the concept of a \"Network\" which is used in the OTSM theory and instruments.\n",
      "There is no tools in the text.\n",
      "There is no tools in the text.\n",
      "There is no tools in the text.\n",
      "There is no tools in the text.\n",
      "There is no tools in the text.\n",
      "There is no tools in the text.\n",
      "There is no tools in the text.\n",
      "The tool related to the OTSM-TRIZ design methodology in the text is the Yin-yang diagram (graph). \n",
      "Its function is to represent an association of parameters linked to the object as a graph and provide a representation of links between these parameters through internal links of the graph.\n",
      "There is no tools in the text.\n",
      "There is no tools in the text.\n",
      "There is no tools in the text.\n",
      "There is no tools in the text.\n",
      "There is no tools in the text.\n",
      "There is no tools in the text.\n",
      "There is no tools in the text.\n",
      "There is no tools in the text.\n",
      "There is no tools in the text.\n",
      "There is no tools in the text.\n",
      "There is no tools in the text.\n",
      "There is no tools in the text.\n",
      "There is no tools in the text.\n",
      "There is no tools in the text.\n",
      "There is no tools in the text.\n",
      "There is no tools in the text.\n",
      "There is no tools in the text.\n",
      "There is no tools in the text.\n",
      "There is no tools in the text.\n",
      "There is no tools in the text.\n",
      "There is no tools in the text.\n",
      "There is no tools in the text.\n",
      "There is no tools in the text.\n",
      "There is no tools in the text.\n",
      "There is no tools in the text.\n",
      "There is no tools in the text.\n",
      "There is no tools in the text.\n",
      "There is no tools in the text.\n",
      "There is no tools in the text.\n"
     ]
    }
   ],
   "source": [
    "analysis=\"\"\n",
    "design_methodology='OTSM-TRIZ'\n",
    "for s in splitted_docs:\n",
    "    for x in s:\n",
    "        request=chat_prompt.format_prompt(text=x, design_methodology=design_methodology).to_messages()\n",
    "        chat= ChatOpenAI(openai_api_key=openAI_API_Key)\n",
    "        result=chat(request)\n",
    "        analysis=analysis+\"\\n\"+result.content\n",
    "        print(result.content)"
   ]
  },
  {
   "cell_type": "code",
   "execution_count": 24,
   "id": "4aae164d",
   "metadata": {},
   "outputs": [
    {
     "name": "stdout",
     "output_type": "stream",
     "text": [
      " \n",
      "The analysis of OTSM-TRIZ does not mention any specific tools related to the design methodology.\n",
      "\n",
      " \n",
      "The design methodology mentioned in the text is OTSM-TRIZ. The text mentions the use of elements from OTSM-TRIZ theory for representing expert knowledge.\n",
      "\n",
      " \n",
      "The text mentions the ENV model from OTSM-TRIZ theory. This tool helps in better understanding design problems by organizing data into a diagram of Elements-Name of the feature-Value.\n",
      "The text mentions the tool of harmonizing OTSM with tools from classical TRIZ, which helps in combining the strengths of both methodologies for problem-solving.\n",
      "The text mentions the OAV model, which is a tool in the OTSM-TRIZ methodology. The function of the OAV model is to represent and operate specific knowledge relevant to the initial problem situation, as well as to fit the needs of the problem-solving process.\n",
      "The text mentions the ENV model, which has a fractal structure that plays a main role in transforming the initial problem description into a conceptual solution description in the OTSM-TRIZ problem-solving process.\n",
      "\n",
      " \n",
      "The ENV model helps redefine design problems, making them clearer.\n",
      "The text mentions the tool of a \"graph\" which is used as a practical structure in the OTSM-TRIZ methodology. This graph helps in managing information and can be computerized. It also mentions the concept of a \"Network\" which is used in the OTSM theory and instruments.\n",
      "The tool related to the OTSM-TRIZ design methodology in the text is the Yin-yang diagram (graph). \n",
      "Its function is to represent an association of parameters linked to the object as a graph and provide a representation of links between these parameters through internal links of the graph.\n",
      "\n",
      " \n",
      "This is the analysis of OTSM-TRIZ.\n",
      "\n"
     ]
    }
   ],
   "source": [
    "#Cleaning the analysis\n",
    "splitted_analysis = split_text_on_concept(analysis, max_length=1000)\n",
    "for x in splitted_analysis:\n",
    "    request2=chat_prompt2.format_prompt(analysis=x, design_methodology=design_methodology).to_messages()\n",
    "    result2=chat(request2)\n",
    "    print(f\" \\n{result2.content}\\n\")"
   ]
  },
  {
   "cell_type": "code",
   "execution_count": null,
   "id": "748145b3",
   "metadata": {},
   "outputs": [],
   "source": []
  }
 ],
 "metadata": {
  "kernelspec": {
   "display_name": "Python 3 (ipykernel)",
   "language": "python",
   "name": "python3"
  },
  "language_info": {
   "codemirror_mode": {
    "name": "ipython",
    "version": 3
   },
   "file_extension": ".py",
   "mimetype": "text/x-python",
   "name": "python",
   "nbconvert_exporter": "python",
   "pygments_lexer": "ipython3",
   "version": "3.9.13"
  }
 },
 "nbformat": 4,
 "nbformat_minor": 5
}

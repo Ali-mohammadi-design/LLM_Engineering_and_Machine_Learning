{
 "cells": [
  {
   "cell_type": "code",
   "execution_count": 1,
   "id": "92a724fe",
   "metadata": {},
   "outputs": [
    {
     "name": "stdout",
     "output_type": "stream",
     "text": [
      "Requirement already satisfied: langchain in c:\\users\\moham\\anaconda3\\lib\\site-packages (0.0.348)\n",
      "Requirement already satisfied: PyYAML>=5.3 in c:\\users\\moham\\anaconda3\\lib\\site-packages (from langchain) (6.0)\n",
      "Requirement already satisfied: SQLAlchemy<3,>=1.4 in c:\\users\\moham\\anaconda3\\lib\\site-packages (from langchain) (1.4.39)\n",
      "Requirement already satisfied: aiohttp<4.0.0,>=3.8.3 in c:\\users\\moham\\anaconda3\\lib\\site-packages (from langchain) (3.8.4)\n",
      "Requirement already satisfied: async-timeout<5.0.0,>=4.0.0 in c:\\users\\moham\\anaconda3\\lib\\site-packages (from langchain) (4.0.2)\n",
      "Requirement already satisfied: dataclasses-json<0.7,>=0.5.7 in c:\\users\\moham\\anaconda3\\lib\\site-packages (from langchain) (0.6.3)\n",
      "Requirement already satisfied: jsonpatch<2.0,>=1.33 in c:\\users\\moham\\anaconda3\\lib\\site-packages (from langchain) (1.33)\n",
      "Requirement already satisfied: langchain-core<0.1,>=0.0.12 in c:\\users\\moham\\anaconda3\\lib\\site-packages (from langchain) (0.0.12)\n",
      "Requirement already satisfied: langsmith<0.1.0,>=0.0.63 in c:\\users\\moham\\anaconda3\\lib\\site-packages (from langchain) (0.0.69)\n",
      "Requirement already satisfied: numpy<2,>=1 in c:\\users\\moham\\anaconda3\\lib\\site-packages (from langchain) (1.26.4)\n",
      "Requirement already satisfied: pydantic<3,>=1 in c:\\users\\moham\\anaconda3\\lib\\site-packages (from langchain) (2.5.2)\n",
      "Requirement already satisfied: requests<3,>=2 in c:\\users\\moham\\anaconda3\\lib\\site-packages (from langchain) (2.28.1)\n",
      "Requirement already satisfied: tenacity<9.0.0,>=8.1.0 in c:\\users\\moham\\anaconda3\\lib\\site-packages (from langchain) (8.2.3)\n",
      "Requirement already satisfied: attrs>=17.3.0 in c:\\users\\moham\\anaconda3\\lib\\site-packages (from aiohttp<4.0.0,>=3.8.3->langchain) (21.4.0)\n",
      "Requirement already satisfied: charset-normalizer<4.0,>=2.0 in c:\\users\\moham\\anaconda3\\lib\\site-packages (from aiohttp<4.0.0,>=3.8.3->langchain) (2.0.4)\n",
      "Requirement already satisfied: multidict<7.0,>=4.5 in c:\\users\\moham\\anaconda3\\lib\\site-packages (from aiohttp<4.0.0,>=3.8.3->langchain) (6.0.4)\n",
      "Requirement already satisfied: yarl<2.0,>=1.0 in c:\\users\\moham\\anaconda3\\lib\\site-packages (from aiohttp<4.0.0,>=3.8.3->langchain) (1.9.2)\n",
      "Requirement already satisfied: frozenlist>=1.1.1 in c:\\users\\moham\\anaconda3\\lib\\site-packages (from aiohttp<4.0.0,>=3.8.3->langchain) (1.3.3)\n",
      "Requirement already satisfied: aiosignal>=1.1.2 in c:\\users\\moham\\anaconda3\\lib\\site-packages (from aiohttp<4.0.0,>=3.8.3->langchain) (1.3.1)\n",
      "Requirement already satisfied: marshmallow<4.0.0,>=3.18.0 in c:\\users\\moham\\anaconda3\\lib\\site-packages (from dataclasses-json<0.7,>=0.5.7->langchain) (3.20.1)\n",
      "Requirement already satisfied: typing-inspect<1,>=0.4.0 in c:\\users\\moham\\anaconda3\\lib\\site-packages (from dataclasses-json<0.7,>=0.5.7->langchain) (0.9.0)\n",
      "Requirement already satisfied: jsonpointer>=1.9 in c:\\users\\moham\\anaconda3\\lib\\site-packages (from jsonpatch<2.0,>=1.33->langchain) (2.4)\n",
      "Requirement already satisfied: anyio<5,>=3 in c:\\users\\moham\\anaconda3\\lib\\site-packages (from langchain-core<0.1,>=0.0.12->langchain) (3.5.0)\n",
      "Requirement already satisfied: packaging<24.0,>=23.2 in c:\\users\\moham\\anaconda3\\lib\\site-packages (from langchain-core<0.1,>=0.0.12->langchain) (23.2)\n",
      "Requirement already satisfied: annotated-types>=0.4.0 in c:\\users\\moham\\anaconda3\\lib\\site-packages (from pydantic<3,>=1->langchain) (0.6.0)\n",
      "Requirement already satisfied: pydantic-core==2.14.5 in c:\\users\\moham\\anaconda3\\lib\\site-packages (from pydantic<3,>=1->langchain) (2.14.5)\n",
      "Requirement already satisfied: typing-extensions>=4.6.1 in c:\\users\\moham\\anaconda3\\lib\\site-packages (from pydantic<3,>=1->langchain) (4.8.0)\n",
      "Requirement already satisfied: idna<4,>=2.5 in c:\\users\\moham\\anaconda3\\lib\\site-packages (from requests<3,>=2->langchain) (3.3)\n",
      "Requirement already satisfied: urllib3<1.27,>=1.21.1 in c:\\users\\moham\\anaconda3\\lib\\site-packages (from requests<3,>=2->langchain) (1.26.11)\n",
      "Requirement already satisfied: certifi>=2017.4.17 in c:\\users\\moham\\anaconda3\\lib\\site-packages (from requests<3,>=2->langchain) (2022.9.14)\n",
      "Requirement already satisfied: greenlet!=0.4.17 in c:\\users\\moham\\anaconda3\\lib\\site-packages (from SQLAlchemy<3,>=1.4->langchain) (1.1.1)\n",
      "Requirement already satisfied: sniffio>=1.1 in c:\\users\\moham\\anaconda3\\lib\\site-packages (from anyio<5,>=3->langchain-core<0.1,>=0.0.12->langchain) (1.2.0)\n",
      "Requirement already satisfied: mypy-extensions>=0.3.0 in c:\\users\\moham\\anaconda3\\lib\\site-packages (from typing-inspect<1,>=0.4.0->dataclasses-json<0.7,>=0.5.7->langchain) (0.4.3)\n",
      "Requirement already satisfied: openai in c:\\users\\moham\\anaconda3\\lib\\site-packages (0.27.7)\n",
      "Requirement already satisfied: requests>=2.20 in c:\\users\\moham\\anaconda3\\lib\\site-packages (from openai) (2.28.1)\n",
      "Requirement already satisfied: tqdm in c:\\users\\moham\\anaconda3\\lib\\site-packages (from openai) (4.64.1)\n",
      "Requirement already satisfied: aiohttp in c:\\users\\moham\\anaconda3\\lib\\site-packages (from openai) (3.8.4)\n",
      "Requirement already satisfied: charset-normalizer<3,>=2 in c:\\users\\moham\\anaconda3\\lib\\site-packages (from requests>=2.20->openai) (2.0.4)\n",
      "Requirement already satisfied: idna<4,>=2.5 in c:\\users\\moham\\anaconda3\\lib\\site-packages (from requests>=2.20->openai) (3.3)\n",
      "Requirement already satisfied: urllib3<1.27,>=1.21.1 in c:\\users\\moham\\anaconda3\\lib\\site-packages (from requests>=2.20->openai) (1.26.11)\n",
      "Requirement already satisfied: certifi>=2017.4.17 in c:\\users\\moham\\anaconda3\\lib\\site-packages (from requests>=2.20->openai) (2022.9.14)\n",
      "Requirement already satisfied: attrs>=17.3.0 in c:\\users\\moham\\anaconda3\\lib\\site-packages (from aiohttp->openai) (21.4.0)\n",
      "Requirement already satisfied: multidict<7.0,>=4.5 in c:\\users\\moham\\anaconda3\\lib\\site-packages (from aiohttp->openai) (6.0.4)\n",
      "Requirement already satisfied: async-timeout<5.0,>=4.0.0a3 in c:\\users\\moham\\anaconda3\\lib\\site-packages (from aiohttp->openai) (4.0.2)\n",
      "Requirement already satisfied: yarl<2.0,>=1.0 in c:\\users\\moham\\anaconda3\\lib\\site-packages (from aiohttp->openai) (1.9.2)\n",
      "Requirement already satisfied: frozenlist>=1.1.1 in c:\\users\\moham\\anaconda3\\lib\\site-packages (from aiohttp->openai) (1.3.3)\n",
      "Requirement already satisfied: aiosignal>=1.1.2 in c:\\users\\moham\\anaconda3\\lib\\site-packages (from aiohttp->openai) (1.3.1)\n",
      "Requirement already satisfied: colorama in c:\\users\\moham\\anaconda3\\lib\\site-packages (from tqdm->openai) (0.4.5)\n"
     ]
    }
   ],
   "source": [
    "!pip install langchain\n",
    "!pip install openai\n",
    "from langchain.llms import OpenAI"
   ]
  },
  {
   "cell_type": "code",
   "execution_count": 4,
   "id": "d8a129fe",
   "metadata": {},
   "outputs": [],
   "source": [
    "import os\n",
    "openAI_API_Key=os.environ['openAI_API_Key']"
   ]
  },
  {
   "cell_type": "code",
   "execution_count": 15,
   "id": "c3d83001",
   "metadata": {},
   "outputs": [],
   "source": [
    "from langchain.prompts import PromptTemplate, ChatPromptTemplate, SystemMessagePromptTemplate, HumanMessagePromptTemplate, AIMessagePromptTemplate\n",
    "from langchain.llms import OpenAI\n",
    "from langchain.chat_models import ChatOpenAI\n",
    "model= ChatOpenAI(openai_api_key=openAI_API_Key, max_tokens=300, temperature=0)"
   ]
  },
  {
   "cell_type": "code",
   "execution_count": 43,
   "id": "a7e197d0",
   "metadata": {},
   "outputs": [],
   "source": [
    "from langchain.chains import LLMChain, SimpleSequentialChain, SequentialChain"
   ]
  },
  {
   "cell_type": "code",
   "execution_count": 44,
   "id": "98cf8d28",
   "metadata": {},
   "outputs": [],
   "source": [
    "\n",
    "llm= ChatOpenAI(openai_api_key=openAI_API_Key,temperature=0)"
   ]
  },
  {
   "cell_type": "code",
   "execution_count": 93,
   "id": "d6c2f490",
   "metadata": {},
   "outputs": [],
   "source": [
    "human_template1='''you are an AI assistant that could help researchers in academic research.\n",
    "{design_methodology} represents a specific approach to design.\n",
    "Each design method incorporates various tools and concepts. Please list all the tools and concept in this approach.\n",
    "The more tools you list the better'''\n",
    "prompt1=ChatPromptTemplate.from_template(human_template1)\n",
    "chain1=LLMChain(llm=llm, prompt=prompt1, output_key='Tools_list')"
   ]
  },
  {
   "cell_type": "code",
   "execution_count": 94,
   "id": "53a271fa",
   "metadata": {},
   "outputs": [],
   "source": [
    "human_template2='''you are an AI assistant that could help researchers in academic research.\n",
    "{design_methodology} represents a specific approach to design.\n",
    "{design_methodology} has these tools:\\n {Tools_list}.\\n\n",
    "For each tool, provide a brief description, including its importance and main function. \n",
    "'''\n",
    "prompt2=ChatPromptTemplate.from_template(human_template2)\n",
    "chain2=LLMChain(llm=llm, prompt=prompt2, output_key='Tools_description')"
   ]
  },
  {
   "cell_type": "code",
   "execution_count": 95,
   "id": "25585f6a",
   "metadata": {},
   "outputs": [],
   "source": [
    "human_template3='''\n",
    "{design_methodology} is a specific approach to design, encompassing various tools and concepts, detailed as follows:\n",
    "{Tools_description}\\n.\n",
    "\n",
    "In each design methodology, each tool and concept requires input and generates one or more outputs. \n",
    "The input can be one of these two options:\n",
    "\n",
    "1. The design problem or a new form of the design problem, OR\n",
    "2. Knowledge, insight, or information about the design problem or its environment.\n",
    "\n",
    "The output can also be one of these two options:\n",
    "1. A new form of the design problem, OR\n",
    "2. Knowledge, insight, or information about the design problem or its environment.\n",
    "\n",
    "For each tool or concept in {design_methodology}, please specify the input and output.\n",
    "\n",
    "'''\n",
    "prompt3=ChatPromptTemplate.from_template(human_template3)\n",
    "chain3=LLMChain(llm=llm, prompt=prompt3, output_key='in_out')"
   ]
  },
  {
   "cell_type": "code",
   "execution_count": 96,
   "id": "292cbbe9",
   "metadata": {},
   "outputs": [],
   "source": [
    "human_template4='''\n",
    "{design_methodology} represents a specific approach to design.\n",
    "This approach encompasses various tools and concepts, which are described as follows:\\n {Tools_description}.\n",
    "In each design methodology, every tool and concept serves one of the following functions:\n",
    "1. Assisting the designer in gaining a new perspective on understanding the design problem better\n",
    "2. Enhancing the designer's knowledge\n",
    "3. Redefining the design problem to make it more specific, detailed, and clear\n",
    "4. Generating ideas\n",
    "Please specify the function of each tool or concept.\n",
    "'''\n",
    "prompt4=ChatPromptTemplate.from_template(human_template4)\n",
    "chain4=LLMChain(llm=llm, prompt=prompt4, output_key='Functions')"
   ]
  },
  {
   "cell_type": "code",
   "execution_count": 102,
   "id": "12fc380f",
   "metadata": {
    "scrolled": true
   },
   "outputs": [
    {
     "name": "stdout",
     "output_type": "stream",
     "text": [
      "\n",
      "\n",
      "\u001b[1m> Entering new SequentialChain chain...\u001b[0m\n",
      "\n",
      "\u001b[1m> Finished chain.\u001b[0m\n"
     ]
    }
   ],
   "source": [
    "seq_chain=SequentialChain(chains=[chain1,chain2,chain3,chain4], input_variables=['design_methodology'],output_variables=['Tools_list','Tools_description','in_out','Functions'],verbose=True)\n",
    "result=seq_chain('TRIZ')"
   ]
  },
  {
   "cell_type": "code",
   "execution_count": 104,
   "id": "052c5027",
   "metadata": {},
   "outputs": [
    {
     "name": "stdout",
     "output_type": "stream",
     "text": [
      "1. Contradiction Matrix: Assisting the designer in gaining a new perspective on understanding the design problem better\n",
      "2. 40 Principles of Invention: Generating ideas\n",
      "3. Ideal Final Result: Redefining the design problem to make it more specific, detailed, and clear\n",
      "4. Substance-Field Analysis: Assisting the designer in gaining a new perspective on understanding the design problem better\n",
      "5. S-Curve Analysis: Enhancing the designer's knowledge\n",
      "6. Function Analysis: Redefining the design problem to make it more specific, detailed, and clear\n",
      "7. Trends of Engineering System Evolution: Enhancing the designer's knowledge\n",
      "8. ARIZ (Algorithm for Inventive Problem Solving): Generating ideas\n",
      "9. System Operator: Assisting the designer in gaining a new perspective on understanding the design problem better\n",
      "10. Su-Field Analysis: Assisting the designer in gaining a new perspective on understanding the design problem better\n",
      "11. TRIZ Laws: Enhancing the designer's knowledge\n",
      "12. TRIZ Levels of Invention: Redefining the design problem to make it more specific, detailed, and clear\n",
      "13. TRIZ Inventive Standards: Generating ideas\n",
      "14. TRIZ Contradiction Resolution: Redefining the design problem to make it more specific, detailed, and clear\n",
      "15. TRIZ Separation Principles: Redefining the design problem to make it more specific, detailed, and clear\n",
      "16. TRIZ Standard Solutions: Generating ideas\n",
      "17. TRIZ Inventive Principles: Generating ideas\n",
      "18. TRIZ Problem Formulation: Redefining the design problem to make it more specific, detailed, and clear\n",
      "19. TRIZ Problem Solving: Assisting the designer in gaining a new perspective on understanding the design problem better\n",
      "20. TRIZ Technology Forecasting: Enhancing the designer's knowledge\n"
     ]
    }
   ],
   "source": [
    "print(result['Functions'])"
   ]
  },
  {
   "cell_type": "code",
   "execution_count": 103,
   "id": "c0816d88",
   "metadata": {},
   "outputs": [
    {
     "name": "stdout",
     "output_type": "stream",
     "text": [
      "1. Contradiction Matrix:\n",
      "Input: Design problem with conflicting requirements\n",
      "Output: Resolved contradictions and innovative solutions\n",
      "\n",
      "2. 40 Principles of Invention:\n",
      "Input: Design problem or existing system\n",
      "Output: New ideas and solutions based on modification and improvement of existing systems\n",
      "\n",
      "3. Ideal Final Result:\n",
      "Input: Design problem\n",
      "Output: Steps needed to achieve the ideal outcome\n",
      "\n",
      "4. Substance-Field Analysis:\n",
      "Input: System with different substances and fields\n",
      "Output: Opportunities for improvement and innovation in the system\n",
      "\n",
      "5. S-Curve Analysis:\n",
      "Input: System evolution over time\n",
      "Output: Future trends and opportunities for innovation\n",
      "\n",
      "6. Function Analysis:\n",
      "Input: System with basic functions and components\n",
      "Output: Opportunities for improvement and innovation in the system\n",
      "\n",
      "7. Trends of Engineering System Evolution:\n",
      "Input: Patterns and trends in engineering system evolution\n",
      "Output: Anticipation of future developments and innovation opportunities\n",
      "\n",
      "8. ARIZ (Algorithm for Inventive Problem Solving):\n",
      "Input: Complex problem\n",
      "Output: Structured approach to problem-solving and potential solutions\n",
      "\n",
      "9. System Operator:\n",
      "Input: Interactions between system components\n",
      "Output: Opportunities for improvement and innovation in the system\n",
      "\n",
      "10. Su-Field Analysis:\n",
      "Input: Relationships between system components\n",
      "Output: Opportunities for improvement and innovation in the system\n",
      "\n",
      "11. TRIZ Laws:\n",
      "Input: Patents and innovative solutions\n",
      "Output: Problem-solving framework and guidelines for innovation\n",
      "\n",
      "12. TRIZ Levels of Invention:\n",
      "Input: Degree of novelty and impact of innovation\n",
      "Output: Realistic goals and expectations for innovation projects\n",
      "\n",
      "13. TRIZ Inventive Standards:\n",
      "Input: Common obstacles and challenges in innovation\n",
      "Output: Guidelines for overcoming obstacles and generating innovative solutions\n",
      "\n",
      "14. TRIZ Contradiction Resolution:\n",
      "Input: Contradictions within a system\n",
      "Output: Innovative solutions improving system performance\n",
      "\n",
      "15. TRIZ Separation Principles:\n",
      "Input: Complex problems\n",
      "Output: Opportunities for improvement and innovation by breaking down problems into smaller components\n",
      "\n",
      "16. TRIZ Standard Solutions:\n",
      "Input: Common engineering problems\n",
      "Output: Proven solutions to save time and effort in the innovation process\n",
      "\n",
      "17. TRIZ Inventive Principles:\n",
      "Input: Problems requiring innovative solutions\n",
      "Output: Creative and effective solutions based on inventive principles\n",
      "\n",
      "18. TRIZ Problem Formulation:\n",
      "Input: Defined problem\n",
      "Output: Root causes and constraints to be addressed for innovative solutions\n",
      "\n",
      "19. TRIZ Problem Solving:\n",
      "Input: Complex problems\n",
      "Output: Opportunities for innovation and creative solutions through a structured problem-solving process\n",
      "\n",
      "20. TRIZ Technology Forecasting:\n",
      "Input: Current trends and patterns in technology\n",
      "Output: Future opportunities for innovation and staying ahead in research.\n"
     ]
    }
   ],
   "source": [
    "print(result['in_out'])"
   ]
  },
  {
   "cell_type": "code",
   "execution_count": 106,
   "id": "396d1d47",
   "metadata": {},
   "outputs": [
    {
     "name": "stdout",
     "output_type": "stream",
     "text": [
      "1. Contradiction Matrix\n",
      "2. 40 Principles of Invention\n",
      "3. Ideal Final Result\n",
      "4. Substance-Field Analysis\n",
      "5. S-Curve Analysis\n",
      "6. Function Analysis\n",
      "7. Trends of Engineering System Evolution\n",
      "8. ARIZ (Algorithm for Inventive Problem Solving)\n",
      "9. System Operator\n",
      "10. Su-Field Analysis\n",
      "11. TRIZ Laws\n",
      "12. TRIZ Levels of Invention\n",
      "13. TRIZ Inventive Standards\n",
      "14. TRIZ Contradiction Resolution\n",
      "15. TRIZ Separation Principles\n",
      "16. TRIZ Standard Solutions\n",
      "17. TRIZ Inventive Principles\n",
      "18. TRIZ Problem Formulation\n",
      "19. TRIZ Problem Solving\n",
      "20. TRIZ Technology Forecasting\n"
     ]
    }
   ],
   "source": [
    "print(result['Tools_list'])"
   ]
  },
  {
   "cell_type": "code",
   "execution_count": 105,
   "id": "406b1aec",
   "metadata": {},
   "outputs": [
    {
     "name": "stdout",
     "output_type": "stream",
     "text": [
      "1. Contradiction Matrix: The Contradiction Matrix is a tool used in TRIZ to identify and resolve contradictions in a system. It helps researchers to find innovative solutions by identifying the conflicting requirements within a problem and suggesting principles that can help resolve them.\n",
      "\n",
      "2. 40 Principles of Invention: The 40 Principles of Invention are a set of principles derived from the analysis of patents and innovative solutions. These principles provide researchers with a systematic way to generate new ideas and solutions to problems by guiding them on how to modify and improve existing systems.\n",
      "\n",
      "3. Ideal Final Result: The Ideal Final Result is a concept in TRIZ that encourages researchers to envision the perfect solution to a problem without any constraints. By defining the ideal outcome, researchers can work backwards to identify the steps needed to achieve it, leading to more innovative and efficient solutions.\n",
      "\n",
      "4. Substance-Field Analysis: Substance-Field Analysis is a tool used in TRIZ to analyze the interactions between different substances and fields within a system. By understanding these interactions, researchers can identify opportunities for improvement and innovation in the system.\n",
      "\n",
      "5. S-Curve Analysis: S-Curve Analysis is a tool used in TRIZ to analyze the evolution of a system over time. By identifying the different stages of development and growth, researchers can predict future trends and opportunities for innovation.\n",
      "\n",
      "6. Function Analysis: Function Analysis is a tool used in TRIZ to break down a system into its basic functions and components. By understanding the functions of each component, researchers can identify opportunities for improvement and innovation in the system.\n",
      "\n",
      "7. Trends of Engineering System Evolution: This tool helps researchers understand the patterns and trends in the evolution of engineering systems. By studying these trends, researchers can anticipate future developments and identify opportunities for innovation.\n",
      "\n",
      "8. ARIZ (Algorithm for Inventive Problem Solving): ARIZ is a systematic algorithm used in TRIZ to guide researchers through the process of solving complex problems. It provides a structured approach to problem-solving by breaking down the problem into smaller components and identifying potential solutions.\n",
      "\n",
      "9. System Operator: The System Operator is a tool used in TRIZ to analyze the interactions between different components of a system. By understanding these interactions, researchers can identify opportunities for improvement and innovation in the system.\n",
      "\n",
      "10. Su-Field Analysis: Su-Field Analysis is a tool used in TRIZ to analyze the relationships between the components of a system. By understanding these relationships, researchers can identify opportunities for improvement and innovation in the system.\n",
      "\n",
      "11. TRIZ Laws: TRIZ Laws are a set of principles and guidelines derived from the analysis of patents and innovative solutions. These laws provide researchers with a framework for problem-solving and innovation by guiding them on how to approach and solve complex problems.\n",
      "\n",
      "12. TRIZ Levels of Invention: TRIZ Levels of Invention categorize different levels of innovation based on the degree of novelty and impact. By understanding these levels, researchers can set realistic goals and expectations for their innovation projects.\n",
      "\n",
      "13. TRIZ Inventive Standards: TRIZ Inventive Standards are a set of guidelines and principles that help researchers generate innovative solutions to problems. By following these standards, researchers can overcome common obstacles and challenges in the innovation process.\n",
      "\n",
      "14. TRIZ Contradiction Resolution: TRIZ Contradiction Resolution is a tool used to identify and resolve contradictions within a system. By addressing these contradictions, researchers can find innovative solutions that improve the overall performance of the system.\n",
      "\n",
      "15. TRIZ Separation Principles: TRIZ Separation Principles are a set of principles that help researchers break down complex problems into smaller, more manageable components. By separating and analyzing these components, researchers can identify opportunities for improvement and innovation.\n",
      "\n",
      "16. TRIZ Standard Solutions: TRIZ Standard Solutions are a set of proven solutions to common engineering problems. By applying these standard solutions, researchers can save time and effort in the innovation process and focus on more complex and unique challenges.\n",
      "\n",
      "17. TRIZ Inventive Principles: TRIZ Inventive Principles are a set of principles that guide researchers in generating innovative solutions to problems. By following these principles, researchers can think outside the box and come up with creative and effective solutions.\n",
      "\n",
      "18. TRIZ Problem Formulation: TRIZ Problem Formulation is a tool used to define and analyze the problem at hand. By clearly defining the problem, researchers can identify the root causes and constraints that need to be addressed in order to find innovative solutions.\n",
      "\n",
      "19. TRIZ Problem Solving: TRIZ Problem Solving is a systematic approach to solving complex problems using TRIZ tools and principles. By following a structured problem-solving process, researchers can identify opportunities for innovation and generate creative solutions.\n",
      "\n",
      "20. TRIZ Technology Forecasting: TRIZ Technology Forecasting is a tool used to predict future trends and developments in technology. By analyzing current trends and patterns, researchers can anticipate future opportunities for innovation and stay ahead of the curve in their research.\n"
     ]
    }
   ],
   "source": [
    "print(result['Tools_description'])"
   ]
  },
  {
   "cell_type": "code",
   "execution_count": null,
   "id": "574ccf3c",
   "metadata": {},
   "outputs": [],
   "source": []
  }
 ],
 "metadata": {
  "kernelspec": {
   "display_name": "Python 3 (ipykernel)",
   "language": "python",
   "name": "python3"
  },
  "language_info": {
   "codemirror_mode": {
    "name": "ipython",
    "version": 3
   },
   "file_extension": ".py",
   "mimetype": "text/x-python",
   "name": "python",
   "nbconvert_exporter": "python",
   "pygments_lexer": "ipython3",
   "version": "3.9.13"
  }
 },
 "nbformat": 4,
 "nbformat_minor": 5
}

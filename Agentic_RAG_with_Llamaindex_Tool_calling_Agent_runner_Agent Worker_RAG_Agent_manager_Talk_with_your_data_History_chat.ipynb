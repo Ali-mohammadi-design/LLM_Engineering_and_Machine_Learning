{
 "cells": [
  {
   "cell_type": "code",
   "execution_count": 1,
   "id": "523c2781",
   "metadata": {},
   "outputs": [
    {
     "name": "stdout",
     "output_type": "stream",
     "text": [
      "Requirement already satisfied: openai in c:\\users\\moham\\anaconda3\\lib\\site-packages (1.35.3)\n",
      "Requirement already satisfied: anyio<5,>=3.5.0 in c:\\users\\moham\\anaconda3\\lib\\site-packages (from openai) (3.5.0)\n",
      "Requirement already satisfied: distro<2,>=1.7.0 in c:\\users\\moham\\anaconda3\\lib\\site-packages (from openai) (1.9.0)\n",
      "Requirement already satisfied: httpx<1,>=0.23.0 in c:\\users\\moham\\anaconda3\\lib\\site-packages (from openai) (0.27.0)\n",
      "Requirement already satisfied: pydantic<3,>=1.9.0 in c:\\users\\moham\\anaconda3\\lib\\site-packages (from openai) (2.5.2)\n",
      "Requirement already satisfied: sniffio in c:\\users\\moham\\anaconda3\\lib\\site-packages (from openai) (1.2.0)\n",
      "Requirement already satisfied: tqdm>4 in c:\\users\\moham\\anaconda3\\lib\\site-packages (from openai) (4.66.4)\n",
      "Requirement already satisfied: typing-extensions<5,>=4.7 in c:\\users\\moham\\anaconda3\\lib\\site-packages (from openai) (4.8.0)\n",
      "Requirement already satisfied: idna>=2.8 in c:\\users\\moham\\anaconda3\\lib\\site-packages (from anyio<5,>=3.5.0->openai) (3.3)\n",
      "Requirement already satisfied: certifi in c:\\users\\moham\\anaconda3\\lib\\site-packages (from httpx<1,>=0.23.0->openai) (2022.9.14)\n",
      "Requirement already satisfied: httpcore==1.* in c:\\users\\moham\\anaconda3\\lib\\site-packages (from httpx<1,>=0.23.0->openai) (1.0.5)\n",
      "Requirement already satisfied: h11<0.15,>=0.13 in c:\\users\\moham\\anaconda3\\lib\\site-packages (from httpcore==1.*->httpx<1,>=0.23.0->openai) (0.14.0)\n",
      "Requirement already satisfied: annotated-types>=0.4.0 in c:\\users\\moham\\anaconda3\\lib\\site-packages (from pydantic<3,>=1.9.0->openai) (0.6.0)\n",
      "Requirement already satisfied: pydantic-core==2.14.5 in c:\\users\\moham\\anaconda3\\lib\\site-packages (from pydantic<3,>=1.9.0->openai) (2.14.5)\n",
      "Requirement already satisfied: colorama in c:\\users\\moham\\anaconda3\\lib\\site-packages (from tqdm>4->openai) (0.4.5)\n"
     ]
    },
    {
     "name": "stderr",
     "output_type": "stream",
     "text": [
      "\n",
      "[notice] A new release of pip is available: 24.0 -> 24.1.2\n",
      "[notice] To update, run: python.exe -m pip install --upgrade pip\n"
     ]
    },
    {
     "name": "stdout",
     "output_type": "stream",
     "text": [
      "Requirement already satisfied: llama-index in c:\\users\\moham\\anaconda3\\lib\\site-packages (0.10.50)\n",
      "Requirement already satisfied: llama-index-agent-openai<0.3.0,>=0.1.4 in c:\\users\\moham\\anaconda3\\lib\\site-packages (from llama-index) (0.2.7)\n",
      "Requirement already satisfied: llama-index-cli<0.2.0,>=0.1.2 in c:\\users\\moham\\anaconda3\\lib\\site-packages (from llama-index) (0.1.12)\n",
      "Requirement already satisfied: llama-index-core==0.10.50 in c:\\users\\moham\\anaconda3\\lib\\site-packages (from llama-index) (0.10.50)\n",
      "Requirement already satisfied: llama-index-embeddings-openai<0.2.0,>=0.1.5 in c:\\users\\moham\\anaconda3\\lib\\site-packages (from llama-index) (0.1.10)\n",
      "Requirement already satisfied: llama-index-indices-managed-llama-cloud>=0.2.0 in c:\\users\\moham\\anaconda3\\lib\\site-packages (from llama-index) (0.2.1)\n",
      "Requirement already satisfied: llama-index-legacy<0.10.0,>=0.9.48 in c:\\users\\moham\\anaconda3\\lib\\site-packages (from llama-index) (0.9.48)\n",
      "Requirement already satisfied: llama-index-llms-openai<0.2.0,>=0.1.13 in c:\\users\\moham\\anaconda3\\lib\\site-packages (from llama-index) (0.1.23)\n",
      "Requirement already satisfied: llama-index-multi-modal-llms-openai<0.2.0,>=0.1.3 in c:\\users\\moham\\anaconda3\\lib\\site-packages (from llama-index) (0.1.6)\n",
      "Requirement already satisfied: llama-index-program-openai<0.2.0,>=0.1.3 in c:\\users\\moham\\anaconda3\\lib\\site-packages (from llama-index) (0.1.6)\n",
      "Requirement already satisfied: llama-index-question-gen-openai<0.2.0,>=0.1.2 in c:\\users\\moham\\anaconda3\\lib\\site-packages (from llama-index) (0.1.3)\n",
      "Requirement already satisfied: llama-index-readers-file<0.2.0,>=0.1.4 in c:\\users\\moham\\anaconda3\\lib\\site-packages (from llama-index) (0.1.25)\n",
      "Requirement already satisfied: llama-index-readers-llama-parse<0.2.0,>=0.1.2 in c:\\users\\moham\\anaconda3\\lib\\site-packages (from llama-index) (0.1.4)\n",
      "Requirement already satisfied: PyYAML>=6.0.1 in c:\\users\\moham\\anaconda3\\lib\\site-packages (from llama-index-core==0.10.50->llama-index) (6.0.1)\n",
      "Requirement already satisfied: SQLAlchemy>=1.4.49 in c:\\users\\moham\\anaconda3\\lib\\site-packages (from SQLAlchemy[asyncio]>=1.4.49->llama-index-core==0.10.50->llama-index) (2.0.31)\n",
      "Requirement already satisfied: aiohttp<4.0.0,>=3.8.6 in c:\\users\\moham\\anaconda3\\lib\\site-packages (from llama-index-core==0.10.50->llama-index) (3.9.5)\n",
      "Requirement already satisfied: dataclasses-json in c:\\users\\moham\\anaconda3\\lib\\site-packages (from llama-index-core==0.10.50->llama-index) (0.6.3)\n",
      "Requirement already satisfied: deprecated>=1.2.9.3 in c:\\users\\moham\\anaconda3\\lib\\site-packages (from llama-index-core==0.10.50->llama-index) (1.2.14)\n",
      "Requirement already satisfied: dirtyjson<2.0.0,>=1.0.8 in c:\\users\\moham\\anaconda3\\lib\\site-packages (from llama-index-core==0.10.50->llama-index) (1.0.8)\n",
      "Requirement already satisfied: fsspec>=2023.5.0 in c:\\users\\moham\\anaconda3\\lib\\site-packages (from llama-index-core==0.10.50->llama-index) (2024.6.0)\n",
      "Requirement already satisfied: httpx in c:\\users\\moham\\anaconda3\\lib\\site-packages (from llama-index-core==0.10.50->llama-index) (0.27.0)\n",
      "Requirement already satisfied: llama-cloud<0.0.7,>=0.0.6 in c:\\users\\moham\\anaconda3\\lib\\site-packages (from llama-index-core==0.10.50->llama-index) (0.0.6)\n",
      "Requirement already satisfied: nest-asyncio<2.0.0,>=1.5.8 in c:\\users\\moham\\anaconda3\\lib\\site-packages (from llama-index-core==0.10.50->llama-index) (1.6.0)\n",
      "Requirement already satisfied: networkx>=3.0 in c:\\users\\moham\\anaconda3\\lib\\site-packages (from llama-index-core==0.10.50->llama-index) (3.2.1)\n",
      "Requirement already satisfied: nltk<4.0.0,>=3.8.1 in c:\\users\\moham\\anaconda3\\lib\\site-packages (from llama-index-core==0.10.50->llama-index) (3.8.1)\n",
      "Requirement already satisfied: numpy<2.0.0 in c:\\users\\moham\\anaconda3\\lib\\site-packages (from llama-index-core==0.10.50->llama-index) (1.26.4)\n",
      "Requirement already satisfied: openai>=1.1.0 in c:\\users\\moham\\anaconda3\\lib\\site-packages (from llama-index-core==0.10.50->llama-index) (1.35.3)\n",
      "Requirement already satisfied: pandas in c:\\users\\moham\\anaconda3\\lib\\site-packages (from llama-index-core==0.10.50->llama-index) (1.4.4)\n",
      "Requirement already satisfied: pillow>=9.0.0 in c:\\users\\moham\\anaconda3\\lib\\site-packages (from llama-index-core==0.10.50->llama-index) (9.2.0)\n",
      "Requirement already satisfied: requests>=2.31.0 in c:\\users\\moham\\anaconda3\\lib\\site-packages (from llama-index-core==0.10.50->llama-index) (2.32.3)\n",
      "Requirement already satisfied: tenacity!=8.4.0,<9.0.0,>=8.2.0 in c:\\users\\moham\\anaconda3\\lib\\site-packages (from llama-index-core==0.10.50->llama-index) (8.2.3)\n",
      "Requirement already satisfied: tiktoken>=0.3.3 in c:\\users\\moham\\anaconda3\\lib\\site-packages (from llama-index-core==0.10.50->llama-index) (0.5.2)\n",
      "Requirement already satisfied: tqdm<5.0.0,>=4.66.1 in c:\\users\\moham\\anaconda3\\lib\\site-packages (from llama-index-core==0.10.50->llama-index) (4.66.4)\n",
      "Requirement already satisfied: typing-extensions>=4.5.0 in c:\\users\\moham\\anaconda3\\lib\\site-packages (from llama-index-core==0.10.50->llama-index) (4.8.0)\n",
      "Requirement already satisfied: typing-inspect>=0.8.0 in c:\\users\\moham\\anaconda3\\lib\\site-packages (from llama-index-core==0.10.50->llama-index) (0.9.0)\n",
      "Requirement already satisfied: wrapt in c:\\users\\moham\\anaconda3\\lib\\site-packages (from llama-index-core==0.10.50->llama-index) (1.14.1)\n",
      "Requirement already satisfied: beautifulsoup4<5.0.0,>=4.12.3 in c:\\users\\moham\\anaconda3\\lib\\site-packages (from llama-index-readers-file<0.2.0,>=0.1.4->llama-index) (4.12.3)\n",
      "Requirement already satisfied: pypdf<5.0.0,>=4.0.1 in c:\\users\\moham\\anaconda3\\lib\\site-packages (from llama-index-readers-file<0.2.0,>=0.1.4->llama-index) (4.2.0)\n",
      "Requirement already satisfied: striprtf<0.0.27,>=0.0.26 in c:\\users\\moham\\anaconda3\\lib\\site-packages (from llama-index-readers-file<0.2.0,>=0.1.4->llama-index) (0.0.26)\n",
      "Requirement already satisfied: llama-parse<0.5.0,>=0.4.0 in c:\\users\\moham\\anaconda3\\lib\\site-packages (from llama-index-readers-llama-parse<0.2.0,>=0.1.2->llama-index) (0.4.4)\n",
      "Requirement already satisfied: aiosignal>=1.1.2 in c:\\users\\moham\\anaconda3\\lib\\site-packages (from aiohttp<4.0.0,>=3.8.6->llama-index-core==0.10.50->llama-index) (1.3.1)\n",
      "Requirement already satisfied: attrs>=17.3.0 in c:\\users\\moham\\anaconda3\\lib\\site-packages (from aiohttp<4.0.0,>=3.8.6->llama-index-core==0.10.50->llama-index) (21.4.0)\n",
      "Requirement already satisfied: frozenlist>=1.1.1 in c:\\users\\moham\\anaconda3\\lib\\site-packages (from aiohttp<4.0.0,>=3.8.6->llama-index-core==0.10.50->llama-index) (1.3.3)\n",
      "Requirement already satisfied: multidict<7.0,>=4.5 in c:\\users\\moham\\anaconda3\\lib\\site-packages (from aiohttp<4.0.0,>=3.8.6->llama-index-core==0.10.50->llama-index) (6.0.4)\n",
      "Requirement already satisfied: yarl<2.0,>=1.0 in c:\\users\\moham\\anaconda3\\lib\\site-packages (from aiohttp<4.0.0,>=3.8.6->llama-index-core==0.10.50->llama-index) (1.9.2)\n",
      "Requirement already satisfied: async-timeout<5.0,>=4.0 in c:\\users\\moham\\anaconda3\\lib\\site-packages (from aiohttp<4.0.0,>=3.8.6->llama-index-core==0.10.50->llama-index) (4.0.2)\n",
      "Requirement already satisfied: soupsieve>1.2 in c:\\users\\moham\\anaconda3\\lib\\site-packages (from beautifulsoup4<5.0.0,>=4.12.3->llama-index-readers-file<0.2.0,>=0.1.4->llama-index) (2.3.1)\n",
      "Requirement already satisfied: pydantic>=1.10 in c:\\users\\moham\\anaconda3\\lib\\site-packages (from llama-cloud<0.0.7,>=0.0.6->llama-index-core==0.10.50->llama-index) (2.5.2)\n",
      "Requirement already satisfied: anyio in c:\\users\\moham\\anaconda3\\lib\\site-packages (from httpx->llama-index-core==0.10.50->llama-index) (3.5.0)\n",
      "Requirement already satisfied: certifi in c:\\users\\moham\\anaconda3\\lib\\site-packages (from httpx->llama-index-core==0.10.50->llama-index) (2022.9.14)\n",
      "Requirement already satisfied: httpcore==1.* in c:\\users\\moham\\anaconda3\\lib\\site-packages (from httpx->llama-index-core==0.10.50->llama-index) (1.0.5)\n",
      "Requirement already satisfied: idna in c:\\users\\moham\\anaconda3\\lib\\site-packages (from httpx->llama-index-core==0.10.50->llama-index) (3.3)\n",
      "Requirement already satisfied: sniffio in c:\\users\\moham\\anaconda3\\lib\\site-packages (from httpx->llama-index-core==0.10.50->llama-index) (1.2.0)\n",
      "Requirement already satisfied: h11<0.15,>=0.13 in c:\\users\\moham\\anaconda3\\lib\\site-packages (from httpcore==1.*->httpx->llama-index-core==0.10.50->llama-index) (0.14.0)\n",
      "Requirement already satisfied: click in c:\\users\\moham\\anaconda3\\lib\\site-packages (from nltk<4.0.0,>=3.8.1->llama-index-core==0.10.50->llama-index) (8.0.4)\n",
      "Requirement already satisfied: joblib in c:\\users\\moham\\anaconda3\\lib\\site-packages (from nltk<4.0.0,>=3.8.1->llama-index-core==0.10.50->llama-index) (1.1.0)\n",
      "Requirement already satisfied: regex>=2021.8.3 in c:\\users\\moham\\anaconda3\\lib\\site-packages (from nltk<4.0.0,>=3.8.1->llama-index-core==0.10.50->llama-index) (2022.7.9)\n",
      "Requirement already satisfied: distro<2,>=1.7.0 in c:\\users\\moham\\anaconda3\\lib\\site-packages (from openai>=1.1.0->llama-index-core==0.10.50->llama-index) (1.9.0)\n",
      "Requirement already satisfied: charset-normalizer<4,>=2 in c:\\users\\moham\\anaconda3\\lib\\site-packages (from requests>=2.31.0->llama-index-core==0.10.50->llama-index) (2.0.4)\n",
      "Requirement already satisfied: urllib3<3,>=1.21.1 in c:\\users\\moham\\anaconda3\\lib\\site-packages (from requests>=2.31.0->llama-index-core==0.10.50->llama-index) (1.26.11)\n",
      "Requirement already satisfied: greenlet!=0.4.17 in c:\\users\\moham\\anaconda3\\lib\\site-packages (from SQLAlchemy>=1.4.49->SQLAlchemy[asyncio]>=1.4.49->llama-index-core==0.10.50->llama-index) (1.1.1)\n",
      "Requirement already satisfied: colorama in c:\\users\\moham\\anaconda3\\lib\\site-packages (from tqdm<5.0.0,>=4.66.1->llama-index-core==0.10.50->llama-index) (0.4.5)\n",
      "Requirement already satisfied: mypy-extensions>=0.3.0 in c:\\users\\moham\\anaconda3\\lib\\site-packages (from typing-inspect>=0.8.0->llama-index-core==0.10.50->llama-index) (0.4.3)\n",
      "Requirement already satisfied: marshmallow<4.0.0,>=3.18.0 in c:\\users\\moham\\anaconda3\\lib\\site-packages (from dataclasses-json->llama-index-core==0.10.50->llama-index) (3.20.1)\n",
      "Requirement already satisfied: python-dateutil>=2.8.1 in c:\\users\\moham\\anaconda3\\lib\\site-packages (from pandas->llama-index-core==0.10.50->llama-index) (2.8.2)\n",
      "Requirement already satisfied: pytz>=2020.1 in c:\\users\\moham\\anaconda3\\lib\\site-packages (from pandas->llama-index-core==0.10.50->llama-index) (2022.1)\n",
      "Requirement already satisfied: packaging>=17.0 in c:\\users\\moham\\anaconda3\\lib\\site-packages (from marshmallow<4.0.0,>=3.18.0->dataclasses-json->llama-index-core==0.10.50->llama-index) (23.2)\n",
      "Requirement already satisfied: annotated-types>=0.4.0 in c:\\users\\moham\\anaconda3\\lib\\site-packages (from pydantic>=1.10->llama-cloud<0.0.7,>=0.0.6->llama-index-core==0.10.50->llama-index) (0.6.0)\n",
      "Requirement already satisfied: pydantic-core==2.14.5 in c:\\users\\moham\\anaconda3\\lib\\site-packages (from pydantic>=1.10->llama-cloud<0.0.7,>=0.0.6->llama-index-core==0.10.50->llama-index) (2.14.5)\n",
      "Requirement already satisfied: six>=1.5 in c:\\users\\moham\\anaconda3\\lib\\site-packages (from python-dateutil>=2.8.1->pandas->llama-index-core==0.10.50->llama-index) (1.16.0)\n"
     ]
    },
    {
     "name": "stderr",
     "output_type": "stream",
     "text": [
      "\n",
      "[notice] A new release of pip is available: 24.0 -> 24.1.2\n",
      "[notice] To update, run: python.exe -m pip install --upgrade pip\n"
     ]
    }
   ],
   "source": [
    "!pip install openai\n",
    "!pip install llama-index"
   ]
  },
  {
   "cell_type": "code",
   "execution_count": 42,
   "id": "5750e15b",
   "metadata": {},
   "outputs": [],
   "source": [
    "import os\n",
    "openAI_API_Key=os.environ['openAI_API_Key']"
   ]
  },
  {
   "cell_type": "code",
   "execution_count": 3,
   "id": "603ae403",
   "metadata": {},
   "outputs": [],
   "source": [
    "import nest_asyncio\n",
    "nest_asyncio.apply()"
   ]
  },
  {
   "cell_type": "code",
   "execution_count": 5,
   "id": "6b906d80",
   "metadata": {},
   "outputs": [],
   "source": [
    "from llama_index.core import SimpleDirectoryReader\n",
    "\n",
    "# load documents\n",
    "documents = SimpleDirectoryReader(input_files=[\"D:\\\\University\\\\Test\\\\1.pdf\"]).load_data()"
   ]
  },
  {
   "cell_type": "code",
   "execution_count": 6,
   "id": "2aba1236",
   "metadata": {},
   "outputs": [
    {
     "name": "stdout",
     "output_type": "stream",
     "text": [
      "TRIZ is a methodology that focuses on systematic innovation and technical creativity. It is effective in analyzing customer needs and developing innovative solutions to meet those needs. Integrating TRIZ with Six Sigma can enhance the traditional techniques of Six Sigma by providing a structured approach to problem-solving and innovation.\n"
     ]
    }
   ],
   "source": [
    "from llama_index.core.node_parser import SentenceSplitter\n",
    "\n",
    "splitter = SentenceSplitter(chunk_size=512)\n",
    "nodes = splitter.get_nodes_from_documents(documents)\n",
    "from llama_index.core import VectorStoreIndex\n",
    "\n",
    "vector_index = VectorStoreIndex(nodes)\n",
    "query_engine = vector_index.as_query_engine(similarity_top_k=2)\n",
    "\n",
    "\n",
    "from llama_index.core.vector_stores import MetadataFilters\n",
    "\n",
    "query_engine = vector_index.as_query_engine(\n",
    "    similarity_top_k=5,\n",
    "    filters=MetadataFilters.from_dicts(\n",
    "        [\n",
    "            {\"key\": \"page_label\", \"value\": \"1\"}\n",
    "        ]\n",
    "    )\n",
    ")\n",
    "\n",
    "response = query_engine.query(\n",
    "    \"WHat is TRIZ and why should we integrate it with the six sigma?\", \n",
    ")\n",
    "\n",
    "print(str(response))"
   ]
  },
  {
   "cell_type": "code",
   "execution_count": 8,
   "id": "ca94b444",
   "metadata": {},
   "outputs": [
    {
     "name": "stdout",
     "output_type": "stream",
     "text": [
      "=== Calling Function ===\n",
      "Calling function: vector_tool with args: {\"query\": \"integration of TRIZ and Six Sigma\", \"page_numbers\": []}\n",
      "=== Function Output ===\n",
      "The integration of TRIZ and Six Sigma has been found to be effective in improving banking services. This combination enhances traditional Lean Six Sigma techniques by providing innovative solutions to meet customer needs and improve processes.\n"
     ]
    }
   ],
   "source": [
    "from llama_index.llms.openai import OpenAI\n",
    "from typing import List\n",
    "from llama_index.core.vector_stores import FilterCondition\n",
    "\n",
    "\n",
    "def vector_query(\n",
    "    query: str, \n",
    "    page_numbers: List[str]\n",
    ") -> str:\n",
    "    \"\"\"Perform a vector search over an index.\n",
    "    \n",
    "    query (str): the string query to be embedded.\n",
    "    page_numbers (List[str]): Filter by set of pages. Leave BLANK if we want to perform a vector search\n",
    "        over all pages. Otherwise, filter by the set of specified pages.\n",
    "    \n",
    "    \"\"\"\n",
    "\n",
    "    metadata_dicts = [\n",
    "        {\"key\": \"page_label\", \"value\": p} for p in page_numbers\n",
    "    ]\n",
    "    \n",
    "    query_engine = vector_index.as_query_engine(\n",
    "        similarity_top_k=5,\n",
    "        filters=MetadataFilters.from_dicts(\n",
    "            metadata_dicts,\n",
    "            condition=FilterCondition.OR\n",
    "        )\n",
    "    )\n",
    "    response = query_engine.query(query)\n",
    "    return response\n",
    "    \n",
    "\n",
    "vector_query_tool = FunctionTool.from_defaults(\n",
    "    name=\"vector_tool\",\n",
    "    fn=vector_query\n",
    ")\n",
    "llm = OpenAI(model=\"gpt-3.5-turbo\", temperature=0)\n",
    "response = llm.predict_and_call(\n",
    "    [vector_query_tool], \n",
    "    ''' please consider all pages in this paper and give me a comprehensive definition for the integration of TRIZ and Six Sigma''', \n",
    "    verbose=True\n",
    ")"
   ]
  },
  {
   "cell_type": "code",
   "execution_count": 21,
   "id": "02486552",
   "metadata": {},
   "outputs": [],
   "source": [
    "from llama_index.core import SummaryIndex\n",
    "from llama_index.core.tools import QueryEngineTool\n",
    "\n",
    "summary_index = SummaryIndex(nodes)\n",
    "summary_query_engine = summary_index.as_query_engine(\n",
    "    response_mode=\"tree_summarize\",\n",
    "    use_async=True,\n",
    ")\n",
    "summary_tool = QueryEngineTool.from_defaults(\n",
    "    name=\"summary_tool\",\n",
    "    query_engine=summary_query_engine,\n",
    "    description=(\n",
    "        \"Useful if you want to get a summary of the paper\"\n",
    "    ),\n",
    ")"
   ]
  },
  {
   "cell_type": "code",
   "execution_count": 10,
   "id": "874ed928",
   "metadata": {},
   "outputs": [
    {
     "name": "stdout",
     "output_type": "stream",
     "text": [
      "=== Calling Function ===\n",
      "Calling function: vector_tool with args: {\"query\": \"integration of TRIZ and Six Sigma\", \"page_numbers\": []}\n",
      "=== Function Output ===\n",
      "The integration of TRIZ and Six Sigma has been shown to be effective in improving banking services. This combination enhances traditional Lean Six Sigma techniques by providing innovative solutions to meet customer needs and improve service quality and speed.\n"
     ]
    }
   ],
   "source": [
    "response = llm.predict_and_call(\n",
    "    [vector_query_tool, summary_tool], \n",
    "    \n",
    "    ''' please consider all pages in this paper and give me a comprehensive definition for the integration of TRIZ and Six Sigma''', \n",
    "    verbose=True\n",
    ")"
   ]
  },
  {
   "cell_type": "code",
   "execution_count": 11,
   "id": "b650a8bb",
   "metadata": {
    "scrolled": true
   },
   "outputs": [
    {
     "name": "stdout",
     "output_type": "stream",
     "text": [
      "=== Calling Function ===\n",
      "Calling function: summary_tool with args: {\"input\": \"TRIZ\"}\n",
      "=== Function Output ===\n",
      "TRIZ is a problem-solving methodology that allows for creative solutions by revealing and solving problems in various fields. It focuses on developing inventive thinking skills and a creative personality. TRIZ is effective in analyzing customer needs and developing innovative solutions to meet those needs. It has been successfully applied in various industries, including manufacturing, to improve processes and solve technical problems. TRIZ provides a systematic approach to innovation by drawing principles from innovative inventions across different fields and guiding individuals to understand problems as systems and promote product performance by resolving contradictions.\n"
     ]
    }
   ],
   "source": [
    "response = llm.predict_and_call(\n",
    "    [vector_query_tool, summary_tool], \n",
    "    \n",
    "    '''give me a comprehensive definition of TRIZ''', \n",
    "    verbose=True\n",
    ")"
   ]
  },
  {
   "cell_type": "markdown",
   "id": "0f71935a",
   "metadata": {},
   "source": [
    "Agent worker is a list of agents who are expert in executing various task. Agent runner some how manage the agents and specify what should be done in every stage!\n",
    "\n",
    "What Agent runner does is mapping from task_id to task_state\n",
    "\n",
    "Task State:\n",
    "Tasks\n",
    "Completed States\n",
    "Step Ques"
   ]
  },
  {
   "cell_type": "code",
   "execution_count": 13,
   "id": "2e53aae9",
   "metadata": {},
   "outputs": [],
   "source": [
    "from llama_index.core.agent import FunctionCallingAgentWorker\n",
    "from llama_index.core.agent import AgentRunner\n",
    "\n",
    "agent_worker = FunctionCallingAgentWorker.from_tools(\n",
    "    [vector_query_tool, summary_tool], \n",
    "    llm=llm, \n",
    "    verbose=True\n",
    ")\n",
    "agent = AgentRunner(agent_worker)"
   ]
  },
  {
   "cell_type": "code",
   "execution_count": 43,
   "id": "e2c514b3",
   "metadata": {},
   "outputs": [
    {
     "name": "stdout",
     "output_type": "stream",
     "text": [
      "Added user message to memory: Tell me about TRIZ role in design process, and how TRIZ and LSS can be related together.\n",
      "=== Calling Function ===\n",
      "Calling function: summary_tool with args: {\"input\": \"TRIZ role in design process\"}\n",
      "=== Function Output ===\n",
      "TRIZ methodology plays a crucial role in the design process by providing a systematic approach to problem-solving and innovation. It allows for the identification and resolution of contradictions in any field of knowledge, fostering creative thinking and innovative solutions. By utilizing TRIZ principles, designers can develop high-level products and service applications effectively. TRIZ has been successfully integrated with problem-solving tools in various industries, enabling the development of inventive solutions and enhancing the overall design process.\n",
      "=== Calling Function ===\n",
      "Calling function: summary_tool with args: {\"input\": \"Relationship between TRIZ and Lean Six Sigma\"}\n",
      "=== Function Output ===\n",
      "TRIZ methodology is integrated into the Lean Six Sigma (LSS) approach to enhance problem-solving and innovation in various industries. By combining TRIZ with LSS, companies can effectively identify and solve contradictions, improve processes, and enhance customer satisfaction. The application of TRIZ principles within the LSS framework allows for a systematic approach to problem-solving, leading to successful improvements in service activities and manufacturing spots. This integration enables companies to reduce waste, cut costs, and enhance overall performance in their operations.\n",
      "=== LLM Response ===\n",
      "TRIZ methodology plays a crucial role in the design process by providing a systematic approach to problem-solving and innovation. It allows for the identification and resolution of contradictions in any field of knowledge, fostering creative thinking and innovative solutions. By utilizing TRIZ principles, designers can develop high-level products and service applications effectively. TRIZ has been successfully integrated with problem-solving tools in various industries, enabling the development of inventive solutions and enhancing the overall design process.\n",
      "\n",
      "TRIZ methodology is integrated into the Lean Six Sigma (LSS) approach to enhance problem-solving and innovation in various industries. By combining TRIZ with LSS, companies can effectively identify and solve contradictions, improve processes, and enhance customer satisfaction. The application of TRIZ principles within the LSS framework allows for a systematic approach to problem-solving, leading to successful improvements in service activities and manufacturing spots. This integration enables companies to reduce waste, cut costs, and enhance overall performance in their operations.\n"
     ]
    }
   ],
   "source": [
    "response = agent.query(\n",
    "    \"Tell me about TRIZ role in design process, \"\n",
    "    \"and how TRIZ and LSS can be related together.\"\n",
    ")"
   ]
  },
  {
   "cell_type": "markdown",
   "id": "4861d852",
   "metadata": {},
   "source": [
    "Note: As is clear the agentrunner first breaks down the requiry to the separate tasks then would call related tools and execute the tools after doing each task all of the tasks are integrated in a an overall format."
   ]
  },
  {
   "cell_type": "markdown",
   "id": "7773ce46",
   "metadata": {},
   "source": [
    "We can also see the source nodes for each node:"
   ]
  },
  {
   "cell_type": "code",
   "execution_count": 18,
   "id": "28b513a6",
   "metadata": {},
   "outputs": [
    {
     "name": "stdout",
     "output_type": "stream",
     "text": [
      "page_label: 1\n",
      "file_name: 1.pdf\n",
      "file_path: D:\\University\\Test\\1.pdf\n",
      "file_type: application/pdf\n",
      "file_size: 666613\n",
      "creation_date: 2024-06-06\n",
      "last_modified_date: 2024-06-05\n",
      "\n",
      "Full Terms & Conditions of access and use can be found at\n",
      "https://www.tandfonline.com/action/journalInformation?journalCode=ctqm20\n",
      "Total Quality Management\n",
      "ISSN: 1478-3363 (Print) 1478-3371 (Online) Journal homepage: www.tandfonline.com/journals/ctqm20\n",
      "Applying Lean Six Sigma and TRIZ methodology in\n",
      "banking services\n",
      "Fu-Kwun Wang & Kao-Shan Chen\n",
      "To cite this article:  Fu-Kwun Wang & Kao-Shan Chen (2010) Applying Lean Six Sigma and\n",
      "TRIZ methodology in banking services, Total Quality Management, 21:3, 301-315, DOI:\n",
      "10.1080/14783360903553248\n",
      "To link to this article:  https://doi.org/10.1080/14783360903553248\n",
      "Published online: 08 Apr 2010.\n",
      "Submit your article to this journal \n",
      "Article views: 2569\n",
      "View related articles \n",
      "Citing articles: 19 View citing articles\n"
     ]
    }
   ],
   "source": [
    "print(response.source_nodes[0].get_content(metadata_mode=\"all\"))"
   ]
  },
  {
   "cell_type": "markdown",
   "id": "8f742c19",
   "metadata": {},
   "source": [
    "Note:With the agent runner We can also use the history of the converstion to the agent so that we can ask various questions to the paper with regards to having the history."
   ]
  },
  {
   "cell_type": "code",
   "execution_count": 19,
   "id": "f601aaed",
   "metadata": {},
   "outputs": [
    {
     "name": "stdout",
     "output_type": "stream",
     "text": [
      "Added user message to memory: Please list all the usefull tools in LSS\n",
      "=== LLM Response ===\n",
      "Some useful tools in Lean Six Sigma (LSS) include:\n",
      "\n",
      "1. Value Stream Mapping\n",
      "2. 5S (Sort, Set in order, Shine, Standardize, Sustain)\n",
      "3. Kaizen Events\n",
      "4. Fishbone Diagram (Ishikawa)\n",
      "5. Control Charts\n",
      "6. Pareto Analysis\n",
      "7. Root Cause Analysis\n",
      "8. Failure Mode and Effects Analysis (FMEA)\n",
      "9. Process Mapping\n",
      "10. Poka-Yoke (Error Proofing)\n",
      "\n",
      "These tools are commonly used in Lean Six Sigma projects to identify opportunities for improvement, analyze processes, and implement effective solutions to enhance business performance.\n"
     ]
    }
   ],
   "source": [
    "response = agent.chat(\n",
    "    \"Please list all the usefull tools in LSS\"\n",
    ")"
   ]
  },
  {
   "cell_type": "code",
   "execution_count": 20,
   "id": "3d356dbd",
   "metadata": {},
   "outputs": [
    {
     "name": "stdout",
     "output_type": "stream",
     "text": [
      "Added user message to memory: Please describe the second tool\n",
      "=== Calling Function ===\n",
      "Calling function: summary_tool with args: {\"input\": \"5S (Sort, Set in order, Shine, Standardize, Sustain)\"}\n",
      "=== Function Output ===\n",
      "The application of Lean Six Sigma and TRIZ methodology in the banking services industry has shown effective results in improving operational efficiency and customer satisfaction. By integrating TRIZ into the Lean Six Sigma approach, the company was able to identify and address key issues such as reducing waiting times, improving operational processes, and enhancing customer service. The combination of Lean Six Sigma and TRIZ methodologies allowed for a systematic approach to problem-solving and innovation, leading to significant improvements in process capability and cost savings. The control phase involved implementing a robust control plan to prevent system failures and ensure sustained gains. Through the implementation of DMAIC and TRIZ, the company successfully achieved its goals of waste reduction, cost savings, and enhanced performance in banking services.\n",
      "=== LLM Response ===\n",
      "The 5S methodology, which stands for Sort, Set in order, Shine, Standardize, and Sustain, is a systematic approach to workplace organization and standardization. Here is a brief description of each step:\n",
      "\n",
      "1. Sort: The first step involves sorting through items in the workplace and removing unnecessary items. It helps in decluttering the workspace and identifying essential items.\n",
      "\n",
      "2. Set in order: This step focuses on organizing the remaining items in a structured and efficient manner. It involves assigning specific locations for items, labeling them, and ensuring easy access.\n",
      "\n",
      "3. Shine: The shine step emphasizes cleanliness and maintenance of the workspace. It involves regular cleaning and inspection to ensure a safe and organized environment.\n",
      "\n",
      "4. Standardize: Standardization involves creating and implementing standardized work procedures and visual controls. It ensures consistency in processes and helps in sustaining improvements.\n",
      "\n",
      "5. Sustain: The sustain step is about maintaining the 5S practices over the long term. It involves developing a culture of continuous improvement and regular audits to ensure adherence to the 5S principles.\n",
      "\n",
      "Overall, the 5S methodology aims to improve efficiency, safety, and productivity in the workplace by creating a well-organized and standardized work environment.\n"
     ]
    }
   ],
   "source": [
    "response = agent.chat(\"Please describe the second tool\")"
   ]
  },
  {
   "cell_type": "markdown",
   "id": "473679d9",
   "metadata": {},
   "source": [
    "**Lower-Level: Debuggability and Control**"
   ]
  },
  {
   "cell_type": "markdown",
   "id": "1ba49d46",
   "metadata": {},
   "source": [
    "Note: with agent runner you can also control the tasks of the agents in each step and debugg and modify them!\n",
    "Note: With this option you can also pause the excution for a while and continue"
   ]
  },
  {
   "cell_type": "code",
   "execution_count": 23,
   "id": "1d94eeec",
   "metadata": {},
   "outputs": [],
   "source": [
    "agent_worker = FunctionCallingAgentWorker.from_tools(\n",
    "    [vector_query_tool, summary_tool], \n",
    "    llm=llm, \n",
    "    verbose=True\n",
    ")\n",
    "agent = AgentRunner(agent_worker)"
   ]
  },
  {
   "cell_type": "code",
   "execution_count": 40,
   "id": "d7f890e5",
   "metadata": {},
   "outputs": [],
   "source": [
    "task = agent.create_task(\n",
    "     \"Tell me about TRIZ role in design process, \"\n",
    "    \"and how TRIZ and LSS can be related together.\"\n",
    ")"
   ]
  },
  {
   "cell_type": "code",
   "execution_count": 41,
   "id": "c8951ec6",
   "metadata": {
    "scrolled": true
   },
   "outputs": [
    {
     "name": "stdout",
     "output_type": "stream",
     "text": [
      "Added user message to memory: Tell me about TRIZ role in design process, and how TRIZ and LSS can be related together.\n",
      "=== Calling Function ===\n",
      "Calling function: summary_tool with args: {\"input\": \"TRIZ role in design process\"}\n",
      "=== Function Output ===\n",
      "TRIZ methodology plays a crucial role in the design process by providing a systematic approach to problem-solving and innovation. It allows for the identification of contradictions, creative problem-solving, and the development of inventive solutions to meet customer needs. TRIZ helps in analyzing customer requirements, developing innovative solutions, and enhancing the overall performance of products or services by addressing contradictions effectively. Through the application of TRIZ principles, designers can develop high-level products and improve service applications by identifying and solving complex problems in a structured and innovative manner.\n",
      "=== Calling Function ===\n",
      "Calling function: summary_tool with args: {\"input\": \"TRIZ and Lean Six Sigma relationship\"}\n",
      "=== Function Output ===\n",
      "TRIZ methodology and Lean Six Sigma are integrated to enhance traditional techniques and improve business performance. TRIZ provides a systematic approach for analyzing customer needs and developing innovative solutions, while Lean Six Sigma focuses on reducing defects and improving process efficiency. By combining TRIZ with Lean Six Sigma, businesses can address contradictions, improve customer satisfaction, and achieve cost reduction in service industries like banking services. The integration of TRIZ into the Lean Six Sigma approach has shown effective results in enhancing service operations and achieving business improvement.\n"
     ]
    }
   ],
   "source": [
    "step_output = agent.run_step(task.task_id)"
   ]
  },
  {
   "cell_type": "markdown",
   "id": "1ded3ac2",
   "metadata": {},
   "source": [
    "If we compare it with the previous response of the same query we can vividly see that the llm did not do the last step."
   ]
  },
  {
   "cell_type": "code",
   "execution_count": 45,
   "id": "687ba1c0",
   "metadata": {},
   "outputs": [],
   "source": [
    "#task"
   ]
  },
  {
   "cell_type": "code",
   "execution_count": 46,
   "id": "493d2e1a",
   "metadata": {},
   "outputs": [
    {
     "name": "stdout",
     "output_type": "stream",
     "text": [
      "Num completed for task 8f4a2e59-53e2-4a4f-bf51-b611f38cede4: 1\n",
      "TRIZ methodology plays a crucial role in the design process by providing a systematic approach to problem-solving and innovation. It allows for the identification of contradictions, creative problem-solving, and the development of inventive solutions to meet customer needs. TRIZ helps in analyzing customer requirements, developing innovative solutions, and enhancing the overall performance of products or services by addressing contradictions effectively. Through the application of TRIZ principles, designers can develop high-level products and improve service applications by identifying and solving complex problems in a structured and innovative manner.\n"
     ]
    }
   ],
   "source": [
    "completed_steps = agent.get_completed_steps(task.task_id)\n",
    "print(f\"Num completed for task {task.task_id}: {len(completed_steps)}\")\n",
    "print(completed_steps[0].output.sources[0].raw_output)"
   ]
  },
  {
   "cell_type": "code",
   "execution_count": 47,
   "id": "08dbf34d",
   "metadata": {},
   "outputs": [],
   "source": [
    "#completed_steps"
   ]
  },
  {
   "cell_type": "code",
   "execution_count": 48,
   "id": "579e84cd",
   "metadata": {},
   "outputs": [
    {
     "name": "stdout",
     "output_type": "stream",
     "text": [
      "Num upcoming steps for task 8f4a2e59-53e2-4a4f-bf51-b611f38cede4: 1\n"
     ]
    },
    {
     "data": {
      "text/plain": [
       "TaskStep(task_id='8f4a2e59-53e2-4a4f-bf51-b611f38cede4', step_id='260c613a-bead-4821-9003-80a6c504bdab', input=None, step_state={}, next_steps={}, prev_steps={}, is_ready=True)"
      ]
     },
     "execution_count": 48,
     "metadata": {},
     "output_type": "execute_result"
    }
   ],
   "source": [
    "upcoming_steps = agent.get_upcoming_steps(task.task_id)\n",
    "print(f\"Num upcoming steps for task {task.task_id}: {len(upcoming_steps)}\")\n",
    "upcoming_steps[0]"
   ]
  },
  {
   "cell_type": "code",
   "execution_count": 49,
   "id": "46e145f0",
   "metadata": {},
   "outputs": [
    {
     "name": "stdout",
     "output_type": "stream",
     "text": [
      "Added user message to memory: How Lss help TRIZ?\n",
      "=== Calling Function ===\n",
      "Calling function: summary_tool with args: {\"input\": \"How Lean Six Sigma helps TRIZ\"}\n",
      "=== Function Output ===\n",
      "Lean Six Sigma helps TRIZ by providing a structured methodology for process improvement and waste reduction, which complements TRIZ's innovative problem-solving approach. By integrating Lean Six Sigma with TRIZ, organizations can effectively identify and eliminate process variations, reduce defects, enhance customer satisfaction, and improve operational efficiency in a systematic and innovative manner. This integration allows for a comprehensive improvement strategy that combines the strengths of both methodologies to drive continuous enhancement in service quality and operational performance.\n"
     ]
    }
   ],
   "source": [
    "step_output = agent.run_step(\n",
    "    task.task_id, input=\"How Lss help TRIZ?\"\n",
    ")"
   ]
  },
  {
   "cell_type": "code",
   "execution_count": 50,
   "id": "6e6d07e8",
   "metadata": {
    "scrolled": true
   },
   "outputs": [
    {
     "name": "stdout",
     "output_type": "stream",
     "text": [
      "=== LLM Response ===\n",
      "Lean Six Sigma helps TRIZ by providing a structured methodology for process improvement and waste reduction, which complements TRIZ's innovative problem-solving approach. By integrating Lean Six Sigma with TRIZ, organizations can effectively identify and eliminate process variations, reduce defects, enhance customer satisfaction, and improve operational efficiency in a systematic and innovative manner. This integration allows for a comprehensive improvement strategy that combines the strengths of both methodologies to drive continuous enhancement in service quality and operational performance.\n",
      "True\n"
     ]
    }
   ],
   "source": [
    "step_output = agent.run_step(task.task_id)\n",
    "print(step_output.is_last)"
   ]
  },
  {
   "cell_type": "markdown",
   "id": "d8dee2d0",
   "metadata": {},
   "source": [
    "Note: Step out put is last only return the last part of the LLM"
   ]
  },
  {
   "cell_type": "code",
   "execution_count": 51,
   "id": "84fe8778",
   "metadata": {},
   "outputs": [],
   "source": [
    "response = agent.finalize_response(task.task_id)"
   ]
  },
  {
   "cell_type": "code",
   "execution_count": 52,
   "id": "61dac9de",
   "metadata": {},
   "outputs": [
    {
     "name": "stdout",
     "output_type": "stream",
     "text": [
      "Lean Six Sigma helps TRIZ by providing a structured methodology for process improvement and waste reduction, which complements TRIZ's innovative problem-solving approach. By integrating Lean Six Sigma with TRIZ, organizations can effectively identify and eliminate process variations, reduce defects, enhance customer satisfaction, and improve operational efficiency in a systematic and innovative manner. This integration allows for a comprehensive improvement strategy that combines the strengths of both methodologies to drive continuous enhancement in service quality and operational performance.\n"
     ]
    }
   ],
   "source": [
    "print(str(response))"
   ]
  },
  {
   "cell_type": "code",
   "execution_count": null,
   "id": "a27ce151",
   "metadata": {},
   "outputs": [],
   "source": []
  }
 ],
 "metadata": {
  "kernelspec": {
   "display_name": "Python 3 (ipykernel)",
   "language": "python",
   "name": "python3"
  },
  "language_info": {
   "codemirror_mode": {
    "name": "ipython",
    "version": 3
   },
   "file_extension": ".py",
   "mimetype": "text/x-python",
   "name": "python",
   "nbconvert_exporter": "python",
   "pygments_lexer": "ipython3",
   "version": "3.9.13"
  }
 },
 "nbformat": 4,
 "nbformat_minor": 5
}

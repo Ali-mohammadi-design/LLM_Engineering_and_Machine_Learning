{
  "nbformat": 4,
  "nbformat_minor": 0,
  "metadata": {
    "colab": {
      "provenance": [],
      "authorship_tag": "ABX9TyMnUl3Ax6ZQu4Svb35htVch",
      "include_colab_link": true
    },
    "kernelspec": {
      "name": "python3",
      "display_name": "Python 3"
    },
    "language_info": {
      "name": "python"
    }
  },
  "cells": [
    {
      "cell_type": "markdown",
      "metadata": {
        "id": "view-in-github",
        "colab_type": "text"
      },
      "source": [
        "<a href=\"https://colab.research.google.com/github/Ali-mohammadi-design/LLM_Engineering_and_Machine_Learning/blob/main/AutoGen_Different_Agent_assistants_to_review.ipynb\" target=\"_parent\"><img src=\"https://colab.research.google.com/assets/colab-badge.svg\" alt=\"Open In Colab\"/></a>"
      ]
    },
    {
      "cell_type": "code",
      "execution_count": 1,
      "metadata": {
        "colab": {
          "base_uri": "https://localhost:8080/"
        },
        "id": "bteTHax7Cf2b",
        "outputId": "288be9eb-d6c8-4e22-f966-ab82a069df14"
      },
      "outputs": [
        {
          "output_type": "stream",
          "name": "stdout",
          "text": [
            "Collecting pyautogen\n",
            "  Downloading pyautogen-0.2.34-py3-none-any.whl.metadata (27 kB)\n",
            "Collecting diskcache (from pyautogen)\n",
            "  Downloading diskcache-5.6.3-py3-none-any.whl.metadata (20 kB)\n",
            "Collecting docker (from pyautogen)\n",
            "  Downloading docker-7.1.0-py3-none-any.whl.metadata (3.8 kB)\n",
            "Collecting flaml (from pyautogen)\n",
            "  Downloading FLAML-2.2.0-py3-none-any.whl.metadata (15 kB)\n",
            "Requirement already satisfied: numpy<2,>=1.17.0 in /usr/local/lib/python3.10/dist-packages (from pyautogen) (1.26.4)\n",
            "Collecting openai>=1.3 (from pyautogen)\n",
            "  Downloading openai-1.40.6-py3-none-any.whl.metadata (22 kB)\n",
            "Requirement already satisfied: packaging in /usr/local/lib/python3.10/dist-packages (from pyautogen) (24.1)\n",
            "Requirement already satisfied: pydantic!=2.6.0,<3,>=1.10 in /usr/local/lib/python3.10/dist-packages (from pyautogen) (2.8.2)\n",
            "Collecting python-dotenv (from pyautogen)\n",
            "  Downloading python_dotenv-1.0.1-py3-none-any.whl.metadata (23 kB)\n",
            "Requirement already satisfied: termcolor in /usr/local/lib/python3.10/dist-packages (from pyautogen) (2.4.0)\n",
            "Collecting tiktoken (from pyautogen)\n",
            "  Downloading tiktoken-0.7.0-cp310-cp310-manylinux_2_17_x86_64.manylinux2014_x86_64.whl.metadata (6.6 kB)\n",
            "Requirement already satisfied: anyio<5,>=3.5.0 in /usr/local/lib/python3.10/dist-packages (from openai>=1.3->pyautogen) (3.7.1)\n",
            "Requirement already satisfied: distro<2,>=1.7.0 in /usr/lib/python3/dist-packages (from openai>=1.3->pyautogen) (1.7.0)\n",
            "Collecting httpx<1,>=0.23.0 (from openai>=1.3->pyautogen)\n",
            "  Downloading httpx-0.27.0-py3-none-any.whl.metadata (7.2 kB)\n",
            "Collecting jiter<1,>=0.4.0 (from openai>=1.3->pyautogen)\n",
            "  Downloading jiter-0.5.0-cp310-cp310-manylinux_2_17_x86_64.manylinux2014_x86_64.whl.metadata (3.6 kB)\n",
            "Requirement already satisfied: sniffio in /usr/local/lib/python3.10/dist-packages (from openai>=1.3->pyautogen) (1.3.1)\n",
            "Requirement already satisfied: tqdm>4 in /usr/local/lib/python3.10/dist-packages (from openai>=1.3->pyautogen) (4.66.5)\n",
            "Requirement already satisfied: typing-extensions<5,>=4.11 in /usr/local/lib/python3.10/dist-packages (from openai>=1.3->pyautogen) (4.12.2)\n",
            "Requirement already satisfied: annotated-types>=0.4.0 in /usr/local/lib/python3.10/dist-packages (from pydantic!=2.6.0,<3,>=1.10->pyautogen) (0.7.0)\n",
            "Requirement already satisfied: pydantic-core==2.20.1 in /usr/local/lib/python3.10/dist-packages (from pydantic!=2.6.0,<3,>=1.10->pyautogen) (2.20.1)\n",
            "Requirement already satisfied: requests>=2.26.0 in /usr/local/lib/python3.10/dist-packages (from docker->pyautogen) (2.32.3)\n",
            "Requirement already satisfied: urllib3>=1.26.0 in /usr/local/lib/python3.10/dist-packages (from docker->pyautogen) (2.0.7)\n",
            "Requirement already satisfied: regex>=2022.1.18 in /usr/local/lib/python3.10/dist-packages (from tiktoken->pyautogen) (2024.5.15)\n",
            "Requirement already satisfied: idna>=2.8 in /usr/local/lib/python3.10/dist-packages (from anyio<5,>=3.5.0->openai>=1.3->pyautogen) (3.7)\n",
            "Requirement already satisfied: exceptiongroup in /usr/local/lib/python3.10/dist-packages (from anyio<5,>=3.5.0->openai>=1.3->pyautogen) (1.2.2)\n",
            "Requirement already satisfied: certifi in /usr/local/lib/python3.10/dist-packages (from httpx<1,>=0.23.0->openai>=1.3->pyautogen) (2024.7.4)\n",
            "Collecting httpcore==1.* (from httpx<1,>=0.23.0->openai>=1.3->pyautogen)\n",
            "  Downloading httpcore-1.0.5-py3-none-any.whl.metadata (20 kB)\n",
            "Collecting h11<0.15,>=0.13 (from httpcore==1.*->httpx<1,>=0.23.0->openai>=1.3->pyautogen)\n",
            "  Downloading h11-0.14.0-py3-none-any.whl.metadata (8.2 kB)\n",
            "Requirement already satisfied: charset-normalizer<4,>=2 in /usr/local/lib/python3.10/dist-packages (from requests>=2.26.0->docker->pyautogen) (3.3.2)\n",
            "Downloading pyautogen-0.2.34-py3-none-any.whl (326 kB)\n",
            "\u001b[2K   \u001b[90m━━━━━━━━━━━━━━━━━━━━━━━━━━━━━━━━━━━━━━━━\u001b[0m \u001b[32m326.8/326.8 kB\u001b[0m \u001b[31m7.2 MB/s\u001b[0m eta \u001b[36m0:00:00\u001b[0m\n",
            "\u001b[?25hDownloading openai-1.40.6-py3-none-any.whl (361 kB)\n",
            "\u001b[2K   \u001b[90m━━━━━━━━━━━━━━━━━━━━━━━━━━━━━━━━━━━━━━━━\u001b[0m \u001b[32m361.3/361.3 kB\u001b[0m \u001b[31m21.0 MB/s\u001b[0m eta \u001b[36m0:00:00\u001b[0m\n",
            "\u001b[?25hDownloading diskcache-5.6.3-py3-none-any.whl (45 kB)\n",
            "\u001b[2K   \u001b[90m━━━━━━━━━━━━━━━━━━━━━━━━━━━━━━━━━━━━━━━━\u001b[0m \u001b[32m45.5/45.5 kB\u001b[0m \u001b[31m2.7 MB/s\u001b[0m eta \u001b[36m0:00:00\u001b[0m\n",
            "\u001b[?25hDownloading docker-7.1.0-py3-none-any.whl (147 kB)\n",
            "\u001b[2K   \u001b[90m━━━━━━━━━━━━━━━━━━━━━━━━━━━━━━━━━━━━━━━━\u001b[0m \u001b[32m147.8/147.8 kB\u001b[0m \u001b[31m8.3 MB/s\u001b[0m eta \u001b[36m0:00:00\u001b[0m\n",
            "\u001b[?25hDownloading FLAML-2.2.0-py3-none-any.whl (297 kB)\n",
            "\u001b[2K   \u001b[90m━━━━━━━━━━━━━━━━━━━━━━━━━━━━━━━━━━━━━━━━\u001b[0m \u001b[32m297.2/297.2 kB\u001b[0m \u001b[31m16.6 MB/s\u001b[0m eta \u001b[36m0:00:00\u001b[0m\n",
            "\u001b[?25hDownloading python_dotenv-1.0.1-py3-none-any.whl (19 kB)\n",
            "Downloading tiktoken-0.7.0-cp310-cp310-manylinux_2_17_x86_64.manylinux2014_x86_64.whl (1.1 MB)\n",
            "\u001b[2K   \u001b[90m━━━━━━━━━━━━━━━━━━━━━━━━━━━━━━━━━━━━━━━━\u001b[0m \u001b[32m1.1/1.1 MB\u001b[0m \u001b[31m34.3 MB/s\u001b[0m eta \u001b[36m0:00:00\u001b[0m\n",
            "\u001b[?25hDownloading httpx-0.27.0-py3-none-any.whl (75 kB)\n",
            "\u001b[2K   \u001b[90m━━━━━━━━━━━━━━━━━━━━━━━━━━━━━━━━━━━━━━━━\u001b[0m \u001b[32m75.6/75.6 kB\u001b[0m \u001b[31m4.3 MB/s\u001b[0m eta \u001b[36m0:00:00\u001b[0m\n",
            "\u001b[?25hDownloading httpcore-1.0.5-py3-none-any.whl (77 kB)\n",
            "\u001b[2K   \u001b[90m━━━━━━━━━━━━━━━━━━━━━━━━━━━━━━━━━━━━━━━━\u001b[0m \u001b[32m77.9/77.9 kB\u001b[0m \u001b[31m4.2 MB/s\u001b[0m eta \u001b[36m0:00:00\u001b[0m\n",
            "\u001b[?25hDownloading jiter-0.5.0-cp310-cp310-manylinux_2_17_x86_64.manylinux2014_x86_64.whl (318 kB)\n",
            "\u001b[2K   \u001b[90m━━━━━━━━━━━━━━━━━━━━━━━━━━━━━━━━━━━━━━━━\u001b[0m \u001b[32m318.9/318.9 kB\u001b[0m \u001b[31m16.4 MB/s\u001b[0m eta \u001b[36m0:00:00\u001b[0m\n",
            "\u001b[?25hDownloading h11-0.14.0-py3-none-any.whl (58 kB)\n",
            "\u001b[2K   \u001b[90m━━━━━━━━━━━━━━━━━━━━━━━━━━━━━━━━━━━━━━━━\u001b[0m \u001b[32m58.3/58.3 kB\u001b[0m \u001b[31m3.3 MB/s\u001b[0m eta \u001b[36m0:00:00\u001b[0m\n",
            "\u001b[?25hInstalling collected packages: python-dotenv, jiter, h11, flaml, diskcache, tiktoken, httpcore, docker, httpx, openai, pyautogen\n",
            "Successfully installed diskcache-5.6.3 docker-7.1.0 flaml-2.2.0 h11-0.14.0 httpcore-1.0.5 httpx-0.27.0 jiter-0.5.0 openai-1.40.6 pyautogen-0.2.34 python-dotenv-1.0.1 tiktoken-0.7.0\n"
          ]
        }
      ],
      "source": [
        "!pip install pyautogen"
      ]
    },
    {
      "cell_type": "code",
      "source": [
        "import os\n",
        "openAI_API_Key=os.environ['openAI_API_Key']\n",
        "llm_config = {\"model\": \"gpt-3.5-turbo\",  \"api_key\":openAI_API_Key }"
      ],
      "metadata": {
        "id": "kD9s679FC1VZ"
      },
      "execution_count": 23,
      "outputs": []
    },
    {
      "cell_type": "code",
      "source": [
        "task = '''\n",
        "        Write a concise but engaging blogpost about\n",
        "       DeepLearning.AI. Make sure the blogpost is\n",
        "       within 100 words.\n",
        "       '''\n"
      ],
      "metadata": {
        "id": "7LloTI9XDLxA"
      },
      "execution_count": 8,
      "outputs": []
    },
    {
      "cell_type": "markdown",
      "source": [
        "**Create a writer agent**"
      ],
      "metadata": {
        "id": "BnT5Zb5FDRWR"
      }
    },
    {
      "cell_type": "code",
      "source": [
        "import autogen"
      ],
      "metadata": {
        "id": "po4IyF3rDbE3"
      },
      "execution_count": 9,
      "outputs": []
    },
    {
      "cell_type": "code",
      "source": [
        "writer = autogen.AssistantAgent(\n",
        "    name=\"Writer\",\n",
        "    system_message=\"You are a writer. You write engaging and concise \"\n",
        "        \"blogpost (with title) on given topics. You must polish your \"\n",
        "        \"writing based on the feedback you receive and give a refined \"\n",
        "        \"version. Only return your final work without additional comments.\",\n",
        "    llm_config=llm_config,\n",
        ")"
      ],
      "metadata": {
        "id": "K2YZ3--XDOXG"
      },
      "execution_count": 10,
      "outputs": []
    },
    {
      "cell_type": "code",
      "source": [
        "reply = writer.generate_reply(messages=[{\"content\": task, \"role\": \"user\"}])"
      ],
      "metadata": {
        "id": "cftLCHA5DUsW"
      },
      "execution_count": 11,
      "outputs": []
    },
    {
      "cell_type": "code",
      "source": [
        "print(reply)"
      ],
      "metadata": {
        "colab": {
          "base_uri": "https://localhost:8080/"
        },
        "id": "ZExfgYb9EB_k",
        "outputId": "db0c3c76-0560-46bb-bb0e-af7d4a968dfa"
      },
      "execution_count": 12,
      "outputs": [
        {
          "output_type": "stream",
          "name": "stdout",
          "text": [
            "Title: Unleashing the Power of DeepLearning.AI\n",
            "\n",
            "Embark on a journey of innovation and discovery with DeepLearning.AI! Offering cutting-edge courses and resources in artificial intelligence, DeepLearning.AI equips learners with the skills to conquer the world of deep learning. From computer vision to natural language processing, this platform provides the tools to delve into the realm of AI. Sharpen your knowledge, collaborate with experts, and transform your understanding of AI. Join DeepLearning.AI today and unlock a future filled with endless possibilities!\n"
          ]
        }
      ]
    },
    {
      "cell_type": "markdown",
      "source": [
        "**Adding reflection**"
      ],
      "metadata": {
        "id": "YjdeaY7lEKBj"
      }
    },
    {
      "cell_type": "markdown",
      "source": [
        "Create a critic agent to reflect on the work of the writer agent."
      ],
      "metadata": {
        "id": "94hcQQNVEMKi"
      }
    },
    {
      "cell_type": "code",
      "source": [
        "critic = autogen.AssistantAgent(\n",
        "    name=\"Critic\",\n",
        "    is_termination_msg=lambda x: x.get(\"content\", \"\").find(\"TERMINATE\") >= 0,\n",
        "    llm_config=llm_config,\n",
        "    system_message=\"You are a critic. You review the work of \"\n",
        "                \"the writer and provide constructive \"\n",
        "                \"feedback to help improve the quality of the content.\",\n",
        ")"
      ],
      "metadata": {
        "id": "dVeAbHh7EEqM"
      },
      "execution_count": 13,
      "outputs": []
    },
    {
      "cell_type": "code",
      "source": [
        "res = critic.initiate_chat(\n",
        "    recipient=writer,\n",
        "    message=task,\n",
        "    max_turns=2,\n",
        "    summary_method=\"last_msg\"\n",
        ")"
      ],
      "metadata": {
        "colab": {
          "base_uri": "https://localhost:8080/"
        },
        "id": "5nbIjR2BEcHN",
        "outputId": "ba14920a-0c04-43b5-c8ea-99787c063987"
      },
      "execution_count": 14,
      "outputs": [
        {
          "output_type": "stream",
          "name": "stdout",
          "text": [
            "Critic (to Writer):\n",
            "\n",
            "\n",
            "        Write a concise but engaging blogpost about\n",
            "       DeepLearning.AI. Make sure the blogpost is\n",
            "       within 100 words.\n",
            "       \n",
            "\n",
            "--------------------------------------------------------------------------------\n",
            "Writer (to Critic):\n",
            "\n",
            "Title: Unleashing the Power of DeepLearning.AI\n",
            "\n",
            "Embark on a journey of innovation and discovery with DeepLearning.AI! Offering cutting-edge courses and resources in artificial intelligence, DeepLearning.AI equips learners with the skills to conquer the world of deep learning. From computer vision to natural language processing, this platform provides the tools to delve into the realm of AI. Sharpen your knowledge, collaborate with experts, and transform your understanding of AI. Join DeepLearning.AI today and unlock a future filled with endless possibilities!\n",
            "\n",
            "--------------------------------------------------------------------------------\n",
            "Critic (to Writer):\n",
            "\n",
            "This blog post effectively conveys the enthusiasm and potential of DeepLearning.AI to readers. The use of energetic language and a call to action adds to the engagement level of the post. To further enhance it, you may consider including specific examples of successful projects or testimonials from learners who have benefited from the platform. Also, incorporating brief information about the founder or the team behind DeepLearning.AI can add credibility to the content. Overall, focusing on providing a bit more depth and detail could help make the blog post even more compelling and informative.\n",
            "\n",
            "--------------------------------------------------------------------------------\n",
            "Writer (to Critic):\n",
            "\n",
            "Title: Empower Your AI Journey with DeepLearning.AI\n",
            "\n",
            "Enter a realm of innovation and exploration with DeepLearning.AI! From revolutionizing industries to driving advances in technology, DeepLearning.AI offers an array of courses to propel your deep learning expertise. Master computer vision, natural language processing, and more alongside industry experts and fellow enthusiasts. Hear success stories from learners who have transformed their AI skills. Founded by acclaimed AI expert Andrew Ng, DeepLearning.AI is your gateway to a future of limitless AI possibilities. Dive in, collaborate, and elevate your understanding of AI with DeepLearning.AI today!\n",
            "\n",
            "--------------------------------------------------------------------------------\n"
          ]
        }
      ]
    },
    {
      "cell_type": "markdown",
      "source": [
        "**Nested chat**"
      ],
      "metadata": {
        "id": "S-defcbjE1By"
      }
    },
    {
      "cell_type": "code",
      "source": [
        "SEO_reviewer = autogen.AssistantAgent(\n",
        "    name=\"SEO Reviewer\",\n",
        "    llm_config=llm_config,\n",
        "    system_message=\"You are an SEO reviewer, known for \"\n",
        "        \"your ability to optimize content for search engines, \"\n",
        "        \"ensuring that it ranks well and attracts organic traffic. \"\n",
        "        \"Make sure your suggestion is concise (within 3 bullet points), \"\n",
        "        \"concrete and to the point. \"\n",
        "        \"Begin the review by stating your role.\",\n",
        ")"
      ],
      "metadata": {
        "id": "rkU5fD1FEe52"
      },
      "execution_count": 15,
      "outputs": []
    },
    {
      "cell_type": "code",
      "source": [
        "legal_reviewer = autogen.AssistantAgent(\n",
        "    name=\"Legal Reviewer\",\n",
        "    llm_config=llm_config,\n",
        "    system_message=\"You are a legal reviewer, known for \"\n",
        "        \"your ability to ensure that content is legally compliant \"\n",
        "        \"and free from any potential legal issues. \"\n",
        "        \"Make sure your suggestion is concise (within 3 bullet points), \"\n",
        "        \"concrete and to the point. \"\n",
        "        \"Begin the review by stating your role.\",\n",
        ")"
      ],
      "metadata": {
        "id": "fSFZla-gE8iA"
      },
      "execution_count": 16,
      "outputs": []
    },
    {
      "cell_type": "code",
      "source": [
        "ethics_reviewer = autogen.AssistantAgent(\n",
        "    name=\"Ethics Reviewer\",\n",
        "    llm_config=llm_config,\n",
        "    system_message=\"You are an ethics reviewer, known for \"\n",
        "        \"your ability to ensure that content is ethically sound \"\n",
        "        \"and free from any potential ethical issues. \"\n",
        "        \"Make sure your suggestion is concise (within 3 bullet points), \"\n",
        "        \"concrete and to the point. \"\n",
        "        \"Begin the review by stating your role. \",\n",
        ")"
      ],
      "metadata": {
        "id": "gEmdZgDZFAwx"
      },
      "execution_count": 17,
      "outputs": []
    },
    {
      "cell_type": "code",
      "source": [
        "meta_reviewer = autogen.AssistantAgent(\n",
        "    name=\"Meta Reviewer\",\n",
        "    llm_config=llm_config,\n",
        "    system_message=\"You are a meta reviewer, you aggragate and review \"\n",
        "    \"the work of other reviewers and give a final suggestion on the content.\",\n",
        ")"
      ],
      "metadata": {
        "id": "AHPP0EFFFD9X"
      },
      "execution_count": 18,
      "outputs": []
    },
    {
      "cell_type": "markdown",
      "source": [
        "**Orchestrate the nested chats to solve the task**"
      ],
      "metadata": {
        "id": "YmPab5vRFUla"
      }
    },
    {
      "cell_type": "code",
      "source": [
        "def reflection_message(recipient, messages, sender, config):\n",
        "    return f'''Review the following content.\n",
        "            \\n\\n {recipient.chat_messages_for_summary(sender)[-1]['content']}'''\n",
        "\n",
        "review_chats = [\n",
        "    {\n",
        "     \"recipient\": SEO_reviewer,\n",
        "     \"message\": reflection_message,\n",
        "     \"summary_method\": \"reflection_with_llm\",\n",
        "     \"summary_args\": {\"summary_prompt\" :\n",
        "        \"Return review into as JSON object only:\"\n",
        "        \"{'Reviewer': '', 'Review': ''}. Here Reviewer should be your role\",},\n",
        "     \"max_turns\": 1},\n",
        "    {\n",
        "    \"recipient\": legal_reviewer, \"message\": reflection_message,\n",
        "     \"summary_method\": \"reflection_with_llm\",\n",
        "     \"summary_args\": {\"summary_prompt\" :\n",
        "        \"Return review into as JSON object only:\"\n",
        "        \"{'Reviewer': '', 'Review': ''}.\",},\n",
        "     \"max_turns\": 1},\n",
        "    {\"recipient\": ethics_reviewer, \"message\": reflection_message,\n",
        "     \"summary_method\": \"reflection_with_llm\",\n",
        "     \"summary_args\": {\"summary_prompt\" :\n",
        "        \"Return review into as JSON object only:\"\n",
        "        \"{'reviewer': '', 'review': ''}\",},\n",
        "     \"max_turns\": 1},\n",
        "     {\"recipient\": meta_reviewer,\n",
        "      \"message\": \"Aggregrate feedback from all reviewers and give final suggestions on the writing.\",\n",
        "     \"max_turns\": 1},\n",
        "]\n"
      ],
      "metadata": {
        "id": "tFp9frpWFGzv"
      },
      "execution_count": 19,
      "outputs": []
    },
    {
      "cell_type": "code",
      "source": [
        "critic.register_nested_chats(\n",
        "    review_chats,\n",
        "    trigger=writer,\n",
        ")"
      ],
      "metadata": {
        "id": "FY8quIn2GJCu"
      },
      "execution_count": 21,
      "outputs": []
    },
    {
      "cell_type": "code",
      "source": [
        "res = critic.initiate_chat(\n",
        "    recipient=writer,\n",
        "    message=task,\n",
        "    max_turns=2,\n",
        "    summary_method=\"last_msg\"\n",
        ")"
      ],
      "metadata": {
        "colab": {
          "base_uri": "https://localhost:8080/"
        },
        "id": "qTpkJ5K1GU6B",
        "outputId": "94acb3ce-700f-4e54-8339-fc7866b06f1a"
      },
      "execution_count": 22,
      "outputs": [
        {
          "output_type": "stream",
          "name": "stdout",
          "text": [
            "Critic (to Writer):\n",
            "\n",
            "\n",
            "        Write a concise but engaging blogpost about\n",
            "       DeepLearning.AI. Make sure the blogpost is\n",
            "       within 100 words.\n",
            "       \n",
            "\n",
            "--------------------------------------------------------------------------------\n",
            "Writer (to Critic):\n",
            "\n",
            "Title: Unleashing the Power of DeepLearning.AI\n",
            "\n",
            "Embark on a journey of innovation and discovery with DeepLearning.AI! Offering cutting-edge courses and resources in artificial intelligence, DeepLearning.AI equips learners with the skills to conquer the world of deep learning. From computer vision to natural language processing, this platform provides the tools to delve into the realm of AI. Sharpen your knowledge, collaborate with experts, and transform your understanding of AI. Join DeepLearning.AI today and unlock a future filled with endless possibilities!\n",
            "\n",
            "--------------------------------------------------------------------------------\n",
            "\n",
            "********************************************************************************\n",
            "Starting a new chat....\n",
            "\n",
            "********************************************************************************\n",
            "Critic (to SEO Reviewer):\n",
            "\n",
            "Review the following content. \n",
            "            \n",
            "\n",
            " Title: Unleashing the Power of DeepLearning.AI\n",
            "\n",
            "Embark on a journey of innovation and discovery with DeepLearning.AI! Offering cutting-edge courses and resources in artificial intelligence, DeepLearning.AI equips learners with the skills to conquer the world of deep learning. From computer vision to natural language processing, this platform provides the tools to delve into the realm of AI. Sharpen your knowledge, collaborate with experts, and transform your understanding of AI. Join DeepLearning.AI today and unlock a future filled with endless possibilities!\n",
            "\n",
            "--------------------------------------------------------------------------------\n",
            "SEO Reviewer (to Critic):\n",
            "\n",
            "As an SEO reviewer, here are my suggestions for optimizing the content:\n",
            "\n",
            "1. Incorporate relevant keywords: Include specific keywords related to deep learning, artificial intelligence, online courses, and skill development to improve search engine visibility. For example, \"deep learning courses,\" \"AI resources,\" and \"artificial intelligence learning platform.\"\n",
            "\n",
            "2. Utilize header tags for structure: Break down the content with header tags (e.g., H2, H3) to improve readability and signal search engines about the key topics covered. Use headers like \"Cutting-edge Deep Learning Courses,\" \"Join DeepLearning.AI Today,\" to highlight important sections.\n",
            "\n",
            "3. Include a compelling meta title and description: Craft a captivating meta title and description that includes target keywords to entice users to click through from search results. For example, \"Master Deep Learning with Top AI Courses at DeepLearning.AI - Sign Up Now!\" This enhances the click-through rate and boosts organic traffic.\n",
            "\n",
            "--------------------------------------------------------------------------------\n",
            "\n",
            "********************************************************************************\n",
            "Starting a new chat....\n",
            "\n",
            "********************************************************************************\n",
            "Critic (to Legal Reviewer):\n",
            "\n",
            "Review the following content. \n",
            "            \n",
            "\n",
            " Title: Unleashing the Power of DeepLearning.AI\n",
            "\n",
            "Embark on a journey of innovation and discovery with DeepLearning.AI! Offering cutting-edge courses and resources in artificial intelligence, DeepLearning.AI equips learners with the skills to conquer the world of deep learning. From computer vision to natural language processing, this platform provides the tools to delve into the realm of AI. Sharpen your knowledge, collaborate with experts, and transform your understanding of AI. Join DeepLearning.AI today and unlock a future filled with endless possibilities!\n",
            "Context: \n",
            "{'Reviewer': 'SEO Reviewer', 'Review': 'As an SEO reviewer, here are my suggestions for optimizing the content: Incorporate relevant keywords, Utilize header tags for structure, Include a compelling meta title and description.'}\n",
            "\n",
            "--------------------------------------------------------------------------------\n",
            "Legal Reviewer (to Critic):\n",
            "\n",
            "As a Legal Reviewer, here are my suggestions for ensuring legal compliance in the content provided:\n",
            "\n",
            "1. Avoid making exaggerated or unsubstantiated claims about the effectiveness of DeepLearning.AI courses or resources to prevent potential false advertising concerns.\n",
            "   \n",
            "2. Ensure any statements related to skills development or career outcomes through DeepLearning.AI are accurate and supported by evidence to avoid misleading consumers.\n",
            "\n",
            "3. Include a disclaimer that outlines the limitations of the platform's offerings and clarifies that individual results may vary, to mitigate any potential liability issues related to users' expectations.\n",
            "\n",
            "--------------------------------------------------------------------------------\n",
            "\n",
            "********************************************************************************\n",
            "Starting a new chat....\n",
            "\n",
            "********************************************************************************\n",
            "Critic (to Ethics Reviewer):\n",
            "\n",
            "Review the following content. \n",
            "            \n",
            "\n",
            " Title: Unleashing the Power of DeepLearning.AI\n",
            "\n",
            "Embark on a journey of innovation and discovery with DeepLearning.AI! Offering cutting-edge courses and resources in artificial intelligence, DeepLearning.AI equips learners with the skills to conquer the world of deep learning. From computer vision to natural language processing, this platform provides the tools to delve into the realm of AI. Sharpen your knowledge, collaborate with experts, and transform your understanding of AI. Join DeepLearning.AI today and unlock a future filled with endless possibilities!\n",
            "Context: \n",
            "{'Reviewer': 'SEO Reviewer', 'Review': 'As an SEO reviewer, here are my suggestions for optimizing the content: Incorporate relevant keywords, Utilize header tags for structure, Include a compelling meta title and description.'}\n",
            "{'Reviewer': 'Legal Reviewer', 'Review': 'As a Legal Reviewer, here are my suggestions for ensuring legal compliance in the content provided: 1. Avoid making exaggerated or unsubstantiated claims about the effectiveness of DeepLearning.AI courses or resources to prevent potential false advertising concerns. 2. Ensure any statements related to skills development or career outcomes through DeepLearning.AI are accurate and supported by evidence to avoid misleading consumers. 3. Include a disclaimer that outlines the limitations of the platform's offerings and clarifies that individual results may vary, to mitigate any potential liability issues related to users' expectations.'}\n",
            "\n",
            "--------------------------------------------------------------------------------\n",
            "Ethics Reviewer (to Critic):\n",
            "\n",
            "As an ethics reviewer, here are my suggestions:\n",
            "\n",
            "1. Ensure that any statements made about the benefits or outcomes of DeepLearning.AI courses are accurate and supported by evidence to avoid misleading learners.\n",
            "   \n",
            "2. Include a disclosure stating any affiliations with the platform or any potential biases that may impact the presentation of information.\n",
            "\n",
            "3. Encourage transparency by clearly stating how user data is collected, used, and protected on the DeepLearning.AI platform.\n",
            "\n",
            "--------------------------------------------------------------------------------\n",
            "\n",
            "********************************************************************************\n",
            "Starting a new chat....\n",
            "\n",
            "********************************************************************************\n",
            "Critic (to Meta Reviewer):\n",
            "\n",
            "Aggregrate feedback from all reviewers and give final suggestions on the writing.\n",
            "Context: \n",
            "{'Reviewer': 'SEO Reviewer', 'Review': 'As an SEO reviewer, here are my suggestions for optimizing the content: Incorporate relevant keywords, Utilize header tags for structure, Include a compelling meta title and description.'}\n",
            "{'Reviewer': 'Legal Reviewer', 'Review': 'As a Legal Reviewer, here are my suggestions for ensuring legal compliance in the content provided: 1. Avoid making exaggerated or unsubstantiated claims about the effectiveness of DeepLearning.AI courses or resources to prevent potential false advertising concerns. 2. Ensure any statements related to skills development or career outcomes through DeepLearning.AI are accurate and supported by evidence to avoid misleading consumers. 3. Include a disclaimer that outlines the limitations of the platform's offerings and clarifies that individual results may vary, to mitigate any potential liability issues related to users' expectations.'}\n",
            "{'reviewer': 'Ethics Reviewer', 'review': '1. Ensure that any statements made about the benefits or outcomes of DeepLearning.AI courses are accurate and supported by evidence to avoid misleading learners. 2. Include a disclosure stating any affiliations with the platform or any potential biases that may impact the presentation of information. 3. Encourage transparency by clearly stating how user data is collected, used, and protected on the DeepLearning.AI platform.'}\n",
            "\n",
            "--------------------------------------------------------------------------------\n",
            "Meta Reviewer (to Critic):\n",
            "\n",
            "Based on the aggregated feedback from all reviewers, here are some key suggestions for the writing regarding content optimization, legal compliance, and ethical considerations:\n",
            "\n",
            "1. Incorporate relevant keywords for SEO optimization to improve visibility and searchability.\n",
            "2. Utilize header tags for better structure and organization of the content.\n",
            "3. Include a compelling meta title and description to enhance click-through rates and attract users.\n",
            "4. Avoid making exaggerated or unsubstantiated claims about the effectiveness of DeepLearning.AI courses to prevent false advertising concerns.\n",
            "5. Ensure that statements related to skills development or career outcomes are accurate and supported by evidence to avoid misleading consumers.\n",
            "6. Include a disclaimer outlining the limitations of the platform's offerings and clarify that individual results may vary to manage users' expectations and potential liability issues.\n",
            "7. Ensure that any statements about the benefits or outcomes of DeepLearning.AI courses are accurate, evidence-based, and avoid misleading learners.\n",
            "8. Include a disclosure of any affiliations or biases that may impact the presentation of information.\n",
            "9. Encourage transparency by clearly stating how user data is collected, used, and protected on the DeepLearning.AI platform.\n",
            "\n",
            "In conclusion, it is important to strike a balance between content optimization for SEO, legal compliance, and ethical considerations when creating content for DeepLearning.AI. By incorporating the suggestions provided by the reviewers, the content can be enhanced to meet the requirements of different stakeholders while maintaining relevance and credibility.\n",
            "\n",
            "--------------------------------------------------------------------------------\n",
            "Critic (to Writer):\n",
            "\n",
            "Based on the aggregated feedback from all reviewers, here are some key suggestions for the writing regarding content optimization, legal compliance, and ethical considerations:\n",
            "\n",
            "1. Incorporate relevant keywords for SEO optimization to improve visibility and searchability.\n",
            "2. Utilize header tags for better structure and organization of the content.\n",
            "3. Include a compelling meta title and description to enhance click-through rates and attract users.\n",
            "4. Avoid making exaggerated or unsubstantiated claims about the effectiveness of DeepLearning.AI courses to prevent false advertising concerns.\n",
            "5. Ensure that statements related to skills development or career outcomes are accurate and supported by evidence to avoid misleading consumers.\n",
            "6. Include a disclaimer outlining the limitations of the platform's offerings and clarify that individual results may vary to manage users' expectations and potential liability issues.\n",
            "7. Ensure that any statements about the benefits or outcomes of DeepLearning.AI courses are accurate, evidence-based, and avoid misleading learners.\n",
            "8. Include a disclosure of any affiliations or biases that may impact the presentation of information.\n",
            "9. Encourage transparency by clearly stating how user data is collected, used, and protected on the DeepLearning.AI platform.\n",
            "\n",
            "In conclusion, it is important to strike a balance between content optimization for SEO, legal compliance, and ethical considerations when creating content for DeepLearning.AI. By incorporating the suggestions provided by the reviewers, the content can be enhanced to meet the requirements of different stakeholders while maintaining relevance and credibility.\n",
            "\n",
            "--------------------------------------------------------------------------------\n",
            "Writer (to Critic):\n",
            "\n",
            "Title: Mastering AI with DeepLearning.AI: Unlock Your Potential\n",
            "\n",
            "Embark on an exciting journey with DeepLearning.AI, a premier platform offering top-notch AI courses. From computer vision to natural language processing, acquire in-demand skills to excel in the ever-evolving field of artificial intelligence. With expert guidance and hands-on projects, DeepLearning.AI is your gateway to a brighter future in tech. Stay ahead of the curve and explore new possibilities today!\n",
            "\n",
            "Incorporate SEO keywords, header tags, and meta details for optimization. Provide accurate, evidence-based information and a disclaimer on potential outcomes. Disclose affiliations, prioritize transparency, and uphold ethical standards in content creation. Let DeepLearning.AI empower your AI aspirations responsibly.\n",
            "\n",
            "--------------------------------------------------------------------------------\n"
          ]
        }
      ]
    },
    {
      "cell_type": "code",
      "source": [],
      "metadata": {
        "id": "ClB0hnn2GfC6"
      },
      "execution_count": null,
      "outputs": []
    }
  ]
}
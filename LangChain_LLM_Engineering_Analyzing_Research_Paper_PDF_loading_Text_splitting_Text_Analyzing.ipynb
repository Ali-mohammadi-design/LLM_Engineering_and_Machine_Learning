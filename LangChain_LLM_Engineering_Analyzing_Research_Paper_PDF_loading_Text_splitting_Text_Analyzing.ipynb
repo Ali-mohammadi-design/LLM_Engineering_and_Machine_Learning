{
 "cells": [
  {
   "cell_type": "code",
   "execution_count": 110,
   "id": "70b0959f",
   "metadata": {
    "scrolled": true
   },
   "outputs": [
    {
     "name": "stdout",
     "output_type": "stream",
     "text": [
      "Requirement already satisfied: PyPDF2 in c:\\users\\moham\\anaconda3\\lib\\site-packages (3.0.1)\n",
      "Requirement already satisfied: typing_extensions>=3.10.0.0 in c:\\users\\moham\\anaconda3\\lib\\site-packages (from PyPDF2) (4.8.0)\n",
      "Requirement already satisfied: langchain in c:\\users\\moham\\anaconda3\\lib\\site-packages (0.0.348)\n",
      "Requirement already satisfied: PyYAML>=5.3 in c:\\users\\moham\\anaconda3\\lib\\site-packages (from langchain) (6.0)\n",
      "Requirement already satisfied: SQLAlchemy<3,>=1.4 in c:\\users\\moham\\anaconda3\\lib\\site-packages (from langchain) (1.4.39)\n",
      "Requirement already satisfied: aiohttp<4.0.0,>=3.8.3 in c:\\users\\moham\\anaconda3\\lib\\site-packages (from langchain) (3.8.4)\n",
      "Requirement already satisfied: async-timeout<5.0.0,>=4.0.0 in c:\\users\\moham\\anaconda3\\lib\\site-packages (from langchain) (4.0.2)\n",
      "Requirement already satisfied: dataclasses-json<0.7,>=0.5.7 in c:\\users\\moham\\anaconda3\\lib\\site-packages (from langchain) (0.6.3)\n",
      "Requirement already satisfied: jsonpatch<2.0,>=1.33 in c:\\users\\moham\\anaconda3\\lib\\site-packages (from langchain) (1.33)\n",
      "Requirement already satisfied: langchain-core<0.1,>=0.0.12 in c:\\users\\moham\\anaconda3\\lib\\site-packages (from langchain) (0.0.12)\n",
      "Requirement already satisfied: langsmith<0.1.0,>=0.0.63 in c:\\users\\moham\\anaconda3\\lib\\site-packages (from langchain) (0.0.69)\n",
      "Requirement already satisfied: numpy<2,>=1 in c:\\users\\moham\\anaconda3\\lib\\site-packages (from langchain) (1.26.4)\n",
      "Requirement already satisfied: pydantic<3,>=1 in c:\\users\\moham\\anaconda3\\lib\\site-packages (from langchain) (2.5.2)\n",
      "Requirement already satisfied: requests<3,>=2 in c:\\users\\moham\\anaconda3\\lib\\site-packages (from langchain) (2.28.1)\n",
      "Requirement already satisfied: tenacity<9.0.0,>=8.1.0 in c:\\users\\moham\\anaconda3\\lib\\site-packages (from langchain) (8.2.3)\n",
      "Requirement already satisfied: attrs>=17.3.0 in c:\\users\\moham\\anaconda3\\lib\\site-packages (from aiohttp<4.0.0,>=3.8.3->langchain) (21.4.0)\n",
      "Requirement already satisfied: charset-normalizer<4.0,>=2.0 in c:\\users\\moham\\anaconda3\\lib\\site-packages (from aiohttp<4.0.0,>=3.8.3->langchain) (2.0.4)\n",
      "Requirement already satisfied: multidict<7.0,>=4.5 in c:\\users\\moham\\anaconda3\\lib\\site-packages (from aiohttp<4.0.0,>=3.8.3->langchain) (6.0.4)\n",
      "Requirement already satisfied: yarl<2.0,>=1.0 in c:\\users\\moham\\anaconda3\\lib\\site-packages (from aiohttp<4.0.0,>=3.8.3->langchain) (1.9.2)\n",
      "Requirement already satisfied: frozenlist>=1.1.1 in c:\\users\\moham\\anaconda3\\lib\\site-packages (from aiohttp<4.0.0,>=3.8.3->langchain) (1.3.3)\n",
      "Requirement already satisfied: aiosignal>=1.1.2 in c:\\users\\moham\\anaconda3\\lib\\site-packages (from aiohttp<4.0.0,>=3.8.3->langchain) (1.3.1)\n",
      "Requirement already satisfied: marshmallow<4.0.0,>=3.18.0 in c:\\users\\moham\\anaconda3\\lib\\site-packages (from dataclasses-json<0.7,>=0.5.7->langchain) (3.20.1)\n",
      "Requirement already satisfied: typing-inspect<1,>=0.4.0 in c:\\users\\moham\\anaconda3\\lib\\site-packages (from dataclasses-json<0.7,>=0.5.7->langchain) (0.9.0)\n",
      "Requirement already satisfied: jsonpointer>=1.9 in c:\\users\\moham\\anaconda3\\lib\\site-packages (from jsonpatch<2.0,>=1.33->langchain) (2.4)\n",
      "Requirement already satisfied: anyio<5,>=3 in c:\\users\\moham\\anaconda3\\lib\\site-packages (from langchain-core<0.1,>=0.0.12->langchain) (3.5.0)\n",
      "Requirement already satisfied: packaging<24.0,>=23.2 in c:\\users\\moham\\anaconda3\\lib\\site-packages (from langchain-core<0.1,>=0.0.12->langchain) (23.2)\n",
      "Requirement already satisfied: annotated-types>=0.4.0 in c:\\users\\moham\\anaconda3\\lib\\site-packages (from pydantic<3,>=1->langchain) (0.6.0)\n",
      "Requirement already satisfied: pydantic-core==2.14.5 in c:\\users\\moham\\anaconda3\\lib\\site-packages (from pydantic<3,>=1->langchain) (2.14.5)\n",
      "Requirement already satisfied: typing-extensions>=4.6.1 in c:\\users\\moham\\anaconda3\\lib\\site-packages (from pydantic<3,>=1->langchain) (4.8.0)\n",
      "Requirement already satisfied: idna<4,>=2.5 in c:\\users\\moham\\anaconda3\\lib\\site-packages (from requests<3,>=2->langchain) (3.3)\n",
      "Requirement already satisfied: urllib3<1.27,>=1.21.1 in c:\\users\\moham\\anaconda3\\lib\\site-packages (from requests<3,>=2->langchain) (1.26.11)\n",
      "Requirement already satisfied: certifi>=2017.4.17 in c:\\users\\moham\\anaconda3\\lib\\site-packages (from requests<3,>=2->langchain) (2022.9.14)\n",
      "Requirement already satisfied: greenlet!=0.4.17 in c:\\users\\moham\\anaconda3\\lib\\site-packages (from SQLAlchemy<3,>=1.4->langchain) (1.1.1)\n",
      "Requirement already satisfied: sniffio>=1.1 in c:\\users\\moham\\anaconda3\\lib\\site-packages (from anyio<5,>=3->langchain-core<0.1,>=0.0.12->langchain) (1.2.0)\n",
      "Requirement already satisfied: mypy-extensions>=0.3.0 in c:\\users\\moham\\anaconda3\\lib\\site-packages (from typing-inspect<1,>=0.4.0->dataclasses-json<0.7,>=0.5.7->langchain) (0.4.3)\n",
      "Requirement already satisfied: openai in c:\\users\\moham\\anaconda3\\lib\\site-packages (0.27.7)\n",
      "Requirement already satisfied: requests>=2.20 in c:\\users\\moham\\anaconda3\\lib\\site-packages (from openai) (2.28.1)\n",
      "Requirement already satisfied: tqdm in c:\\users\\moham\\anaconda3\\lib\\site-packages (from openai) (4.64.1)\n",
      "Requirement already satisfied: aiohttp in c:\\users\\moham\\anaconda3\\lib\\site-packages (from openai) (3.8.4)\n",
      "Requirement already satisfied: charset-normalizer<3,>=2 in c:\\users\\moham\\anaconda3\\lib\\site-packages (from requests>=2.20->openai) (2.0.4)\n",
      "Requirement already satisfied: idna<4,>=2.5 in c:\\users\\moham\\anaconda3\\lib\\site-packages (from requests>=2.20->openai) (3.3)\n",
      "Requirement already satisfied: urllib3<1.27,>=1.21.1 in c:\\users\\moham\\anaconda3\\lib\\site-packages (from requests>=2.20->openai) (1.26.11)\n",
      "Requirement already satisfied: certifi>=2017.4.17 in c:\\users\\moham\\anaconda3\\lib\\site-packages (from requests>=2.20->openai) (2022.9.14)\n",
      "Requirement already satisfied: attrs>=17.3.0 in c:\\users\\moham\\anaconda3\\lib\\site-packages (from aiohttp->openai) (21.4.0)\n",
      "Requirement already satisfied: multidict<7.0,>=4.5 in c:\\users\\moham\\anaconda3\\lib\\site-packages (from aiohttp->openai) (6.0.4)\n",
      "Requirement already satisfied: async-timeout<5.0,>=4.0.0a3 in c:\\users\\moham\\anaconda3\\lib\\site-packages (from aiohttp->openai) (4.0.2)\n",
      "Requirement already satisfied: yarl<2.0,>=1.0 in c:\\users\\moham\\anaconda3\\lib\\site-packages (from aiohttp->openai) (1.9.2)\n",
      "Requirement already satisfied: frozenlist>=1.1.1 in c:\\users\\moham\\anaconda3\\lib\\site-packages (from aiohttp->openai) (1.3.3)\n",
      "Requirement already satisfied: aiosignal>=1.1.2 in c:\\users\\moham\\anaconda3\\lib\\site-packages (from aiohttp->openai) (1.3.1)\n",
      "Requirement already satisfied: colorama in c:\\users\\moham\\anaconda3\\lib\\site-packages (from tqdm->openai) (0.4.5)\n"
     ]
    }
   ],
   "source": [
    "! pip install PyPDF2\n",
    "!pip install langchain\n",
    "!pip install openai\n",
    "from langchain.llms import OpenAI\n",
    "from langchain.chat_models import ChatOpenAI"
   ]
  },
  {
   "cell_type": "code",
   "execution_count": 7,
   "id": "5222f44a",
   "metadata": {},
   "outputs": [],
   "source": [
    "import PyPDF2\n",
    "sample_pdf = open(r'D:\\University\\Test\\1.pdf', mode='rb')\n",
    "pdfdoc = PyPDF2.PdfReader(sample_pdf)"
   ]
  },
  {
   "cell_type": "code",
   "execution_count": 159,
   "id": "85a14190",
   "metadata": {
    "scrolled": true
   },
   "outputs": [],
   "source": [
    "#print(pdfdoc.metadata)"
   ]
  },
  {
   "cell_type": "code",
   "execution_count": 158,
   "id": "46aaea27",
   "metadata": {},
   "outputs": [],
   "source": [
    "#len(pdfdoc.pages)"
   ]
  },
  {
   "cell_type": "code",
   "execution_count": 157,
   "id": "2855ecf0",
   "metadata": {
    "scrolled": false
   },
   "outputs": [],
   "source": [
    "#pdfdoc.pages[15].extract_text().replace(\"\\n\", \" \")"
   ]
  },
  {
   "cell_type": "code",
   "execution_count": 167,
   "id": "a205387c",
   "metadata": {},
   "outputs": [],
   "source": [
    "doc=[]\n",
    "for x in range(len(pdfdoc.pages)):\n",
    "  page_one=pdfdoc.pages[x]\n",
    "  text=page_one.extract_text().replace(\"\\n\", \" \")\n",
    "  doc.append(text)"
   ]
  },
  {
   "cell_type": "code",
   "execution_count": 168,
   "id": "1110eb5d",
   "metadata": {},
   "outputs": [],
   "source": [
    "def split_text(text, max_length):\n",
    "    \"\"\"\n",
    "    Splits the input text into parts with each part having less than max_length characters.\n",
    "    \n",
    "    Parameters:\n",
    "    text (str): The input text to split.\n",
    "    max_length (int): The maximum length of each part.\n",
    "    \n",
    "    Returns:\n",
    "    list: A list containing the split parts of the text.\n",
    "    \"\"\"\n",
    "    parts = []\n",
    "    start = 0\n",
    "    \n",
    "    while start < len(text):\n",
    "        # Find the end index for the next part\n",
    "        end = start + max_length\n",
    "        # Adjust the end index to ensure that it doesn't split words\n",
    "        while end < len(text) and not text[end].isspace():\n",
    "            end -= 1\n",
    "        # Append the part to the list\n",
    "        parts.append(text[start:end].strip())\n",
    "        # Move the start index for the next part\n",
    "        start = end + 1\n",
    "    \n",
    "    return parts\n"
   ]
  },
  {
   "cell_type": "code",
   "execution_count": 169,
   "id": "7b852d90",
   "metadata": {},
   "outputs": [],
   "source": [
    "#splitted_doc = split_text(doc[3], max_length=1000)"
   ]
  },
  {
   "cell_type": "code",
   "execution_count": 170,
   "id": "46923e3d",
   "metadata": {},
   "outputs": [],
   "source": [
    "splitted_docs=[]\n",
    "for x in doc:\n",
    "    splitted_doc = split_text(x, max_length=500)\n",
    "    splitted_docs.append(splitted_doc)"
   ]
  },
  {
   "cell_type": "code",
   "execution_count": 171,
   "id": "2b722231",
   "metadata": {
    "scrolled": true
   },
   "outputs": [
    {
     "data": {
      "text/plain": [
       "16"
      ]
     },
     "execution_count": 171,
     "metadata": {},
     "output_type": "execute_result"
    }
   ],
   "source": [
    "len(splitted_docs)"
   ]
  },
  {
   "cell_type": "code",
   "execution_count": 172,
   "id": "086e1d7c",
   "metadata": {},
   "outputs": [],
   "source": [
    "import os\n",
    "openAI_API_Key=os.environ['openAI_API_Key']"
   ]
  },
  {
   "cell_type": "code",
   "execution_count": 173,
   "id": "8679fe36",
   "metadata": {},
   "outputs": [],
   "source": [
    "from langchain.prompts.chat import ChatPromptTemplate, SystemMessagePromptTemplate, HumanMessagePromptTemplate, AIMessagePromptTemplate"
   ]
  },
  {
   "cell_type": "code",
   "execution_count": 174,
   "id": "fe4f30a3",
   "metadata": {},
   "outputs": [],
   "source": [
    "Human_prompt= '''\n",
    "Design methodologies are systematic approaches to resolving design problems. \n",
    "They have various tools and concept to assist designers through the design process.\n",
    "Each tool or concept in every design methodology must have one of the following functions:\n",
    "1-Some tools help designers better understand design problems.\n",
    "2- Others assist designers in gathering information and improving their knowledge.\n",
    "3-Some tools can help redefine design problems, making them clearer.\n",
    "4-Some tools are effective in generating solutions and ideation.\n",
    "\n",
    "I would like you to provide a text about a design methodology.\n",
    "If you recognize specific tool or concept related to the design methodlogy in the text you should mention the tool and its function.\n",
    "If you didnot find any tool of the design methodology you must just mention \" there is no tools in the text\"\n",
    "In your output please only explain the tools and functions if any tool and function exists in the text and do not mention extra explanation.\n",
    "Your output should be brief and clear. \n",
    "The design Methodology is {design_methodology}.\n",
    "The Text that you should analyze is: {text}.\n",
    "In the text you might have some tools, concepts and features related to TRIZ. Please ignore them and only focus on {design_methodology}.\n",
    "\n",
    "'''\n",
    "prompt= HumanMessagePromptTemplate.from_template(Human_prompt)\n",
    "chat_prompt=ChatPromptTemplate.from_messages([prompt])"
   ]
  },
  {
   "cell_type": "code",
   "execution_count": 175,
   "id": "1d0ab3a0",
   "metadata": {},
   "outputs": [
    {
     "name": "stdout",
     "output_type": "stream",
     "text": [
      "There is no tools in the text.\n",
      "There is no tools in the text.\n",
      "There is no tools in the text.\n",
      "The text does not mention any specific tools related to the Six Sigma methodology.\n",
      "There is no tools in the text.\n",
      "The text mentions the Six Sigma methodology, which is primarily focused on improving business processes by reducing variation and defects. One tool related to Six Sigma mentioned in the text is statistical methods, which help identify and eliminate process variation, ultimately leading to improvements in process capability.\n",
      "There is no tools in the text.\n",
      "The text mentions the tool called Lean Six Sigma (LSS), which combines the quality and service improvement process of Six Sigma with the productivity and cost reduction tools of Lean management. This tool helps in improving processes in both manufacturing and services industries.\n",
      "There is no tools in the text.\n",
      "There is no tools in the text.\n",
      "In the text, there is no tools related to the design methodology of Six Sigma mentioned.\n",
      "There is no tools in the text.\n",
      "There is no tools in the text.\n",
      "The text does not mention any specific tools related to the Six Sigma design methodology.\n",
      "The text does not mention any specific tools related to the Six Sigma design methodology.\n",
      "The text mentions the implementation of a Lean Six Sigma (LSS) program. This program helped in reducing the time to process payroll, purchasing, and accounts payable in a city's finance department. This indicates the use of the DMAIC (Define, Measure, Analyze, Improve, Control) methodology within Six Sigma to improve processes and achieve efficiency.\n",
      "There is no tools in the text.\n",
      "There is no tools in the text.\n",
      "There is no tools in the text.\n",
      "There is no tools in the text.\n",
      "There is no tools in the text.\n",
      "The text mentions problem-solving tools and integrated methods in the area of Six Sigma. \n",
      "Tool: DMAIC (Deﬁne, Measure, Analyse, Improve, Control)\n",
      "Function: Provides the company with an improvement roadmap.\n",
      "Tools:\n",
      "1- Metrics: Help establish metrics to measure the success of the project (function: better understand design problems).\n",
      "2- DMAIC: Define, Measure, Analyze, Improve, Control phases (function: assist in generating solutions and ideation).\n",
      "The text mentions a tool used in the Six Sigma methodology:\n",
      "- Tool: SIPOC diagram\n",
      "- Function: Helps in confirming or refining project scope and boundaries.\n",
      "There is no tools in the text.\n",
      "Tools:\n",
      "1- Performance standard verification\n",
      "Function: Helps in establishing a baseline for future improvements.\n",
      "The text mentions measure tools that assist in data collection and brainstorming methods in the Six Sigma methodology. These tools help in gathering information and improving knowledge about the underlying causes of a problem.\n",
      "The text mentions various tools related to the Six Sigma design methodology:\n",
      "- Process description tools (value stream maps, process cycle efficiency, and time value analysis) help redefine design problems, making them clearer.\n",
      "- Focus/prioritization tools (FMEA, Pareto) assist in gathering information and improving knowledge.\n",
      "- Data collection and quantifying and describing variation (control charts) help in generating solutions and ideation.\n",
      "The text mentions tools used in the Analyze phase of Six Sigma, such as '5 Whys' analysis and cause and effect diagrams, which help in better understanding design problems and redefining them to make them clearer. Valuestream mapping analysis is also mentioned as a tool to identify root causes and improve processes.\n",
      "The text mentions solution matrices as a tool in Six Sigma methodology that link brainstormed solution alternatives to customer needs and the project purpose. This tool helps in generating solutions and ideation. Additionally, Lean tools such as the pull system, set-up reduction, queuing methods, and 5s play important roles in the improve phase of Six Sigma.\n",
      "There is no tools in the text.\n",
      "Tools: \n",
      "- Automatic monitoring system\n",
      "Function: \n",
      "- Ensuring that an automatic monitoring system is installed which will identify any ‘out of control’.\n",
      "The text mentions a control chart as a key control tool in the Six Sigma methodology. This tool helps in developing a control plan, which is essential in the control phase of the Six Sigma process.\n",
      "There is no tool related to Six Sigma mentioned in the text.\n",
      "The text mentions the utilization of Lean Six Sigma by the company to gain further competitive advantage. \n",
      "\n",
      "- Tool: Lean Six Sigma\n",
      "- Function: To enhance customer satisfaction and improve competitive advantage in the banking industry.\n",
      "There is no tools in the text.\n",
      "There is no tools in the text.\n",
      "Some tools in the text related to Six Sigma:\n",
      "- Value stream map: Helps in understanding design problems.\n",
      "- SIPOC analysis: Assists in gathering information and improving knowledge.\n",
      "There is no tools in the text.\n",
      "There is no tools in the text.\n",
      "There is no tools in the text.\n",
      "Tool: Data collection plan\n",
      "Function: Assists designers in gathering information and improving their knowledge.\n",
      "There is no tools in the text.\n",
      "Tool: Control Chart\n",
      "Function: Helps designers better understand the current state of process capability.\n",
      "Tools in the text:\n",
      "- Cause and effect matrix (function: helps redefine design problems, making them clearer)\n",
      "- Pareto diagram (function: helps designers better understand design problems)\n",
      "The text mentions the tool Failure Mode and Effects Analysis (FMEA) in the context of Six Sigma methodology. The function of FMEA is to identify factors that may cause function failure in a key process and allocate a risk priority number (RPN). Factors with a high RPN are selected for corrective actions.\n",
      "Tools in the text: Pareto diagram and FMEA\n",
      "Functions:\n",
      "- Pareto diagram: Helps redefine design problems, making them clearer.\n",
      "- FMEA: Assists in gathering information and improving knowledge.\n",
      "There is no tools in the text.\n",
      "There is no tools in the text.\n",
      "There is no tools in the text.\n",
      "There is no tools in the text.\n",
      "There is no tools in the text.\n",
      "There is no tools in the text.\n",
      "There is no tools mentioned in the text.\n",
      "Tools and Functions:\n",
      "1- Ease of use (corresponding to ease of use) - Helps redefine design problems, making them clearer.\n",
      "There is no tools in the text.\n",
      "There is no tools in the text.\n",
      "There is no tools in the text.\n",
      "There is no tools in the text.\n",
      "There is no tools in the text.\n",
      "There is no tools in the text.\n",
      "The text does not mention any specific tools related to the Six Sigma design methodology.\n",
      "In the text, there is a tool mentioned related to the Six Sigma methodology:\n",
      "- Control chart: Helps in monitoring and managing the process to prevent system failure.\n",
      "There is no tools in the text.\n",
      "Inventive principle 15: Dynamicity - Making placard to remind customers to avoid mistake\n",
      "Inventive principle 27: Temporary and small systems for old, permanent systems - Marking an annotation in the place where it is easy to make mistake\n",
      "There is no tools in the text.\n",
      "There is no tools in the text.\n",
      "- Tool: Job turn around periodically\n",
      "- Function: Some tools help designers better understand design problems.\n",
      "\n",
      "- Tool: Establish a standard operational procedures guide\n",
      "- Function: Others assist designers in gathering information and improving their knowledge.\n",
      "\n",
      "- Tool: Building a mistake-prooﬁng mechanism in key-in system\n",
      "- Function: Some tools are effective in generating solutions and ideation.\n",
      "There is no tools in the text.\n",
      "There is no tools in the text.\n",
      "The text does not mention any specific tools related to Six Sigma.\n",
      "There is no tools in the text.\n",
      "There is no tools in the text.\n",
      "There is no tools in the text.\n",
      "There is no tools in the text.\n",
      "There is no tools in the text.\n",
      "There is no tools in the text.\n",
      "There is no tools in the text.\n"
     ]
    }
   ],
   "source": [
    "for s in splitted_docs:\n",
    "    for x in s:\n",
    "        request=chat_prompt.format_prompt(text=x, design_methodology='Six Sigma').to_messages()\n",
    "        chat= ChatOpenAI(openai_api_key=openAI_API_Key)\n",
    "        result=chat(request)\n",
    "        print(result.content)"
   ]
  },
  {
   "cell_type": "code",
   "execution_count": null,
   "id": "a8cdbe47",
   "metadata": {},
   "outputs": [],
   "source": []
  }
 ],
 "metadata": {
  "kernelspec": {
   "display_name": "Python 3 (ipykernel)",
   "language": "python",
   "name": "python3"
  },
  "language_info": {
   "codemirror_mode": {
    "name": "ipython",
    "version": 3
   },
   "file_extension": ".py",
   "mimetype": "text/x-python",
   "name": "python",
   "nbconvert_exporter": "python",
   "pygments_lexer": "ipython3",
   "version": "3.9.13"
  }
 },
 "nbformat": 4,
 "nbformat_minor": 5
}

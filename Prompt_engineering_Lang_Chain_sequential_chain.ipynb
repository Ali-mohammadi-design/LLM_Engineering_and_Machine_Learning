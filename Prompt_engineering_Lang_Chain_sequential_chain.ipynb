{
  "nbformat": 4,
  "nbformat_minor": 0,
  "metadata": {
    "colab": {
      "provenance": [],
      "authorship_tag": "ABX9TyOH4EpqvXoA+3p6DNkwNJYw",
      "include_colab_link": true
    },
    "kernelspec": {
      "name": "python3",
      "display_name": "Python 3"
    },
    "language_info": {
      "name": "python"
    }
  },
  "cells": [
    {
      "cell_type": "markdown",
      "metadata": {
        "id": "view-in-github",
        "colab_type": "text"
      },
      "source": [
        "<a href=\"https://colab.research.google.com/github/Ali-mohammadi-design/Prompt_Engineering_and_Machine_Learning/blob/main/Prompt_engineering_Lang_Chain_sequential_chain.ipynb\" target=\"_parent\"><img src=\"https://colab.research.google.com/assets/colab-badge.svg\" alt=\"Open In Colab\"/></a>"
      ]
    },
    {
      "cell_type": "markdown",
      "source": [
        "**In this example we want to get a review about an employee send it to llm and thruough a chain it would first make a summary for that review and then give us the weaknesses and then give us a plan to improve the weaknesses**"
      ],
      "metadata": {
        "id": "7nQNUNhTeNkG"
      }
    },
    {
      "cell_type": "markdown",
      "source": [
        "**we would use sequential chain, instead of simple sequnetial chain. In this case we can have all the inputs and outputs as a dictiinary and call them**"
      ],
      "metadata": {
        "id": "N40QpPm7pA64"
      }
    },
    {
      "cell_type": "code",
      "execution_count": 18,
      "metadata": {
        "colab": {
          "base_uri": "https://localhost:8080/"
        },
        "id": "uOdTUqbYxETP",
        "outputId": "87964d37-a89f-4a0b-e3a8-7b9c6128db79"
      },
      "outputs": [
        {
          "output_type": "stream",
          "name": "stdout",
          "text": [
            "Requirement already satisfied: langchain in /usr/local/lib/python3.10/dist-packages (0.1.4)\n",
            "Requirement already satisfied: PyYAML>=5.3 in /usr/local/lib/python3.10/dist-packages (from langchain) (6.0.1)\n",
            "Requirement already satisfied: SQLAlchemy<3,>=1.4 in /usr/local/lib/python3.10/dist-packages (from langchain) (2.0.24)\n",
            "Requirement already satisfied: aiohttp<4.0.0,>=3.8.3 in /usr/local/lib/python3.10/dist-packages (from langchain) (3.9.1)\n",
            "Requirement already satisfied: async-timeout<5.0.0,>=4.0.0 in /usr/local/lib/python3.10/dist-packages (from langchain) (4.0.3)\n",
            "Requirement already satisfied: dataclasses-json<0.7,>=0.5.7 in /usr/local/lib/python3.10/dist-packages (from langchain) (0.6.3)\n",
            "Requirement already satisfied: jsonpatch<2.0,>=1.33 in /usr/local/lib/python3.10/dist-packages (from langchain) (1.33)\n",
            "Requirement already satisfied: langchain-community<0.1,>=0.0.14 in /usr/local/lib/python3.10/dist-packages (from langchain) (0.0.16)\n",
            "Requirement already satisfied: langchain-core<0.2,>=0.1.16 in /usr/local/lib/python3.10/dist-packages (from langchain) (0.1.17)\n",
            "Requirement already satisfied: langsmith<0.1,>=0.0.83 in /usr/local/lib/python3.10/dist-packages (from langchain) (0.0.85)\n",
            "Requirement already satisfied: numpy<2,>=1 in /usr/local/lib/python3.10/dist-packages (from langchain) (1.23.5)\n",
            "Requirement already satisfied: pydantic<3,>=1 in /usr/local/lib/python3.10/dist-packages (from langchain) (1.10.14)\n",
            "Requirement already satisfied: requests<3,>=2 in /usr/local/lib/python3.10/dist-packages (from langchain) (2.31.0)\n",
            "Requirement already satisfied: tenacity<9.0.0,>=8.1.0 in /usr/local/lib/python3.10/dist-packages (from langchain) (8.2.3)\n",
            "Requirement already satisfied: attrs>=17.3.0 in /usr/local/lib/python3.10/dist-packages (from aiohttp<4.0.0,>=3.8.3->langchain) (23.2.0)\n",
            "Requirement already satisfied: multidict<7.0,>=4.5 in /usr/local/lib/python3.10/dist-packages (from aiohttp<4.0.0,>=3.8.3->langchain) (6.0.4)\n",
            "Requirement already satisfied: yarl<2.0,>=1.0 in /usr/local/lib/python3.10/dist-packages (from aiohttp<4.0.0,>=3.8.3->langchain) (1.9.4)\n",
            "Requirement already satisfied: frozenlist>=1.1.1 in /usr/local/lib/python3.10/dist-packages (from aiohttp<4.0.0,>=3.8.3->langchain) (1.4.1)\n",
            "Requirement already satisfied: aiosignal>=1.1.2 in /usr/local/lib/python3.10/dist-packages (from aiohttp<4.0.0,>=3.8.3->langchain) (1.3.1)\n",
            "Requirement already satisfied: marshmallow<4.0.0,>=3.18.0 in /usr/local/lib/python3.10/dist-packages (from dataclasses-json<0.7,>=0.5.7->langchain) (3.20.2)\n",
            "Requirement already satisfied: typing-inspect<1,>=0.4.0 in /usr/local/lib/python3.10/dist-packages (from dataclasses-json<0.7,>=0.5.7->langchain) (0.9.0)\n",
            "Requirement already satisfied: jsonpointer>=1.9 in /usr/local/lib/python3.10/dist-packages (from jsonpatch<2.0,>=1.33->langchain) (2.4)\n",
            "Requirement already satisfied: anyio<5,>=3 in /usr/local/lib/python3.10/dist-packages (from langchain-core<0.2,>=0.1.16->langchain) (3.7.1)\n",
            "Requirement already satisfied: packaging<24.0,>=23.2 in /usr/local/lib/python3.10/dist-packages (from langchain-core<0.2,>=0.1.16->langchain) (23.2)\n",
            "Requirement already satisfied: typing-extensions>=4.2.0 in /usr/local/lib/python3.10/dist-packages (from pydantic<3,>=1->langchain) (4.9.0)\n",
            "Requirement already satisfied: charset-normalizer<4,>=2 in /usr/local/lib/python3.10/dist-packages (from requests<3,>=2->langchain) (3.3.2)\n",
            "Requirement already satisfied: idna<4,>=2.5 in /usr/local/lib/python3.10/dist-packages (from requests<3,>=2->langchain) (3.6)\n",
            "Requirement already satisfied: urllib3<3,>=1.21.1 in /usr/local/lib/python3.10/dist-packages (from requests<3,>=2->langchain) (2.0.7)\n",
            "Requirement already satisfied: certifi>=2017.4.17 in /usr/local/lib/python3.10/dist-packages (from requests<3,>=2->langchain) (2023.11.17)\n",
            "Requirement already satisfied: greenlet!=0.4.17 in /usr/local/lib/python3.10/dist-packages (from SQLAlchemy<3,>=1.4->langchain) (3.0.3)\n",
            "Requirement already satisfied: sniffio>=1.1 in /usr/local/lib/python3.10/dist-packages (from anyio<5,>=3->langchain-core<0.2,>=0.1.16->langchain) (1.3.0)\n",
            "Requirement already satisfied: exceptiongroup in /usr/local/lib/python3.10/dist-packages (from anyio<5,>=3->langchain-core<0.2,>=0.1.16->langchain) (1.2.0)\n",
            "Requirement already satisfied: mypy-extensions>=0.3.0 in /usr/local/lib/python3.10/dist-packages (from typing-inspect<1,>=0.4.0->dataclasses-json<0.7,>=0.5.7->langchain) (1.0.0)\n",
            "Requirement already satisfied: openai in /usr/local/lib/python3.10/dist-packages (1.10.0)\n",
            "Requirement already satisfied: anyio<5,>=3.5.0 in /usr/local/lib/python3.10/dist-packages (from openai) (3.7.1)\n",
            "Requirement already satisfied: distro<2,>=1.7.0 in /usr/lib/python3/dist-packages (from openai) (1.7.0)\n",
            "Requirement already satisfied: httpx<1,>=0.23.0 in /usr/local/lib/python3.10/dist-packages (from openai) (0.26.0)\n",
            "Requirement already satisfied: pydantic<3,>=1.9.0 in /usr/local/lib/python3.10/dist-packages (from openai) (1.10.14)\n",
            "Requirement already satisfied: sniffio in /usr/local/lib/python3.10/dist-packages (from openai) (1.3.0)\n",
            "Requirement already satisfied: tqdm>4 in /usr/local/lib/python3.10/dist-packages (from openai) (4.66.1)\n",
            "Requirement already satisfied: typing-extensions<5,>=4.7 in /usr/local/lib/python3.10/dist-packages (from openai) (4.9.0)\n",
            "Requirement already satisfied: idna>=2.8 in /usr/local/lib/python3.10/dist-packages (from anyio<5,>=3.5.0->openai) (3.6)\n",
            "Requirement already satisfied: exceptiongroup in /usr/local/lib/python3.10/dist-packages (from anyio<5,>=3.5.0->openai) (1.2.0)\n",
            "Requirement already satisfied: certifi in /usr/local/lib/python3.10/dist-packages (from httpx<1,>=0.23.0->openai) (2023.11.17)\n",
            "Requirement already satisfied: httpcore==1.* in /usr/local/lib/python3.10/dist-packages (from httpx<1,>=0.23.0->openai) (1.0.2)\n",
            "Requirement already satisfied: h11<0.15,>=0.13 in /usr/local/lib/python3.10/dist-packages (from httpcore==1.*->httpx<1,>=0.23.0->openai) (0.14.0)\n",
            "Requirement already satisfied: wikipedia in /usr/local/lib/python3.10/dist-packages (1.4.0)\n",
            "Requirement already satisfied: beautifulsoup4 in /usr/local/lib/python3.10/dist-packages (from wikipedia) (4.11.2)\n",
            "Requirement already satisfied: requests<3.0.0,>=2.0.0 in /usr/local/lib/python3.10/dist-packages (from wikipedia) (2.31.0)\n",
            "Requirement already satisfied: charset-normalizer<4,>=2 in /usr/local/lib/python3.10/dist-packages (from requests<3.0.0,>=2.0.0->wikipedia) (3.3.2)\n",
            "Requirement already satisfied: idna<4,>=2.5 in /usr/local/lib/python3.10/dist-packages (from requests<3.0.0,>=2.0.0->wikipedia) (3.6)\n",
            "Requirement already satisfied: urllib3<3,>=1.21.1 in /usr/local/lib/python3.10/dist-packages (from requests<3.0.0,>=2.0.0->wikipedia) (2.0.7)\n",
            "Requirement already satisfied: certifi>=2017.4.17 in /usr/local/lib/python3.10/dist-packages (from requests<3.0.0,>=2.0.0->wikipedia) (2023.11.17)\n",
            "Requirement already satisfied: soupsieve>1.2 in /usr/local/lib/python3.10/dist-packages (from beautifulsoup4->wikipedia) (2.5)\n"
          ]
        }
      ],
      "source": [
        "!pip install langchain\n",
        "!pip install openai\n",
        "!pip install wikipedia\n",
        "from langchain.llms import OpenAI\n",
        "from langchain.chat_models import ChatOpenAI"
      ]
    },
    {
      "cell_type": "code",
      "source": [
        "from langchain.chat_models import ChatOpenAI\n",
        "from langchain.prompts.chat import ChatPromptTemplate, HumanMessagePromptTemplate"
      ],
      "metadata": {
        "id": "FCzeqQ01xFUu"
      },
      "execution_count": 19,
      "outputs": []
    },
    {
      "cell_type": "code",
      "source": [
        "import os\n",
        "openAI_API_Key=os.environ['openAI_API_Key']\n"
      ],
      "metadata": {
        "id": "ltEKFuanxN7c"
      },
      "execution_count": 20,
      "outputs": []
    },
    {
      "cell_type": "code",
      "source": [
        "from langchain.chains import LLMChain, SimpleSequentialChain, SequentialChain"
      ],
      "metadata": {
        "id": "-YK3B_WKdtyW"
      },
      "execution_count": 22,
      "outputs": []
    },
    {
      "cell_type": "code",
      "source": [
        "llm= ChatOpenAI(openai_api_key=openAI_API_Key,temperature=0)"
      ],
      "metadata": {
        "id": "2E5SJyewd71k"
      },
      "execution_count": 23,
      "outputs": []
    },
    {
      "cell_type": "code",
      "source": [
        "human_template1='give me a summary for this employee performance review: \\n {review}'\n",
        "prompt1=ChatPromptTemplate.from_template(human_template1)\n",
        "chain1=LLMChain(llm=llm, prompt=prompt1, output_key='review_summary')"
      ],
      "metadata": {
        "id": "8csLKsjNeGzM"
      },
      "execution_count": 29,
      "outputs": []
    },
    {
      "cell_type": "code",
      "source": [
        "human_template2='identify the key weaknesses in this review summary: \\n {review_summary}'\n",
        "prompt2=ChatPromptTemplate.from_template(human_template2)\n",
        "chain2=LLMChain(llm=llm, prompt=prompt2, output_key='weaknesses')"
      ],
      "metadata": {
        "id": "gO86FtAmqw8c"
      },
      "execution_count": 30,
      "outputs": []
    },
    {
      "cell_type": "code",
      "source": [
        "human_template3='consider the following weaknesses for an employee and give me a plan to improve the weaknesses: \\n {weaknesses}'\n",
        "prompt3=ChatPromptTemplate.from_template(human_template3)\n",
        "chain3=LLMChain(llm=llm, prompt=prompt3, output_key='plan')"
      ],
      "metadata": {
        "id": "NSr0Et3OfNqK"
      },
      "execution_count": 31,
      "outputs": []
    },
    {
      "cell_type": "code",
      "source": [
        "employee_review=''' Employee Review: John Smith\n",
        "\n",
        "Position: Customer Service Representative\n",
        "\n",
        "Review Period: January 1, 2023, to December 31, 2023\n",
        "\n",
        "Overall Performance Rating: Satisfactory\n",
        "\n",
        "Strengths:\n",
        "\n",
        "Customer Service Excellence: John consistently provides excellent service to customers. He is patient, courteous, and goes above and beyond to meet their needs.\n",
        "\n",
        "Product Knowledge: John demonstrates a strong understanding of the bank's products and services. He effectively communicates product details to customers, helping them make informed decisions.\n",
        "\n",
        "Team Player: John collaborates well with his colleagues and is always willing to lend a helping hand. He contributes positively to team dynamics and fosters a supportive work environment.\n",
        "\n",
        "Adaptability: John shows flexibility in adapting to changes in procedures and policies. He quickly learns new processes and implements them efficiently.\n",
        "\n",
        "Areas for Improvement (Weaknesses):\n",
        "\n",
        "Time Management: John occasionally struggles with managing his time effectively, especially during peak hours. This leads to delays in completing tasks and serving customers promptly.\n",
        "\n",
        "Attention to Detail: While John is generally thorough in his work, there have been instances of minor errors in documentation and transaction processing. He should pay closer attention to detail to minimize mistakes.\n",
        "\n",
        "Sales Performance: John could improve his sales performance by proactively identifying opportunities to upsell or cross-sell bank products. He should undergo additional training to enhance his sales skills and confidence.\n",
        "\n",
        "Conflict Resolution: There have been a few occasions where John encountered challenging situations with customers and could have handled them better. He should undergo training in conflict resolution techniques to improve his ability to de-escalate tense situations.\n",
        "\n",
        "Development Goals for Next Review Period:\n",
        "\n",
        "Attend time management workshops to improve efficiency during peak hours.\n",
        "\n",
        "Participate in training sessions focused on enhancing attention to detail.\n",
        "\n",
        "Enroll in sales training programs to boost sales performance and confidence.\n",
        "\n",
        "Take courses or workshops on conflict resolution and customer service techniques.\n",
        "\n",
        "Overall Comments:\n",
        "\n",
        "John has demonstrated a strong commitment to providing excellent customer service and shows potential for growth within the organization. With focused efforts on addressing his weaknesses and pursuing professional development opportunities, he can further excel in his role as a Customer Service Representative.'''"
      ],
      "metadata": {
        "id": "VZpP9MwtreRh"
      },
      "execution_count": 37,
      "outputs": []
    },
    {
      "cell_type": "code",
      "source": [
        "seq_chain=SequentialChain(chains=[chain1,chain2,chain3], input_variables=['review'],output_variables=['review_summary','weaknesses','plan'],verbose=True)"
      ],
      "metadata": {
        "id": "LXCbufHdiA1W"
      },
      "execution_count": 38,
      "outputs": []
    },
    {
      "cell_type": "code",
      "source": [
        "result=seq_chain(employee_review)"
      ],
      "metadata": {
        "colab": {
          "base_uri": "https://localhost:8080/"
        },
        "id": "BWSSVL3vsl2W",
        "outputId": "1794c2cf-98ac-4980-deb8-8d816fd928e1"
      },
      "execution_count": 40,
      "outputs": [
        {
          "output_type": "stream",
          "name": "stderr",
          "text": [
            "/usr/local/lib/python3.10/dist-packages/langchain_core/_api/deprecation.py:117: LangChainDeprecationWarning: The function `__call__` was deprecated in LangChain 0.1.0 and will be removed in 0.2.0. Use invoke instead.\n",
            "  warn_deprecated(\n"
          ]
        },
        {
          "output_type": "stream",
          "name": "stdout",
          "text": [
            "\n",
            "\n",
            "\u001b[1m> Entering new SequentialChain chain...\u001b[0m\n",
            "\n",
            "\u001b[1m> Finished chain.\u001b[0m\n"
          ]
        }
      ]
    },
    {
      "cell_type": "code",
      "source": [
        "type(result)"
      ],
      "metadata": {
        "colab": {
          "base_uri": "https://localhost:8080/"
        },
        "id": "AWShgzWstZ8j",
        "outputId": "2576cd0c-6a92-42c0-e557-ce68e9866292"
      },
      "execution_count": 41,
      "outputs": [
        {
          "output_type": "execute_result",
          "data": {
            "text/plain": [
              "dict"
            ]
          },
          "metadata": {},
          "execution_count": 41
        }
      ]
    },
    {
      "cell_type": "code",
      "source": [
        "result.keys()"
      ],
      "metadata": {
        "colab": {
          "base_uri": "https://localhost:8080/"
        },
        "id": "GcrMdxLUtj_Y",
        "outputId": "a006b752-6a9c-4572-af85-ae3cf2a8bffe"
      },
      "execution_count": 42,
      "outputs": [
        {
          "output_type": "execute_result",
          "data": {
            "text/plain": [
              "dict_keys(['review', 'review_summary', 'weaknesses', 'plan'])"
            ]
          },
          "metadata": {},
          "execution_count": 42
        }
      ]
    },
    {
      "cell_type": "code",
      "source": [
        "print(result['review_summary'])"
      ],
      "metadata": {
        "colab": {
          "base_uri": "https://localhost:8080/"
        },
        "id": "IkA59mQHtsBN",
        "outputId": "7c213fed-e344-4f07-d067-c32fb3ee1e29"
      },
      "execution_count": 49,
      "outputs": [
        {
          "output_type": "stream",
          "name": "stdout",
          "text": [
            "John Smith, a Customer Service Representative, has received a satisfactory overall performance rating for the review period from January 1, 2023, to December 31, 2023. His strengths include providing excellent customer service, demonstrating a strong understanding of the bank's products, being a team player, and showing adaptability to changes. However, there are areas for improvement, including time management, attention to detail, sales performance, and conflict resolution. To address these weaknesses, John is encouraged to attend time management workshops, participate in training sessions focused on enhancing attention to detail, enroll in sales training programs, and take courses or workshops on conflict resolution and customer service techniques. Overall, John has shown commitment and potential for growth within the organization, and with focused efforts on addressing his weaknesses and pursuing professional development opportunities, he can further excel in his role as a Customer Service Representative.\n"
          ]
        }
      ]
    },
    {
      "cell_type": "code",
      "source": [
        "print(result['plan'])"
      ],
      "metadata": {
        "colab": {
          "base_uri": "https://localhost:8080/"
        },
        "id": "eKzeZTEwtx-v",
        "outputId": "45bfbd28-b39f-43b5-c88c-92d6184b22ff"
      },
      "execution_count": 48,
      "outputs": [
        {
          "output_type": "stream",
          "name": "stdout",
          "text": [
            "To improve John's time management skills, the following plan can be implemented:\n",
            "\n",
            "1. Set clear goals and priorities: John should work with his supervisor to establish clear goals and priorities for his tasks. This will help him understand what needs to be done first and allocate his time accordingly.\n",
            "\n",
            "2. Create a schedule: John should create a daily or weekly schedule that outlines his tasks and deadlines. This will help him visualize his workload and ensure that he allocates enough time for each task.\n",
            "\n",
            "3. Break tasks into smaller steps: If John finds it difficult to manage large tasks, he can break them down into smaller, more manageable steps. This will make it easier for him to track progress and complete tasks on time.\n",
            "\n",
            "4. Use time management tools: John can utilize various time management tools such as calendars, to-do lists, or project management software to help him stay organized and prioritize tasks effectively.\n",
            "\n",
            "To improve John's attention to detail, the following plan can be implemented:\n",
            "\n",
            "1. Develop a checklist: John can create a checklist for each task to ensure that he doesn't miss any important details. This will help him stay focused and thorough in his work.\n",
            "\n",
            "2. Double-check work: Before submitting any work, John should make it a habit to double-check for errors or omissions. Taking a few extra minutes to review his work can significantly improve his attention to detail.\n",
            "\n",
            "3. Seek feedback: John should actively seek feedback from his supervisor or colleagues to identify areas where he can improve his attention to detail. This feedback can help him understand specific areas that require more attention.\n",
            "\n",
            "4. Practice mindfulness: John can practice mindfulness techniques to improve his focus and concentration. Techniques such as deep breathing or meditation can help him stay present and attentive to details.\n",
            "\n",
            "To improve John's sales performance, the following plan can be implemented:\n",
            "\n",
            "1. Training and development: John should participate in sales training programs or workshops to enhance his sales skills and techniques. This will provide him with the necessary knowledge and strategies to improve his sales performance.\n",
            "\n",
            "2. Set clear sales targets: John should work with his supervisor to set clear and achievable sales targets. Having specific goals will motivate him to work towards meeting or exceeding them.\n",
            "\n",
            "3. Role-playing exercises: John can engage in role-playing exercises with colleagues or supervisors to practice his sales techniques and receive feedback. This will help him refine his approach and identify areas for improvement.\n",
            "\n",
            "4. Continuous learning: John should stay updated with industry trends, product knowledge, and sales strategies. This can be achieved through reading industry publications, attending webinars, or participating in online courses.\n",
            "\n",
            "To improve John's conflict resolution skills, the following plan can be implemented:\n",
            "\n",
            "1. Conflict resolution training: John should participate in conflict resolution training programs or workshops to develop his skills in managing and resolving conflicts. This will provide him with strategies and techniques to handle difficult situations effectively.\n",
            "\n",
            "2. Active listening: John should practice active listening when dealing with conflicts. This involves fully focusing on the other person's perspective and understanding their concerns before responding. This will help him empathize and find common ground for resolution.\n",
            "\n",
            "3. Seek feedback: John should actively seek feedback from his supervisor or colleagues on his conflict resolution skills. This feedback can help him identify areas for improvement and learn from his experiences.\n",
            "\n",
            "4. Practice empathy: John should work on developing empathy towards others' perspectives and emotions. This will help him approach conflicts with a more understanding and collaborative mindset, leading to more effective resolutions.\n",
            "\n",
            "Overall, implementing these plans will help John improve his time management, attention to detail, sales performance, and conflict resolution skills. Regular monitoring and feedback from his supervisor will also be essential to track his progress and provide additional support if needed.\n"
          ]
        }
      ]
    },
    {
      "cell_type": "code",
      "source": [],
      "metadata": {
        "id": "nSqgWpEft-Dk"
      },
      "execution_count": null,
      "outputs": []
    }
  ]
}
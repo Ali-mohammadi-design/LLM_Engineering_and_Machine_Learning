{
  "nbformat": 4,
  "nbformat_minor": 0,
  "metadata": {
    "colab": {
      "provenance": [],
      "authorship_tag": "ABX9TyMa9qu/4QZO8O/9mNMNz4w8",
      "include_colab_link": true
    },
    "kernelspec": {
      "name": "python3",
      "display_name": "Python 3"
    },
    "language_info": {
      "name": "python"
    }
  },
  "cells": [
    {
      "cell_type": "markdown",
      "metadata": {
        "id": "view-in-github",
        "colab_type": "text"
      },
      "source": [
        "<a href=\"https://colab.research.google.com/github/Ali-mohammadi-design/LLM_Engineering_and_Machine_Learning/blob/main/LLM_engineering_Domain_trained_LLMs.ipynb\" target=\"_parent\"><img src=\"https://colab.research.google.com/assets/colab-badge.svg\" alt=\"Open In Colab\"/></a>"
      ]
    },
    {
      "cell_type": "markdown",
      "source": [
        "LLM evaluation - LLM leaderboard"
      ],
      "metadata": {
        "id": "EKL7eDbejZla"
      }
    },
    {
      "cell_type": "markdown",
      "source": [
        "Medplam2---------> medical\n",
        "\n",
        "\n",
        "science and papers ---------> Galactica\n",
        "\n",
        "\n",
        "cybersecurity --------> sec-palm\n",
        "\n",
        "\n",
        "coding------> phi-1"
      ],
      "metadata": {
        "id": "EfLWzeP6jfAV"
      }
    },
    {
      "cell_type": "code",
      "execution_count": null,
      "metadata": {
        "id": "Jwumv8AkjNXH"
      },
      "outputs": [],
      "source": []
    }
  ]
}
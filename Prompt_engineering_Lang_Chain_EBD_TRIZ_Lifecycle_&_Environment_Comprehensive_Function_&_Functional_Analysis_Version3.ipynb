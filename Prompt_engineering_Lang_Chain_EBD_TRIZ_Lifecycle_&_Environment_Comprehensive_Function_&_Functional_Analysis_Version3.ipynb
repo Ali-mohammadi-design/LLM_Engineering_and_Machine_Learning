{
  "nbformat": 4,
  "nbformat_minor": 0,
  "metadata": {
    "colab": {
      "provenance": [],
      "authorship_tag": "ABX9TyN91tLnEph2MXUQZaw0ZV0h",
      "include_colab_link": true
    },
    "kernelspec": {
      "name": "python3",
      "display_name": "Python 3"
    },
    "language_info": {
      "name": "python"
    }
  },
  "cells": [
    {
      "cell_type": "markdown",
      "metadata": {
        "id": "view-in-github",
        "colab_type": "text"
      },
      "source": [
        "<a href=\"https://colab.research.google.com/github/Ali-mohammadi-design/Prompt_Engineering_and_Machine_Learning/blob/main/Prompt_engineering_Lang_Chain_EBD_TRIZ_Lifecycle_%26_Environment_Comprehensive_Function_%26_Functional_Analysis_Version3.ipynb\" target=\"_parent\"><img src=\"https://colab.research.google.com/assets/colab-badge.svg\" alt=\"Open In Colab\"/></a>"
      ]
    },
    {
      "cell_type": "code",
      "execution_count": 1,
      "metadata": {
        "colab": {
          "base_uri": "https://localhost:8080/"
        },
        "id": "uOdTUqbYxETP",
        "outputId": "1a9b880a-d01b-4b86-c1d9-1924ad4c52ef"
      },
      "outputs": [
        {
          "output_type": "stream",
          "name": "stdout",
          "text": [
            "Collecting langchain\n",
            "  Downloading langchain-0.1.6-py3-none-any.whl (811 kB)\n",
            "\u001b[2K     \u001b[90m━━━━━━━━━━━━━━━━━━━━━━━━━━━━━━━━━━━━━━━━\u001b[0m \u001b[32m811.8/811.8 kB\u001b[0m \u001b[31m7.9 MB/s\u001b[0m eta \u001b[36m0:00:00\u001b[0m\n",
            "\u001b[?25hRequirement already satisfied: PyYAML>=5.3 in /usr/local/lib/python3.10/dist-packages (from langchain) (6.0.1)\n",
            "Requirement already satisfied: SQLAlchemy<3,>=1.4 in /usr/local/lib/python3.10/dist-packages (from langchain) (2.0.25)\n",
            "Requirement already satisfied: aiohttp<4.0.0,>=3.8.3 in /usr/local/lib/python3.10/dist-packages (from langchain) (3.9.3)\n",
            "Requirement already satisfied: async-timeout<5.0.0,>=4.0.0 in /usr/local/lib/python3.10/dist-packages (from langchain) (4.0.3)\n",
            "Collecting dataclasses-json<0.7,>=0.5.7 (from langchain)\n",
            "  Downloading dataclasses_json-0.6.4-py3-none-any.whl (28 kB)\n",
            "Collecting jsonpatch<2.0,>=1.33 (from langchain)\n",
            "  Downloading jsonpatch-1.33-py2.py3-none-any.whl (12 kB)\n",
            "Collecting langchain-community<0.1,>=0.0.18 (from langchain)\n",
            "  Downloading langchain_community-0.0.19-py3-none-any.whl (1.6 MB)\n",
            "\u001b[2K     \u001b[90m━━━━━━━━━━━━━━━━━━━━━━━━━━━━━━━━━━━━━━━━\u001b[0m \u001b[32m1.6/1.6 MB\u001b[0m \u001b[31m15.9 MB/s\u001b[0m eta \u001b[36m0:00:00\u001b[0m\n",
            "\u001b[?25hCollecting langchain-core<0.2,>=0.1.22 (from langchain)\n",
            "  Downloading langchain_core-0.1.22-py3-none-any.whl (239 kB)\n",
            "\u001b[2K     \u001b[90m━━━━━━━━━━━━━━━━━━━━━━━━━━━━━━━━━━━━━━━━\u001b[0m \u001b[32m239.4/239.4 kB\u001b[0m \u001b[31m17.5 MB/s\u001b[0m eta \u001b[36m0:00:00\u001b[0m\n",
            "\u001b[?25hCollecting langsmith<0.1,>=0.0.83 (from langchain)\n",
            "  Downloading langsmith-0.0.90-py3-none-any.whl (55 kB)\n",
            "\u001b[2K     \u001b[90m━━━━━━━━━━━━━━━━━━━━━━━━━━━━━━━━━━━━━━━━\u001b[0m \u001b[32m55.7/55.7 kB\u001b[0m \u001b[31m6.5 MB/s\u001b[0m eta \u001b[36m0:00:00\u001b[0m\n",
            "\u001b[?25hRequirement already satisfied: numpy<2,>=1 in /usr/local/lib/python3.10/dist-packages (from langchain) (1.23.5)\n",
            "Requirement already satisfied: pydantic<3,>=1 in /usr/local/lib/python3.10/dist-packages (from langchain) (2.6.1)\n",
            "Requirement already satisfied: requests<3,>=2 in /usr/local/lib/python3.10/dist-packages (from langchain) (2.31.0)\n",
            "Requirement already satisfied: tenacity<9.0.0,>=8.1.0 in /usr/local/lib/python3.10/dist-packages (from langchain) (8.2.3)\n",
            "Requirement already satisfied: aiosignal>=1.1.2 in /usr/local/lib/python3.10/dist-packages (from aiohttp<4.0.0,>=3.8.3->langchain) (1.3.1)\n",
            "Requirement already satisfied: attrs>=17.3.0 in /usr/local/lib/python3.10/dist-packages (from aiohttp<4.0.0,>=3.8.3->langchain) (23.2.0)\n",
            "Requirement already satisfied: frozenlist>=1.1.1 in /usr/local/lib/python3.10/dist-packages (from aiohttp<4.0.0,>=3.8.3->langchain) (1.4.1)\n",
            "Requirement already satisfied: multidict<7.0,>=4.5 in /usr/local/lib/python3.10/dist-packages (from aiohttp<4.0.0,>=3.8.3->langchain) (6.0.5)\n",
            "Requirement already satisfied: yarl<2.0,>=1.0 in /usr/local/lib/python3.10/dist-packages (from aiohttp<4.0.0,>=3.8.3->langchain) (1.9.4)\n",
            "Collecting marshmallow<4.0.0,>=3.18.0 (from dataclasses-json<0.7,>=0.5.7->langchain)\n",
            "  Downloading marshmallow-3.20.2-py3-none-any.whl (49 kB)\n",
            "\u001b[2K     \u001b[90m━━━━━━━━━━━━━━━━━━━━━━━━━━━━━━━━━━━━━━━━\u001b[0m \u001b[32m49.4/49.4 kB\u001b[0m \u001b[31m6.2 MB/s\u001b[0m eta \u001b[36m0:00:00\u001b[0m\n",
            "\u001b[?25hCollecting typing-inspect<1,>=0.4.0 (from dataclasses-json<0.7,>=0.5.7->langchain)\n",
            "  Downloading typing_inspect-0.9.0-py3-none-any.whl (8.8 kB)\n",
            "Collecting jsonpointer>=1.9 (from jsonpatch<2.0,>=1.33->langchain)\n",
            "  Downloading jsonpointer-2.4-py2.py3-none-any.whl (7.8 kB)\n",
            "Requirement already satisfied: anyio<5,>=3 in /usr/local/lib/python3.10/dist-packages (from langchain-core<0.2,>=0.1.22->langchain) (3.7.1)\n",
            "Collecting langsmith<0.1,>=0.0.83 (from langchain)\n",
            "  Downloading langsmith-0.0.87-py3-none-any.whl (55 kB)\n",
            "\u001b[2K     \u001b[90m━━━━━━━━━━━━━━━━━━━━━━━━━━━━━━━━━━━━━━━━\u001b[0m \u001b[32m55.4/55.4 kB\u001b[0m \u001b[31m7.0 MB/s\u001b[0m eta \u001b[36m0:00:00\u001b[0m\n",
            "\u001b[?25hRequirement already satisfied: packaging<24.0,>=23.2 in /usr/local/lib/python3.10/dist-packages (from langchain-core<0.2,>=0.1.22->langchain) (23.2)\n",
            "Requirement already satisfied: annotated-types>=0.4.0 in /usr/local/lib/python3.10/dist-packages (from pydantic<3,>=1->langchain) (0.6.0)\n",
            "Requirement already satisfied: pydantic-core==2.16.2 in /usr/local/lib/python3.10/dist-packages (from pydantic<3,>=1->langchain) (2.16.2)\n",
            "Requirement already satisfied: typing-extensions>=4.6.1 in /usr/local/lib/python3.10/dist-packages (from pydantic<3,>=1->langchain) (4.9.0)\n",
            "Requirement already satisfied: charset-normalizer<4,>=2 in /usr/local/lib/python3.10/dist-packages (from requests<3,>=2->langchain) (3.3.2)\n",
            "Requirement already satisfied: idna<4,>=2.5 in /usr/local/lib/python3.10/dist-packages (from requests<3,>=2->langchain) (3.6)\n",
            "Requirement already satisfied: urllib3<3,>=1.21.1 in /usr/local/lib/python3.10/dist-packages (from requests<3,>=2->langchain) (2.0.7)\n",
            "Requirement already satisfied: certifi>=2017.4.17 in /usr/local/lib/python3.10/dist-packages (from requests<3,>=2->langchain) (2024.2.2)\n",
            "Requirement already satisfied: greenlet!=0.4.17 in /usr/local/lib/python3.10/dist-packages (from SQLAlchemy<3,>=1.4->langchain) (3.0.3)\n",
            "Requirement already satisfied: sniffio>=1.1 in /usr/local/lib/python3.10/dist-packages (from anyio<5,>=3->langchain-core<0.2,>=0.1.22->langchain) (1.3.0)\n",
            "Requirement already satisfied: exceptiongroup in /usr/local/lib/python3.10/dist-packages (from anyio<5,>=3->langchain-core<0.2,>=0.1.22->langchain) (1.2.0)\n",
            "Collecting mypy-extensions>=0.3.0 (from typing-inspect<1,>=0.4.0->dataclasses-json<0.7,>=0.5.7->langchain)\n",
            "  Downloading mypy_extensions-1.0.0-py3-none-any.whl (4.7 kB)\n",
            "Installing collected packages: mypy-extensions, marshmallow, jsonpointer, typing-inspect, jsonpatch, langsmith, dataclasses-json, langchain-core, langchain-community, langchain\n",
            "Successfully installed dataclasses-json-0.6.4 jsonpatch-1.33 jsonpointer-2.4 langchain-0.1.6 langchain-community-0.0.19 langchain-core-0.1.22 langsmith-0.0.87 marshmallow-3.20.2 mypy-extensions-1.0.0 typing-inspect-0.9.0\n",
            "Collecting openai\n",
            "  Downloading openai-1.12.0-py3-none-any.whl (226 kB)\n",
            "\u001b[2K     \u001b[90m━━━━━━━━━━━━━━━━━━━━━━━━━━━━━━━━━━━━━━━━\u001b[0m \u001b[32m226.7/226.7 kB\u001b[0m \u001b[31m2.3 MB/s\u001b[0m eta \u001b[36m0:00:00\u001b[0m\n",
            "\u001b[?25hRequirement already satisfied: anyio<5,>=3.5.0 in /usr/local/lib/python3.10/dist-packages (from openai) (3.7.1)\n",
            "Requirement already satisfied: distro<2,>=1.7.0 in /usr/lib/python3/dist-packages (from openai) (1.7.0)\n",
            "Collecting httpx<1,>=0.23.0 (from openai)\n",
            "  Downloading httpx-0.26.0-py3-none-any.whl (75 kB)\n",
            "\u001b[2K     \u001b[90m━━━━━━━━━━━━━━━━━━━━━━━━━━━━━━━━━━━━━━━━\u001b[0m \u001b[32m75.9/75.9 kB\u001b[0m \u001b[31m6.2 MB/s\u001b[0m eta \u001b[36m0:00:00\u001b[0m\n",
            "\u001b[?25hRequirement already satisfied: pydantic<3,>=1.9.0 in /usr/local/lib/python3.10/dist-packages (from openai) (2.6.1)\n",
            "Requirement already satisfied: sniffio in /usr/local/lib/python3.10/dist-packages (from openai) (1.3.0)\n",
            "Requirement already satisfied: tqdm>4 in /usr/local/lib/python3.10/dist-packages (from openai) (4.66.1)\n",
            "Requirement already satisfied: typing-extensions<5,>=4.7 in /usr/local/lib/python3.10/dist-packages (from openai) (4.9.0)\n",
            "Requirement already satisfied: idna>=2.8 in /usr/local/lib/python3.10/dist-packages (from anyio<5,>=3.5.0->openai) (3.6)\n",
            "Requirement already satisfied: exceptiongroup in /usr/local/lib/python3.10/dist-packages (from anyio<5,>=3.5.0->openai) (1.2.0)\n",
            "Requirement already satisfied: certifi in /usr/local/lib/python3.10/dist-packages (from httpx<1,>=0.23.0->openai) (2024.2.2)\n",
            "Collecting httpcore==1.* (from httpx<1,>=0.23.0->openai)\n",
            "  Downloading httpcore-1.0.2-py3-none-any.whl (76 kB)\n",
            "\u001b[2K     \u001b[90m━━━━━━━━━━━━━━━━━━━━━━━━━━━━━━━━━━━━━━━━\u001b[0m \u001b[32m76.9/76.9 kB\u001b[0m \u001b[31m5.7 MB/s\u001b[0m eta \u001b[36m0:00:00\u001b[0m\n",
            "\u001b[?25hCollecting h11<0.15,>=0.13 (from httpcore==1.*->httpx<1,>=0.23.0->openai)\n",
            "  Downloading h11-0.14.0-py3-none-any.whl (58 kB)\n",
            "\u001b[2K     \u001b[90m━━━━━━━━━━━━━━━━━━━━━━━━━━━━━━━━━━━━━━━━\u001b[0m \u001b[32m58.3/58.3 kB\u001b[0m \u001b[31m6.9 MB/s\u001b[0m eta \u001b[36m0:00:00\u001b[0m\n",
            "\u001b[?25hRequirement already satisfied: annotated-types>=0.4.0 in /usr/local/lib/python3.10/dist-packages (from pydantic<3,>=1.9.0->openai) (0.6.0)\n",
            "Requirement already satisfied: pydantic-core==2.16.2 in /usr/local/lib/python3.10/dist-packages (from pydantic<3,>=1.9.0->openai) (2.16.2)\n",
            "Installing collected packages: h11, httpcore, httpx, openai\n",
            "\u001b[31mERROR: pip's dependency resolver does not currently take into account all the packages that are installed. This behaviour is the source of the following dependency conflicts.\n",
            "llmx 0.0.15a0 requires cohere, which is not installed.\n",
            "llmx 0.0.15a0 requires tiktoken, which is not installed.\u001b[0m\u001b[31m\n",
            "\u001b[0mSuccessfully installed h11-0.14.0 httpcore-1.0.2 httpx-0.26.0 openai-1.12.0\n",
            "Collecting wikipedia\n",
            "  Downloading wikipedia-1.4.0.tar.gz (27 kB)\n",
            "  Preparing metadata (setup.py) ... \u001b[?25l\u001b[?25hdone\n",
            "Requirement already satisfied: beautifulsoup4 in /usr/local/lib/python3.10/dist-packages (from wikipedia) (4.12.3)\n",
            "Requirement already satisfied: requests<3.0.0,>=2.0.0 in /usr/local/lib/python3.10/dist-packages (from wikipedia) (2.31.0)\n",
            "Requirement already satisfied: charset-normalizer<4,>=2 in /usr/local/lib/python3.10/dist-packages (from requests<3.0.0,>=2.0.0->wikipedia) (3.3.2)\n",
            "Requirement already satisfied: idna<4,>=2.5 in /usr/local/lib/python3.10/dist-packages (from requests<3.0.0,>=2.0.0->wikipedia) (3.6)\n",
            "Requirement already satisfied: urllib3<3,>=1.21.1 in /usr/local/lib/python3.10/dist-packages (from requests<3.0.0,>=2.0.0->wikipedia) (2.0.7)\n",
            "Requirement already satisfied: certifi>=2017.4.17 in /usr/local/lib/python3.10/dist-packages (from requests<3.0.0,>=2.0.0->wikipedia) (2024.2.2)\n",
            "Requirement already satisfied: soupsieve>1.2 in /usr/local/lib/python3.10/dist-packages (from beautifulsoup4->wikipedia) (2.5)\n",
            "Building wheels for collected packages: wikipedia\n",
            "  Building wheel for wikipedia (setup.py) ... \u001b[?25l\u001b[?25hdone\n",
            "  Created wheel for wikipedia: filename=wikipedia-1.4.0-py3-none-any.whl size=11678 sha256=d45f269d0ba321a1e9c5079a8b1292b6bab7e8e9b0921d86ed041362e276bf67\n",
            "  Stored in directory: /root/.cache/pip/wheels/5e/b6/c5/93f3dec388ae76edc830cb42901bb0232504dfc0df02fc50de\n",
            "Successfully built wikipedia\n",
            "Installing collected packages: wikipedia\n",
            "Successfully installed wikipedia-1.4.0\n"
          ]
        }
      ],
      "source": [
        "!pip install langchain\n",
        "!pip install openai\n",
        "!pip install wikipedia\n",
        "from langchain.llms import OpenAI\n",
        "from langchain.chat_models import ChatOpenAI"
      ]
    },
    {
      "cell_type": "code",
      "source": [
        "import os\n",
        "openAI_API_Key=os.environ['openAI_API_Key']"
      ],
      "metadata": {
        "id": "3QJn-p2C7nfj"
      },
      "execution_count": 5,
      "outputs": []
    },
    {
      "cell_type": "code",
      "source": [
        "from langchain.chat_models import ChatOpenAI\n",
        "from langchain.prompts.chat import ChatPromptTemplate, SystemMessagePromptTemplate, HumanMessagePromptTemplate, AIMessagePromptTemplate"
      ],
      "metadata": {
        "id": "3ZAHAOVtIqAG"
      },
      "execution_count": 18,
      "outputs": []
    },
    {
      "cell_type": "code",
      "source": [
        "llm=ChatOpenAI(openai_api_key=openAI_API_Key)"
      ],
      "metadata": {
        "id": "QZPTW1uwIp8g"
      },
      "execution_count": 7,
      "outputs": []
    },
    {
      "cell_type": "markdown",
      "source": [
        "**Environment of an Object**\n"
      ],
      "metadata": {
        "id": "e1ITxqyM0Jz9"
      }
    },
    {
      "cell_type": "code",
      "source": [
        "class object_lifecycle():\n",
        "  def __init__(self,First_stage,Second_stage,Third_stage,Fourth_stage):\n",
        "     self.first_stage =First_stage\n",
        "     self.Second_stage=Second_stage\n",
        "     self.Third_stage=Third_stage\n",
        "     self.Fourth_stage=Fourth_stage\n"
      ],
      "metadata": {
        "id": "y_c61Fn0Ip6V"
      },
      "execution_count": 8,
      "outputs": []
    },
    {
      "cell_type": "code",
      "source": [
        "json_schema={'title':'scientist',\n",
        "             'description':'four stages of the creation of the object',\n",
        "             'type':'object',\n",
        "             'properties':{\n",
        "                 'first_stage': {'title':'first_stage','description':'The First stage of the lifecycle of this object','data_type':'string'},\n",
        "                 'second_stage': {'title':'Second_stage','description':'The second stage of the lifecycle of this object','data_type':'string'},\n",
        "                 'third_stage': {'title':'third_stage','description':'The third stage of the lifecycle of this object','data_type':'string'},\n",
        "                 'last_stage': {'title':'last_stage','description':'The last stage of the lifecycle of this object','data_type':'string'},\n",
        "             },\n",
        "\n",
        "             'required':['first_stage','second_stage','thrid stage','last stage']\n",
        "             }\n"
      ],
      "metadata": {
        "id": "9Uv3kdd5Ip4J"
      },
      "execution_count": 9,
      "outputs": []
    },
    {
      "cell_type": "code",
      "source": [
        "from langchain.prompts import PromptTemplate, ChatPromptTemplate, SystemMessagePromptTemplate, HumanMessagePromptTemplate, AIMessagePromptTemplate"
      ],
      "metadata": {
        "id": "tX0V6ZDaF6GJ"
      },
      "execution_count": 10,
      "outputs": []
    },
    {
      "cell_type": "code",
      "source": [
        "from langchain.chains.openai_functions import create_structured_output_chain"
      ],
      "metadata": {
        "id": "mtfivPbIGO-1"
      },
      "execution_count": 11,
      "outputs": []
    },
    {
      "cell_type": "code",
      "source": [
        "model= ChatOpenAI(openai_api_key=openAI_API_Key, max_tokens=150, temperature=0)"
      ],
      "metadata": {
        "id": "FWYV18j3WmII"
      },
      "execution_count": 12,
      "outputs": []
    },
    {
      "cell_type": "code",
      "source": [
        "def obj(name):\n",
        "  system_template=\" you are an AI assistant that could help designers to understand the lifecycle of {objects}. You would explain the lifecycle of {objects} clearly and very breifly in just four stages and provide a  short explanation for every stage \"\n",
        "  system_message_prompt= SystemMessagePromptTemplate.from_template(system_template)\n",
        "  human_template= 'I would define lifecycle as events that something passes to reach the point that it is. For instance the lifecycle of an engineer is studying in school, getting good marks, going to colledge, going to university, finding an engineer job. What is life cycle of {objects}'\n",
        "  human_prompt= HumanMessagePromptTemplate.from_template(human_template)\n",
        "  chat_prompt=ChatPromptTemplate.from_messages([system_message_prompt, human_prompt])\n",
        "  chain=create_structured_output_chain(json_schema,llm, chat_prompt,verbose=True)\n",
        "  result=chain.run(objects=name)\n",
        "  obj=object_lifecycle(result['first_stage'],result['second_stage'],result['third_stage'],result['last_stage'])\n",
        "\n",
        "\n",
        "  system_template=\" Every {objects} is related to it's environment. we would have three types of environment: 1- built environment, 2-human environment 3- nature environment.Built environment: Every thing directly related to the {objects} and made by human. Human environment: Every human being directly related to the {objects}. Nature environment: every natural things like weather, water etc that is directly connect to {objects}. When we wnat to describe the environment of {objects} we have to show the relation between {objects} and the environment in senctnces.  you are an AI assistant that could help designers to understand the environment of {objects}. You would explain the environment of {objects} with single sentences.\"\n",
        "  system_message_prompt= SystemMessagePromptTemplate.from_template(system_template)\n",
        "  human_template= ' {lifecycle_stage} is one of the stages of lifecycle of {objects}. Consider {objects} in this stage and determine every part of the environment of {objects} in the separate sentences'\n",
        "  human_prompt= HumanMessagePromptTemplate.from_template(human_template)\n",
        "  chat_prompt=ChatPromptTemplate.from_messages([system_message_prompt, human_prompt])\n",
        "  model_request= chat_prompt.format_prompt(lifecycle_stage=obj.first_stage, objects=name).to_messages()\n",
        "  env_in_first_stage=model(model_request)\n",
        "\n",
        "  model_request2= chat_prompt.format_prompt(lifecycle_stage=obj.Second_stage, objects=name).to_messages()\n",
        "  env_in_second_stage=model(model_request2)\n",
        "\n",
        "  model_request3= chat_prompt.format_prompt(lifecycle_stage=obj.Third_stage, objects=name).to_messages()\n",
        "  env_in_third_stage=model(model_request3)\n",
        "\n",
        "  model_request4= chat_prompt.format_prompt(lifecycle_stage=obj.Fourth_stage, objects=name).to_messages()\n",
        "  env_in_fourth_stage=model(model_request4)\n",
        "\n",
        "\n",
        "  result=f'''The first stage of life cycle of {name} is {obj.first_stage}. In this stage the environment is classified as the following:\\n{env_in_first_stage.content}.\n",
        "  \\n The second stage of life cycle of {name} is {obj.Second_stage}. In this stage the environment is classified as the following:\\n{env_in_second_stage.content}.\n",
        "  \\n The third stage of life cycle of {name} is {obj.Third_stage}. In this stage the environment is classified as the following:\\n{env_in_third_stage.content}.\n",
        "  \\n The fourth stage of life cycle of {name} is {obj.Fourth_stage}. In this stage the environment is classified as the following:\\n{env_in_fourth_stage.content}.\n",
        "  '''\n",
        "  return print(result)"
      ],
      "metadata": {
        "id": "Sdgwjz8EPc_N"
      },
      "execution_count": 13,
      "outputs": []
    },
    {
      "cell_type": "code",
      "source": [
        "obj('learning french')"
      ],
      "metadata": {
        "colab": {
          "base_uri": "https://localhost:8080/"
        },
        "id": "xgbiT6DHQBkl",
        "outputId": "f3a7f4d5-4fa2-4334-a2f8-4ce4d5eccddb"
      },
      "execution_count": 17,
      "outputs": [
        {
          "output_type": "stream",
          "name": "stdout",
          "text": [
            "\n",
            "\n",
            "\u001b[1m> Entering new LLMChain chain...\u001b[0m\n",
            "Prompt after formatting:\n",
            "\u001b[32;1m\u001b[1;3mSystem:  you are an AI assistant that could help designers to understand the lifecycle of learning french. You would explain the lifecycle of learning french clearly and very breifly in just four stages and provide a  short explanation for every stage \n",
            "Human: I would define lifecycle as events that something passes to reach the point that it is. For instance the lifecycle of an engineer is studying in school, getting good marks, going to colledge, going to university, finding an engineer job. What is life cycle of learning french\u001b[0m\n",
            "\n",
            "\u001b[1m> Finished chain.\u001b[0m\n",
            "The first stage of life cycle of learning french is Beginner. In this stage the environment is classified as the following:\n",
            "In the built environment, beginners of learning French may rely on language learning apps and online resources to practice vocabulary and grammar.\n",
            "In the human environment, beginners of learning French may seek guidance from language tutors or join language exchange groups to practice speaking and listening skills.\n",
            "In the nature environment, beginners of learning French may find it helpful to immerse themselves in French-speaking environments, such as watching French movies or listening to French music, to improve their language comprehension..\n",
            "  \n",
            " The second stage of life cycle of learning french is Intermediate. In this stage the environment is classified as the following:\n",
            "1. In the built environment, intermediate French learners may utilize language learning apps and online platforms to practice their skills and access resources.\n",
            "2. The human environment of learning French at the intermediate stage includes fellow learners, language exchange partners, and language tutors who provide guidance and support.\n",
            "3. The nature environment can impact learning French at the intermediate stage through exposure to authentic French materials such as books, movies, and music, which help improve language comprehension and cultural understanding..\n",
            "  \n",
            " The third stage of life cycle of learning french is Advanced. In this stage the environment is classified as the following:\n",
            "1. In the built environment, advanced learners of French may utilize language learning apps, online courses, and textbooks to further enhance their language skills.\n",
            "2. The human environment of learning French at an advanced level may involve interacting with native French speakers, language exchange partners, or participating in conversation groups to practice speaking and listening skills.\n",
            "3. The nature environment can play a role in learning French at an advanced level through exposure to authentic French materials such as books, movies, music, and news articles, which can help improve vocabulary and comprehension skills..\n",
            "  \n",
            " The fourth stage of life cycle of learning french is Fluent. In this stage the environment is classified as the following:\n",
            "1. In the built environment, learning French in the fluent stage involves utilizing language learning apps, online courses, and textbooks to enhance language skills.\n",
            "2. In the human environment, learning French in the fluent stage may involve interacting with native French speakers, language exchange partners, or joining conversation groups to practice speaking and improve fluency.\n",
            "3. In the nature environment, learning French in the fluent stage may be influenced by exposure to French-speaking countries, immersing oneself in French culture, and experiencing authentic French cuisine, music, and art to deepen language understanding..\n",
            "  \n"
          ]
        }
      ]
    },
    {
      "cell_type": "markdown",
      "source": [
        "**Functional Analysis**"
      ],
      "metadata": {
        "id": "919XaAog0Wi7"
      }
    },
    {
      "cell_type": "code",
      "source": [
        "json_schema2={'title':'Functional analysis',\n",
        "             'description':'Identfying tools, objcets and their interactions',\n",
        "             'type':'object',\n",
        "             'properties':{\n",
        "                 'Tool': {'title':'tool','description':'The objcet that change another object or protect another object to be changed','data_type':'string'},\n",
        "                 'Object': {'title':'Object','description':'The Object which is changed or being protected form a change','data_type':'string'},\n",
        "                 'How tool affect the object': {'title':'How tool affect on the object','description':'How tool affect on the object','data_type':'string'},\n",
        "                 'How object affect the tool': {'title':'How object affect the tool','description':'How object affect the tool','data_type':'string'},\n",
        "             },\n",
        "\n",
        "             'required':['Tool','Object','How tool affect the object','How object affect the tool']\n",
        "             }"
      ],
      "metadata": {
        "id": "Hhsz6EwGxybA"
      },
      "execution_count": 55,
      "outputs": []
    },
    {
      "cell_type": "code",
      "source": [
        "def functional_analysis(sentence):\n",
        "  system_template='''you are an AI assistant that could analyze a sentence and specify tool, object and specified action'''\n",
        "  system_message_prompt= SystemMessagePromptTemplate.from_template(system_template)\n",
        "\n",
        "  text1= 'Alex write a sentence'\n",
        "  example_one= HumanMessagePromptTemplate.from_template(text1)\n",
        "  text1_out_put= 'Tool: Alex, Object: Sentence, Action: Writing'\n",
        "  example_one_output= AIMessagePromptTemplate.from_template(text1_out_put)\n",
        "\n",
        "  text2='Ali eats a sandwich'\n",
        "  example_two= HumanMessagePromptTemplate.from_template(text2)\n",
        "  text2_out_put= 'Tool: Ali, Object: Sandwich, Action: Eats'\n",
        "  example_two_output= AIMessagePromptTemplate.from_template(text2_out_put)\n",
        "\n",
        "  text3='Alex goes to school'\n",
        "  example_three= HumanMessagePromptTemplate.from_template(text3)\n",
        "  text3_out_put= 'Action means tool does something that causes object to change. There is no change in either Alex or school. Thus there is no action, tool, and object'\n",
        "  example_three_output= AIMessagePromptTemplate.from_template(text3_out_put)\n",
        "\n",
        "  text4='The manager interview a job applicant'\n",
        "  example_four= HumanMessagePromptTemplate.from_template(text4)\n",
        "  text4_out_put= 'In this sentence the job applicant is increasing the information of the manager. Thus the tool is job applicant. The object is manager and specified action is increasing the information. '\n",
        "  example_four_output= AIMessagePromptTemplate.from_template(text4_out_put)\n",
        "\n",
        "  Human_prompt= '''In every specified action there is a tool and object. Specified action means tool does something that causes object to change or to be maintained from the change.\n",
        "  Thus in every specified actions there are two material object (one is tool and the other is object) that are interacting with each other.\n",
        "  This interaction must change the object. If there is no change on the object, we can conclude that there is no specified action.\n",
        "  The object that make changes on the other one is called as a tool and the one that is got affected is the bject.\n",
        "  Please consider this sentence:\\n {text} \\n please clarify waht are tool and object.\n",
        "  Please also clarify how the tool affects the object and how the object affect on the tool'''\n",
        "  prompt= HumanMessagePromptTemplate.from_template(Human_prompt)\n",
        "  chat_prompt=ChatPromptTemplate.from_messages([example_one,example_one_output,example_two,example_two_output,example_three,example_three_output,example_four,example_four_output, prompt,system_message_prompt])\n",
        "  chain=create_structured_output_chain(json_schema2,llm, chat_prompt,verbose=True)\n",
        "  result=chain.run(text=sentence)\n",
        "  return print(result)\n",
        "\n"
      ],
      "metadata": {
        "id": "qCz93HlpmxeX"
      },
      "execution_count": 58,
      "outputs": []
    },
    {
      "cell_type": "code",
      "source": [
        "functional_analysis('Ali eate a sandwich')"
      ],
      "metadata": {
        "colab": {
          "base_uri": "https://localhost:8080/"
        },
        "id": "jeXFmsqVrnwu",
        "outputId": "caf1a9c5-b7d6-470b-8d11-6a4aa76796d0"
      },
      "execution_count": 60,
      "outputs": [
        {
          "output_type": "stream",
          "name": "stdout",
          "text": [
            "\n",
            "\n",
            "\u001b[1m> Entering new LLMChain chain...\u001b[0m\n",
            "Prompt after formatting:\n",
            "\u001b[32;1m\u001b[1;3mHuman: Alex write a sentence\n",
            "AI: Tool: Alex, Object: Sentence, Action: Writing\n",
            "Human: Ali eats a sandwich\n",
            "AI: Tool: Ali, Object: Sandwich, Action: Eats\n",
            "Human: Alex goes to school\n",
            "AI: Action means tool does something that causes object to change. There is no change in either Alex or school. Thus there is no action, tool, and object\n",
            "Human: The manager interview a job applicant\n",
            "AI: In this sentence the job applicant is increasing the information of the manager. Thus the tool is job applicant. The object is manager and specified action is increasing the information. \n",
            "Human: In every specified action there is a tool and object. Specified action means tool does something that causes object to change or to be maintained from the change.\n",
            "  Thus in every specified actions there are two material object (one is tool and the other is object) that are interacting with each other.\n",
            "  This interaction must change the object. If there is no change on the object, we can conclude that there is no specified action. \n",
            "  The object that make changes on the other one is called as a tool and the one that is got affected is the bject.\n",
            "  Please consider this sentence:\n",
            " Ali eate a sandwich \n",
            " please clarify waht are tool and object. \n",
            "  Please also clarify how the tool affects on the object and how the object affect on the tool\n",
            "System: you are an AI assistant that could analyze a sentence and specify tool, object and specified action\u001b[0m\n",
            "\n",
            "\u001b[1m> Finished chain.\u001b[0m\n",
            "{'Tool': 'Ali', 'Object': 'Sandwich', 'How tool affect the object': 'Ali eats the sandwich, causing the sandwich to be consumed.', 'How object affect the tool': \"The sandwich satisfies Ali's hunger.\"}\n"
          ]
        }
      ]
    },
    {
      "cell_type": "code",
      "source": [],
      "metadata": {
        "id": "YxpyRhjprq5C"
      },
      "execution_count": null,
      "outputs": []
    }
  ]
}
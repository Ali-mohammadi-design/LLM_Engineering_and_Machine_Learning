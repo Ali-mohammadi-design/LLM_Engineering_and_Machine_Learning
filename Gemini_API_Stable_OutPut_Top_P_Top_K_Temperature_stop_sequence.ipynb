{
  "nbformat": 4,
  "nbformat_minor": 0,
  "metadata": {
    "colab": {
      "provenance": [],
      "authorship_tag": "ABX9TyM0mCeSnTiT9/3W8F50CX0r",
      "include_colab_link": true
    },
    "kernelspec": {
      "name": "python3",
      "display_name": "Python 3"
    },
    "language_info": {
      "name": "python"
    }
  },
  "cells": [
    {
      "cell_type": "markdown",
      "metadata": {
        "id": "view-in-github",
        "colab_type": "text"
      },
      "source": [
        "<a href=\"https://colab.research.google.com/github/Ali-mohammadi-design/LLM_Engineering_and_Machine_Learning/blob/main/Gemini_API_Stable_OutPut_Top_P_Top_K_Temperature_stop_sequence.ipynb\" target=\"_parent\"><img src=\"https://colab.research.google.com/assets/colab-badge.svg\" alt=\"Open In Colab\"/></a>"
      ]
    },
    {
      "cell_type": "markdown",
      "source": [
        "Note: We can play with three parameters (temperture, top p , top k) and max token"
      ],
      "metadata": {
        "id": "OPXuneIhHOBz"
      }
    },
    {
      "cell_type": "markdown",
      "source": [
        "Temperature would affect the sampling of the tokens.Lower temperature would cause the model to sample the most likely tokens while high temperature would cause the model to sample less likely tokens.\n",
        "\n",
        "Top K: This means you would only consider the top k amount of the tokens. for example if k=3, you would only consider 3 most likely tokens before you sample.\n",
        "\n",
        "\n",
        "Top p : Considers the cumlative probability of tokens, allowing you to cutt of at the certain cumulative probability. for example a p=0.97 would stop considering any tokens onc the cumulative probability reaches 97%."
      ],
      "metadata": {
        "id": "COJkDFcGHXcA"
      }
    },
    {
      "cell_type": "code",
      "source": [
        "|!pip install google-generativeai"
      ],
      "metadata": {
        "colab": {
          "base_uri": "https://localhost:8080/"
        },
        "id": "jDxrrrYFW3S3",
        "outputId": "5649d608-653d-4d70-b93c-a797372dee41"
      },
      "execution_count": 1,
      "outputs": [
        {
          "output_type": "stream",
          "name": "stdout",
          "text": [
            "Requirement already satisfied: google-generativeai in /usr/local/lib/python3.10/dist-packages (0.5.4)\n",
            "Requirement already satisfied: google-ai-generativelanguage==0.6.4 in /usr/local/lib/python3.10/dist-packages (from google-generativeai) (0.6.4)\n",
            "Requirement already satisfied: google-api-core in /usr/local/lib/python3.10/dist-packages (from google-generativeai) (2.11.1)\n",
            "Requirement already satisfied: google-api-python-client in /usr/local/lib/python3.10/dist-packages (from google-generativeai) (2.84.0)\n",
            "Requirement already satisfied: google-auth>=2.15.0 in /usr/local/lib/python3.10/dist-packages (from google-generativeai) (2.27.0)\n",
            "Requirement already satisfied: protobuf in /usr/local/lib/python3.10/dist-packages (from google-generativeai) (3.20.3)\n",
            "Requirement already satisfied: pydantic in /usr/local/lib/python3.10/dist-packages (from google-generativeai) (2.7.1)\n",
            "Requirement already satisfied: tqdm in /usr/local/lib/python3.10/dist-packages (from google-generativeai) (4.66.4)\n",
            "Requirement already satisfied: typing-extensions in /usr/local/lib/python3.10/dist-packages (from google-generativeai) (4.11.0)\n",
            "Requirement already satisfied: proto-plus<2.0.0dev,>=1.22.3 in /usr/local/lib/python3.10/dist-packages (from google-ai-generativelanguage==0.6.4->google-generativeai) (1.23.0)\n",
            "Requirement already satisfied: cachetools<6.0,>=2.0.0 in /usr/local/lib/python3.10/dist-packages (from google-auth>=2.15.0->google-generativeai) (5.3.3)\n",
            "Requirement already satisfied: pyasn1-modules>=0.2.1 in /usr/local/lib/python3.10/dist-packages (from google-auth>=2.15.0->google-generativeai) (0.4.0)\n",
            "Requirement already satisfied: rsa<5,>=3.1.4 in /usr/local/lib/python3.10/dist-packages (from google-auth>=2.15.0->google-generativeai) (4.9)\n",
            "Requirement already satisfied: googleapis-common-protos<2.0.dev0,>=1.56.2 in /usr/local/lib/python3.10/dist-packages (from google-api-core->google-generativeai) (1.63.0)\n",
            "Requirement already satisfied: requests<3.0.0.dev0,>=2.18.0 in /usr/local/lib/python3.10/dist-packages (from google-api-core->google-generativeai) (2.31.0)\n",
            "Requirement already satisfied: httplib2<1dev,>=0.15.0 in /usr/local/lib/python3.10/dist-packages (from google-api-python-client->google-generativeai) (0.22.0)\n",
            "Requirement already satisfied: google-auth-httplib2>=0.1.0 in /usr/local/lib/python3.10/dist-packages (from google-api-python-client->google-generativeai) (0.1.1)\n",
            "Requirement already satisfied: uritemplate<5,>=3.0.1 in /usr/local/lib/python3.10/dist-packages (from google-api-python-client->google-generativeai) (4.1.1)\n",
            "Requirement already satisfied: annotated-types>=0.4.0 in /usr/local/lib/python3.10/dist-packages (from pydantic->google-generativeai) (0.7.0)\n",
            "Requirement already satisfied: pydantic-core==2.18.2 in /usr/local/lib/python3.10/dist-packages (from pydantic->google-generativeai) (2.18.2)\n",
            "Requirement already satisfied: grpcio<2.0dev,>=1.33.2 in /usr/local/lib/python3.10/dist-packages (from google-api-core->google-generativeai) (1.64.0)\n",
            "Requirement already satisfied: grpcio-status<2.0.dev0,>=1.33.2 in /usr/local/lib/python3.10/dist-packages (from google-api-core->google-generativeai) (1.48.2)\n",
            "Requirement already satisfied: pyparsing!=3.0.0,!=3.0.1,!=3.0.2,!=3.0.3,<4,>=2.4.2 in /usr/local/lib/python3.10/dist-packages (from httplib2<1dev,>=0.15.0->google-api-python-client->google-generativeai) (3.1.2)\n",
            "Requirement already satisfied: pyasn1<0.7.0,>=0.4.6 in /usr/local/lib/python3.10/dist-packages (from pyasn1-modules>=0.2.1->google-auth>=2.15.0->google-generativeai) (0.6.0)\n",
            "Requirement already satisfied: charset-normalizer<4,>=2 in /usr/local/lib/python3.10/dist-packages (from requests<3.0.0.dev0,>=2.18.0->google-api-core->google-generativeai) (3.3.2)\n",
            "Requirement already satisfied: idna<4,>=2.5 in /usr/local/lib/python3.10/dist-packages (from requests<3.0.0.dev0,>=2.18.0->google-api-core->google-generativeai) (3.7)\n",
            "Requirement already satisfied: urllib3<3,>=1.21.1 in /usr/local/lib/python3.10/dist-packages (from requests<3.0.0.dev0,>=2.18.0->google-api-core->google-generativeai) (2.0.7)\n",
            "Requirement already satisfied: certifi>=2017.4.17 in /usr/local/lib/python3.10/dist-packages (from requests<3.0.0.dev0,>=2.18.0->google-api-core->google-generativeai) (2024.2.2)\n"
          ]
        }
      ]
    },
    {
      "cell_type": "code",
      "source": [
        "import google.generativeai as genai"
      ],
      "metadata": {
        "id": "Kz_QDsYkW8sH"
      },
      "execution_count": 2,
      "outputs": []
    },
    {
      "cell_type": "code",
      "source": [
        "import os\n",
        "GenAI_API_Key=os.environ['GenAI_API_Key']"
      ],
      "metadata": {
        "id": "0qgnP7SxXKhv"
      },
      "execution_count": 4,
      "outputs": []
    },
    {
      "cell_type": "code",
      "source": [
        "genai.configure(api_key=GenAI_API_Key)"
      ],
      "metadata": {
        "id": "EgMzRiG3XlR-"
      },
      "execution_count": 5,
      "outputs": []
    },
    {
      "cell_type": "markdown",
      "source": [
        "these are the model that it has:"
      ],
      "metadata": {
        "id": "8SrPiNnfX0QU"
      }
    },
    {
      "cell_type": "code",
      "source": [
        "for model in genai.list_models():\n",
        "  print(model.name)\n"
      ],
      "metadata": {
        "colab": {
          "base_uri": "https://localhost:8080/",
          "height": 329
        },
        "id": "zbMa7tSKXu_S",
        "outputId": "04fb48b0-aab3-441f-c6f4-e91cbf4cdf27"
      },
      "execution_count": 6,
      "outputs": [
        {
          "output_type": "stream",
          "name": "stdout",
          "text": [
            "models/chat-bison-001\n",
            "models/text-bison-001\n",
            "models/embedding-gecko-001\n",
            "models/gemini-1.0-pro\n",
            "models/gemini-1.0-pro-001\n",
            "models/gemini-1.0-pro-latest\n",
            "models/gemini-1.0-pro-vision-latest\n",
            "models/gemini-1.5-flash\n",
            "models/gemini-1.5-flash-001\n",
            "models/gemini-1.5-flash-latest\n",
            "models/gemini-1.5-pro\n",
            "models/gemini-1.5-pro-001\n",
            "models/gemini-1.5-pro-latest\n",
            "models/gemini-pro\n",
            "models/gemini-pro-vision\n",
            "models/embedding-001\n",
            "models/text-embedding-004\n",
            "models/aqa\n"
          ]
        }
      ]
    },
    {
      "cell_type": "code",
      "source": [
        "model= genai.GenerativeModel('gemini-pro')"
      ],
      "metadata": {
        "id": "gbw3FoEyYDIv"
      },
      "execution_count": 10,
      "outputs": []
    },
    {
      "cell_type": "code",
      "source": [
        "config=genai.types.GenerationConfig(temperature=0, top_k=1, top_p=0,max_output_tokens=100)"
      ],
      "metadata": {
        "id": "n3W2X7c4JpNS"
      },
      "execution_count": 15,
      "outputs": []
    },
    {
      "cell_type": "code",
      "source": [
        "def get_response(prompt, config):\n",
        "  response=model.generate_content(contents=prompt,generation_config=config )\n",
        "  print(response.text)"
      ],
      "metadata": {
        "id": "SM4Y--XELB7F"
      },
      "execution_count": 12,
      "outputs": []
    },
    {
      "cell_type": "code",
      "source": [
        "get_response('tell me three facts about the earth', config)"
      ],
      "metadata": {
        "colab": {
          "base_uri": "https://localhost:8080/",
          "height": 89
        },
        "id": "2lMR700mJ9__",
        "outputId": "a28bad39-218d-4abd-8196-788a5d80ebd3"
      },
      "execution_count": 16,
      "outputs": [
        {
          "output_type": "stream",
          "name": "stdout",
          "text": [
            "1. **Earth is the only known planet in the universe that supports life.** It has a unique combination of atmospheric conditions, liquid water, and a stable temperature range that allows for the development and survival of complex organisms.\n",
            "2. **Earth is the third planet from the Sun and the fifth largest planet in the Solar System.** It is slightly flattened at the poles and bulges at the equator, giving it an oblate spheroid shape.\n",
            "3. **Earth's atmosphere is composed of\n"
          ]
        }
      ]
    },
    {
      "cell_type": "code",
      "source": [
        "get_response('tell me three facts about the earth', config)"
      ],
      "metadata": {
        "colab": {
          "base_uri": "https://localhost:8080/",
          "height": 89
        },
        "id": "f3hXiiIAL6jS",
        "outputId": "3a4a0497-056d-438f-dd8d-0b3a7d169745"
      },
      "execution_count": 17,
      "outputs": [
        {
          "output_type": "stream",
          "name": "stdout",
          "text": [
            "1. **Earth is the only known planet in the universe that supports life.** It has a unique combination of atmospheric conditions, liquid water, and a stable temperature range that allows for the development and survival of complex organisms.\n",
            "2. **Earth is the third planet from the Sun and the fifth largest planet in the Solar System.** It is slightly flattened at the poles and bulges at the equator, giving it an oblate spheroid shape.\n",
            "3. **Earth's atmosphere is composed of\n"
          ]
        }
      ]
    },
    {
      "cell_type": "code",
      "source": [
        "get_response('tell me three facts about the earth', config)"
      ],
      "metadata": {
        "colab": {
          "base_uri": "https://localhost:8080/",
          "height": 89
        },
        "id": "5WuuG2cAMTuL",
        "outputId": "dadfcc0c-16c3-4942-9963-ac4390487d26"
      },
      "execution_count": 18,
      "outputs": [
        {
          "output_type": "stream",
          "name": "stdout",
          "text": [
            "1. **Earth is the only known planet in the universe that supports life.** It has a unique combination of atmospheric conditions, liquid water, and a stable temperature range that allows for the development and survival of complex organisms.\n",
            "2. **Earth is the third planet from the Sun and the fifth largest planet in the Solar System.** It is slightly flattened at the poles and bulges at the equator, giving it an oblate spheroid shape.\n",
            "3. **Earth's atmosphere is composed of\n"
          ]
        }
      ]
    },
    {
      "cell_type": "code",
      "source": [
        "get_response('tell me three facts about the earth', config)"
      ],
      "metadata": {
        "colab": {
          "base_uri": "https://localhost:8080/",
          "height": 89
        },
        "id": "RVdALboiMXYY",
        "outputId": "7a00b8aa-5c48-40bb-d3bd-9bc256df4808"
      },
      "execution_count": 19,
      "outputs": [
        {
          "output_type": "stream",
          "name": "stdout",
          "text": [
            "1. **Earth is the only known planet in the universe that supports life.** It has a unique combination of atmospheric conditions, liquid water, and a stable temperature range that allows for the development and survival of complex organisms.\n",
            "2. **Earth is the third planet from the Sun and the fifth largest planet in the Solar System.** It is slightly flattened at the poles and bulges at the equator, giving it an oblate spheroid shape.\n",
            "3. **Earth's atmosphere is composed of\n"
          ]
        }
      ]
    },
    {
      "cell_type": "markdown",
      "source": [
        "Note: we can use stop sequence function to stop the generation when we reach a specific token or word"
      ],
      "metadata": {
        "id": "806NT8G2MxxL"
      }
    },
    {
      "cell_type": "code",
      "source": [
        "config=genai.types.GenerationConfig(temperature=0, top_k=1, top_p=0,max_output_tokens=100, stop_sequences=['x','X'])\n",
        "get_response('list all of english alphabet', config)"
      ],
      "metadata": {
        "colab": {
          "base_uri": "https://localhost:8080/",
          "height": 434
        },
        "id": "pwb35GhcMZhd",
        "outputId": "92760563-247f-4fb6-89ec-900406bac5ca"
      },
      "execution_count": 30,
      "outputs": [
        {
          "output_type": "stream",
          "name": "stdout",
          "text": [
            "* A\n",
            "* B\n",
            "* C\n",
            "* D\n",
            "* E\n",
            "* F\n",
            "* G\n",
            "* H\n",
            "* I\n",
            "* J\n",
            "* K\n",
            "* L\n",
            "* M\n",
            "* N\n",
            "* O\n",
            "* P\n",
            "* Q\n",
            "* R\n",
            "* S\n",
            "* T\n",
            "* U\n",
            "* V\n",
            "* W\n",
            "* \n"
          ]
        }
      ]
    },
    {
      "cell_type": "code",
      "source": [
        "config=genai.types.GenerationConfig(temperature=0, top_k=1, top_p=0,max_output_tokens=500,stop_sequences=['Regards'])\n",
        "get_response('Please emial to my professor and ask him to increase my funds. Please end the email with Best Regards', config)"
      ],
      "metadata": {
        "colab": {
          "base_uri": "https://localhost:8080/",
          "height": 297
        },
        "id": "Y_jMbnoDNN7S",
        "outputId": "deb5decb-9fa3-4b8c-e922-2538f2cb3759"
      },
      "execution_count": 28,
      "outputs": [
        {
          "output_type": "stream",
          "name": "stdout",
          "text": [
            "Dear Professor [Professor's Name],\n",
            "\n",
            "I hope this email finds you well.\n",
            "\n",
            "I am writing to request an increase in my research funds for the [Project Name] project. As you know, the project has been progressing well, and I have made significant progress in [Briefly describe progress].\n",
            "\n",
            "However, I have encountered some unexpected expenses that were not included in my original budget. These expenses include [List of expenses].\n",
            "\n",
            "To complete the project successfully, I would need an additional [Amount] in funding. This would allow me to cover the aforementioned expenses and ensure that the project can be completed on time and to the highest possible standard.\n",
            "\n",
            "I understand that resources are limited, but I believe that this additional funding would be a valuable investment in the project and its potential outcomes. I am confident that I can continue to make significant contributions to the field with the support of these additional funds.\n",
            "\n",
            "Thank you for your time and consideration. I would be happy to discuss this further with you at your convenience.\n",
            "\n",
            "Best \n"
          ]
        }
      ]
    },
    {
      "cell_type": "code",
      "source": [
        "config=genai.types.GenerationConfig(temperature=0, top_k=1, top_p=0,max_output_tokens=500,stop_sequences=['Regards'])\n",
        "get_response('Please emial to my professor and ask him to increase my funds. Please end the email with Best Regards', config)"
      ],
      "metadata": {
        "colab": {
          "base_uri": "https://localhost:8080/",
          "height": 297
        },
        "id": "kN7ZdopTNfve",
        "outputId": "ca70d5ce-2769-4ca8-d3f1-1c0a0ddd5502"
      },
      "execution_count": 29,
      "outputs": [
        {
          "output_type": "stream",
          "name": "stdout",
          "text": [
            "Dear Professor [Professor's Name],\n",
            "\n",
            "I hope this email finds you well.\n",
            "\n",
            "I am writing to request an increase in my research funds for the [Project Name] project. As you know, the project has been progressing well, and I have made significant progress in [Briefly describe progress].\n",
            "\n",
            "However, I have encountered some unexpected expenses that were not included in my original budget. These expenses include [List of expenses].\n",
            "\n",
            "To complete the project successfully, I would need an additional [Amount] in funding. This would allow me to cover the aforementioned expenses and ensure that the project can be completed on time and to the highest possible standard.\n",
            "\n",
            "I understand that resources are limited, but I believe that this additional funding would be a valuable investment in the project and its potential outcomes. I am confident that I can continue to make significant contributions to the field with the support of these additional funds.\n",
            "\n",
            "Thank you for your time and consideration. I would be happy to discuss this further with you at your convenience.\n",
            "\n",
            "Best \n"
          ]
        }
      ]
    },
    {
      "cell_type": "code",
      "source": [],
      "metadata": {
        "id": "hAxZoZcnOCQv"
      },
      "execution_count": null,
      "outputs": []
    }
  ]
}
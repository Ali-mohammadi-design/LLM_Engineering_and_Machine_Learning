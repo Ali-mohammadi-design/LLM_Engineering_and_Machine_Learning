{
  "nbformat": 4,
  "nbformat_minor": 0,
  "metadata": {
    "colab": {
      "provenance": [],
      "authorship_tag": "ABX9TyM82gpkaVldhqY9XlRjq1VX",
      "include_colab_link": true
    },
    "kernelspec": {
      "name": "python3",
      "display_name": "Python 3"
    },
    "language_info": {
      "name": "python"
    }
  },
  "cells": [
    {
      "cell_type": "markdown",
      "metadata": {
        "id": "view-in-github",
        "colab_type": "text"
      },
      "source": [
        "<a href=\"https://colab.research.google.com/github/Ali-mohammadi-design/Prompt_Engineering_and_Machine_Learning/blob/main/Prompt_engineering_AWS_Bedrock_Various_Documentation_llama2_Meta.ipynb\" target=\"_parent\"><img src=\"https://colab.research.google.com/assets/colab-badge.svg\" alt=\"Open In Colab\"/></a>"
      ]
    },
    {
      "cell_type": "markdown",
      "source": [
        "Note: While the most of the LLMs follows a somehow same configuration. The codes that could relate our command to the LLMs might be slightly different.\n",
        "\n",
        "You have to check the documentation of models to be sure you are coding well.\n",
        "\n",
        "\n",
        "Where can we find the documentation of models?\n",
        "\n",
        "aws-----> documentation----> View all documentation---->search for your model\n",
        "\n",
        "Moreover, if you search for bedrock in all documentation you can find the User Guide and API Reference which have usefull information about the bedrock"
      ],
      "metadata": {
        "id": "kfkIKmNdjb9C"
      }
    },
    {
      "cell_type": "markdown",
      "source": [
        "Note: Liama 2, developped by Meta is open source and could be downloaded and used without need of the internet"
      ],
      "metadata": {
        "id": "uIvQbrFhuj_d"
      }
    },
    {
      "cell_type": "code",
      "execution_count": 1,
      "metadata": {
        "colab": {
          "base_uri": "https://localhost:8080/"
        },
        "id": "NKRcPO6BjbKl",
        "outputId": "8f98d62d-29bf-409b-9e98-6a783e7b196f"
      },
      "outputs": [
        {
          "output_type": "stream",
          "name": "stdout",
          "text": [
            "Collecting boto3\n",
            "  Downloading boto3-1.34.52-py3-none-any.whl (139 kB)\n",
            "\u001b[2K     \u001b[90m━━━━━━━━━━━━━━━━━━━━━━━━━━━━━━━━━━━━━━━━\u001b[0m \u001b[32m139.3/139.3 kB\u001b[0m \u001b[31m2.7 MB/s\u001b[0m eta \u001b[36m0:00:00\u001b[0m\n",
            "\u001b[?25hCollecting botocore<1.35.0,>=1.34.52 (from boto3)\n",
            "  Downloading botocore-1.34.52-py3-none-any.whl (12.0 MB)\n",
            "\u001b[2K     \u001b[90m━━━━━━━━━━━━━━━━━━━━━━━━━━━━━━━━━━━━━━━━\u001b[0m \u001b[32m12.0/12.0 MB\u001b[0m \u001b[31m26.6 MB/s\u001b[0m eta \u001b[36m0:00:00\u001b[0m\n",
            "\u001b[?25hCollecting jmespath<2.0.0,>=0.7.1 (from boto3)\n",
            "  Downloading jmespath-1.0.1-py3-none-any.whl (20 kB)\n",
            "Collecting s3transfer<0.11.0,>=0.10.0 (from boto3)\n",
            "  Downloading s3transfer-0.10.0-py3-none-any.whl (82 kB)\n",
            "\u001b[2K     \u001b[90m━━━━━━━━━━━━━━━━━━━━━━━━━━━━━━━━━━━━━━━━\u001b[0m \u001b[32m82.1/82.1 kB\u001b[0m \u001b[31m10.9 MB/s\u001b[0m eta \u001b[36m0:00:00\u001b[0m\n",
            "\u001b[?25hRequirement already satisfied: python-dateutil<3.0.0,>=2.1 in /usr/local/lib/python3.10/dist-packages (from botocore<1.35.0,>=1.34.52->boto3) (2.8.2)\n",
            "Requirement already satisfied: urllib3<2.1,>=1.25.4 in /usr/local/lib/python3.10/dist-packages (from botocore<1.35.0,>=1.34.52->boto3) (2.0.7)\n",
            "Requirement already satisfied: six>=1.5 in /usr/local/lib/python3.10/dist-packages (from python-dateutil<3.0.0,>=2.1->botocore<1.35.0,>=1.34.52->boto3) (1.16.0)\n",
            "Installing collected packages: jmespath, botocore, s3transfer, boto3\n",
            "Successfully installed boto3-1.34.52 botocore-1.34.52 jmespath-1.0.1 s3transfer-0.10.0\n"
          ]
        }
      ],
      "source": [
        "\n",
        "! pip install boto3"
      ]
    },
    {
      "cell_type": "code",
      "source": [
        "import boto3\n",
        "s3=boto3.resource('s3')\n",
        "s3.buckets.all()"
      ],
      "metadata": {
        "colab": {
          "base_uri": "https://localhost:8080/"
        },
        "id": "7V4qFyg7z13m",
        "outputId": "9a935f54-5b2a-4e7c-ad02-f13d167a56f4"
      },
      "execution_count": 3,
      "outputs": [
        {
          "output_type": "execute_result",
          "data": {
            "text/plain": [
              "s3.bucketsCollection(s3.ServiceResource(), s3.Bucket)"
            ]
          },
          "metadata": {},
          "execution_count": 3
        }
      ]
    },
    {
      "cell_type": "code",
      "source": [
        "import os\n",
        "aws_access_key_id=os.environ['aws_access_key_id']\n",
        "aws_secret_access_key=os.environ['aws_secret_access_key']"
      ],
      "metadata": {
        "id": "fDK7SkMOz5G-"
      },
      "execution_count": 5,
      "outputs": []
    },
    {
      "cell_type": "code",
      "source": [
        "s3 = boto3.resource('s3',\n",
        "         aws_access_key_id=aws_access_key_id,\n",
        "         aws_secret_access_key= aws_secret_access_key)"
      ],
      "metadata": {
        "id": "VEz6aQ2x0M8F"
      },
      "execution_count": 6,
      "outputs": []
    },
    {
      "cell_type": "code",
      "source": [
        "for bucket in s3.buckets.all():\n",
        "  print(bucket.name)"
      ],
      "metadata": {
        "colab": {
          "base_uri": "https://localhost:8080/"
        },
        "id": "BFZ60Vxb0R9F",
        "outputId": "14dcf02c-024b-4545-a33f-df94b07c2e36"
      },
      "execution_count": 7,
      "outputs": [
        {
          "output_type": "stream",
          "name": "stdout",
          "text": [
            "bounding-box-labling-job\n",
            "image-labeling-semantic-1\n",
            "my-first-buckettest\n",
            "my-lableing-job\n",
            "my-second-labling-job\n",
            "my-third-labling-job\n",
            "myfirstcanvus\n",
            "sagemaker-studio-019966197535-0mhpsupvuu6a\n",
            "sagemaker-studio-019966197535-ajdlxlmu49c\n",
            "sagemaker-us-east-1-019966197535\n",
            "text-labeling-1\n"
          ]
        }
      ]
    },
    {
      "cell_type": "code",
      "source": [
        "bedrock_runtime= boto3.client(aws_access_key_id=aws_access_key_id,aws_secret_access_key= aws_secret_access_key, service_name='bedrock-runtime', region_name='us-east-1')"
      ],
      "metadata": {
        "id": "cZ0KeEOh0T9E"
      },
      "execution_count": 8,
      "outputs": []
    },
    {
      "cell_type": "code",
      "source": [
        "prompt='explain the recipe of Ghormeh Sabzi in the form of a persian poem'"
      ],
      "metadata": {
        "id": "-2KUnVn20oFX"
      },
      "execution_count": 39,
      "outputs": []
    },
    {
      "cell_type": "code",
      "source": [
        "import json\n",
        "body=json.dumps({'prompt':prompt, 'max_gen_len':1024, 'temperature':1, 'top_p':1  })"
      ],
      "metadata": {
        "id": "P59_3zd_0cXJ"
      },
      "execution_count": 40,
      "outputs": []
    },
    {
      "cell_type": "code",
      "source": [
        "response=bedrock_runtime.invoke_model(body=body, modelId='meta.llama2-13b-chat-v1')"
      ],
      "metadata": {
        "id": "4hivbIXE1pZj"
      },
      "execution_count": 41,
      "outputs": []
    },
    {
      "cell_type": "code",
      "source": [
        "answer=response.get('body').read()"
      ],
      "metadata": {
        "id": "hiaVezWE14AV"
      },
      "execution_count": 42,
      "outputs": []
    },
    {
      "cell_type": "code",
      "source": [
        "print(answer)"
      ],
      "metadata": {
        "colab": {
          "base_uri": "https://localhost:8080/"
        },
        "id": "dQnXVpCR3D7H",
        "outputId": "51a5ccef-3ee0-486b-8c27-0d1254a8fa6b"
      },
      "execution_count": 43,
      "outputs": [
        {
          "output_type": "stream",
          "name": "stdout",
          "text": [
            "b'{\"generation\":\"\\\\n\\\\\"How to make the freshest Ghormeh Sabzi, a dish quite divine\\\\nWith parsley, cilantro, and dill, the flavors all shine\\\\nFirst, start with a pot of oil, hot and bright\\\\nAdd the chopped herbs, let them sizzle with delight\\\\n\\\\nNow, add the lamb, browned and savory\\\\nAnd the onions, caramelized, oh so sweet and bitter\\\\nThe tomatoes too, their juice a fiery delight\\\\nAnd the beans, plump and tender, a delightful sight\\\\n\\\\nAdd the spices, a dash of turmeric and cardamom\\\\nA pinch of cinnamon, a sprinkle of sumac, aromatic and wild\\\\nAnd the sauce, a velvety blend of cream and yogurt\\\\nA taste so rich and tangy, it\\'s a culinary historic event\\\\n\\\\nSo come, my friends, and gather \\'round\\\\nTo savor this dish, once the pride of the Persian ground\\\\nGhormeh Sabzi, a feast for every soul\\\\nA flavorful delight, worth more than any crown\\\\\"\",\"prompt_token_count\":19,\"generation_token_count\":258,\"stop_reason\":\"stop\"}'\n"
          ]
        }
      ]
    },
    {
      "cell_type": "code",
      "source": [
        "response_body=json.loads(answer)"
      ],
      "metadata": {
        "id": "Unwx_2jm3Gy2"
      },
      "execution_count": 44,
      "outputs": []
    },
    {
      "cell_type": "code",
      "source": [
        "response_body"
      ],
      "metadata": {
        "colab": {
          "base_uri": "https://localhost:8080/"
        },
        "id": "NJugDvJQ3N29",
        "outputId": "9e73e863-d444-4a49-e2f1-94d306cee41a"
      },
      "execution_count": 45,
      "outputs": [
        {
          "output_type": "execute_result",
          "data": {
            "text/plain": [
              "{'generation': '\\n\"How to make the freshest Ghormeh Sabzi, a dish quite divine\\nWith parsley, cilantro, and dill, the flavors all shine\\nFirst, start with a pot of oil, hot and bright\\nAdd the chopped herbs, let them sizzle with delight\\n\\nNow, add the lamb, browned and savory\\nAnd the onions, caramelized, oh so sweet and bitter\\nThe tomatoes too, their juice a fiery delight\\nAnd the beans, plump and tender, a delightful sight\\n\\nAdd the spices, a dash of turmeric and cardamom\\nA pinch of cinnamon, a sprinkle of sumac, aromatic and wild\\nAnd the sauce, a velvety blend of cream and yogurt\\nA taste so rich and tangy, it\\'s a culinary historic event\\n\\nSo come, my friends, and gather \\'round\\nTo savor this dish, once the pride of the Persian ground\\nGhormeh Sabzi, a feast for every soul\\nA flavorful delight, worth more than any crown\"',\n",
              " 'prompt_token_count': 19,\n",
              " 'generation_token_count': 258,\n",
              " 'stop_reason': 'stop'}"
            ]
          },
          "metadata": {},
          "execution_count": 45
        }
      ]
    },
    {
      "cell_type": "code",
      "source": [
        "print(response_body['generation'])"
      ],
      "metadata": {
        "colab": {
          "base_uri": "https://localhost:8080/"
        },
        "id": "NR7PmfmC3UKO",
        "outputId": "32779eba-1114-4cf3-8784-08a78ca3342e"
      },
      "execution_count": 46,
      "outputs": [
        {
          "output_type": "stream",
          "name": "stdout",
          "text": [
            "\n",
            "\"How to make the freshest Ghormeh Sabzi, a dish quite divine\n",
            "With parsley, cilantro, and dill, the flavors all shine\n",
            "First, start with a pot of oil, hot and bright\n",
            "Add the chopped herbs, let them sizzle with delight\n",
            "\n",
            "Now, add the lamb, browned and savory\n",
            "And the onions, caramelized, oh so sweet and bitter\n",
            "The tomatoes too, their juice a fiery delight\n",
            "And the beans, plump and tender, a delightful sight\n",
            "\n",
            "Add the spices, a dash of turmeric and cardamom\n",
            "A pinch of cinnamon, a sprinkle of sumac, aromatic and wild\n",
            "And the sauce, a velvety blend of cream and yogurt\n",
            "A taste so rich and tangy, it's a culinary historic event\n",
            "\n",
            "So come, my friends, and gather 'round\n",
            "To savor this dish, once the pride of the Persian ground\n",
            "Ghormeh Sabzi, a feast for every soul\n",
            "A flavorful delight, worth more than any crown\"\n"
          ]
        }
      ]
    },
    {
      "cell_type": "code",
      "source": [],
      "metadata": {
        "id": "HmGd9lzL3Zql"
      },
      "execution_count": null,
      "outputs": []
    }
  ]
}